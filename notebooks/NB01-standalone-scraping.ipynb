{
 "cells": [
  {
   "cell_type": "markdown",
   "metadata": {},
   "source": [
    "LSE Data Science Institute | DISCORDIA project\n",
    "\n",
    "# Scraping House of Commons debates\n",
    "\n",
    "\n",
    "**LAST UPDATED:** 5 December 2023\n",
    "\n",
    "**AUTHORS:** [@jonjoncardoso](https://jonjoncardoso.github.io) & [@tz1211](https://github.com/tz1211) & [@Sevnhutsjr](https://github.com/Sevnhutsjr)\n",
    "\n",
    "**TODO list:**\n",
    "\n",
    "- [x] Figure out a way to scrape links representing debate sections and debate blocks from a given date\n",
    "- [x] Automate the process above to collect all the blocks and sections of a given date\n",
    "- [x] Navigate to a given debate block and scrape its content\n",
    "- [x] Automate the process above to collect all the blocks and sections of a given date\n",
    "- [ ] Figure out how to extract the motions and amendments from the speeches\n",
    "- [ ] Move all of this to a Python script that can be run from the command line\n",
    "- [ ] Write a condition so that, **before scraping a debate**, it checks if it doesn't already exist in the database\n"
   ]
  },
  {
   "cell_type": "markdown",
   "metadata": {},
   "source": [
    "# ⚙️ Setup\n",
    "\n",
    "Refer to the main `README.md` to read the instructions on how to set up your conda environment."
   ]
  },
  {
   "cell_type": "markdown",
   "metadata": {},
   "source": [
    "**Imports**\n",
    "\n"
   ]
  },
  {
   "cell_type": "code",
   "execution_count": 1,
   "metadata": {},
   "outputs": [],
   "source": [
    "import os\n",
    "import re\n",
    "import sys\n",
    "import sqlalchemy\n",
    "\n",
    "import numpy as np\n",
    "import pandas as pd\n",
    "\n",
    "from tqdm.notebook import tqdm\n",
    "tqdm.pandas()\n",
    "\n",
    "from datetime import datetime\n",
    "from selenium import webdriver\n",
    "\n",
    "from sqlalchemy import create_engine"
   ]
  },
  {
   "cell_type": "code",
   "execution_count": 2,
   "metadata": {},
   "outputs": [],
   "source": [
    "%load_ext sql\n",
    "%config SqlMagic.autocommit=True # for engines that do not support autommit"
   ]
  },
  {
   "cell_type": "markdown",
   "metadata": {},
   "source": [
    "**Load the `discordia` package**\n",
    "\n",
    "Run the cell below to load the current alpha-version of our package `discordia`.\n",
    "\n",
    "⚠️ I am also making use of the Jupyter magic `autoreload` here, so that whatever changes we make to `code/src/python/discordia/**.py` files will be reflected on the notebook automatically and interactively. Read more about this [on this Stackoverflow response](https://stackoverflow.com/a/73623267/843365)."
   ]
  },
  {
   "cell_type": "code",
   "execution_count": 3,
   "metadata": {},
   "outputs": [],
   "source": [
    "%load_ext autoreload\n",
    "%autoreload 1\n",
    "\n",
    "sys.path.insert(0,'../src/python/')\n",
    "\n",
    "# https://stackoverflow.com/questions/70898150/jupyter-autoreload-workflow/73623267#73623267\n",
    "\n",
    "%aimport discordia\n",
    "%aimport discordia.webscraping.twfy\n",
    "%aimport discordia.webscraping.utils\n",
    "\n",
    "#from discordia.webscraping.utils import print_HTML, show_HTML\n",
    "from discordia.webscraping.twfy import build_url, scrape_debate_sections, get_speeches_divisions_and_votes"
   ]
  },
  {
   "cell_type": "markdown",
   "metadata": {},
   "source": [
    "# 1: Connect to SQLite database"
   ]
  },
  {
   "cell_type": "code",
   "execution_count": 4,
   "metadata": {},
   "outputs": [],
   "source": [
    "# Create a database engine using SQLAlchemy\n",
    "engine = create_engine('sqlite:///../../data/discordia.db', echo=False, isolation_level=\"AUTOCOMMIT\")\n",
    "\n",
    "# Why? Read: https://stackoverflow.com/a/71685414/843365\n",
    "with engine.connect() as conn:\n",
    "    pass\n"
   ]
  },
  {
   "cell_type": "code",
   "execution_count": 5,
   "metadata": {
    "vscode": {
     "languageId": "sql"
    }
   },
   "outputs": [
    {
     "data": {
      "text/html": [
       "<span style=\"None\">Connecting to &#x27;discordia&#x27;</span>"
      ],
      "text/plain": [
       "Connecting to 'discordia'"
      ]
     },
     "metadata": {},
     "output_type": "display_data"
    }
   ],
   "source": [
    "%sql sqlite:///../../data/discordia.db --alias discordia"
   ]
  },
  {
   "cell_type": "markdown",
   "metadata": {},
   "source": [
    "# 2. Create tables\n",
    "\n",
    "Run the cells in this section to create the tables we will use to store the data we scrape."
   ]
  },
  {
   "cell_type": "markdown",
   "metadata": {},
   "source": [
    "Create `debates` table with controlled data types"
   ]
  },
  {
   "cell_type": "code",
   "execution_count": 6,
   "metadata": {
    "vscode": {
     "languageId": "sql"
    }
   },
   "outputs": [
    {
     "data": {
      "text/html": [
       "<table>\n",
       "    <thead>\n",
       "        <tr>\n",
       "        </tr>\n",
       "    </thead>\n",
       "    <tbody>\n",
       "    </tbody>\n",
       "</table>"
      ],
      "text/plain": [
       "++\n",
       "||\n",
       "++\n",
       "++"
      ]
     },
     "execution_count": 6,
     "metadata": {},
     "output_type": "execute_result"
    }
   ],
   "source": [
    "%%sql discordia\n",
    "\n",
    "DROP TABLE IF EXISTS debates;\n",
    "\n",
    "CREATE TABLE debates (\n",
    "    \"debate_id\" VARCHAR(20) NOT NULL,\n",
    "    \"debate_excerpt\" TEXT,\n",
    "    \"url\" VARCHAR(200) NOT NULL,\n",
    "    \"title\" VARCHAR(100),\n",
    "    \"section\" VARCHAR(100),\n",
    "    \"section_excerpt\" TEXT,\n",
    "    PRIMARY KEY (\"debate_id\")\n",
    ")\n"
   ]
  },
  {
   "cell_type": "markdown",
   "metadata": {},
   "source": [
    "Create `mp` table:"
   ]
  },
  {
   "cell_type": "code",
   "execution_count": 8,
   "metadata": {
    "vscode": {
     "languageId": "sql"
    }
   },
   "outputs": [
    {
     "data": {
      "text/html": [
       "<table>\n",
       "    <thead>\n",
       "        <tr>\n",
       "        </tr>\n",
       "    </thead>\n",
       "    <tbody>\n",
       "    </tbody>\n",
       "</table>"
      ],
      "text/plain": [
       "++\n",
       "||\n",
       "++\n",
       "++"
      ]
     },
     "execution_count": 8,
     "metadata": {},
     "output_type": "execute_result"
    }
   ],
   "source": [
    "%%sql discordia\n",
    "\n",
    "DROP TABLE IF EXISTS mp;\n",
    "\n",
    "CREATE TABLE \"mp\" (\n",
    "    \"mp_id\" INTEGER(5) NOT NULL,\n",
    "    \"first_name\" VARCHAR(30),\n",
    "    \"last_name\" VARCHAR(30),\n",
    "    \"party\" VARCHAR(100),\n",
    "    \"constituency\" VARCHAR(100),\n",
    "    \"url\" VARCHAR(200),\n",
    "    \"term_start\" INTEGER(4) ,\n",
    "    \"term_end\" INTEGER(4),\n",
    "    PRIMARY KEY (\"mp_id\", \"term_start\")\n",
    ")"
   ]
  },
  {
   "cell_type": "markdown",
   "metadata": {},
   "source": [
    "Create `speeches` table:"
   ]
  },
  {
   "cell_type": "code",
   "execution_count": 9,
   "metadata": {
    "vscode": {
     "languageId": "sql"
    }
   },
   "outputs": [
    {
     "data": {
      "text/html": [
       "<table>\n",
       "    <thead>\n",
       "        <tr>\n",
       "        </tr>\n",
       "    </thead>\n",
       "    <tbody>\n",
       "    </tbody>\n",
       "</table>"
      ],
      "text/plain": [
       "++\n",
       "||\n",
       "++\n",
       "++"
      ]
     },
     "execution_count": 9,
     "metadata": {},
     "output_type": "execute_result"
    }
   ],
   "source": [
    "%%sql discordia\n",
    "\n",
    "DROP TABLE IF EXISTS \"speeches\";\n",
    "\n",
    "CREATE TABLE \"speeches\" (\n",
    "    \"debate_id\" VARCHAR(20) NOT NULL,\n",
    "    \"speech_id\" VARCHAR(10) NOT NULL,\n",
    "    \"speaker_id\" CHAR(5) NOT NULL,\n",
    "    \"speaker_position\" TEXT,\n",
    "    \"speech_html\" TEXT,\n",
    "    \"speech_raw_text\" TEXT,\n",
    "    PRIMARY KEY (\"debate_id\", \"speech_id\"),\n",
    "    FOREIGN KEY (\"debate_id\") REFERENCES \"debates\" (\"debate_id\")\n",
    "    FOREIGN KEY (\"speaker_id\") REFERENCES \"mp\" (\"mp_id\")\n",
    ")"
   ]
  },
  {
   "cell_type": "markdown",
   "metadata": {},
   "source": [
    "Create `house_divisions` table:"
   ]
  },
  {
   "cell_type": "code",
   "execution_count": 25,
   "metadata": {
    "vscode": {
     "languageId": "sql"
    }
   },
   "outputs": [
    {
     "data": {
      "text/html": [
       "<table>\n",
       "    <thead>\n",
       "        <tr>\n",
       "        </tr>\n",
       "    </thead>\n",
       "    <tbody>\n",
       "    </tbody>\n",
       "</table>"
      ],
      "text/plain": [
       "++\n",
       "||\n",
       "++\n",
       "++"
      ]
     },
     "execution_count": 25,
     "metadata": {},
     "output_type": "execute_result"
    }
   ],
   "source": [
    "%%sql discordia\n",
    "\n",
    "DROP TABLE IF EXISTS \"house_divisions\";\n",
    "\n",
    "CREATE TABLE \"house_divisions\" (\n",
    "    \"debate_id\" VARCHAR(20) NOT NULL,\n",
    "    \"house_division_id\" VARCHAR(10) NOT NULL,\n",
    "    \"vote_title\" TEXT,\n",
    "    PRIMARY KEY (\"debate_id\", \"house_division_id\"),\n",
    "    FOREIGN KEY (\"debate_id\") REFERENCES \"debates\" (\"debate_id\")\n",
    ")"
   ]
  },
  {
   "cell_type": "markdown",
   "metadata": {},
   "source": [
    "Create `votes` table:"
   ]
  },
  {
   "cell_type": "code",
   "execution_count": 11,
   "metadata": {
    "vscode": {
     "languageId": "sql"
    }
   },
   "outputs": [
    {
     "data": {
      "text/html": [
       "<table>\n",
       "    <thead>\n",
       "        <tr>\n",
       "        </tr>\n",
       "    </thead>\n",
       "    <tbody>\n",
       "    </tbody>\n",
       "</table>"
      ],
      "text/plain": [
       "++\n",
       "||\n",
       "++\n",
       "++"
      ]
     },
     "execution_count": 11,
     "metadata": {},
     "output_type": "execute_result"
    }
   ],
   "source": [
    "%%sql discordia\n",
    "\n",
    "DROP TABLE IF EXISTS \"votes\";\n",
    "\n",
    "CREATE TABLE \"votes\" (\n",
    "    \"house_division_id\" VARCHAR(10) NOT NULL,\n",
    "    \"mp_id\" CHAR(5) NOT NULL,\n",
    "    \"comment\" VARCHAR(200),\n",
    "    \"is_teller\" BOOLEAN NOT NULL,\n",
    "    \"is_vote_aye\" BOOLEAN NOT NULL,\n",
    "    PRIMARY KEY (\"house_division_id\", \"mp_id\"),\n",
    "    FOREIGN KEY (\"house_division_id\") REFERENCES \"house_divisions\" (\"house_division_id\"),\n",
    "    FOREIGN KEY (\"mp_id\") REFERENCES \"mp\" (\"mp_id\")\n",
    ")"
   ]
  },
  {
   "cell_type": "markdown",
   "metadata": {},
   "source": [
    "## 2.1 Check"
   ]
  },
  {
   "cell_type": "code",
   "execution_count": 12,
   "metadata": {},
   "outputs": [
    {
     "data": {
      "text/html": [
       "<table>\n",
       "    <thead>\n",
       "        <tr>\n",
       "            <th>Name</th>\n",
       "        </tr>\n",
       "    </thead>\n",
       "    <tbody>\n",
       "        <tr>\n",
       "            <td>debates</td>\n",
       "        </tr>\n",
       "        <tr>\n",
       "            <td>house_divisions</td>\n",
       "        </tr>\n",
       "        <tr>\n",
       "            <td>mp</td>\n",
       "        </tr>\n",
       "        <tr>\n",
       "            <td>speeches</td>\n",
       "        </tr>\n",
       "        <tr>\n",
       "            <td>votes</td>\n",
       "        </tr>\n",
       "    </tbody>\n",
       "</table>"
      ],
      "text/plain": [
       "+-----------------+\n",
       "|       Name      |\n",
       "+-----------------+\n",
       "|     debates     |\n",
       "| house_divisions |\n",
       "|        mp       |\n",
       "|     speeches    |\n",
       "|      votes      |\n",
       "+-----------------+"
      ]
     },
     "execution_count": 12,
     "metadata": {},
     "output_type": "execute_result"
    }
   ],
   "source": [
    "%sqlcmd tables"
   ]
  },
  {
   "cell_type": "code",
   "execution_count": 13,
   "metadata": {},
   "outputs": [
    {
     "data": {
      "text/html": [
       "<table>\n",
       "    <thead>\n",
       "        <tr>\n",
       "            <th>name</th>\n",
       "            <th>type</th>\n",
       "            <th>nullable</th>\n",
       "            <th>default</th>\n",
       "            <th>primary_key</th>\n",
       "        </tr>\n",
       "    </thead>\n",
       "    <tbody>\n",
       "        <tr>\n",
       "            <td>debate_id</td>\n",
       "            <td>VARCHAR(20)</td>\n",
       "            <td>False</td>\n",
       "            <td>None</td>\n",
       "            <td>1</td>\n",
       "        </tr>\n",
       "        <tr>\n",
       "            <td>house_division_id</td>\n",
       "            <td>VARCHAR(10)</td>\n",
       "            <td>False</td>\n",
       "            <td>None</td>\n",
       "            <td>2</td>\n",
       "        </tr>\n",
       "        <tr>\n",
       "            <td>vote_title</td>\n",
       "            <td>TEXT</td>\n",
       "            <td>True</td>\n",
       "            <td>None</td>\n",
       "            <td>0</td>\n",
       "        </tr>\n",
       "    </tbody>\n",
       "</table>"
      ],
      "text/plain": [
       "+-------------------+-------------+----------+---------+-------------+\n",
       "|        name       |     type    | nullable | default | primary_key |\n",
       "+-------------------+-------------+----------+---------+-------------+\n",
       "|     debate_id     | VARCHAR(20) |  False   |   None  |      1      |\n",
       "| house_division_id | VARCHAR(10) |  False   |   None  |      2      |\n",
       "|     vote_title    |     TEXT    |   True   |   None  |      0      |\n",
       "+-------------------+-------------+----------+---------+-------------+"
      ]
     },
     "execution_count": 13,
     "metadata": {},
     "output_type": "execute_result"
    }
   ],
   "source": [
    "%sqlcmd columns -t house_divisions"
   ]
  },
  {
   "cell_type": "markdown",
   "metadata": {},
   "source": [
    "# 2. Add Data to SQLite database"
   ]
  },
  {
   "cell_type": "markdown",
   "metadata": {},
   "source": [
    "## 2.1. MP data "
   ]
  },
  {
   "cell_type": "code",
   "execution_count": 14,
   "metadata": {},
   "outputs": [],
   "source": [
    "folder_path = \"../../mp_data/\"\n",
    "file_list = [f for f in os.listdir(folder_path) if os.path.isfile(os.path.join(folder_path, f))]\n",
    "\n",
    "df_mp_list = []\n",
    "for mp_list in file_list: \n",
    "    df = pd.read_csv(f\"../../mp_data/{mp_list}\")\n",
    "    df[\"term_start\"] = mp_list[4:8]\n",
    "    df[\"term_end\"] = mp_list[9:13]\n",
    "    df_mp_list.append(df) \n",
    "df_mp = pd.concat(df_mp_list)\n",
    "df_mp = df_mp.rename({\"Person ID\": \"mp_id\", \"First name\": \"first_name\", \"Last name\": \"last_name\", \"Party\": \"party\", \"Constituency\": \"constituency\", \"URI\": \"url\"}, axis=1)"
   ]
  },
  {
   "cell_type": "code",
   "execution_count": 15,
   "metadata": {},
   "outputs": [
    {
     "data": {
      "text/plain": [
       "3244"
      ]
     },
     "execution_count": 15,
     "metadata": {},
     "output_type": "execute_result"
    }
   ],
   "source": [
    "df_mp.to_sql('mp', engine, if_exists='append', index=False)"
   ]
  },
  {
   "cell_type": "markdown",
   "metadata": {},
   "source": [
    "Check that it worked:"
   ]
  },
  {
   "cell_type": "code",
   "execution_count": 6,
   "metadata": {
    "vscode": {
     "languageId": "sql"
    }
   },
   "outputs": [
    {
     "data": {
      "text/html": [
       "<table>\n",
       "    <thead>\n",
       "        <tr>\n",
       "            <th>mp_id</th>\n",
       "            <th>first_name</th>\n",
       "            <th>last_name</th>\n",
       "            <th>party</th>\n",
       "            <th>constituency</th>\n",
       "            <th>url</th>\n",
       "            <th>term_start</th>\n",
       "            <th>term_end</th>\n",
       "        </tr>\n",
       "    </thead>\n",
       "    <tbody>\n",
       "        <tr>\n",
       "            <td>10001</td>\n",
       "            <td>Diane</td>\n",
       "            <td>Abbott</td>\n",
       "            <td>Independent</td>\n",
       "            <td>Hackney North and Stoke Newington</td>\n",
       "            <td><a href=https://www.theyworkforyou.com/mp/10001/diane_abbott/hackney_north_and_stoke_newington>https://www.theyworkforyou.com/mp/10001/diane_abbott/hackney_north_and_stoke_newington</a></td>\n",
       "            <td>2017</td>\n",
       "            <td>2023</td>\n",
       "        </tr>\n",
       "        <tr>\n",
       "            <td>25034</td>\n",
       "            <td>Debbie</td>\n",
       "            <td>Abrahams</td>\n",
       "            <td>Labour</td>\n",
       "            <td>Oldham East and Saddleworth</td>\n",
       "            <td><a href=https://www.theyworkforyou.com/mp/25034/debbie_abrahams/oldham_east_and_saddleworth>https://www.theyworkforyou.com/mp/25034/debbie_abrahams/oldham_east_and_saddleworth</a></td>\n",
       "            <td>2017</td>\n",
       "            <td>2023</td>\n",
       "        </tr>\n",
       "        <tr>\n",
       "            <td>25661</td>\n",
       "            <td>Bim</td>\n",
       "            <td>Afolami</td>\n",
       "            <td>Conservative</td>\n",
       "            <td>Hitchin and Harpenden</td>\n",
       "            <td><a href=https://www.theyworkforyou.com/mp/25661/bim_afolami/hitchin_and_harpenden>https://www.theyworkforyou.com/mp/25661/bim_afolami/hitchin_and_harpenden</a></td>\n",
       "            <td>2017</td>\n",
       "            <td>2023</td>\n",
       "        </tr>\n",
       "        <tr>\n",
       "            <td>11929</td>\n",
       "            <td>Adam</td>\n",
       "            <td>Afriyie</td>\n",
       "            <td>Conservative</td>\n",
       "            <td>Windsor</td>\n",
       "            <td><a href=https://www.theyworkforyou.com/mp/11929/adam_afriyie/windsor>https://www.theyworkforyou.com/mp/11929/adam_afriyie/windsor</a></td>\n",
       "            <td>2017</td>\n",
       "            <td>2023</td>\n",
       "        </tr>\n",
       "        <tr>\n",
       "            <td>25817</td>\n",
       "            <td>Nickie</td>\n",
       "            <td>Aiken</td>\n",
       "            <td>Conservative</td>\n",
       "            <td>Cities of London and Westminster</td>\n",
       "            <td><a href=https://www.theyworkforyou.com/mp/25817/nickie_aiken/cities_of_london_and_westminster>https://www.theyworkforyou.com/mp/25817/nickie_aiken/cities_of_london_and_westminster</a></td>\n",
       "            <td>2017</td>\n",
       "            <td>2023</td>\n",
       "        </tr>\n",
       "    </tbody>\n",
       "</table>"
      ],
      "text/plain": [
       "+-------+------------+-----------+--------------+-----------------------------------+-------------------------------------------------------------------------------------------------------------------------------------------------------------------------------------------+------------+----------+\n",
       "| mp_id | first_name | last_name |    party     |            constituency           |                                                                                            url                                                                                            | term_start | term_end |\n",
       "+-------+------------+-----------+--------------+-----------------------------------+-------------------------------------------------------------------------------------------------------------------------------------------------------------------------------------------+------------+----------+\n",
       "| 10001 |   Diane    |   Abbott  | Independent  | Hackney North and Stoke Newington | <a href=https://www.theyworkforyou.com/mp/10001/diane_abbott/hackney_north_and_stoke_newington>https://www.theyworkforyou.com/mp/10001/diane_abbott/hackney_north_and_stoke_newington</a> |    2017    |   2023   |\n",
       "| 25034 |   Debbie   |  Abrahams |    Labour    |    Oldham East and Saddleworth    |    <a href=https://www.theyworkforyou.com/mp/25034/debbie_abrahams/oldham_east_and_saddleworth>https://www.theyworkforyou.com/mp/25034/debbie_abrahams/oldham_east_and_saddleworth</a>    |    2017    |   2023   |\n",
       "| 25661 |    Bim     |  Afolami  | Conservative |       Hitchin and Harpenden       |              <a href=https://www.theyworkforyou.com/mp/25661/bim_afolami/hitchin_and_harpenden>https://www.theyworkforyou.com/mp/25661/bim_afolami/hitchin_and_harpenden</a>              |    2017    |   2023   |\n",
       "| 11929 |    Adam    |  Afriyie  | Conservative |              Windsor              |                           <a href=https://www.theyworkforyou.com/mp/11929/adam_afriyie/windsor>https://www.theyworkforyou.com/mp/11929/adam_afriyie/windsor</a>                           |    2017    |   2023   |\n",
       "| 25817 |   Nickie   |   Aiken   | Conservative |  Cities of London and Westminster |  <a href=https://www.theyworkforyou.com/mp/25817/nickie_aiken/cities_of_london_and_westminster>https://www.theyworkforyou.com/mp/25817/nickie_aiken/cities_of_london_and_westminster</a>  |    2017    |   2023   |\n",
       "+-------+------------+-----------+--------------+-----------------------------------+-------------------------------------------------------------------------------------------------------------------------------------------------------------------------------------------+------------+----------+"
      ]
     },
     "execution_count": 6,
     "metadata": {},
     "output_type": "execute_result"
    }
   ],
   "source": [
    "%%sql discordia\n",
    "\n",
    "SELECT \n",
    "    *\n",
    "FROM mp\n",
    "ORDER BY term_start DESC\n",
    "LIMIT 5"
   ]
  },
  {
   "cell_type": "markdown",
   "metadata": {},
   "source": [
    "## 2.2. Debates\n",
    "\n",
    "For now, let's just scrape the debates that happened in 2023, from January until November.\n"
   ]
  },
  {
   "cell_type": "code",
   "execution_count": 16,
   "metadata": {},
   "outputs": [],
   "source": [
    "start_date = datetime(2023, 1, 1)\n",
    "end_date = datetime(2023, 11, 30)\n",
    "\n",
    "all_urls = [build_url(date_obj) for date_obj in pd.date_range(start_date, end_date)]"
   ]
  },
  {
   "cell_type": "markdown",
   "metadata": {},
   "source": [
    "**We need selenium to scrape the debates**"
   ]
  },
  {
   "cell_type": "code",
   "execution_count": 17,
   "metadata": {},
   "outputs": [
    {
     "data": {
      "application/vnd.jupyter.widget-view+json": {
       "model_id": "38b174abd8dd4976a4f578ea5b56f3a9",
       "version_major": 2,
       "version_minor": 0
      },
      "text/plain": [
       "  0%|          | 0/334 [00:00<?, ?it/s]"
      ]
     },
     "metadata": {},
     "output_type": "display_data"
    }
   ],
   "source": [
    "driver = webdriver.Firefox()\n",
    "\n",
    "df_debates = pd.concat([scrape_debate_sections(driver, url) for url in tqdm(all_urls)])\n",
    "\n",
    "driver.quit()"
   ]
  },
  {
   "cell_type": "code",
   "execution_count": 18,
   "metadata": {},
   "outputs": [
    {
     "data": {
      "text/plain": [
       "3231"
      ]
     },
     "execution_count": 18,
     "metadata": {},
     "output_type": "execute_result"
    }
   ],
   "source": [
    "df_debates.to_sql('debates', engine, if_exists='append', index=False)"
   ]
  },
  {
   "cell_type": "markdown",
   "metadata": {},
   "source": [
    "Check that it worked:"
   ]
  },
  {
   "cell_type": "code",
   "execution_count": 19,
   "metadata": {
    "vscode": {
     "languageId": "sql"
    }
   },
   "outputs": [
    {
     "data": {
      "text/html": [
       "<table>\n",
       "    <thead>\n",
       "        <tr>\n",
       "            <th>debate_id</th>\n",
       "            <th>debate_excerpt</th>\n",
       "            <th>url</th>\n",
       "            <th>title</th>\n",
       "            <th>section</th>\n",
       "            <th>section_excerpt</th>\n",
       "        </tr>\n",
       "    </thead>\n",
       "    <tbody>\n",
       "        <tr>\n",
       "            <td>2023-11-30a.1108.0</td>\n",
       "            <td>Motion made, and Question proposed, That this House do now adjourn.—(Mark Jenkinson.)</td>\n",
       "            <td><a href=https://www.theyworkforyou.com/debates/?id=2023-11-30a.1108.0>https://www.theyworkforyou.com/debates/?id=2023-11-30a.1108.0</a></td>\n",
       "            <td>HM Prison Bedford</td>\n",
       "            <td>None</td>\n",
       "            <td>None</td>\n",
       "        </tr>\n",
       "        <tr>\n",
       "            <td>2023-11-30a.1103.0</td>\n",
       "            <td>Proceedings resumed (Order, this day). Considered in Committee [Dame Rosie Winterton in the Chair]</td>\n",
       "            <td><a href=https://www.theyworkforyou.com/debates/?id=2023-11-30a.1103.0>https://www.theyworkforyou.com/debates/?id=2023-11-30a.1103.0</a></td>\n",
       "            <td>National Insurance Contributions (Reduction in Rates) Bill</td>\n",
       "            <td>None</td>\n",
       "            <td>None</td>\n",
       "        </tr>\n",
       "        <tr>\n",
       "            <td>2023-11-30a.1102.1</td>\n",
       "            <td>King’s recommendation signified. Motion made, and Question put forthwith ( Standing Order No. 52(1)(a)), That, for the purposes of any Act resulting from the National Insurance...</td>\n",
       "            <td><a href=https://www.theyworkforyou.com/debates/?id=2023-11-30a.1102.1>https://www.theyworkforyou.com/debates/?id=2023-11-30a.1102.1</a></td>\n",
       "            <td>National Insurance Contributions (Reduction in Rates) Bill: Money</td>\n",
       "            <td>None</td>\n",
       "            <td>None</td>\n",
       "        </tr>\n",
       "        <tr>\n",
       "            <td>2023-11-30a.1083.0</td>\n",
       "            <td>Second Reading [Relevant documents: Oral evidence taken before the Treasury Committee on the morning of 28 November 2023, on the Autumn Statement 2023, HC 286; Oral evidence taken before the...</td>\n",
       "            <td><a href=https://www.theyworkforyou.com/debates/?id=2023-11-30a.1083.0>https://www.theyworkforyou.com/debates/?id=2023-11-30a.1083.0</a></td>\n",
       "            <td>National Insurance Contributions (Reduction in Rates) Bill</td>\n",
       "            <td>None</td>\n",
       "            <td>None</td>\n",
       "        </tr>\n",
       "        <tr>\n",
       "            <td>2023-11-30a.1082.2</td>\n",
       "            <td>(13) Standing Order No. 15(1) (Exempted business) shall apply to proceedings on the Bill. (14) Standing Order No. 82 (Business Committee) shall not apply in relation to any proceedings to which...</td>\n",
       "            <td><a href=https://www.theyworkforyou.com/debates/?id=2023-11-30a.1082.2>https://www.theyworkforyou.com/debates/?id=2023-11-30a.1082.2</a></td>\n",
       "            <td>Miscellaneous</td>\n",
       "            <td>None</td>\n",
       "            <td>None</td>\n",
       "        </tr>\n",
       "    </tbody>\n",
       "</table>"
      ],
      "text/plain": [
       "+--------------------+------------------------------------------------------------------------------------------------------------------------------------------------------------------------------------------------------+-----------------------------------------------------------------------------------------------------------------------------------------+-------------------------------------------------------------------+---------+-----------------+\n",
       "|     debate_id      |                                                                                            debate_excerpt                                                                                            |                                                                   url                                                                   |                               title                               | section | section_excerpt |\n",
       "+--------------------+------------------------------------------------------------------------------------------------------------------------------------------------------------------------------------------------------+-----------------------------------------------------------------------------------------------------------------------------------------+-------------------------------------------------------------------+---------+-----------------+\n",
       "| 2023-11-30a.1108.0 |                                                        Motion made, and Question proposed, That this House do now adjourn.—(Mark Jenkinson.)                                                         | <a href=https://www.theyworkforyou.com/debates/?id=2023-11-30a.1108.0>https://www.theyworkforyou.com/debates/?id=2023-11-30a.1108.0</a> |                         HM Prison Bedford                         |   None  |       None      |\n",
       "| 2023-11-30a.1103.0 |                                                  Proceedings resumed (Order, this day). Considered in Committee [Dame Rosie Winterton in the Chair]                                                  | <a href=https://www.theyworkforyou.com/debates/?id=2023-11-30a.1103.0>https://www.theyworkforyou.com/debates/?id=2023-11-30a.1103.0</a> |     National Insurance Contributions (Reduction in Rates) Bill    |   None  |       None      |\n",
       "| 2023-11-30a.1102.1 |         King’s recommendation signified. Motion made, and Question put forthwith ( Standing Order No. 52(1)(a)), That, for the purposes of any Act resulting from the National Insurance...          | <a href=https://www.theyworkforyou.com/debates/?id=2023-11-30a.1102.1>https://www.theyworkforyou.com/debates/?id=2023-11-30a.1102.1</a> | National Insurance Contributions (Reduction in Rates) Bill: Money |   None  |       None      |\n",
       "| 2023-11-30a.1083.0 |  Second Reading [Relevant documents: Oral evidence taken before the Treasury Committee on the morning of 28 November 2023, on the Autumn Statement 2023, HC 286; Oral evidence taken before the...   | <a href=https://www.theyworkforyou.com/debates/?id=2023-11-30a.1083.0>https://www.theyworkforyou.com/debates/?id=2023-11-30a.1083.0</a> |     National Insurance Contributions (Reduction in Rates) Bill    |   None  |       None      |\n",
       "| 2023-11-30a.1082.2 | (13) Standing Order No. 15(1) (Exempted business) shall apply to proceedings on the Bill. (14) Standing Order No. 82 (Business Committee) shall not apply in relation to any proceedings to which... | <a href=https://www.theyworkforyou.com/debates/?id=2023-11-30a.1082.2>https://www.theyworkforyou.com/debates/?id=2023-11-30a.1082.2</a> |                           Miscellaneous                           |   None  |       None      |\n",
       "+--------------------+------------------------------------------------------------------------------------------------------------------------------------------------------------------------------------------------------+-----------------------------------------------------------------------------------------------------------------------------------------+-------------------------------------------------------------------+---------+-----------------+"
      ]
     },
     "execution_count": 19,
     "metadata": {},
     "output_type": "execute_result"
    }
   ],
   "source": [
    "%%sql discordia\n",
    "\n",
    "SELECT \n",
    "    *\n",
    "FROM debates\n",
    "ORDER BY debate_id DESC\n",
    "LIMIT 5"
   ]
  },
  {
   "cell_type": "code",
   "execution_count": 20,
   "metadata": {
    "vscode": {
     "languageId": "sql"
    }
   },
   "outputs": [
    {
     "data": {
      "text/html": [
       "<table>\n",
       "    <thead>\n",
       "        <tr>\n",
       "            <th>num_debates</th>\n",
       "        </tr>\n",
       "    </thead>\n",
       "    <tbody>\n",
       "        <tr>\n",
       "            <td>3231</td>\n",
       "        </tr>\n",
       "    </tbody>\n",
       "</table>"
      ],
      "text/plain": [
       "+-------------+\n",
       "| num_debates |\n",
       "+-------------+\n",
       "|     3231    |\n",
       "+-------------+"
      ]
     },
     "execution_count": 20,
     "metadata": {},
     "output_type": "execute_result"
    }
   ],
   "source": [
    "%%sql discordia\n",
    "\n",
    "SELECT \n",
    "    COUNT(*) AS num_debates\n",
    "FROM debates"
   ]
  },
  {
   "cell_type": "markdown",
   "metadata": {},
   "source": [
    "## 2.3. Speeches, house divisions and votes\n"
   ]
  },
  {
   "cell_type": "code",
   "execution_count": 21,
   "metadata": {},
   "outputs": [],
   "source": [
    "# I left this cell here in case we need to re-run the scraping of speeches, etc.\n",
    "# This is so I don't need to re-run Selenium every time I want to test the SQL queries\n",
    "debates_sql = \"\"\"\n",
    "SELECT \n",
    "    *\n",
    "FROM debates\n",
    "-- Uncomment the WHERE clause below to filter by date for testing\n",
    "-- WHERE \n",
    "--     debate_id LIKE '2023-11-14%' OR \n",
    "--     debate_id LIKE '2023-11-15%'\n",
    "\"\"\"\n",
    "\n",
    "df_debates = pd.read_sql(debates_sql, con=engine)"
   ]
  },
  {
   "cell_type": "code",
   "execution_count": 22,
   "metadata": {
    "vscode": {
     "languageId": "sql"
    }
   },
   "outputs": [
    {
     "data": {
      "text/plain": [
       "(3231, 6)"
      ]
     },
     "execution_count": 22,
     "metadata": {},
     "output_type": "execute_result"
    }
   ],
   "source": [
    "df_debates.shape"
   ]
  },
  {
   "cell_type": "code",
   "execution_count": 23,
   "metadata": {},
   "outputs": [
    {
     "data": {
      "application/vnd.jupyter.widget-view+json": {
       "model_id": "fc878fb7fcc74d4ea83f6babd70163b9",
       "version_major": 2,
       "version_minor": 0
      },
      "text/plain": [
       "  0%|          | 0/3231 [00:00<?, ?it/s]"
      ]
     },
     "metadata": {},
     "output_type": "display_data"
    }
   ],
   "source": [
    "df_speeches, df_house_divisions, df_votes = get_speeches_divisions_and_votes(df_debates['url'], tqdm=tqdm)"
   ]
  },
  {
   "cell_type": "markdown",
   "metadata": {},
   "source": [
    "### 2.3.1 Check that `speeches` was correctly populated"
   ]
  },
  {
   "cell_type": "code",
   "execution_count": 22,
   "metadata": {},
   "outputs": [
    {
     "data": {
      "text/html": [
       "<div>\n",
       "<style scoped>\n",
       "    .dataframe tbody tr th:only-of-type {\n",
       "        vertical-align: middle;\n",
       "    }\n",
       "\n",
       "    .dataframe tbody tr th {\n",
       "        vertical-align: top;\n",
       "    }\n",
       "\n",
       "    .dataframe thead th {\n",
       "        text-align: right;\n",
       "    }\n",
       "</style>\n",
       "<table border=\"1\" class=\"dataframe\">\n",
       "  <thead>\n",
       "    <tr style=\"text-align: right;\">\n",
       "      <th></th>\n",
       "      <th>debate_id</th>\n",
       "      <th>speech_id</th>\n",
       "      <th>speaker_id</th>\n",
       "      <th>speaker_position</th>\n",
       "      <th>speech_html</th>\n",
       "      <th>speech_raw_text</th>\n",
       "    </tr>\n",
       "  </thead>\n",
       "  <tbody>\n",
       "    <tr>\n",
       "      <th>0</th>\n",
       "      <td>2023-11-14b.485.0</td>\n",
       "      <td>g485.1</td>\n",
       "      <td>10295</td>\n",
       "      <td>Speaker of the House of Commons, Chair, Speake...</td>\n",
       "      <td>&lt;p pid=\"b485.1/1\"&gt;\\n I wish to inform the Hous...</td>\n",
       "      <td>I wish to inform the House that I have receive...</td>\n",
       "    </tr>\n",
       "    <tr>\n",
       "      <th>1</th>\n",
       "      <td>2023-11-14b.485.5</td>\n",
       "      <td>g485.6</td>\n",
       "      <td>26086</td>\n",
       "      <td>Liberal Democrat Spokesperson (Defence)</td>\n",
       "      <td>&lt;p pid=\"b485.6/1\" qnum=\"900035\"&gt;\\n What assess...</td>\n",
       "      <td>What assessment he has made of the potential i...</td>\n",
       "    </tr>\n",
       "    <tr>\n",
       "      <th>2</th>\n",
       "      <td>2023-11-14b.485.5</td>\n",
       "      <td>g485.7</td>\n",
       "      <td>25851</td>\n",
       "      <td>The Chief Secretary to the Treasury</td>\n",
       "      <td>&lt;p pid=\"b485.7/1\"&gt;\\n As a result of the Govern...</td>\n",
       "      <td>As a result of the Government’s triple lock, t...</td>\n",
       "    </tr>\n",
       "    <tr>\n",
       "      <th>3</th>\n",
       "      <td>2023-11-14b.485.5</td>\n",
       "      <td>g486.0</td>\n",
       "      <td>26086</td>\n",
       "      <td>Liberal Democrat Spokesperson (Defence)</td>\n",
       "      <td>&lt;p pid=\"b486.0/1\"&gt;\\n Now that\\n &lt;a href=\"https...</td>\n",
       "      <td>Now that Lord Cameron has returned to the Cabi...</td>\n",
       "    </tr>\n",
       "    <tr>\n",
       "      <th>4</th>\n",
       "      <td>2023-11-14b.485.5</td>\n",
       "      <td>g486.1</td>\n",
       "      <td>25851</td>\n",
       "      <td>The Chief Secretary to the Treasury</td>\n",
       "      <td>&lt;p pid=\"b486.1/1\"&gt;\\n Nice try. The triple lock...</td>\n",
       "      <td>Nice try. The triple lock was a Conservative i...</td>\n",
       "    </tr>\n",
       "  </tbody>\n",
       "</table>\n",
       "</div>"
      ],
      "text/plain": [
       "           debate_id speech_id speaker_id  \\\n",
       "0  2023-11-14b.485.0    g485.1      10295   \n",
       "1  2023-11-14b.485.5    g485.6      26086   \n",
       "2  2023-11-14b.485.5    g485.7      25851   \n",
       "3  2023-11-14b.485.5    g486.0      26086   \n",
       "4  2023-11-14b.485.5    g486.1      25851   \n",
       "\n",
       "                                    speaker_position  \\\n",
       "0  Speaker of the House of Commons, Chair, Speake...   \n",
       "1            Liberal Democrat Spokesperson (Defence)   \n",
       "2                The Chief Secretary to the Treasury   \n",
       "3            Liberal Democrat Spokesperson (Defence)   \n",
       "4                The Chief Secretary to the Treasury   \n",
       "\n",
       "                                         speech_html  \\\n",
       "0  <p pid=\"b485.1/1\">\\n I wish to inform the Hous...   \n",
       "1  <p pid=\"b485.6/1\" qnum=\"900035\">\\n What assess...   \n",
       "2  <p pid=\"b485.7/1\">\\n As a result of the Govern...   \n",
       "3  <p pid=\"b486.0/1\">\\n Now that\\n <a href=\"https...   \n",
       "4  <p pid=\"b486.1/1\">\\n Nice try. The triple lock...   \n",
       "\n",
       "                                     speech_raw_text  \n",
       "0  I wish to inform the House that I have receive...  \n",
       "1  What assessment he has made of the potential i...  \n",
       "2  As a result of the Government’s triple lock, t...  \n",
       "3  Now that Lord Cameron has returned to the Cabi...  \n",
       "4  Nice try. The triple lock was a Conservative i...  "
      ]
     },
     "execution_count": 22,
     "metadata": {},
     "output_type": "execute_result"
    }
   ],
   "source": [
    "df_speeches.head()"
   ]
  },
  {
   "cell_type": "code",
   "execution_count": 52,
   "metadata": {},
   "outputs": [
    {
     "data": {
      "text/plain": [
       "(821, 6)"
      ]
     },
     "execution_count": 52,
     "metadata": {},
     "output_type": "execute_result"
    }
   ],
   "source": [
    "df_speeches.shape"
   ]
  },
  {
   "cell_type": "code",
   "execution_count": 32,
   "metadata": {},
   "outputs": [
    {
     "data": {
      "text/plain": [
       "array(['2023-11-14b.485.0', '2023-11-14b.485.5', '2023-11-14b.486.4',\n",
       "       '2023-11-14b.488.3', '2023-11-14b.489.2', '2023-11-14b.490.7',\n",
       "       '2023-11-14b.491.2', '2023-11-14b.492.1', '2023-11-14b.492.6',\n",
       "       '2023-11-14b.493.7', '2023-11-14b.495.2', '2023-11-14b.496.0',\n",
       "       '2023-11-14b.496.5', '2023-11-14b.497.4', '2023-11-14b.498.1',\n",
       "       '2023-11-14b.498.6', '2023-11-14b.498.11', '2023-11-14b.499.3',\n",
       "       '2023-11-14b.500.0', '2023-11-14b.500.5', '2023-11-14b.507.0',\n",
       "       '2023-11-14b.534.3', '2023-11-14b.619.6', '2023-11-14b.620.0',\n",
       "       '2023-11-14b.621.0', '2023-11-15b.629.0', '2023-11-15b.629.5',\n",
       "       '2023-11-15b.630.3', '2023-11-15b.631.1', '2023-11-15b.632.5',\n",
       "       '2023-11-15b.633.6', '2023-11-15b.634.4', '2023-11-15b.635.5',\n",
       "       '2023-11-15b.638.4', '2023-11-15b.642.0', '2023-11-15b.643.1',\n",
       "       '2023-11-15b.649.0', '2023-11-15b.672.0', '2023-11-15b.673.0',\n",
       "       '2023-11-15b.674.3', '2023-11-15b.764.7'], dtype=object)"
      ]
     },
     "execution_count": 32,
     "metadata": {},
     "output_type": "execute_result"
    }
   ],
   "source": [
    "df_speeches['debate_id'].unique()"
   ]
  },
  {
   "cell_type": "markdown",
   "metadata": {},
   "source": [
    "**Q:** Which debates from df_debates did not contain any speeches?"
   ]
  },
  {
   "cell_type": "code",
   "execution_count": 36,
   "metadata": {},
   "outputs": [
    {
     "data": {
      "text/html": [
       "<div>\n",
       "<style scoped>\n",
       "    .dataframe tbody tr th:only-of-type {\n",
       "        vertical-align: middle;\n",
       "    }\n",
       "\n",
       "    .dataframe tbody tr th {\n",
       "        vertical-align: top;\n",
       "    }\n",
       "\n",
       "    .dataframe thead th {\n",
       "        text-align: right;\n",
       "    }\n",
       "</style>\n",
       "<table border=\"1\" class=\"dataframe\">\n",
       "  <thead>\n",
       "    <tr style=\"text-align: right;\">\n",
       "      <th></th>\n",
       "      <th>debate_id</th>\n",
       "      <th>debate_excerpt</th>\n",
       "      <th>url</th>\n",
       "      <th>title</th>\n",
       "      <th>section</th>\n",
       "      <th>section_excerpt</th>\n",
       "    </tr>\n",
       "  </thead>\n",
       "  <tbody>\n",
       "    <tr>\n",
       "      <th>21</th>\n",
       "      <td>2023-11-14b.532.4</td>\n",
       "      <td>None</td>\n",
       "      <td>https://www.theyworkforyou.com/debates/?id=202...</td>\n",
       "      <td>Bills Presented</td>\n",
       "      <td>None</td>\n",
       "      <td>None</td>\n",
       "    </tr>\n",
       "    <tr>\n",
       "      <th>22</th>\n",
       "      <td>2023-11-14b.534.0</td>\n",
       "      <td>None</td>\n",
       "      <td>https://www.theyworkforyou.com/debates/?id=202...</td>\n",
       "      <td>Debate on the Address</td>\n",
       "      <td>None</td>\n",
       "      <td>None</td>\n",
       "    </tr>\n",
       "    <tr>\n",
       "      <th>24</th>\n",
       "      <td>2023-11-14b.618.0</td>\n",
       "      <td>None</td>\n",
       "      <td>https://www.theyworkforyou.com/debates/?id=202...</td>\n",
       "      <td>Business Without Debate</td>\n",
       "      <td>None</td>\n",
       "      <td>None</td>\n",
       "    </tr>\n",
       "    <tr>\n",
       "      <th>25</th>\n",
       "      <td>2023-11-14b.618.1</td>\n",
       "      <td>Motion made, and Question put forthwith ( Stan...</td>\n",
       "      <td>https://www.theyworkforyou.com/debates/?id=202...</td>\n",
       "      <td>Deferred Divisions</td>\n",
       "      <td>None</td>\n",
       "      <td>None</td>\n",
       "    </tr>\n",
       "    <tr>\n",
       "      <th>26</th>\n",
       "      <td>2023-11-14b.618.3</td>\n",
       "      <td>Motion made, and Question put forthwith ( Stan...</td>\n",
       "      <td>https://www.theyworkforyou.com/debates/?id=202...</td>\n",
       "      <td>Delegated Legislation</td>\n",
       "      <td>None</td>\n",
       "      <td>None</td>\n",
       "    </tr>\n",
       "    <tr>\n",
       "      <th>44</th>\n",
       "      <td>2023-11-15b.674.0</td>\n",
       "      <td>None</td>\n",
       "      <td>https://www.theyworkforyou.com/debates/?id=202...</td>\n",
       "      <td>Debate on the Address</td>\n",
       "      <td>None</td>\n",
       "      <td>None</td>\n",
       "    </tr>\n",
       "    <tr>\n",
       "      <th>46</th>\n",
       "      <td>2023-11-15b.764.0</td>\n",
       "      <td>None</td>\n",
       "      <td>https://www.theyworkforyou.com/debates/?id=202...</td>\n",
       "      <td>Business without Debate</td>\n",
       "      <td>None</td>\n",
       "      <td>None</td>\n",
       "    </tr>\n",
       "    <tr>\n",
       "      <th>47</th>\n",
       "      <td>2023-11-15b.764.1</td>\n",
       "      <td>Motion made, and Question put forthwith ( Stan...</td>\n",
       "      <td>https://www.theyworkforyou.com/debates/?id=202...</td>\n",
       "      <td>Delegated Legislation</td>\n",
       "      <td>None</td>\n",
       "      <td>None</td>\n",
       "    </tr>\n",
       "    <tr>\n",
       "      <th>48</th>\n",
       "      <td>2023-11-15b.764.5</td>\n",
       "      <td>Ordered, That at the sitting on Thursday 16 No...</td>\n",
       "      <td>https://www.theyworkforyou.com/debates/?id=202...</td>\n",
       "      <td>Business of the House (16 November)</td>\n",
       "      <td>None</td>\n",
       "      <td>None</td>\n",
       "    </tr>\n",
       "    <tr>\n",
       "      <th>50</th>\n",
       "      <td>2023-11-15b.766.0</td>\n",
       "      <td>Resolved, That this House do now adjourn.—(Joy...</td>\n",
       "      <td>https://www.theyworkforyou.com/debates/?id=202...</td>\n",
       "      <td>Adjournment</td>\n",
       "      <td>None</td>\n",
       "      <td>None</td>\n",
       "    </tr>\n",
       "  </tbody>\n",
       "</table>\n",
       "</div>"
      ],
      "text/plain": [
       "            debate_id                                     debate_excerpt  \\\n",
       "21  2023-11-14b.532.4                                               None   \n",
       "22  2023-11-14b.534.0                                               None   \n",
       "24  2023-11-14b.618.0                                               None   \n",
       "25  2023-11-14b.618.1  Motion made, and Question put forthwith ( Stan...   \n",
       "26  2023-11-14b.618.3  Motion made, and Question put forthwith ( Stan...   \n",
       "44  2023-11-15b.674.0                                               None   \n",
       "46  2023-11-15b.764.0                                               None   \n",
       "47  2023-11-15b.764.1  Motion made, and Question put forthwith ( Stan...   \n",
       "48  2023-11-15b.764.5  Ordered, That at the sitting on Thursday 16 No...   \n",
       "50  2023-11-15b.766.0  Resolved, That this House do now adjourn.—(Joy...   \n",
       "\n",
       "                                                  url  \\\n",
       "21  https://www.theyworkforyou.com/debates/?id=202...   \n",
       "22  https://www.theyworkforyou.com/debates/?id=202...   \n",
       "24  https://www.theyworkforyou.com/debates/?id=202...   \n",
       "25  https://www.theyworkforyou.com/debates/?id=202...   \n",
       "26  https://www.theyworkforyou.com/debates/?id=202...   \n",
       "44  https://www.theyworkforyou.com/debates/?id=202...   \n",
       "46  https://www.theyworkforyou.com/debates/?id=202...   \n",
       "47  https://www.theyworkforyou.com/debates/?id=202...   \n",
       "48  https://www.theyworkforyou.com/debates/?id=202...   \n",
       "50  https://www.theyworkforyou.com/debates/?id=202...   \n",
       "\n",
       "                                  title section section_excerpt  \n",
       "21                      Bills Presented    None            None  \n",
       "22                Debate on the Address    None            None  \n",
       "24              Business Without Debate    None            None  \n",
       "25                   Deferred Divisions    None            None  \n",
       "26                Delegated Legislation    None            None  \n",
       "44                Debate on the Address    None            None  \n",
       "46              Business without Debate    None            None  \n",
       "47                Delegated Legislation    None            None  \n",
       "48  Business of the House (16 November)    None            None  \n",
       "50                          Adjournment    None            None  "
      ]
     },
     "execution_count": 36,
     "metadata": {},
     "output_type": "execute_result"
    }
   ],
   "source": [
    "# TODO: Check those URLs, I feel like those are motion texts that we should scrape and put into the database somehow\n",
    "df_debates[~df_debates['debate_id'].isin(df_speeches['debate_id'].unique())]"
   ]
  },
  {
   "cell_type": "markdown",
   "metadata": {},
   "source": [
    "### 2.3.2 Check that `house_divisions` was correctly populated"
   ]
  },
  {
   "cell_type": "code",
   "execution_count": 38,
   "metadata": {},
   "outputs": [
    {
     "data": {
      "text/html": [
       "<div>\n",
       "<style scoped>\n",
       "    .dataframe tbody tr th:only-of-type {\n",
       "        vertical-align: middle;\n",
       "    }\n",
       "\n",
       "    .dataframe tbody tr th {\n",
       "        vertical-align: top;\n",
       "    }\n",
       "\n",
       "    .dataframe thead th {\n",
       "        text-align: right;\n",
       "    }\n",
       "</style>\n",
       "<table border=\"1\" class=\"dataframe\">\n",
       "  <thead>\n",
       "    <tr style=\"text-align: right;\">\n",
       "      <th></th>\n",
       "      <th>debate_id</th>\n",
       "      <th>house_division_id</th>\n",
       "      <th>vote_title</th>\n",
       "    </tr>\n",
       "  </thead>\n",
       "  <tbody>\n",
       "    <tr>\n",
       "      <th>0</th>\n",
       "      <td>2023-11-14b.534.3</td>\n",
       "      <td>g614.1</td>\n",
       "      <td>Economic Growth</td>\n",
       "    </tr>\n",
       "    <tr>\n",
       "      <th>1</th>\n",
       "      <td>2023-11-15b.674.3</td>\n",
       "      <td>g754.0</td>\n",
       "      <td>Violence Reduction, Policing and Criminal Justice</td>\n",
       "    </tr>\n",
       "    <tr>\n",
       "      <th>2</th>\n",
       "      <td>2023-11-15b.674.3</td>\n",
       "      <td>g757.0</td>\n",
       "      <td>Violence Reduction, Policing and Criminal Justice</td>\n",
       "    </tr>\n",
       "    <tr>\n",
       "      <th>3</th>\n",
       "      <td>2023-11-15b.674.3</td>\n",
       "      <td>g761.0</td>\n",
       "      <td>Violence Reduction, Policing and Criminal Justice</td>\n",
       "    </tr>\n",
       "  </tbody>\n",
       "</table>\n",
       "</div>"
      ],
      "text/plain": [
       "           debate_id house_division_id  \\\n",
       "0  2023-11-14b.534.3            g614.1   \n",
       "1  2023-11-15b.674.3            g754.0   \n",
       "2  2023-11-15b.674.3            g757.0   \n",
       "3  2023-11-15b.674.3            g761.0   \n",
       "\n",
       "                                          vote_title  \n",
       "0                                    Economic Growth  \n",
       "1  Violence Reduction, Policing and Criminal Justice  \n",
       "2  Violence Reduction, Policing and Criminal Justice  \n",
       "3  Violence Reduction, Policing and Criminal Justice  "
      ]
     },
     "execution_count": 38,
     "metadata": {},
     "output_type": "execute_result"
    }
   ],
   "source": [
    "# This matches what I see on the website, so I think we're good\n",
    "df_house_divisions"
   ]
  },
  {
   "cell_type": "markdown",
   "metadata": {},
   "source": [
    "### 2.3.3 Check that `votes` was correctly populated "
   ]
  },
  {
   "cell_type": "code",
   "execution_count": 39,
   "metadata": {},
   "outputs": [
    {
     "data": {
      "text/plain": [
       "(1772, 5)"
      ]
     },
     "execution_count": 39,
     "metadata": {},
     "output_type": "execute_result"
    }
   ],
   "source": [
    "df_votes.shape"
   ]
  },
  {
   "cell_type": "code",
   "execution_count": 40,
   "metadata": {},
   "outputs": [
    {
     "data": {
      "text/html": [
       "<div>\n",
       "<style scoped>\n",
       "    .dataframe tbody tr th:only-of-type {\n",
       "        vertical-align: middle;\n",
       "    }\n",
       "\n",
       "    .dataframe tbody tr th {\n",
       "        vertical-align: top;\n",
       "    }\n",
       "\n",
       "    .dataframe thead th {\n",
       "        text-align: right;\n",
       "    }\n",
       "</style>\n",
       "<table border=\"1\" class=\"dataframe\">\n",
       "  <thead>\n",
       "    <tr style=\"text-align: right;\">\n",
       "      <th></th>\n",
       "      <th>house_division_id</th>\n",
       "      <th>mp_id</th>\n",
       "      <th>comment</th>\n",
       "      <th>is_teller</th>\n",
       "      <th>is_vote_aye</th>\n",
       "    </tr>\n",
       "  </thead>\n",
       "  <tbody>\n",
       "    <tr>\n",
       "      <th>0</th>\n",
       "      <td>g614.1</td>\n",
       "      <td>25034</td>\n",
       "      <td>None</td>\n",
       "      <td>False</td>\n",
       "      <td>True</td>\n",
       "    </tr>\n",
       "    <tr>\n",
       "      <th>1</th>\n",
       "      <td>g614.1</td>\n",
       "      <td>24958</td>\n",
       "      <td>None</td>\n",
       "      <td>False</td>\n",
       "      <td>True</td>\n",
       "    </tr>\n",
       "    <tr>\n",
       "      <th>2</th>\n",
       "      <td>g614.1</td>\n",
       "      <td>25888</td>\n",
       "      <td>None</td>\n",
       "      <td>False</td>\n",
       "      <td>True</td>\n",
       "    </tr>\n",
       "    <tr>\n",
       "      <th>3</th>\n",
       "      <td>g614.1</td>\n",
       "      <td>25702</td>\n",
       "      <td>None</td>\n",
       "      <td>False</td>\n",
       "      <td>True</td>\n",
       "    </tr>\n",
       "    <tr>\n",
       "      <th>4</th>\n",
       "      <td>g614.1</td>\n",
       "      <td>25813</td>\n",
       "      <td>None</td>\n",
       "      <td>False</td>\n",
       "      <td>True</td>\n",
       "    </tr>\n",
       "  </tbody>\n",
       "</table>\n",
       "</div>"
      ],
      "text/plain": [
       "  house_division_id  mp_id comment  is_teller  is_vote_aye\n",
       "0            g614.1  25034    None      False         True\n",
       "1            g614.1  24958    None      False         True\n",
       "2            g614.1  25888    None      False         True\n",
       "3            g614.1  25702    None      False         True\n",
       "4            g614.1  25813    None      False         True"
      ]
     },
     "execution_count": 40,
     "metadata": {},
     "output_type": "execute_result"
    }
   ],
   "source": [
    "df_votes.head()"
   ]
  },
  {
   "cell_type": "code",
   "execution_count": 41,
   "metadata": {},
   "outputs": [
    {
     "data": {
      "text/plain": [
       "array(['g614.1', 'g754.0', 'g757.0', 'g761.0'], dtype=object)"
      ]
     },
     "execution_count": 41,
     "metadata": {},
     "output_type": "execute_result"
    }
   ],
   "source": [
    "df_votes['house_division_id'].unique()"
   ]
  },
  {
   "cell_type": "code",
   "execution_count": 47,
   "metadata": {},
   "outputs": [
    {
     "data": {
      "text/html": [
       "<div>\n",
       "<style scoped>\n",
       "    .dataframe tbody tr th:only-of-type {\n",
       "        vertical-align: middle;\n",
       "    }\n",
       "\n",
       "    .dataframe tbody tr th {\n",
       "        vertical-align: top;\n",
       "    }\n",
       "\n",
       "    .dataframe thead th {\n",
       "        text-align: right;\n",
       "    }\n",
       "</style>\n",
       "<table border=\"1\" class=\"dataframe\">\n",
       "  <thead>\n",
       "    <tr style=\"text-align: right;\">\n",
       "      <th>vote</th>\n",
       "      <th>aye</th>\n",
       "      <th>no</th>\n",
       "    </tr>\n",
       "    <tr>\n",
       "      <th>house_division_id</th>\n",
       "      <th></th>\n",
       "      <th></th>\n",
       "    </tr>\n",
       "  </thead>\n",
       "  <tbody>\n",
       "    <tr>\n",
       "      <th>g614.1</th>\n",
       "      <td>229</td>\n",
       "      <td>312</td>\n",
       "    </tr>\n",
       "    <tr>\n",
       "      <th>g754.0</th>\n",
       "      <td>185</td>\n",
       "      <td>292</td>\n",
       "    </tr>\n",
       "    <tr>\n",
       "      <th>g757.0</th>\n",
       "      <td>127</td>\n",
       "      <td>296</td>\n",
       "    </tr>\n",
       "    <tr>\n",
       "      <th>g761.0</th>\n",
       "      <td>26</td>\n",
       "      <td>305</td>\n",
       "    </tr>\n",
       "  </tbody>\n",
       "</table>\n",
       "</div>"
      ],
      "text/plain": [
       "vote               aye   no\n",
       "house_division_id          \n",
       "g614.1             229  312\n",
       "g754.0             185  292\n",
       "g757.0             127  296\n",
       "g761.0              26  305"
      ]
     },
     "execution_count": 47,
     "metadata": {},
     "output_type": "execute_result"
    }
   ],
   "source": [
    "# A little summary of the votes\n",
    "\n",
    "(df_votes\n",
    "    .assign(vote=lambda x: ['aye' if is_vote_aye else 'no' for is_vote_aye in x['is_vote_aye']])\n",
    "    .groupby(['house_division_id', 'vote']).size()\n",
    "    .reset_index(name='counts')\n",
    "    .pivot(index='house_division_id', columns='vote', values='counts')\n",
    ")"
   ]
  },
  {
   "cell_type": "markdown",
   "metadata": {},
   "source": [
    "Did we capture tellers correctly?"
   ]
  },
  {
   "cell_type": "code",
   "execution_count": 50,
   "metadata": {},
   "outputs": [
    {
     "data": {
      "text/html": [
       "<div>\n",
       "<style scoped>\n",
       "    .dataframe tbody tr th:only-of-type {\n",
       "        vertical-align: middle;\n",
       "    }\n",
       "\n",
       "    .dataframe tbody tr th {\n",
       "        vertical-align: top;\n",
       "    }\n",
       "\n",
       "    .dataframe thead tr th {\n",
       "        text-align: left;\n",
       "    }\n",
       "\n",
       "    .dataframe thead tr:last-of-type th {\n",
       "        text-align: right;\n",
       "    }\n",
       "</style>\n",
       "<table border=\"1\" class=\"dataframe\">\n",
       "  <thead>\n",
       "    <tr>\n",
       "      <th>vote</th>\n",
       "      <th colspan=\"2\" halign=\"left\">aye</th>\n",
       "      <th colspan=\"2\" halign=\"left\">no</th>\n",
       "    </tr>\n",
       "    <tr>\n",
       "      <th>teller</th>\n",
       "      <th>teller</th>\n",
       "      <th>voter</th>\n",
       "      <th>teller</th>\n",
       "      <th>voter</th>\n",
       "    </tr>\n",
       "    <tr>\n",
       "      <th>house_division_id</th>\n",
       "      <th></th>\n",
       "      <th></th>\n",
       "      <th></th>\n",
       "      <th></th>\n",
       "    </tr>\n",
       "  </thead>\n",
       "  <tbody>\n",
       "    <tr>\n",
       "      <th>g614.1</th>\n",
       "      <td>2</td>\n",
       "      <td>227</td>\n",
       "      <td>2</td>\n",
       "      <td>310</td>\n",
       "    </tr>\n",
       "    <tr>\n",
       "      <th>g754.0</th>\n",
       "      <td>2</td>\n",
       "      <td>183</td>\n",
       "      <td>2</td>\n",
       "      <td>290</td>\n",
       "    </tr>\n",
       "    <tr>\n",
       "      <th>g757.0</th>\n",
       "      <td>2</td>\n",
       "      <td>125</td>\n",
       "      <td>2</td>\n",
       "      <td>294</td>\n",
       "    </tr>\n",
       "    <tr>\n",
       "      <th>g761.0</th>\n",
       "      <td>2</td>\n",
       "      <td>24</td>\n",
       "      <td>2</td>\n",
       "      <td>303</td>\n",
       "    </tr>\n",
       "  </tbody>\n",
       "</table>\n",
       "</div>"
      ],
      "text/plain": [
       "vote                 aye           no      \n",
       "teller            teller voter teller voter\n",
       "house_division_id                          \n",
       "g614.1                 2   227      2   310\n",
       "g754.0                 2   183      2   290\n",
       "g757.0                 2   125      2   294\n",
       "g761.0                 2    24      2   303"
      ]
     },
     "execution_count": 50,
     "metadata": {},
     "output_type": "execute_result"
    }
   ],
   "source": [
    "# A little summary of the votes\n",
    "\n",
    "(df_votes\n",
    "    .assign(vote=lambda x: ['aye' if is_vote_aye else 'no' for is_vote_aye in x['is_vote_aye']])\n",
    "    .assign(teller=lambda x: ['teller' if is_teller else 'voter' for is_teller in x['is_teller']])\n",
    "    .groupby(['house_division_id', 'vote', 'teller']).size()\n",
    "    .reset_index(name='counts')\n",
    "    .pivot(index=['house_division_id'], columns=['vote', 'teller'], values='counts')\n",
    ")"
   ]
  },
  {
   "cell_type": "markdown",
   "metadata": {},
   "source": [
    "### 2.3.4 Save them all"
   ]
  },
  {
   "cell_type": "code",
   "execution_count": 26,
   "metadata": {},
   "outputs": [
    {
     "data": {
      "text/plain": [
       "59"
      ]
     },
     "execution_count": 26,
     "metadata": {},
     "output_type": "execute_result"
    }
   ],
   "source": [
    "df_house_divisions.to_sql('house_divisions', engine, if_exists='append', index=False)"
   ]
  },
  {
   "cell_type": "code",
   "execution_count": 27,
   "metadata": {},
   "outputs": [
    {
     "data": {
      "text/plain": [
       "24300"
      ]
     },
     "execution_count": 27,
     "metadata": {},
     "output_type": "execute_result"
    }
   ],
   "source": [
    "df_votes.to_sql('votes', engine, if_exists='append', index=False)"
   ]
  },
  {
   "cell_type": "code",
   "execution_count": 28,
   "metadata": {},
   "outputs": [
    {
     "data": {
      "text/plain": [
       "44380"
      ]
     },
     "execution_count": 28,
     "metadata": {},
     "output_type": "execute_result"
    }
   ],
   "source": [
    "df_speeches.to_sql('speeches', engine, if_exists='append', index=False)"
   ]
  },
  {
   "cell_type": "markdown",
   "metadata": {},
   "source": [
    "### 2.3.5 Check that the data was correctly saved"
   ]
  },
  {
   "cell_type": "code",
   "execution_count": 29,
   "metadata": {
    "vscode": {
     "languageId": "sql"
    }
   },
   "outputs": [
    {
     "data": {
      "text/html": [
       "<table>\n",
       "    <thead>\n",
       "        <tr>\n",
       "            <th>table_name</th>\n",
       "            <th>num_debates</th>\n",
       "        </tr>\n",
       "    </thead>\n",
       "    <tbody>\n",
       "        <tr>\n",
       "            <td>debates</td>\n",
       "            <td>3231</td>\n",
       "        </tr>\n",
       "        <tr>\n",
       "            <td>house_divisions</td>\n",
       "            <td>59</td>\n",
       "        </tr>\n",
       "        <tr>\n",
       "            <td>speeches</td>\n",
       "            <td>44380</td>\n",
       "        </tr>\n",
       "        <tr>\n",
       "            <td>votes</td>\n",
       "            <td>24300</td>\n",
       "        </tr>\n",
       "    </tbody>\n",
       "</table>"
      ],
      "text/plain": [
       "+-----------------+-------------+\n",
       "|    table_name   | num_debates |\n",
       "+-----------------+-------------+\n",
       "|     debates     |     3231    |\n",
       "| house_divisions |      59     |\n",
       "|     speeches    |    44380    |\n",
       "|      votes      |    24300    |\n",
       "+-----------------+-------------+"
      ]
     },
     "execution_count": 29,
     "metadata": {},
     "output_type": "execute_result"
    }
   ],
   "source": [
    "%%sql discordia\n",
    "\n",
    "SELECT \n",
    "    'debates' AS table_name,\n",
    "    COUNT(*) AS num_debates\n",
    "FROM debates\n",
    "UNION\n",
    "SELECT\n",
    "    'speeches' AS table_name,\n",
    "    COUNT(*) AS num_speeches\n",
    "FROM speeches\n",
    "UNION\n",
    "SELECT \n",
    "    'house_divisions' AS table_name,\n",
    "    COUNT(*) AS num_house_divisions\n",
    "FROM house_divisions\n",
    "UNION\n",
    "SELECT \n",
    "    'votes' AS table_name,\n",
    "    COUNT(*) AS num_votes\n",
    "FROM votes"
   ]
  },
  {
   "cell_type": "markdown",
   "metadata": {},
   "source": [
    "# 3. How to get the motions?\n",
    "\n",
    "Starting point: Gavin Abercrombie, the researcher of the HanDeSet project, created a list of strings that demarcate the start and end of a motion. \n",
    "\n",
    "🖇️ LINK: [processTWFYfiles.py](https://github.com/GavinAbercrombie/processHansards/blob/master/processTWFYfiles.py)\n"
   ]
  },
  {
   "cell_type": "code",
   "execution_count": 1,
   "metadata": {},
   "outputs": [],
   "source": [
    "#TODO: This is a WIP"
   ]
  }
 ],
 "metadata": {
  "kernelspec": {
   "display_name": "venv-commons",
   "language": "python",
   "name": "python3"
  },
  "language_info": {
   "codemirror_mode": {
    "name": "ipython",
    "version": 3
   },
   "file_extension": ".py",
   "mimetype": "text/x-python",
   "name": "python",
   "nbconvert_exporter": "python",
   "pygments_lexer": "ipython3",
   "version": "3.11.5"
  }
 },
 "nbformat": 4,
 "nbformat_minor": 2
}
