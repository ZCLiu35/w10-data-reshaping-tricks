{
 "cells": [
  {
   "cell_type": "markdown",
   "metadata": {},
   "source": [
    "LSE Data Science Institute | DS105A (2023/24) | Week 10\n",
    "\n",
    "# 🗓️ Week 10: Databases + Data reshaping + Basics of Text Mining\n",
    "\n",
    "Theme: Cleaning and reshaping data\n",
    "\n",
    "**LAST UPDATED:** 29 November 2023\n",
    "\n",
    "**AUTHOR:** Dr [Jon Cardoso-Silva](https://jonjoncardoso.github.io)\n",
    "\n",
    "-----\n"
   ]
  },
  {
   "cell_type": "markdown",
   "metadata": {},
   "source": [
    "⚙️ **Setup**"
   ]
  },
  {
   "cell_type": "code",
   "execution_count": 10,
   "metadata": {},
   "outputs": [],
   "source": [
    "import re\n",
    "# My custom Python package\n",
    "import discordia\n",
    "\n",
    "import pandas as pd\n",
    "import tqdm.notebook as tqdm\n",
    "\n",
    "from datetime import datetime\n",
    "from selenium import webdriver\n",
    "from sqlalchemy import create_engine\n",
    "\n",
    "from discordia.webscraping.twfy import build_url, scrape_debate_sections, get_speeches"
   ]
  },
  {
   "cell_type": "code",
   "execution_count": 11,
   "metadata": {},
   "outputs": [
    {
     "name": "stdout",
     "output_type": "stream",
     "text": [
      "The sql extension is already loaded. To reload it, use:\n",
      "  %reload_ext sql\n"
     ]
    }
   ],
   "source": [
    "%load_ext sql\n",
    "%config SqlMagic.autocommit=False # for engines that do not support autommit"
   ]
  },
  {
   "cell_type": "markdown",
   "metadata": {},
   "source": [
    "# 1. Collect Data\n",
    "\n",
    "Example of calling a simple function from my package:"
   ]
  },
  {
   "cell_type": "code",
   "execution_count": 12,
   "metadata": {},
   "outputs": [
    {
     "data": {
      "text/plain": [
       "'https://www.theyworkforyou.com/debates/?d=2023-11-15'"
      ]
     },
     "execution_count": 12,
     "metadata": {},
     "output_type": "execute_result"
    }
   ],
   "source": [
    "date_obj = datetime(2023, 11, 15)\n",
    "\n",
    "build_url(date_obj)"
   ]
  },
  {
   "cell_type": "markdown",
   "metadata": {},
   "source": [
    "**Start Selenium:**"
   ]
  },
  {
   "cell_type": "code",
   "execution_count": 13,
   "metadata": {},
   "outputs": [],
   "source": [
    "driver = webdriver.Firefox()\n",
    "\n",
    "curr_url = build_url(date_obj)\n",
    "driver.get(curr_url)"
   ]
  },
  {
   "cell_type": "markdown",
   "metadata": {},
   "source": [
    "## 1.1 Collect debates\n",
    "\n",
    "\n",
    "Collecting data from the web using Selenium:"
   ]
  },
  {
   "cell_type": "code",
   "execution_count": 14,
   "metadata": {},
   "outputs": [
    {
     "data": {
      "text/html": [
       "<div>\n",
       "<style scoped>\n",
       "    .dataframe tbody tr th:only-of-type {\n",
       "        vertical-align: middle;\n",
       "    }\n",
       "\n",
       "    .dataframe tbody tr th {\n",
       "        vertical-align: top;\n",
       "    }\n",
       "\n",
       "    .dataframe thead th {\n",
       "        text-align: right;\n",
       "    }\n",
       "</style>\n",
       "<table border=\"1\" class=\"dataframe\">\n",
       "  <thead>\n",
       "    <tr style=\"text-align: right;\">\n",
       "      <th></th>\n",
       "      <th>debate_id</th>\n",
       "      <th>debate_excerpt</th>\n",
       "      <th>url</th>\n",
       "      <th>title</th>\n",
       "      <th>section</th>\n",
       "      <th>section_excerpt</th>\n",
       "    </tr>\n",
       "  </thead>\n",
       "  <tbody>\n",
       "    <tr>\n",
       "      <th>0</th>\n",
       "      <td>2023-11-15b.629.0</td>\n",
       "      <td>I can now announce the arrangements for the el...</td>\n",
       "      <td>https://www.theyworkforyou.com/debates/?id=202...</td>\n",
       "      <td>Speaker’s Statement</td>\n",
       "      <td>None</td>\n",
       "      <td>None</td>\n",
       "    </tr>\n",
       "    <tr>\n",
       "      <th>1</th>\n",
       "      <td>2023-11-15b.629.5</td>\n",
       "      <td>What steps she is taking with Cabinet colleagu...</td>\n",
       "      <td>https://www.theyworkforyou.com/debates/?id=202...</td>\n",
       "      <td>Online Fraud</td>\n",
       "      <td>Science, Innovation and Technology</td>\n",
       "      <td>The Secretary of State was asked—</td>\n",
       "    </tr>\n",
       "    <tr>\n",
       "      <th>2</th>\n",
       "      <td>2023-11-15b.630.3</td>\n",
       "      <td>What recent discussions she has had with (a) O...</td>\n",
       "      <td>https://www.theyworkforyou.com/debates/?id=202...</td>\n",
       "      <td>Telecoms Network Replacement</td>\n",
       "      <td>Science, Innovation and Technology</td>\n",
       "      <td>The Secretary of State was asked—</td>\n",
       "    </tr>\n",
       "    <tr>\n",
       "      <th>3</th>\n",
       "      <td>2023-11-15b.631.1</td>\n",
       "      <td>What steps her Department is taking to tackle ...</td>\n",
       "      <td>https://www.theyworkforyou.com/debates/?id=202...</td>\n",
       "      <td>AI-generated Content: Social Media</td>\n",
       "      <td>Science, Innovation and Technology</td>\n",
       "      <td>The Secretary of State was asked—</td>\n",
       "    </tr>\n",
       "    <tr>\n",
       "      <th>4</th>\n",
       "      <td>2023-11-15b.632.5</td>\n",
       "      <td>What steps the Government are taking to regula...</td>\n",
       "      <td>https://www.theyworkforyou.com/debates/?id=202...</td>\n",
       "      <td>AI Regulation</td>\n",
       "      <td>Science, Innovation and Technology</td>\n",
       "      <td>The Secretary of State was asked—</td>\n",
       "    </tr>\n",
       "    <tr>\n",
       "      <th>5</th>\n",
       "      <td>2023-11-15b.633.6</td>\n",
       "      <td>What steps her Department is taking to improve...</td>\n",
       "      <td>https://www.theyworkforyou.com/debates/?id=202...</td>\n",
       "      <td>Rural Connectivity</td>\n",
       "      <td>Science, Innovation and Technology</td>\n",
       "      <td>The Secretary of State was asked—</td>\n",
       "    </tr>\n",
       "    <tr>\n",
       "      <th>6</th>\n",
       "      <td>2023-11-15b.634.4</td>\n",
       "      <td>What steps she is taking with Cabinet colleagu...</td>\n",
       "      <td>https://www.theyworkforyou.com/debates/?id=202...</td>\n",
       "      <td>Net Zero Technologies: University Research</td>\n",
       "      <td>Science, Innovation and Technology</td>\n",
       "      <td>The Secretary of State was asked—</td>\n",
       "    </tr>\n",
       "    <tr>\n",
       "      <th>7</th>\n",
       "      <td>2023-11-15b.635.5</td>\n",
       "      <td>If she will make a statement on her department...</td>\n",
       "      <td>https://www.theyworkforyou.com/debates/?id=202...</td>\n",
       "      <td>Topical Questions</td>\n",
       "      <td>Science, Innovation and Technology</td>\n",
       "      <td>The Secretary of State was asked—</td>\n",
       "    </tr>\n",
       "    <tr>\n",
       "      <th>8</th>\n",
       "      <td>2023-11-15b.638.4</td>\n",
       "      <td>If he will list his official engagements for W...</td>\n",
       "      <td>https://www.theyworkforyou.com/debates/?id=202...</td>\n",
       "      <td>Engagements</td>\n",
       "      <td>Prime Minister</td>\n",
       "      <td>The Prime Minister was asked—</td>\n",
       "    </tr>\n",
       "    <tr>\n",
       "      <th>9</th>\n",
       "      <td>2023-11-15b.642.0</td>\n",
       "      <td>What assessment he has made of recent trends i...</td>\n",
       "      <td>https://www.theyworkforyou.com/debates/?id=202...</td>\n",
       "      <td>West Midlands: Economic Growth</td>\n",
       "      <td>Prime Minister</td>\n",
       "      <td>The Prime Minister was asked—</td>\n",
       "    </tr>\n",
       "    <tr>\n",
       "      <th>10</th>\n",
       "      <td>2023-11-15b.643.1</td>\n",
       "      <td>Kirklees Council has closed Dewsbury sports ce...</td>\n",
       "      <td>https://www.theyworkforyou.com/debates/?id=202...</td>\n",
       "      <td>Engagements</td>\n",
       "      <td>Prime Minister</td>\n",
       "      <td>The Prime Minister was asked—</td>\n",
       "    </tr>\n",
       "    <tr>\n",
       "      <th>11</th>\n",
       "      <td>2023-11-15b.649.0</td>\n",
       "      <td>With permission, Mr Speaker, I would like to m...</td>\n",
       "      <td>https://www.theyworkforyou.com/debates/?id=202...</td>\n",
       "      <td>Illegal Immigration</td>\n",
       "      <td>None</td>\n",
       "      <td>None</td>\n",
       "    </tr>\n",
       "    <tr>\n",
       "      <th>12</th>\n",
       "      <td>2023-11-15b.672.0</td>\n",
       "      <td>On a point of order, Madam Deputy Speaker. It ...</td>\n",
       "      <td>https://www.theyworkforyou.com/debates/?id=202...</td>\n",
       "      <td>Point of Order</td>\n",
       "      <td>None</td>\n",
       "      <td>None</td>\n",
       "    </tr>\n",
       "    <tr>\n",
       "      <th>13</th>\n",
       "      <td>2023-11-15b.673.0</td>\n",
       "      <td>I have an announcement to make about the elect...</td>\n",
       "      <td>https://www.theyworkforyou.com/debates/?id=202...</td>\n",
       "      <td>Deputy Speaker’s Statement</td>\n",
       "      <td>None</td>\n",
       "      <td>None</td>\n",
       "    </tr>\n",
       "    <tr>\n",
       "      <th>14</th>\n",
       "      <td>2023-11-15b.674.0</td>\n",
       "      <td>None</td>\n",
       "      <td>https://www.theyworkforyou.com/debates/?id=202...</td>\n",
       "      <td>Debate on the Address</td>\n",
       "      <td>None</td>\n",
       "      <td>None</td>\n",
       "    </tr>\n",
       "    <tr>\n",
       "      <th>15</th>\n",
       "      <td>2023-11-15b.674.3</td>\n",
       "      <td>I inform the House that Mr Speaker has selecte...</td>\n",
       "      <td>https://www.theyworkforyou.com/debates/?id=202...</td>\n",
       "      <td>Violence Reduction, Policing and Criminal Justice</td>\n",
       "      <td>None</td>\n",
       "      <td>None</td>\n",
       "    </tr>\n",
       "    <tr>\n",
       "      <th>16</th>\n",
       "      <td>2023-11-15b.764.0</td>\n",
       "      <td>None</td>\n",
       "      <td>https://www.theyworkforyou.com/debates/?id=202...</td>\n",
       "      <td>Business without Debate</td>\n",
       "      <td>None</td>\n",
       "      <td>None</td>\n",
       "    </tr>\n",
       "    <tr>\n",
       "      <th>17</th>\n",
       "      <td>2023-11-15b.764.1</td>\n",
       "      <td>Motion made, and Question put forthwith ( Stan...</td>\n",
       "      <td>https://www.theyworkforyou.com/debates/?id=202...</td>\n",
       "      <td>Delegated Legislation</td>\n",
       "      <td>None</td>\n",
       "      <td>None</td>\n",
       "    </tr>\n",
       "    <tr>\n",
       "      <th>18</th>\n",
       "      <td>2023-11-15b.764.5</td>\n",
       "      <td>Ordered, That at the sitting on Thursday 16 No...</td>\n",
       "      <td>https://www.theyworkforyou.com/debates/?id=202...</td>\n",
       "      <td>Business of the House (16 November)</td>\n",
       "      <td>None</td>\n",
       "      <td>None</td>\n",
       "    </tr>\n",
       "    <tr>\n",
       "      <th>19</th>\n",
       "      <td>2023-11-15b.764.7</td>\n",
       "      <td>Thousands of people desperately worried about ...</td>\n",
       "      <td>https://www.theyworkforyou.com/debates/?id=202...</td>\n",
       "      <td>Petition - Energy bills support</td>\n",
       "      <td>None</td>\n",
       "      <td>None</td>\n",
       "    </tr>\n",
       "    <tr>\n",
       "      <th>20</th>\n",
       "      <td>2023-11-15b.766.0</td>\n",
       "      <td>Resolved, That this House do now adjourn.—(Joy...</td>\n",
       "      <td>https://www.theyworkforyou.com/debates/?id=202...</td>\n",
       "      <td>Adjournment</td>\n",
       "      <td>None</td>\n",
       "      <td>None</td>\n",
       "    </tr>\n",
       "  </tbody>\n",
       "</table>\n",
       "</div>"
      ],
      "text/plain": [
       "            debate_id                                     debate_excerpt  \\\n",
       "0   2023-11-15b.629.0  I can now announce the arrangements for the el...   \n",
       "1   2023-11-15b.629.5  What steps she is taking with Cabinet colleagu...   \n",
       "2   2023-11-15b.630.3  What recent discussions she has had with (a) O...   \n",
       "3   2023-11-15b.631.1  What steps her Department is taking to tackle ...   \n",
       "4   2023-11-15b.632.5  What steps the Government are taking to regula...   \n",
       "5   2023-11-15b.633.6  What steps her Department is taking to improve...   \n",
       "6   2023-11-15b.634.4  What steps she is taking with Cabinet colleagu...   \n",
       "7   2023-11-15b.635.5  If she will make a statement on her department...   \n",
       "8   2023-11-15b.638.4  If he will list his official engagements for W...   \n",
       "9   2023-11-15b.642.0  What assessment he has made of recent trends i...   \n",
       "10  2023-11-15b.643.1  Kirklees Council has closed Dewsbury sports ce...   \n",
       "11  2023-11-15b.649.0  With permission, Mr Speaker, I would like to m...   \n",
       "12  2023-11-15b.672.0  On a point of order, Madam Deputy Speaker. It ...   \n",
       "13  2023-11-15b.673.0  I have an announcement to make about the elect...   \n",
       "14  2023-11-15b.674.0                                               None   \n",
       "15  2023-11-15b.674.3  I inform the House that Mr Speaker has selecte...   \n",
       "16  2023-11-15b.764.0                                               None   \n",
       "17  2023-11-15b.764.1  Motion made, and Question put forthwith ( Stan...   \n",
       "18  2023-11-15b.764.5  Ordered, That at the sitting on Thursday 16 No...   \n",
       "19  2023-11-15b.764.7  Thousands of people desperately worried about ...   \n",
       "20  2023-11-15b.766.0  Resolved, That this House do now adjourn.—(Joy...   \n",
       "\n",
       "                                                  url  \\\n",
       "0   https://www.theyworkforyou.com/debates/?id=202...   \n",
       "1   https://www.theyworkforyou.com/debates/?id=202...   \n",
       "2   https://www.theyworkforyou.com/debates/?id=202...   \n",
       "3   https://www.theyworkforyou.com/debates/?id=202...   \n",
       "4   https://www.theyworkforyou.com/debates/?id=202...   \n",
       "5   https://www.theyworkforyou.com/debates/?id=202...   \n",
       "6   https://www.theyworkforyou.com/debates/?id=202...   \n",
       "7   https://www.theyworkforyou.com/debates/?id=202...   \n",
       "8   https://www.theyworkforyou.com/debates/?id=202...   \n",
       "9   https://www.theyworkforyou.com/debates/?id=202...   \n",
       "10  https://www.theyworkforyou.com/debates/?id=202...   \n",
       "11  https://www.theyworkforyou.com/debates/?id=202...   \n",
       "12  https://www.theyworkforyou.com/debates/?id=202...   \n",
       "13  https://www.theyworkforyou.com/debates/?id=202...   \n",
       "14  https://www.theyworkforyou.com/debates/?id=202...   \n",
       "15  https://www.theyworkforyou.com/debates/?id=202...   \n",
       "16  https://www.theyworkforyou.com/debates/?id=202...   \n",
       "17  https://www.theyworkforyou.com/debates/?id=202...   \n",
       "18  https://www.theyworkforyou.com/debates/?id=202...   \n",
       "19  https://www.theyworkforyou.com/debates/?id=202...   \n",
       "20  https://www.theyworkforyou.com/debates/?id=202...   \n",
       "\n",
       "                                                title  \\\n",
       "0                                 Speaker’s Statement   \n",
       "1                                        Online Fraud   \n",
       "2                        Telecoms Network Replacement   \n",
       "3                  AI-generated Content: Social Media   \n",
       "4                                       AI Regulation   \n",
       "5                                  Rural Connectivity   \n",
       "6          Net Zero Technologies: University Research   \n",
       "7                                   Topical Questions   \n",
       "8                                         Engagements   \n",
       "9                      West Midlands: Economic Growth   \n",
       "10                                        Engagements   \n",
       "11                                Illegal Immigration   \n",
       "12                                     Point of Order   \n",
       "13                         Deputy Speaker’s Statement   \n",
       "14                              Debate on the Address   \n",
       "15  Violence Reduction, Policing and Criminal Justice   \n",
       "16                            Business without Debate   \n",
       "17                              Delegated Legislation   \n",
       "18                Business of the House (16 November)   \n",
       "19                    Petition - Energy bills support   \n",
       "20                                        Adjournment   \n",
       "\n",
       "                               section                    section_excerpt  \n",
       "0                                 None                               None  \n",
       "1   Science, Innovation and Technology  The Secretary of State was asked—  \n",
       "2   Science, Innovation and Technology  The Secretary of State was asked—  \n",
       "3   Science, Innovation and Technology  The Secretary of State was asked—  \n",
       "4   Science, Innovation and Technology  The Secretary of State was asked—  \n",
       "5   Science, Innovation and Technology  The Secretary of State was asked—  \n",
       "6   Science, Innovation and Technology  The Secretary of State was asked—  \n",
       "7   Science, Innovation and Technology  The Secretary of State was asked—  \n",
       "8                       Prime Minister      The Prime Minister was asked—  \n",
       "9                       Prime Minister      The Prime Minister was asked—  \n",
       "10                      Prime Minister      The Prime Minister was asked—  \n",
       "11                                None                               None  \n",
       "12                                None                               None  \n",
       "13                                None                               None  \n",
       "14                                None                               None  \n",
       "15                                None                               None  \n",
       "16                                None                               None  \n",
       "17                                None                               None  \n",
       "18                                None                               None  \n",
       "19                                None                               None  \n",
       "20                                None                               None  "
      ]
     },
     "execution_count": 14,
     "metadata": {},
     "output_type": "execute_result"
    }
   ],
   "source": [
    "df_debates = scrape_debate_sections(driver, curr_url)\n",
    "df_debates"
   ]
  },
  {
   "cell_type": "markdown",
   "metadata": {},
   "source": [
    "I won't need Selenium anymore (listen to the lecture to understand why), so I will just close it.\n"
   ]
  },
  {
   "cell_type": "code",
   "execution_count": 15,
   "metadata": {},
   "outputs": [],
   "source": [
    "# Thanks, Selenium. Your time is done.\n",
    "driver.quit()"
   ]
  },
  {
   "cell_type": "markdown",
   "metadata": {},
   "source": [
    "## 1.2 Collect speeches"
   ]
  },
  {
   "cell_type": "code",
   "execution_count": 16,
   "metadata": {},
   "outputs": [],
   "source": [
    "df_speeches = pd.concat([get_speeches(debate_url) for debate_url in df_debates['url']])"
   ]
  },
  {
   "cell_type": "code",
   "execution_count": 17,
   "metadata": {},
   "outputs": [
    {
     "data": {
      "text/html": [
       "<div>\n",
       "<style scoped>\n",
       "    .dataframe tbody tr th:only-of-type {\n",
       "        vertical-align: middle;\n",
       "    }\n",
       "\n",
       "    .dataframe tbody tr th {\n",
       "        vertical-align: top;\n",
       "    }\n",
       "\n",
       "    .dataframe thead th {\n",
       "        text-align: right;\n",
       "    }\n",
       "</style>\n",
       "<table border=\"1\" class=\"dataframe\">\n",
       "  <thead>\n",
       "    <tr style=\"text-align: right;\">\n",
       "      <th></th>\n",
       "      <th>debate_id</th>\n",
       "      <th>speech_id</th>\n",
       "      <th>speaker_id</th>\n",
       "      <th>speaker_position</th>\n",
       "      <th>speech_html</th>\n",
       "      <th>speech_raw_text</th>\n",
       "    </tr>\n",
       "  </thead>\n",
       "  <tbody>\n",
       "    <tr>\n",
       "      <th>0</th>\n",
       "      <td>2023-11-15b.629.0</td>\n",
       "      <td>g629.1</td>\n",
       "      <td>10295</td>\n",
       "      <td>Speaker of the House of Commons, Chair, Speake...</td>\n",
       "      <td>&lt;p pid=\"b629.1/1\"&gt;\\n I can now announce the ar...</td>\n",
       "      <td>I can now announce the arrangements for the el...</td>\n",
       "    </tr>\n",
       "    <tr>\n",
       "      <th>0</th>\n",
       "      <td>2023-11-15b.629.5</td>\n",
       "      <td>g629.6</td>\n",
       "      <td>10580</td>\n",
       "      <td>Conservative, New Forest West</td>\n",
       "      <td>&lt;p pid=\"b629.6/1\" qnum=\"900097\"&gt;\\n What steps ...</td>\n",
       "      <td>What steps she is taking with Cabinet colleagu...</td>\n",
       "    </tr>\n",
       "    <tr>\n",
       "      <th>1</th>\n",
       "      <td>2023-11-15b.629.5</td>\n",
       "      <td>g629.7</td>\n",
       "      <td>25847</td>\n",
       "      <td>Parliamentary Under Secretary of State (Depart...</td>\n",
       "      <td>&lt;p pid=\"b629.7/1\"&gt;\\n Tackling fraud is a prior...</td>\n",
       "      <td>Tackling fraud is a priority for this Governme...</td>\n",
       "    </tr>\n",
       "    <tr>\n",
       "      <th>2</th>\n",
       "      <td>2023-11-15b.629.5</td>\n",
       "      <td>g629.8</td>\n",
       "      <td>10580</td>\n",
       "      <td>Conservative, New Forest West</td>\n",
       "      <td>&lt;p pid=\"b629.8/1\"&gt;\\n What will companies actua...</td>\n",
       "      <td>What will companies actually have to do under ...</td>\n",
       "    </tr>\n",
       "    <tr>\n",
       "      <th>3</th>\n",
       "      <td>2023-11-15b.629.5</td>\n",
       "      <td>g629.9</td>\n",
       "      <td>25847</td>\n",
       "      <td>Parliamentary Under Secretary of State (Depart...</td>\n",
       "      <td>&lt;p pid=\"b629.9/1\"&gt;\\n All companies in scope of...</td>\n",
       "      <td>All companies in scope of the Act will need to...</td>\n",
       "    </tr>\n",
       "  </tbody>\n",
       "</table>\n",
       "</div>"
      ],
      "text/plain": [
       "           debate_id speech_id speaker_id  \\\n",
       "0  2023-11-15b.629.0    g629.1      10295   \n",
       "0  2023-11-15b.629.5    g629.6      10580   \n",
       "1  2023-11-15b.629.5    g629.7      25847   \n",
       "2  2023-11-15b.629.5    g629.8      10580   \n",
       "3  2023-11-15b.629.5    g629.9      25847   \n",
       "\n",
       "                                    speaker_position  \\\n",
       "0  Speaker of the House of Commons, Chair, Speake...   \n",
       "0                      Conservative, New Forest West   \n",
       "1  Parliamentary Under Secretary of State (Depart...   \n",
       "2                      Conservative, New Forest West   \n",
       "3  Parliamentary Under Secretary of State (Depart...   \n",
       "\n",
       "                                         speech_html  \\\n",
       "0  <p pid=\"b629.1/1\">\\n I can now announce the ar...   \n",
       "0  <p pid=\"b629.6/1\" qnum=\"900097\">\\n What steps ...   \n",
       "1  <p pid=\"b629.7/1\">\\n Tackling fraud is a prior...   \n",
       "2  <p pid=\"b629.8/1\">\\n What will companies actua...   \n",
       "3  <p pid=\"b629.9/1\">\\n All companies in scope of...   \n",
       "\n",
       "                                     speech_raw_text  \n",
       "0  I can now announce the arrangements for the el...  \n",
       "0  What steps she is taking with Cabinet colleagu...  \n",
       "1  Tackling fraud is a priority for this Governme...  \n",
       "2  What will companies actually have to do under ...  \n",
       "3  All companies in scope of the Act will need to...  "
      ]
     },
     "execution_count": 17,
     "metadata": {},
     "output_type": "execute_result"
    }
   ],
   "source": [
    "df_speeches.head()"
   ]
  },
  {
   "cell_type": "markdown",
   "metadata": {},
   "source": [
    "# 2. Automated data collection\n",
    "\n",
    "(For explanation, watch the lecture)"
   ]
  },
  {
   "cell_type": "code",
   "execution_count": 18,
   "metadata": {},
   "outputs": [
    {
     "data": {
      "text/plain": [
       "['https://www.theyworkforyou.com/debates/?d=2023-11-01',\n",
       " 'https://www.theyworkforyou.com/debates/?d=2023-11-02',\n",
       " 'https://www.theyworkforyou.com/debates/?d=2023-11-03',\n",
       " 'https://www.theyworkforyou.com/debates/?d=2023-11-04',\n",
       " 'https://www.theyworkforyou.com/debates/?d=2023-11-05',\n",
       " 'https://www.theyworkforyou.com/debates/?d=2023-11-06',\n",
       " 'https://www.theyworkforyou.com/debates/?d=2023-11-07',\n",
       " 'https://www.theyworkforyou.com/debates/?d=2023-11-08',\n",
       " 'https://www.theyworkforyou.com/debates/?d=2023-11-09',\n",
       " 'https://www.theyworkforyou.com/debates/?d=2023-11-10',\n",
       " 'https://www.theyworkforyou.com/debates/?d=2023-11-11',\n",
       " 'https://www.theyworkforyou.com/debates/?d=2023-11-12',\n",
       " 'https://www.theyworkforyou.com/debates/?d=2023-11-13',\n",
       " 'https://www.theyworkforyou.com/debates/?d=2023-11-14',\n",
       " 'https://www.theyworkforyou.com/debates/?d=2023-11-15',\n",
       " 'https://www.theyworkforyou.com/debates/?d=2023-11-16',\n",
       " 'https://www.theyworkforyou.com/debates/?d=2023-11-17',\n",
       " 'https://www.theyworkforyou.com/debates/?d=2023-11-18',\n",
       " 'https://www.theyworkforyou.com/debates/?d=2023-11-19',\n",
       " 'https://www.theyworkforyou.com/debates/?d=2023-11-20',\n",
       " 'https://www.theyworkforyou.com/debates/?d=2023-11-21',\n",
       " 'https://www.theyworkforyou.com/debates/?d=2023-11-22',\n",
       " 'https://www.theyworkforyou.com/debates/?d=2023-11-23',\n",
       " 'https://www.theyworkforyou.com/debates/?d=2023-11-24',\n",
       " 'https://www.theyworkforyou.com/debates/?d=2023-11-25',\n",
       " 'https://www.theyworkforyou.com/debates/?d=2023-11-26',\n",
       " 'https://www.theyworkforyou.com/debates/?d=2023-11-27',\n",
       " 'https://www.theyworkforyou.com/debates/?d=2023-11-28',\n",
       " 'https://www.theyworkforyou.com/debates/?d=2023-11-29']"
      ]
     },
     "execution_count": 18,
     "metadata": {},
     "output_type": "execute_result"
    }
   ],
   "source": [
    "start_date = datetime(2023, 11, 1)\n",
    "end_date = datetime(2023, 11, 29)\n",
    "\n",
    "all_urls = [build_url(date_obj) for date_obj in pd.date_range(start_date, end_date)]\n",
    "all_urls"
   ]
  },
  {
   "cell_type": "code",
   "execution_count": 19,
   "metadata": {},
   "outputs": [
    {
     "data": {
      "application/vnd.jupyter.widget-view+json": {
       "model_id": "9fac7005c926450fb3e978e19c33c1bf",
       "version_major": 2,
       "version_minor": 0
      },
      "text/plain": [
       "  0%|          | 0/29 [00:00<?, ?it/s]"
      ]
     },
     "metadata": {},
     "output_type": "display_data"
    }
   ],
   "source": [
    "driver = webdriver.Firefox()\n",
    "\n",
    "df_debates = pd.concat([scrape_debate_sections(driver, url) for url in tqdm.tqdm(all_urls)])\n",
    "\n",
    "driver.quit()"
   ]
  },
  {
   "cell_type": "code",
   "execution_count": 20,
   "metadata": {},
   "outputs": [],
   "source": [
    "driver.quit()"
   ]
  },
  {
   "cell_type": "code",
   "execution_count": 21,
   "metadata": {},
   "outputs": [
    {
     "data": {
      "text/plain": [
       "(322, 6)"
      ]
     },
     "execution_count": 21,
     "metadata": {},
     "output_type": "execute_result"
    }
   ],
   "source": [
    "df_debates.shape"
   ]
  },
  {
   "cell_type": "code",
   "execution_count": 22,
   "metadata": {},
   "outputs": [
    {
     "data": {
      "text/html": [
       "<div>\n",
       "<style scoped>\n",
       "    .dataframe tbody tr th:only-of-type {\n",
       "        vertical-align: middle;\n",
       "    }\n",
       "\n",
       "    .dataframe tbody tr th {\n",
       "        vertical-align: top;\n",
       "    }\n",
       "\n",
       "    .dataframe thead th {\n",
       "        text-align: right;\n",
       "    }\n",
       "</style>\n",
       "<table border=\"1\" class=\"dataframe\">\n",
       "  <thead>\n",
       "    <tr style=\"text-align: right;\">\n",
       "      <th></th>\n",
       "      <th>debate_id</th>\n",
       "      <th>debate_excerpt</th>\n",
       "      <th>url</th>\n",
       "      <th>title</th>\n",
       "      <th>section</th>\n",
       "      <th>section_excerpt</th>\n",
       "    </tr>\n",
       "  </thead>\n",
       "  <tbody>\n",
       "    <tr>\n",
       "      <th>29</th>\n",
       "      <td>2023-11-28b.807.0</td>\n",
       "      <td>Motion made, and Question proposed, That this ...</td>\n",
       "      <td>https://www.theyworkforyou.com/debates/?id=202...</td>\n",
       "      <td>Tattoo Artists, Body Piercers and Cosmetic Cli...</td>\n",
       "      <td>None</td>\n",
       "      <td>None</td>\n",
       "    </tr>\n",
       "    <tr>\n",
       "      <th>0</th>\n",
       "      <td>2023-11-29a.815.3</td>\n",
       "      <td>What discussions he has had with Cabinet colle...</td>\n",
       "      <td>https://www.theyworkforyou.com/debates/?id=202...</td>\n",
       "      <td>Food Supply Chains</td>\n",
       "      <td>Scotland</td>\n",
       "      <td>The Secretary of State was asked—</td>\n",
       "    </tr>\n",
       "    <tr>\n",
       "      <th>1</th>\n",
       "      <td>2023-11-29a.816.1</td>\n",
       "      <td>What discussions he has had with Cabinet colle...</td>\n",
       "      <td>https://www.theyworkforyou.com/debates/?id=202...</td>\n",
       "      <td>Post Office Branch Closures</td>\n",
       "      <td>Scotland</td>\n",
       "      <td>The Secretary of State was asked—</td>\n",
       "    </tr>\n",
       "    <tr>\n",
       "      <th>2</th>\n",
       "      <td>2023-11-29a.817.2</td>\n",
       "      <td>What assessment he has made of the state of de...</td>\n",
       "      <td>https://www.theyworkforyou.com/debates/?id=202...</td>\n",
       "      <td>Devolution in Scotland</td>\n",
       "      <td>Scotland</td>\n",
       "      <td>The Secretary of State was asked—</td>\n",
       "    </tr>\n",
       "    <tr>\n",
       "      <th>3</th>\n",
       "      <td>2023-11-29a.820.0</td>\n",
       "      <td>If he will have discussions with Cabinet colle...</td>\n",
       "      <td>https://www.theyworkforyou.com/debates/?id=202...</td>\n",
       "      <td>Employment Law: Devolution</td>\n",
       "      <td>Scotland</td>\n",
       "      <td>The Secretary of State was asked—</td>\n",
       "    </tr>\n",
       "    <tr>\n",
       "      <th>4</th>\n",
       "      <td>2023-11-29a.820.7</td>\n",
       "      <td>If he will make an assessment with Cabinet col...</td>\n",
       "      <td>https://www.theyworkforyou.com/debates/?id=202...</td>\n",
       "      <td>Scottish Work Visa Scheme</td>\n",
       "      <td>Scotland</td>\n",
       "      <td>The Secretary of State was asked—</td>\n",
       "    </tr>\n",
       "    <tr>\n",
       "      <th>5</th>\n",
       "      <td>2023-11-29a.822.6</td>\n",
       "      <td>What recent discussions he has had with the Sc...</td>\n",
       "      <td>https://www.theyworkforyou.com/debates/?id=202...</td>\n",
       "      <td>Carbon Capture, Utilisation and Storage</td>\n",
       "      <td>Scotland</td>\n",
       "      <td>The Secretary of State was asked—</td>\n",
       "    </tr>\n",
       "    <tr>\n",
       "      <th>6</th>\n",
       "      <td>2023-11-29a.823.1</td>\n",
       "      <td>Whether his Department has had recent discussi...</td>\n",
       "      <td>https://www.theyworkforyou.com/debates/?id=202...</td>\n",
       "      <td>Productive Forestry Planting</td>\n",
       "      <td>Scotland</td>\n",
       "      <td>The Secretary of State was asked—</td>\n",
       "    </tr>\n",
       "    <tr>\n",
       "      <th>7</th>\n",
       "      <td>2023-11-29a.823.8</td>\n",
       "      <td>What recent discussions he has had with Cabine...</td>\n",
       "      <td>https://www.theyworkforyou.com/debates/?id=202...</td>\n",
       "      <td>Promoting Scotland's Interests Abroad</td>\n",
       "      <td>Scotland</td>\n",
       "      <td>The Secretary of State was asked—</td>\n",
       "    </tr>\n",
       "    <tr>\n",
       "      <th>8</th>\n",
       "      <td>2023-11-29a.824.9</td>\n",
       "      <td>If he will list his official engagements for W...</td>\n",
       "      <td>https://www.theyworkforyou.com/debates/?id=202...</td>\n",
       "      <td>Engagements</td>\n",
       "      <td>Prime Minister</td>\n",
       "      <td>The Prime Minister was asked—</td>\n",
       "    </tr>\n",
       "    <tr>\n",
       "      <th>9</th>\n",
       "      <td>2023-11-29a.837.0</td>\n",
       "      <td>(Urgent Question): To ask the Secretary of Sta...</td>\n",
       "      <td>https://www.theyworkforyou.com/debates/?id=202...</td>\n",
       "      <td>Cop28</td>\n",
       "      <td>None</td>\n",
       "      <td>None</td>\n",
       "    </tr>\n",
       "    <tr>\n",
       "      <th>10</th>\n",
       "      <td>2023-11-29a.846.0</td>\n",
       "      <td>On a point of order, Madam Deputy Speaker. I w...</td>\n",
       "      <td>https://www.theyworkforyou.com/debates/?id=202...</td>\n",
       "      <td>Points of Order</td>\n",
       "      <td>None</td>\n",
       "      <td>None</td>\n",
       "    </tr>\n",
       "    <tr>\n",
       "      <th>11</th>\n",
       "      <td>2023-11-29a.847.5</td>\n",
       "      <td>None</td>\n",
       "      <td>https://www.theyworkforyou.com/debates/?id=202...</td>\n",
       "      <td>Bill Presented</td>\n",
       "      <td>None</td>\n",
       "      <td>None</td>\n",
       "    </tr>\n",
       "    <tr>\n",
       "      <th>12</th>\n",
       "      <td>2023-11-29a.848.0</td>\n",
       "      <td>Bill to be considered</td>\n",
       "      <td>https://www.theyworkforyou.com/debates/?id=202...</td>\n",
       "      <td>Data Protection and Digital Information Bill</td>\n",
       "      <td>None</td>\n",
       "      <td>None</td>\n",
       "    </tr>\n",
       "    <tr>\n",
       "      <th>13</th>\n",
       "      <td>2023-11-29a.1019.0</td>\n",
       "      <td>None</td>\n",
       "      <td>https://www.theyworkforyou.com/debates/?id=202...</td>\n",
       "      <td>Business without Debate</td>\n",
       "      <td>None</td>\n",
       "      <td>None</td>\n",
       "    </tr>\n",
       "    <tr>\n",
       "      <th>14</th>\n",
       "      <td>2023-11-29a.1019.1</td>\n",
       "      <td>Motion made, and Question put forthwith ( Stan...</td>\n",
       "      <td>https://www.theyworkforyou.com/debates/?id=202...</td>\n",
       "      <td>Delegated Legislation</td>\n",
       "      <td>None</td>\n",
       "      <td>None</td>\n",
       "    </tr>\n",
       "    <tr>\n",
       "      <th>15</th>\n",
       "      <td>2023-11-29a.1020.2</td>\n",
       "      <td>Ordered, That Private Members’ Bills shall hav...</td>\n",
       "      <td>https://www.theyworkforyou.com/debates/?id=202...</td>\n",
       "      <td>Business of the House (Private Members’ Bills)</td>\n",
       "      <td>None</td>\n",
       "      <td>None</td>\n",
       "    </tr>\n",
       "    <tr>\n",
       "      <th>16</th>\n",
       "      <td>2023-11-29a.1020.4</td>\n",
       "      <td>6.17 pm</td>\n",
       "      <td>https://www.theyworkforyou.com/debates/?id=202...</td>\n",
       "      <td>Petition - Ceasefire in Palestine</td>\n",
       "      <td>None</td>\n",
       "      <td>None</td>\n",
       "    </tr>\n",
       "    <tr>\n",
       "      <th>17</th>\n",
       "      <td>2023-11-29a.1021.0</td>\n",
       "      <td>Motion made, and Question proposed, That this ...</td>\n",
       "      <td>https://www.theyworkforyou.com/debates/?id=202...</td>\n",
       "      <td>Refugee Family Reunion Routes: Sudan</td>\n",
       "      <td>None</td>\n",
       "      <td>None</td>\n",
       "    </tr>\n",
       "    <tr>\n",
       "      <th>18</th>\n",
       "      <td>2023-11-29a.1033.0</td>\n",
       "      <td>None</td>\n",
       "      <td>https://www.theyworkforyou.com/debates/?id=202...</td>\n",
       "      <td>Deferred Division</td>\n",
       "      <td>None</td>\n",
       "      <td>None</td>\n",
       "    </tr>\n",
       "  </tbody>\n",
       "</table>\n",
       "</div>"
      ],
      "text/plain": [
       "             debate_id                                     debate_excerpt  \\\n",
       "29   2023-11-28b.807.0  Motion made, and Question proposed, That this ...   \n",
       "0    2023-11-29a.815.3  What discussions he has had with Cabinet colle...   \n",
       "1    2023-11-29a.816.1  What discussions he has had with Cabinet colle...   \n",
       "2    2023-11-29a.817.2  What assessment he has made of the state of de...   \n",
       "3    2023-11-29a.820.0  If he will have discussions with Cabinet colle...   \n",
       "4    2023-11-29a.820.7  If he will make an assessment with Cabinet col...   \n",
       "5    2023-11-29a.822.6  What recent discussions he has had with the Sc...   \n",
       "6    2023-11-29a.823.1  Whether his Department has had recent discussi...   \n",
       "7    2023-11-29a.823.8  What recent discussions he has had with Cabine...   \n",
       "8    2023-11-29a.824.9  If he will list his official engagements for W...   \n",
       "9    2023-11-29a.837.0  (Urgent Question): To ask the Secretary of Sta...   \n",
       "10   2023-11-29a.846.0  On a point of order, Madam Deputy Speaker. I w...   \n",
       "11   2023-11-29a.847.5                                               None   \n",
       "12   2023-11-29a.848.0                              Bill to be considered   \n",
       "13  2023-11-29a.1019.0                                               None   \n",
       "14  2023-11-29a.1019.1  Motion made, and Question put forthwith ( Stan...   \n",
       "15  2023-11-29a.1020.2  Ordered, That Private Members’ Bills shall hav...   \n",
       "16  2023-11-29a.1020.4                                            6.17 pm   \n",
       "17  2023-11-29a.1021.0  Motion made, and Question proposed, That this ...   \n",
       "18  2023-11-29a.1033.0                                               None   \n",
       "\n",
       "                                                  url  \\\n",
       "29  https://www.theyworkforyou.com/debates/?id=202...   \n",
       "0   https://www.theyworkforyou.com/debates/?id=202...   \n",
       "1   https://www.theyworkforyou.com/debates/?id=202...   \n",
       "2   https://www.theyworkforyou.com/debates/?id=202...   \n",
       "3   https://www.theyworkforyou.com/debates/?id=202...   \n",
       "4   https://www.theyworkforyou.com/debates/?id=202...   \n",
       "5   https://www.theyworkforyou.com/debates/?id=202...   \n",
       "6   https://www.theyworkforyou.com/debates/?id=202...   \n",
       "7   https://www.theyworkforyou.com/debates/?id=202...   \n",
       "8   https://www.theyworkforyou.com/debates/?id=202...   \n",
       "9   https://www.theyworkforyou.com/debates/?id=202...   \n",
       "10  https://www.theyworkforyou.com/debates/?id=202...   \n",
       "11  https://www.theyworkforyou.com/debates/?id=202...   \n",
       "12  https://www.theyworkforyou.com/debates/?id=202...   \n",
       "13  https://www.theyworkforyou.com/debates/?id=202...   \n",
       "14  https://www.theyworkforyou.com/debates/?id=202...   \n",
       "15  https://www.theyworkforyou.com/debates/?id=202...   \n",
       "16  https://www.theyworkforyou.com/debates/?id=202...   \n",
       "17  https://www.theyworkforyou.com/debates/?id=202...   \n",
       "18  https://www.theyworkforyou.com/debates/?id=202...   \n",
       "\n",
       "                                                title         section  \\\n",
       "29  Tattoo Artists, Body Piercers and Cosmetic Cli...            None   \n",
       "0                                  Food Supply Chains        Scotland   \n",
       "1                         Post Office Branch Closures        Scotland   \n",
       "2                              Devolution in Scotland        Scotland   \n",
       "3                          Employment Law: Devolution        Scotland   \n",
       "4                           Scottish Work Visa Scheme        Scotland   \n",
       "5             Carbon Capture, Utilisation and Storage        Scotland   \n",
       "6                        Productive Forestry Planting        Scotland   \n",
       "7               Promoting Scotland's Interests Abroad        Scotland   \n",
       "8                                         Engagements  Prime Minister   \n",
       "9                                               Cop28            None   \n",
       "10                                    Points of Order            None   \n",
       "11                                     Bill Presented            None   \n",
       "12       Data Protection and Digital Information Bill            None   \n",
       "13                            Business without Debate            None   \n",
       "14                              Delegated Legislation            None   \n",
       "15     Business of the House (Private Members’ Bills)            None   \n",
       "16                  Petition - Ceasefire in Palestine            None   \n",
       "17               Refugee Family Reunion Routes: Sudan            None   \n",
       "18                                  Deferred Division            None   \n",
       "\n",
       "                      section_excerpt  \n",
       "29                               None  \n",
       "0   The Secretary of State was asked—  \n",
       "1   The Secretary of State was asked—  \n",
       "2   The Secretary of State was asked—  \n",
       "3   The Secretary of State was asked—  \n",
       "4   The Secretary of State was asked—  \n",
       "5   The Secretary of State was asked—  \n",
       "6   The Secretary of State was asked—  \n",
       "7   The Secretary of State was asked—  \n",
       "8       The Prime Minister was asked—  \n",
       "9                                None  \n",
       "10                               None  \n",
       "11                               None  \n",
       "12                               None  \n",
       "13                               None  \n",
       "14                               None  \n",
       "15                               None  \n",
       "16                               None  \n",
       "17                               None  \n",
       "18                               None  "
      ]
     },
     "execution_count": 22,
     "metadata": {},
     "output_type": "execute_result"
    }
   ],
   "source": [
    "df_debates.tail(20)"
   ]
  },
  {
   "cell_type": "markdown",
   "metadata": {},
   "source": [
    "**Get speeches of all debates**"
   ]
  },
  {
   "cell_type": "code",
   "execution_count": 23,
   "metadata": {},
   "outputs": [
    {
     "data": {
      "application/vnd.jupyter.widget-view+json": {
       "model_id": "4cb675be2f5443b0bf6e7046d1604e54",
       "version_major": 2,
       "version_minor": 0
      },
      "text/plain": [
       "  0%|          | 0/322 [00:00<?, ?it/s]"
      ]
     },
     "metadata": {},
     "output_type": "display_data"
    }
   ],
   "source": [
    "df_speeches = pd.concat([get_speeches(debate_url) for debate_url in tqdm.tqdm(df_debates['url'])])"
   ]
  },
  {
   "cell_type": "code",
   "execution_count": 24,
   "metadata": {},
   "outputs": [
    {
     "data": {
      "text/plain": [
       "(4309, 6)"
      ]
     },
     "execution_count": 24,
     "metadata": {},
     "output_type": "execute_result"
    }
   ],
   "source": [
    "df_speeches.shape"
   ]
  },
  {
   "cell_type": "markdown",
   "metadata": {},
   "source": [
    "# 3. Databases\n",
    "\n",
    "(For explanation, watch the lecture)"
   ]
  },
  {
   "cell_type": "code",
   "execution_count": 25,
   "metadata": {},
   "outputs": [
    {
     "data": {
      "text/plain": [
       "debate_id              18\n",
       "speech_id               7\n",
       "speaker_id              5\n",
       "speaker_position      531\n",
       "speech_html         53137\n",
       "speech_raw_text     42564\n",
       "dtype: int64"
      ]
     },
     "execution_count": 25,
     "metadata": {},
     "output_type": "execute_result"
    }
   ],
   "source": [
    "# A little trick to find out how big to set my VARCHAR columns in the database.\n",
    "df_speeches.apply(lambda x: max([len(xx) for xx in x]), axis=0)"
   ]
  },
  {
   "cell_type": "code",
   "execution_count": 26,
   "metadata": {},
   "outputs": [
    {
     "name": "stdout",
     "output_type": "stream",
     "text": [
      "CREATE TABLE \"speeches\" (\n",
      "\"debate_id\" TEXT,\n",
      "  \"speech_id\" TEXT,\n",
      "  \"speaker_id\" TEXT,\n",
      "  \"speaker_position\" TEXT,\n",
      "  \"speech_html\" TEXT,\n",
      "  \"speech_raw_text\" TEXT\n",
      ")\n"
     ]
    }
   ],
   "source": [
    "# Get a template schema to start with.\n",
    "print(pd.io.sql.get_schema(df_speeches, 'speeches'))"
   ]
  },
  {
   "cell_type": "markdown",
   "metadata": {},
   "source": [
    "## 3.1 Create database and tables\n",
    "\n",
    "Create a database from within Python:"
   ]
  },
  {
   "cell_type": "code",
   "execution_count": 27,
   "metadata": {},
   "outputs": [],
   "source": [
    "# Create a database engine using SQLAlchemy\n",
    "engine = create_engine('sqlite:///../data/discordia.db', echo=False)\n",
    "\n",
    "# Why? Read: https://stackoverflow.com/a/71685414/843365\n",
    "with engine.connect() as conn:\n",
    "    pass"
   ]
  },
  {
   "cell_type": "code",
   "execution_count": 28,
   "metadata": {},
   "outputs": [
    {
     "data": {
      "text/html": [
       "<span style=\"None\">Connecting to &#x27;discordia&#x27;</span>"
      ],
      "text/plain": [
       "Connecting to 'discordia'"
      ]
     },
     "metadata": {},
     "output_type": "display_data"
    }
   ],
   "source": [
    "%sql sqlite:///../data/discordia.db --alias discordia"
   ]
  },
  {
   "cell_type": "markdown",
   "metadata": {},
   "source": [
    "**Create debates table with controlled data types**\n",
    "\n",
    "TABLE `debates`"
   ]
  },
  {
   "cell_type": "code",
   "execution_count": 29,
   "metadata": {
    "vscode": {
     "languageId": "sql"
    }
   },
   "outputs": [
    {
     "data": {
      "text/html": [
       "<table>\n",
       "    <thead>\n",
       "        <tr>\n",
       "        </tr>\n",
       "    </thead>\n",
       "    <tbody>\n",
       "    </tbody>\n",
       "</table>"
      ],
      "text/plain": [
       "++\n",
       "||\n",
       "++\n",
       "++"
      ]
     },
     "execution_count": 29,
     "metadata": {},
     "output_type": "execute_result"
    }
   ],
   "source": [
    "%%sql discordia\n",
    "\n",
    "CREATE TABLE debates (\n",
    "    \"debate_id\" VARCHAR(20),\n",
    "    \"debate_excerpt\" TEXT,\n",
    "    \"url\" VARCHAR(100),\n",
    "    \"title\" VARCHAR(100),\n",
    "    \"section\" VARCHAR(100),\n",
    "    \"section_excerpt\" TEXT\n",
    ")\n"
   ]
  },
  {
   "cell_type": "markdown",
   "metadata": {},
   "source": [
    "TABLE `speeches`"
   ]
  },
  {
   "cell_type": "code",
   "execution_count": 30,
   "metadata": {
    "vscode": {
     "languageId": "sql"
    }
   },
   "outputs": [
    {
     "data": {
      "text/html": [
       "<table>\n",
       "    <thead>\n",
       "        <tr>\n",
       "        </tr>\n",
       "    </thead>\n",
       "    <tbody>\n",
       "    </tbody>\n",
       "</table>"
      ],
      "text/plain": [
       "++\n",
       "||\n",
       "++\n",
       "++"
      ]
     },
     "execution_count": 30,
     "metadata": {},
     "output_type": "execute_result"
    }
   ],
   "source": [
    "%%sql discordia\n",
    "\n",
    "CREATE TABLE \"speeches\" (\n",
    "    \"debate_id\" VARCHAR(20),\n",
    "    \"speech_id\" VARCHAR(10),\n",
    "    \"speaker_id\" CHAR(5),\n",
    "    \"speaker_position\" TEXT,\n",
    "    \"speech_html\" TEXT,\n",
    "    \"speech_raw_text\" TEXT\n",
    ")"
   ]
  },
  {
   "cell_type": "markdown",
   "metadata": {},
   "source": [
    "**Move data to database**"
   ]
  },
  {
   "cell_type": "code",
   "execution_count": 31,
   "metadata": {
    "vscode": {
     "languageId": "sql"
    }
   },
   "outputs": [
    {
     "data": {
      "text/plain": [
       "4309"
      ]
     },
     "execution_count": 31,
     "metadata": {},
     "output_type": "execute_result"
    }
   ],
   "source": [
    "df_debates.to_sql('debates', engine, if_exists='append', index=False)\n",
    "df_speeches.to_sql('speeches', engine, if_exists='append', index=False)"
   ]
  },
  {
   "cell_type": "markdown",
   "metadata": {},
   "source": [
    "## 3.2 Read from SQL"
   ]
  },
  {
   "cell_type": "code",
   "execution_count": 32,
   "metadata": {
    "vscode": {
     "languageId": "sql"
    }
   },
   "outputs": [
    {
     "data": {
      "text/html": [
       "<div>\n",
       "<style scoped>\n",
       "    .dataframe tbody tr th:only-of-type {\n",
       "        vertical-align: middle;\n",
       "    }\n",
       "\n",
       "    .dataframe tbody tr th {\n",
       "        vertical-align: top;\n",
       "    }\n",
       "\n",
       "    .dataframe thead th {\n",
       "        text-align: right;\n",
       "    }\n",
       "</style>\n",
       "<table border=\"1\" class=\"dataframe\">\n",
       "  <thead>\n",
       "    <tr style=\"text-align: right;\">\n",
       "      <th></th>\n",
       "      <th>num_speeches</th>\n",
       "    </tr>\n",
       "  </thead>\n",
       "  <tbody>\n",
       "    <tr>\n",
       "      <th>0</th>\n",
       "      <td>4309</td>\n",
       "    </tr>\n",
       "  </tbody>\n",
       "</table>\n",
       "</div>"
      ],
      "text/plain": [
       "   num_speeches\n",
       "0          4309"
      ]
     },
     "execution_count": 32,
     "metadata": {},
     "output_type": "execute_result"
    }
   ],
   "source": [
    "query = \"\"\"\n",
    "SELECT COUNT(*) as num_speeches FROM speeches\n",
    "\"\"\"\n",
    "\n",
    "pd.read_sql(query, engine)"
   ]
  },
  {
   "cell_type": "markdown",
   "metadata": {},
   "source": [
    "## 3.3 pandas vs SQL"
   ]
  },
  {
   "cell_type": "markdown",
   "metadata": {},
   "source": [
    "Question: How many utterances were said by each speaker?"
   ]
  },
  {
   "cell_type": "code",
   "execution_count": 33,
   "metadata": {},
   "outputs": [
    {
     "data": {
      "text/html": [
       "<div>\n",
       "<style scoped>\n",
       "    .dataframe tbody tr th:only-of-type {\n",
       "        vertical-align: middle;\n",
       "    }\n",
       "\n",
       "    .dataframe tbody tr th {\n",
       "        vertical-align: top;\n",
       "    }\n",
       "\n",
       "    .dataframe thead th {\n",
       "        text-align: right;\n",
       "    }\n",
       "</style>\n",
       "<table border=\"1\" class=\"dataframe\">\n",
       "  <thead>\n",
       "    <tr style=\"text-align: right;\">\n",
       "      <th></th>\n",
       "      <th>speaker_id</th>\n",
       "      <th>num_utterances</th>\n",
       "    </tr>\n",
       "  </thead>\n",
       "  <tbody>\n",
       "    <tr>\n",
       "      <th>0</th>\n",
       "      <td>11115</td>\n",
       "      <td>233</td>\n",
       "    </tr>\n",
       "    <tr>\n",
       "      <th>1</th>\n",
       "      <td>10295</td>\n",
       "      <td>188</td>\n",
       "    </tr>\n",
       "    <tr>\n",
       "      <th>2</th>\n",
       "      <td>25376</td>\n",
       "      <td>100</td>\n",
       "    </tr>\n",
       "    <tr>\n",
       "      <th>3</th>\n",
       "      <td>24938</td>\n",
       "      <td>97</td>\n",
       "    </tr>\n",
       "    <tr>\n",
       "      <th>4</th>\n",
       "      <td>25428</td>\n",
       "      <td>96</td>\n",
       "    </tr>\n",
       "    <tr>\n",
       "      <th>5</th>\n",
       "      <td>11859</td>\n",
       "      <td>85</td>\n",
       "    </tr>\n",
       "    <tr>\n",
       "      <th>6</th>\n",
       "      <td>10648</td>\n",
       "      <td>63</td>\n",
       "    </tr>\n",
       "    <tr>\n",
       "      <th>7</th>\n",
       "      <td>13864</td>\n",
       "      <td>56</td>\n",
       "    </tr>\n",
       "    <tr>\n",
       "      <th>8</th>\n",
       "      <td>25227</td>\n",
       "      <td>53</td>\n",
       "    </tr>\n",
       "    <tr>\n",
       "      <th>9</th>\n",
       "      <td>25806</td>\n",
       "      <td>50</td>\n",
       "    </tr>\n",
       "  </tbody>\n",
       "</table>\n",
       "</div>"
      ],
      "text/plain": [
       "  speaker_id  num_utterances\n",
       "0      11115             233\n",
       "1      10295             188\n",
       "2      25376             100\n",
       "3      24938              97\n",
       "4      25428              96\n",
       "5      11859              85\n",
       "6      10648              63\n",
       "7      13864              56\n",
       "8      25227              53\n",
       "9      25806              50"
      ]
     },
     "execution_count": 33,
     "metadata": {},
     "output_type": "execute_result"
    }
   ],
   "source": [
    "(\n",
    "    df_speeches.groupby('speaker_id')\n",
    "               .apply(lambda x: pd.Series({'num_utterances': len(x)}))\n",
    "               .sort_values('num_utterances', ascending=False)\n",
    "               .reset_index()\n",
    "               .head(10)\n",
    ")"
   ]
  },
  {
   "cell_type": "code",
   "execution_count": 34,
   "metadata": {
    "vscode": {
     "languageId": "sql"
    }
   },
   "outputs": [
    {
     "data": {
      "text/html": [
       "<table>\n",
       "    <thead>\n",
       "        <tr>\n",
       "            <th>speaker_id</th>\n",
       "            <th>num_utterances</th>\n",
       "        </tr>\n",
       "    </thead>\n",
       "    <tbody>\n",
       "        <tr>\n",
       "            <td>11115</td>\n",
       "            <td>233</td>\n",
       "        </tr>\n",
       "        <tr>\n",
       "            <td>10295</td>\n",
       "            <td>188</td>\n",
       "        </tr>\n",
       "        <tr>\n",
       "            <td>25376</td>\n",
       "            <td>100</td>\n",
       "        </tr>\n",
       "        <tr>\n",
       "            <td>24938</td>\n",
       "            <td>97</td>\n",
       "        </tr>\n",
       "        <tr>\n",
       "            <td>25428</td>\n",
       "            <td>96</td>\n",
       "        </tr>\n",
       "        <tr>\n",
       "            <td>11859</td>\n",
       "            <td>85</td>\n",
       "        </tr>\n",
       "        <tr>\n",
       "            <td>10648</td>\n",
       "            <td>63</td>\n",
       "        </tr>\n",
       "        <tr>\n",
       "            <td>13864</td>\n",
       "            <td>56</td>\n",
       "        </tr>\n",
       "        <tr>\n",
       "            <td>25227</td>\n",
       "            <td>53</td>\n",
       "        </tr>\n",
       "        <tr>\n",
       "            <td>25806</td>\n",
       "            <td>50</td>\n",
       "        </tr>\n",
       "    </tbody>\n",
       "</table>\n",
       "<span style=\"font-style:italic;text-align:center;\">Truncated to <a href=\"https://jupysql.ploomber.io/en/latest/api/configuration.html#displaylimit\">displaylimit</a> of 10.</span>"
      ],
      "text/plain": [
       "+------------+----------------+\n",
       "| speaker_id | num_utterances |\n",
       "+------------+----------------+\n",
       "|   11115    |      233       |\n",
       "|   10295    |      188       |\n",
       "|   25376    |      100       |\n",
       "|   24938    |       97       |\n",
       "|   25428    |       96       |\n",
       "|   11859    |       85       |\n",
       "|   10648    |       63       |\n",
       "|   13864    |       56       |\n",
       "|   25227    |       53       |\n",
       "|   25806    |       50       |\n",
       "+------------+----------------+\n",
       "Truncated to displaylimit of 10."
      ]
     },
     "execution_count": 34,
     "metadata": {},
     "output_type": "execute_result"
    }
   ],
   "source": [
    "%%sql discordia\n",
    "\n",
    "-- How many utterances were said by each speaker?\n",
    "SELECT \n",
    "    speaker_id, \n",
    "    COUNT(*) AS num_utterances \n",
    "FROM \n",
    "    speeches \n",
    "GROUP BY speaker_id\n",
    "ORDER BY\n",
    "    num_utterances DESC\n",
    "LIMIT 10"
   ]
  }
 ],
 "metadata": {
  "kernelspec": {
   "display_name": "ds105-w10",
   "language": "python",
   "name": "python3"
  },
  "language_info": {
   "codemirror_mode": {
    "name": "ipython",
    "version": 3
   },
   "file_extension": ".py",
   "mimetype": "text/x-python",
   "name": "python",
   "nbconvert_exporter": "python",
   "pygments_lexer": "ipython3",
   "version": "3.9.18"
  }
 },
 "nbformat": 4,
 "nbformat_minor": 2
}
