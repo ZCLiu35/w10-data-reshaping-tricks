{
 "cells": [
  {
   "cell_type": "markdown",
   "metadata": {},
   "source": [
    "LSE Data Science Institute | DISCORDIA project\n",
    "\n",
    "# Scraping House of Commons debates\n",
    "\n",
    "\n",
    "**LAST UPDATED:** 5 December 2023\n",
    "\n",
    "**AUTHORS:** [@jonjoncardoso](https://jonjoncardoso.github.io)\n",
    "\n",
    "**TODO list:**\n",
    "\n",
    "- [x] Freely explore the debates (using the current dataset with debates from 1 Jan 2023 to 30 Nov 2023)\n",
    "- [x] Explore: are there cases of dissent in the current dataset? \n",
    "\n",
    "---"
   ]
  },
  {
   "cell_type": "markdown",
   "metadata": {},
   "source": [
    "# ⚙️ SETUP\n",
    "\n",
    "## Imports"
   ]
  },
  {
   "cell_type": "code",
   "execution_count": 6,
   "metadata": {},
   "outputs": [],
   "source": [
    "import os\n",
    "import re\n",
    "import sys\n",
    "import sqlalchemy\n",
    "\n",
    "import numpy as np\n",
    "import pandas as pd\n",
    "\n",
    "from tqdm.notebook import tqdm\n",
    "tqdm.pandas()\n",
    "\n",
    "from datetime import datetime\n",
    "from selenium import webdriver\n",
    "\n",
    "from sqlalchemy import create_engine\n",
    "\n",
    "%matplotlib inline\n",
    "from plotnine import *\n",
    "from mizani.formatters import percent_format"
   ]
  },
  {
   "cell_type": "code",
   "execution_count": 7,
   "metadata": {},
   "outputs": [
    {
     "name": "stdout",
     "output_type": "stream",
     "text": [
      "The autoreload extension is already loaded. To reload it, use:\n",
      "  %reload_ext autoreload\n"
     ]
    }
   ],
   "source": [
    "%load_ext autoreload\n",
    "%autoreload 1\n",
    "\n",
    "sys.path.insert(0,'../src/python/')\n",
    "\n",
    "# https://stackoverflow.com/questions/70898150/jupyter-autoreload-workflow/73623267#73623267\n",
    "\n",
    "%aimport discordia\n",
    "%aimport discordia.webscraping.twfy\n",
    "%aimport discordia.webscraping.utils\n",
    "\n",
    "#from discordia.webscraping.utils import print_HTML, show_HTML\n",
    "from discordia.webscraping.twfy import build_url, scrape_debate_sections, get_speeches_divisions_and_votes\n",
    "from discordia.webscraping.utils import print_HTML, show_HTML"
   ]
  },
  {
   "cell_type": "code",
   "execution_count": 8,
   "metadata": {},
   "outputs": [
    {
     "name": "stdout",
     "output_type": "stream",
     "text": [
      "The sql extension is already loaded. To reload it, use:\n",
      "  %reload_ext sql\n"
     ]
    },
    {
     "data": {
      "text/html": [
       "<span style=\"None\">displaylimit: Value None will be treated as 0 (no limit)</span>"
      ],
      "text/plain": [
       "displaylimit: Value None will be treated as 0 (no limit)"
      ]
     },
     "metadata": {},
     "output_type": "display_data"
    }
   ],
   "source": [
    "%load_ext sql\n",
    "%config SqlMagic.autocommit=True # for engines that do not support autommit\n",
    "%config SqlMagic.displaylimit = None"
   ]
  },
  {
   "cell_type": "markdown",
   "metadata": {},
   "source": [
    "## Connect to SQLite database"
   ]
  },
  {
   "cell_type": "code",
   "execution_count": 9,
   "metadata": {},
   "outputs": [],
   "source": [
    "# Create a database engine using SQLAlchemy\n",
    "engine = create_engine('sqlite:///../../data/discordia.db', echo=False, isolation_level=\"AUTOCOMMIT\")\n",
    "\n",
    "# Why? Read: https://stackoverflow.com/a/71685414/843365\n",
    "with engine.connect() as conn:\n",
    "    pass\n"
   ]
  },
  {
   "cell_type": "code",
   "execution_count": 10,
   "metadata": {
    "vscode": {
     "languageId": "sql"
    }
   },
   "outputs": [
    {
     "data": {
      "text/html": [
       "<span style=\"None\">Connecting to &#x27;discordia&#x27;</span>"
      ],
      "text/plain": [
       "Connecting to 'discordia'"
      ]
     },
     "metadata": {},
     "output_type": "display_data"
    }
   ],
   "source": [
    "%sql sqlite:///../../data/discordia.db --alias discordia"
   ]
  },
  {
   "cell_type": "markdown",
   "metadata": {},
   "source": [
    "# Part 1: Dissent"
   ]
  },
  {
   "cell_type": "markdown",
   "metadata": {},
   "source": [
    "I selected a random house_division_id to investigate"
   ]
  },
  {
   "cell_type": "code",
   "execution_count": 142,
   "metadata": {
    "vscode": {
     "languageId": "sql"
    }
   },
   "outputs": [
    {
     "data": {
      "text/html": [
       "<table>\n",
       "    <thead>\n",
       "        <tr>\n",
       "            <th>party</th>\n",
       "            <th>vote</th>\n",
       "            <th>num_votes</th>\n",
       "            <th>num_tellers</th>\n",
       "        </tr>\n",
       "    </thead>\n",
       "    <tbody>\n",
       "        <tr>\n",
       "            <td>Alliance</td>\n",
       "            <td>aye</td>\n",
       "            <td>1</td>\n",
       "            <td>0</td>\n",
       "        </tr>\n",
       "        <tr>\n",
       "            <td>Conservative</td>\n",
       "            <td>aye</td>\n",
       "            <td>1</td>\n",
       "            <td>0</td>\n",
       "        </tr>\n",
       "        <tr>\n",
       "            <td>Conservative</td>\n",
       "            <td>no</td>\n",
       "            <td>300</td>\n",
       "            <td>0</td>\n",
       "        </tr>\n",
       "        <tr>\n",
       "            <td>Conservative</td>\n",
       "            <td>no</td>\n",
       "            <td>2</td>\n",
       "            <td>2</td>\n",
       "        </tr>\n",
       "        <tr>\n",
       "            <td>Green</td>\n",
       "            <td>aye</td>\n",
       "            <td>1</td>\n",
       "            <td>0</td>\n",
       "        </tr>\n",
       "        <tr>\n",
       "            <td>Independent</td>\n",
       "            <td>aye</td>\n",
       "            <td>8</td>\n",
       "            <td>0</td>\n",
       "        </tr>\n",
       "        <tr>\n",
       "            <td>Independent</td>\n",
       "            <td>no</td>\n",
       "            <td>3</td>\n",
       "            <td>0</td>\n",
       "        </tr>\n",
       "        <tr>\n",
       "            <td>Labour</td>\n",
       "            <td>aye</td>\n",
       "            <td>141</td>\n",
       "            <td>0</td>\n",
       "        </tr>\n",
       "        <tr>\n",
       "            <td>Labour</td>\n",
       "            <td>aye</td>\n",
       "            <td>2</td>\n",
       "            <td>2</td>\n",
       "        </tr>\n",
       "        <tr>\n",
       "            <td>Labour/Co-operative</td>\n",
       "            <td>aye</td>\n",
       "            <td>14</td>\n",
       "            <td>0</td>\n",
       "        </tr>\n",
       "        <tr>\n",
       "            <td>Plaid Cymru</td>\n",
       "            <td>aye</td>\n",
       "            <td>2</td>\n",
       "            <td>0</td>\n",
       "        </tr>\n",
       "        <tr>\n",
       "            <td>Scottish National Party</td>\n",
       "            <td>aye</td>\n",
       "            <td>25</td>\n",
       "            <td>0</td>\n",
       "        </tr>\n",
       "        <tr>\n",
       "            <td>Social Democratic and Labour Party</td>\n",
       "            <td>aye</td>\n",
       "            <td>2</td>\n",
       "            <td>0</td>\n",
       "        </tr>\n",
       "    </tbody>\n",
       "</table>"
      ],
      "text/plain": [
       "+------------------------------------+------+-----------+-------------+\n",
       "|               party                | vote | num_votes | num_tellers |\n",
       "+------------------------------------+------+-----------+-------------+\n",
       "|              Alliance              | aye  |     1     |      0      |\n",
       "|            Conservative            | aye  |     1     |      0      |\n",
       "|            Conservative            |  no  |    300    |      0      |\n",
       "|            Conservative            |  no  |     2     |      2      |\n",
       "|               Green                | aye  |     1     |      0      |\n",
       "|            Independent             | aye  |     8     |      0      |\n",
       "|            Independent             |  no  |     3     |      0      |\n",
       "|               Labour               | aye  |    141    |      0      |\n",
       "|               Labour               | aye  |     2     |      2      |\n",
       "|        Labour/Co-operative         | aye  |     14    |      0      |\n",
       "|            Plaid Cymru             | aye  |     2     |      0      |\n",
       "|      Scottish National Party       | aye  |     25    |      0      |\n",
       "| Social Democratic and Labour Party | aye  |     2     |      0      |\n",
       "+------------------------------------+------+-----------+-------------+"
      ]
     },
     "execution_count": 142,
     "metadata": {},
     "output_type": "execute_result"
    }
   ],
   "source": [
    "%%sql discordia --save summary_votes\n",
    "\n",
    "SELECT \n",
    "    mp.party,\n",
    "    CASE votes.is_vote_aye WHEN 1 THEN 'aye' ELSE 'no' END AS vote,\n",
    "    COUNT(*) AS num_votes,\n",
    "    SUM(votes.is_teller) AS num_tellers\n",
    "FROM\n",
    "    votes\n",
    "LEFT JOIN\n",
    "    mp\n",
    "ON\n",
    "    votes.mp_id = mp.mp_id\n",
    "WHERE \n",
    "    house_division_id = 'g613.0' AND\n",
    "    mp.term_start = 2017\n",
    "GROUP BY\n",
    "    mp.party, votes.is_teller, votes.is_vote_aye\n",
    "ORDER BY\n",
    "    party, vote, num_votes DESC\n"
   ]
  },
  {
   "cell_type": "code",
   "execution_count": 177,
   "metadata": {
    "vscode": {
     "languageId": "sql"
    }
   },
   "outputs": [
    {
     "data": {
      "text/html": [
       "<span style=\"None\">Generating CTE with stored snippets: &#x27;summary_votes&#x27;, and &#x27;summary_votes&#x27;</span>"
      ],
      "text/plain": [
       "Generating CTE with stored snippets: 'summary_votes', and 'summary_votes'"
      ]
     },
     "metadata": {},
     "output_type": "display_data"
    },
    {
     "data": {
      "text/html": [
       "<table>\n",
       "    <thead>\n",
       "        <tr>\n",
       "            <th>party</th>\n",
       "            <th>aye</th>\n",
       "            <th>no</th>\n",
       "        </tr>\n",
       "    </thead>\n",
       "    <tbody>\n",
       "        <tr>\n",
       "            <td>Alliance</td>\n",
       "            <td>1</td>\n",
       "            <td>0</td>\n",
       "        </tr>\n",
       "        <tr>\n",
       "            <td>Conservative</td>\n",
       "            <td>1</td>\n",
       "            <td>300<br> (+2 tellers)</td>\n",
       "        </tr>\n",
       "        <tr>\n",
       "            <td>Green</td>\n",
       "            <td>1</td>\n",
       "            <td>0</td>\n",
       "        </tr>\n",
       "        <tr>\n",
       "            <td>Independent</td>\n",
       "            <td>8</td>\n",
       "            <td>3</td>\n",
       "        </tr>\n",
       "        <tr>\n",
       "            <td>Labour</td>\n",
       "            <td>141<br> (+2 tellers)</td>\n",
       "            <td>0</td>\n",
       "        </tr>\n",
       "        <tr>\n",
       "            <td>Labour/Co-operative</td>\n",
       "            <td>14</td>\n",
       "            <td>0</td>\n",
       "        </tr>\n",
       "        <tr>\n",
       "            <td>Plaid Cymru</td>\n",
       "            <td>2</td>\n",
       "            <td>0</td>\n",
       "        </tr>\n",
       "        <tr>\n",
       "            <td>Scottish National Party</td>\n",
       "            <td>25</td>\n",
       "            <td>0</td>\n",
       "        </tr>\n",
       "        <tr>\n",
       "            <td>Social Democratic and Labour Party</td>\n",
       "            <td>2</td>\n",
       "            <td>0</td>\n",
       "        </tr>\n",
       "    </tbody>\n",
       "</table>"
      ],
      "text/plain": [
       "+------------------------------------+---------------+---------------+\n",
       "|               party                |      aye      |       no      |\n",
       "+------------------------------------+---------------+---------------+\n",
       "|              Alliance              |       1       |       0       |\n",
       "|            Conservative            |       1       |      300      |\n",
       "|                                    |               |  (+2 tellers) |\n",
       "|               Green                |       1       |       0       |\n",
       "|            Independent             |       8       |       3       |\n",
       "|               Labour               |      141      |       0       |\n",
       "|                                    |  (+2 tellers) |               |\n",
       "|        Labour/Co-operative         |       14      |       0       |\n",
       "|            Plaid Cymru             |       2       |       0       |\n",
       "|      Scottish National Party       |       25      |       0       |\n",
       "| Social Democratic and Labour Party |       2       |       0       |\n",
       "+------------------------------------+---------------+---------------+"
      ]
     },
     "execution_count": 177,
     "metadata": {},
     "output_type": "execute_result"
    }
   ],
   "source": [
    "%%sql discordia\n",
    "\n",
    "SELECT \n",
    "    A.party,\n",
    "    IFNULL(CAST(A.total_ayes - A.total_tellers AS TEXT) || CASE A.total_tellers WHEN 0 THEN '' ELSE char(10) || ' (+' || A.total_tellers || ' tellers)' END, 0) AS aye,\n",
    "    IFNULL(CAST(B.total_nos - B.total_tellers AS TEXT) || CASE B.total_tellers WHEN 0 THEN '' ELSE char(10) || ' (+' || B.total_tellers || ' tellers)' END, 0) AS no\n",
    "FROM \n",
    "    (SELECT \n",
    "         party, \n",
    "         sum(num_votes) as total_ayes, \n",
    "         sum(num_tellers) as total_tellers \n",
    "     FROM \n",
    "         summary_votes \n",
    "     WHERE \n",
    "         vote = 'aye' \n",
    "     GROUP BY \n",
    "         party) A \n",
    "LEFT OUTER JOIN \n",
    "    (SELECT \n",
    "         party, \n",
    "         sum(num_votes) as total_nos, \n",
    "         sum(num_tellers) as total_tellers \n",
    "     FROM \n",
    "         summary_votes \n",
    "     WHERE \n",
    "         vote = 'no' \n",
    "     GROUP BY \n",
    "         party) B \n",
    "ON \n",
    "    A.party = B.party"
   ]
  },
  {
   "cell_type": "markdown",
   "metadata": {},
   "source": [
    "💡 TAKEAWAYS:\n",
    "\n",
    "- On the example above, there was apparently 1 Tory MP who voted against their party\n",
    "- I am curious about the Independent MPs. Are they really independent? Or are they just MPs who left their parties?"
   ]
  },
  {
   "cell_type": "markdown",
   "metadata": {},
   "source": [
    "## 1.1 What was this vote about and who was the Tory dissenters?"
   ]
  },
  {
   "cell_type": "code",
   "execution_count": 178,
   "metadata": {
    "vscode": {
     "languageId": "sql"
    }
   },
   "outputs": [
    {
     "data": {
      "text/html": [
       "<table>\n",
       "    <thead>\n",
       "        <tr>\n",
       "            <th>debate_id</th>\n",
       "            <th>house_division_id</th>\n",
       "            <th>vote_title</th>\n",
       "        </tr>\n",
       "    </thead>\n",
       "    <tbody>\n",
       "        <tr>\n",
       "            <td>2023-01-11e.566.1</td>\n",
       "            <td>g613.0</td>\n",
       "            <td>Fair Taxation of Schools and Education Standards Committee</td>\n",
       "        </tr>\n",
       "    </tbody>\n",
       "</table>"
      ],
      "text/plain": [
       "+-------------------+-------------------+------------------------------------------------------------+\n",
       "|     debate_id     | house_division_id |                         vote_title                         |\n",
       "+-------------------+-------------------+------------------------------------------------------------+\n",
       "| 2023-01-11e.566.1 |       g613.0      | Fair Taxation of Schools and Education Standards Committee |\n",
       "+-------------------+-------------------+------------------------------------------------------------+"
      ]
     },
     "execution_count": 178,
     "metadata": {},
     "output_type": "execute_result"
    }
   ],
   "source": [
    "%%sql discordia\n",
    "\n",
    "SELECT \n",
    "    *\n",
    "FROM\n",
    "    house_divisions\n",
    "WHERE\n",
    "    house_division_id = 'g613.0'"
   ]
  },
  {
   "cell_type": "markdown",
   "metadata": {},
   "source": [
    "Who amongst the Conservatives voted 'aye'?"
   ]
  },
  {
   "cell_type": "code",
   "execution_count": 181,
   "metadata": {
    "vscode": {
     "languageId": "sql"
    }
   },
   "outputs": [
    {
     "data": {
      "text/html": [
       "<table>\n",
       "    <thead>\n",
       "        <tr>\n",
       "            <th>mp_id</th>\n",
       "            <th>first_name</th>\n",
       "            <th>last_name</th>\n",
       "            <th>party</th>\n",
       "            <th>constituency</th>\n",
       "            <th>url</th>\n",
       "            <th>term_start</th>\n",
       "            <th>term_end</th>\n",
       "        </tr>\n",
       "    </thead>\n",
       "    <tbody>\n",
       "        <tr>\n",
       "            <td>25276</td>\n",
       "            <td>Lisa</td>\n",
       "            <td>Cameron</td>\n",
       "            <td>Conservative</td>\n",
       "            <td>East Kilbride, Strathaven and Lesmahagow</td>\n",
       "            <td><a href=https://www.theyworkforyou.com/mp/25276/lisa_cameron/east_kilbride%2C_strathaven_and_lesmahagow>https://www.theyworkforyou.com/mp/25276/lisa_cameron/east_kilbride%2C_strathaven_and_lesmahagow</a></td>\n",
       "            <td>2017</td>\n",
       "            <td>2023</td>\n",
       "        </tr>\n",
       "    </tbody>\n",
       "</table>"
      ],
      "text/plain": [
       "+-------+------------+-----------+--------------+------------------------------------------+-------------------------------------------------------------------------------------------------------------------------------------------------------------------------------------------------------------+------------+----------+\n",
       "| mp_id | first_name | last_name |    party     |               constituency               |                                                                                                     url                                                                                                     | term_start | term_end |\n",
       "+-------+------------+-----------+--------------+------------------------------------------+-------------------------------------------------------------------------------------------------------------------------------------------------------------------------------------------------------------+------------+----------+\n",
       "| 25276 |    Lisa    |  Cameron  | Conservative | East Kilbride, Strathaven and Lesmahagow | <a href=https://www.theyworkforyou.com/mp/25276/lisa_cameron/east_kilbride%2C_strathaven_and_lesmahagow>https://www.theyworkforyou.com/mp/25276/lisa_cameron/east_kilbride%2C_strathaven_and_lesmahagow</a> |    2017    |   2023   |\n",
       "+-------+------------+-----------+--------------+------------------------------------------+-------------------------------------------------------------------------------------------------------------------------------------------------------------------------------------------------------------+------------+----------+"
      ]
     },
     "execution_count": 181,
     "metadata": {},
     "output_type": "execute_result"
    }
   ],
   "source": [
    "%%sql discordia\n",
    "\n",
    "SELECT \n",
    "     mp.*\n",
    "    FROM\n",
    "        votes\n",
    "    LEFT JOIN\n",
    "        mp\n",
    "    ON\n",
    "        votes.mp_id = mp.mp_id\n",
    "    WHERE\n",
    "        house_division_id = 'g613.0' AND\n",
    "        mp.term_start = 2017 AND\n",
    "        mp.party = 'Conservative' AND\n",
    "        votes.is_vote_aye = 1"
   ]
  },
  {
   "cell_type": "markdown",
   "metadata": {},
   "source": [
    "# Part 2: The story of Lisa Cameron"
   ]
  },
  {
   "cell_type": "markdown",
   "metadata": {},
   "source": [
    "💡 Lisa Cameron has already defected from SNP to Conservatives: https://www.bbc.co.uk/news/uk-scotland-scotland-politics-67137177\n"
   ]
  },
  {
   "cell_type": "code",
   "execution_count": 183,
   "metadata": {
    "vscode": {
     "languageId": "sql"
    }
   },
   "outputs": [
    {
     "data": {
      "text/html": [
       "<table>\n",
       "    <thead>\n",
       "        <tr>\n",
       "            <th>mp_id</th>\n",
       "            <th>first_name</th>\n",
       "            <th>last_name</th>\n",
       "            <th>party</th>\n",
       "            <th>constituency</th>\n",
       "            <th>url</th>\n",
       "            <th>term_start</th>\n",
       "            <th>term_end</th>\n",
       "        </tr>\n",
       "    </thead>\n",
       "    <tbody>\n",
       "        <tr>\n",
       "            <td>25276</td>\n",
       "            <td>Lisa</td>\n",
       "            <td>Cameron</td>\n",
       "            <td>Scottish National Party</td>\n",
       "            <td>East Kilbride, Strathaven and Lesmahagow</td>\n",
       "            <td><a href=https://www.theyworkforyou.com/mp/25276/lisa_cameron/east_kilbride%2C_strathaven_and_lesmahagow>https://www.theyworkforyou.com/mp/25276/lisa_cameron/east_kilbride%2C_strathaven_and_lesmahagow</a></td>\n",
       "            <td>2010</td>\n",
       "            <td>1015</td>\n",
       "        </tr>\n",
       "        <tr>\n",
       "            <td>25276</td>\n",
       "            <td>Lisa</td>\n",
       "            <td>Cameron</td>\n",
       "            <td>Scottish National Party</td>\n",
       "            <td>East Kilbride, Strathaven and Lesmahagow</td>\n",
       "            <td><a href=https://www.theyworkforyou.com/mp/25276/lisa_cameron/east_kilbride%2C_strathaven_and_lesmahagow>https://www.theyworkforyou.com/mp/25276/lisa_cameron/east_kilbride%2C_strathaven_and_lesmahagow</a></td>\n",
       "            <td>2015</td>\n",
       "            <td>2017</td>\n",
       "        </tr>\n",
       "        <tr>\n",
       "            <td>25276</td>\n",
       "            <td>Lisa</td>\n",
       "            <td>Cameron</td>\n",
       "            <td>Conservative</td>\n",
       "            <td>East Kilbride, Strathaven and Lesmahagow</td>\n",
       "            <td><a href=https://www.theyworkforyou.com/mp/25276/lisa_cameron/east_kilbride%2C_strathaven_and_lesmahagow>https://www.theyworkforyou.com/mp/25276/lisa_cameron/east_kilbride%2C_strathaven_and_lesmahagow</a></td>\n",
       "            <td>2017</td>\n",
       "            <td>2023</td>\n",
       "        </tr>\n",
       "    </tbody>\n",
       "</table>"
      ],
      "text/plain": [
       "+-------+------------+-----------+-------------------------+------------------------------------------+-------------------------------------------------------------------------------------------------------------------------------------------------------------------------------------------------------------+------------+----------+\n",
       "| mp_id | first_name | last_name |          party          |               constituency               |                                                                                                     url                                                                                                     | term_start | term_end |\n",
       "+-------+------------+-----------+-------------------------+------------------------------------------+-------------------------------------------------------------------------------------------------------------------------------------------------------------------------------------------------------------+------------+----------+\n",
       "| 25276 |    Lisa    |  Cameron  | Scottish National Party | East Kilbride, Strathaven and Lesmahagow | <a href=https://www.theyworkforyou.com/mp/25276/lisa_cameron/east_kilbride%2C_strathaven_and_lesmahagow>https://www.theyworkforyou.com/mp/25276/lisa_cameron/east_kilbride%2C_strathaven_and_lesmahagow</a> |    2010    |   1015   |\n",
       "| 25276 |    Lisa    |  Cameron  | Scottish National Party | East Kilbride, Strathaven and Lesmahagow | <a href=https://www.theyworkforyou.com/mp/25276/lisa_cameron/east_kilbride%2C_strathaven_and_lesmahagow>https://www.theyworkforyou.com/mp/25276/lisa_cameron/east_kilbride%2C_strathaven_and_lesmahagow</a> |    2015    |   2017   |\n",
       "| 25276 |    Lisa    |  Cameron  |       Conservative      | East Kilbride, Strathaven and Lesmahagow | <a href=https://www.theyworkforyou.com/mp/25276/lisa_cameron/east_kilbride%2C_strathaven_and_lesmahagow>https://www.theyworkforyou.com/mp/25276/lisa_cameron/east_kilbride%2C_strathaven_and_lesmahagow</a> |    2017    |   2023   |\n",
       "+-------+------------+-----------+-------------------------+------------------------------------------+-------------------------------------------------------------------------------------------------------------------------------------------------------------------------------------------------------------+------------+----------+"
      ]
     },
     "execution_count": 183,
     "metadata": {},
     "output_type": "execute_result"
    }
   ],
   "source": [
    "%%sql discordia\n",
    "\n",
    "SELECT \n",
    "    *\n",
    "FROM\n",
    "    mp\n",
    "WHERE mp_id = \"25276\""
   ]
  },
  {
   "cell_type": "markdown",
   "metadata": {},
   "source": [
    "## 2.1 Lisa Cameron's voting record\n",
    "\n",
    "Is she always a dissenter?"
   ]
  },
  {
   "cell_type": "code",
   "execution_count": 124,
   "metadata": {
    "vscode": {
     "languageId": "sql"
    }
   },
   "outputs": [
    {
     "data": {
      "text/html": [
       "<table>\n",
       "    <thead>\n",
       "        <tr>\n",
       "            <th>debate_id</th>\n",
       "            <th>house_division_id</th>\n",
       "            <th>How Lisa voted:</th>\n",
       "            <th>How many other Tory MPs voted aye:</th>\n",
       "            <th>How many other Tory MPs voted no:</th>\n",
       "            <th>Was Lisa in the majority?</th>\n",
       "        </tr>\n",
       "    </thead>\n",
       "    <tbody>\n",
       "        <tr>\n",
       "            <td>2023-01-11e.566.1</td>\n",
       "            <td>g613.0</td>\n",
       "            <td>aye</td>\n",
       "            <td>0</td>\n",
       "            <td>302</td>\n",
       "            <td>AGAINST</td>\n",
       "        </tr>\n",
       "        <tr>\n",
       "            <td>2023-01-16f.139.0</td>\n",
       "            <td>g140.0</td>\n",
       "            <td>no</td>\n",
       "            <td>303</td>\n",
       "            <td>0</td>\n",
       "            <td>AGAINST</td>\n",
       "        </tr>\n",
       "        <tr>\n",
       "            <td>2023-01-16f.144.0</td>\n",
       "            <td>g144.2</td>\n",
       "            <td>no</td>\n",
       "            <td>301</td>\n",
       "            <td>0</td>\n",
       "            <td>AGAINST</td>\n",
       "        </tr>\n",
       "        <tr>\n",
       "            <td>2023-01-16f.54.0</td>\n",
       "            <td>g135.0</td>\n",
       "            <td>no</td>\n",
       "            <td>307</td>\n",
       "            <td>1</td>\n",
       "            <td>WITH </td>\n",
       "        </tr>\n",
       "        <tr>\n",
       "            <td>2023-01-16f.54.0</td>\n",
       "            <td>g131.5</td>\n",
       "            <td>aye</td>\n",
       "            <td>1</td>\n",
       "            <td>298</td>\n",
       "            <td>AGAINST</td>\n",
       "        </tr>\n",
       "        <tr>\n",
       "            <td>2023-01-17c.228.0</td>\n",
       "            <td>g262.0</td>\n",
       "            <td>no</td>\n",
       "            <td>310</td>\n",
       "            <td>0</td>\n",
       "            <td>AGAINST</td>\n",
       "        </tr>\n",
       "        <tr>\n",
       "            <td>2023-01-31b.278.0</td>\n",
       "            <td>g308.0</td>\n",
       "            <td>aye</td>\n",
       "            <td>0</td>\n",
       "            <td>297</td>\n",
       "            <td>AGAINST</td>\n",
       "        </tr>\n",
       "        <tr>\n",
       "            <td>2023-02-21c.193.0</td>\n",
       "            <td>g194.6</td>\n",
       "            <td>no</td>\n",
       "            <td>252</td>\n",
       "            <td>0</td>\n",
       "            <td>AGAINST</td>\n",
       "        </tr>\n",
       "        <tr>\n",
       "            <td>2023-02-28d.701.0</td>\n",
       "            <td>g710.0</td>\n",
       "            <td>aye</td>\n",
       "            <td>0</td>\n",
       "            <td>0</td>\n",
       "            <td>AGAINST</td>\n",
       "        </tr>\n",
       "        <tr>\n",
       "            <td>2023-03-13b.573.0</td>\n",
       "            <td>g647.0</td>\n",
       "            <td>no</td>\n",
       "            <td>308</td>\n",
       "            <td>0</td>\n",
       "            <td>AGAINST</td>\n",
       "        </tr>\n",
       "        <tr>\n",
       "            <td>2023-03-13b.573.0</td>\n",
       "            <td>g643.0</td>\n",
       "            <td>aye</td>\n",
       "            <td>0</td>\n",
       "            <td>308</td>\n",
       "            <td>AGAINST</td>\n",
       "        </tr>\n",
       "        <tr>\n",
       "            <td>2023-03-13b.651.0</td>\n",
       "            <td>g652.0</td>\n",
       "            <td>no</td>\n",
       "            <td>308</td>\n",
       "            <td>0</td>\n",
       "            <td>AGAINST</td>\n",
       "        </tr>\n",
       "        <tr>\n",
       "            <td>2023-03-13b.656.0</td>\n",
       "            <td>g656.2</td>\n",
       "            <td>no</td>\n",
       "            <td>306</td>\n",
       "            <td>0</td>\n",
       "            <td>AGAINST</td>\n",
       "        </tr>\n",
       "        <tr>\n",
       "            <td>2023-03-21c.273.0</td>\n",
       "            <td>g274.0</td>\n",
       "            <td>no</td>\n",
       "            <td>316</td>\n",
       "            <td>0</td>\n",
       "            <td>AGAINST</td>\n",
       "        </tr>\n",
       "        <tr>\n",
       "            <td>2023-03-21c.282.4</td>\n",
       "            <td>g282.6</td>\n",
       "            <td>no</td>\n",
       "            <td>314</td>\n",
       "            <td>0</td>\n",
       "            <td>AGAINST</td>\n",
       "        </tr>\n",
       "        <tr>\n",
       "            <td>2023-03-22b.338.0</td>\n",
       "            <td>g364.0</td>\n",
       "            <td>aye</td>\n",
       "            <td>283</td>\n",
       "            <td>20</td>\n",
       "            <td>AGAINST</td>\n",
       "        </tr>\n",
       "        <tr>\n",
       "            <td>2023-03-29c.1044.0</td>\n",
       "            <td>g1105.0</td>\n",
       "            <td>aye</td>\n",
       "            <td>0</td>\n",
       "            <td>282</td>\n",
       "            <td>AGAINST</td>\n",
       "        </tr>\n",
       "        <tr>\n",
       "            <td>2023-04-25c.659.0</td>\n",
       "            <td>g698.1</td>\n",
       "            <td>aye</td>\n",
       "            <td>0</td>\n",
       "            <td>281</td>\n",
       "            <td>AGAINST</td>\n",
       "        </tr>\n",
       "        <tr>\n",
       "            <td>2023-05-16c.715.1</td>\n",
       "            <td>g769.0</td>\n",
       "            <td>no</td>\n",
       "            <td>281</td>\n",
       "            <td>0</td>\n",
       "            <td>AGAINST</td>\n",
       "        </tr>\n",
       "        <tr>\n",
       "            <td>2023-05-16c.715.1</td>\n",
       "            <td>g766.0</td>\n",
       "            <td>aye</td>\n",
       "            <td>0</td>\n",
       "            <td>285</td>\n",
       "            <td>AGAINST</td>\n",
       "        </tr>\n",
       "        <tr>\n",
       "            <td>2023-05-16c.772.0</td>\n",
       "            <td>g811.1</td>\n",
       "            <td>aye</td>\n",
       "            <td>0</td>\n",
       "            <td>276</td>\n",
       "            <td>AGAINST</td>\n",
       "        </tr>\n",
       "        <tr>\n",
       "            <td>2023-05-24c.372.0</td>\n",
       "            <td>g385.0</td>\n",
       "            <td>no</td>\n",
       "            <td>291</td>\n",
       "            <td>0</td>\n",
       "            <td>AGAINST</td>\n",
       "        </tr>\n",
       "        <tr>\n",
       "            <td>2023-06-12b.53.0</td>\n",
       "            <td>g76.0</td>\n",
       "            <td>no</td>\n",
       "            <td>273</td>\n",
       "            <td>0</td>\n",
       "            <td>AGAINST</td>\n",
       "        </tr>\n",
       "        <tr>\n",
       "            <td>2023-06-14b.312.3</td>\n",
       "            <td>g362.0</td>\n",
       "            <td>aye</td>\n",
       "            <td>0</td>\n",
       "            <td>255</td>\n",
       "            <td>AGAINST</td>\n",
       "        </tr>\n",
       "        <tr>\n",
       "            <td>2023-06-21c.849.1</td>\n",
       "            <td>g900.3</td>\n",
       "            <td>aye</td>\n",
       "            <td>0</td>\n",
       "            <td>250</td>\n",
       "            <td>AGAINST</td>\n",
       "        </tr>\n",
       "        <tr>\n",
       "            <td>2023-07-03b.586.0</td>\n",
       "            <td>g661.0</td>\n",
       "            <td>no</td>\n",
       "            <td>262</td>\n",
       "            <td>2</td>\n",
       "            <td>WITH </td>\n",
       "        </tr>\n",
       "        <tr>\n",
       "            <td>2023-07-03b.586.0</td>\n",
       "            <td>g657.0</td>\n",
       "            <td>aye</td>\n",
       "            <td>2</td>\n",
       "            <td>268</td>\n",
       "            <td>AGAINST</td>\n",
       "        </tr>\n",
       "        <tr>\n",
       "            <td>2023-07-11e.213.0</td>\n",
       "            <td>g249.0</td>\n",
       "            <td>no</td>\n",
       "            <td>302</td>\n",
       "            <td>0</td>\n",
       "            <td>AGAINST</td>\n",
       "        </tr>\n",
       "        <tr>\n",
       "            <td>2023-09-12c.847.0</td>\n",
       "            <td>g869.0</td>\n",
       "            <td>no</td>\n",
       "            <td>269</td>\n",
       "            <td>2</td>\n",
       "            <td>WITH </td>\n",
       "        </tr>\n",
       "        <tr>\n",
       "            <td>2023-11-14b.534.3</td>\n",
       "            <td>g614.1</td>\n",
       "            <td>no</td>\n",
       "            <td>0</td>\n",
       "            <td>302</td>\n",
       "            <td>WITH </td>\n",
       "        </tr>\n",
       "        <tr>\n",
       "            <td>2023-11-15b.674.3</td>\n",
       "            <td>g754.0</td>\n",
       "            <td>no</td>\n",
       "            <td>0</td>\n",
       "            <td>286</td>\n",
       "            <td>WITH </td>\n",
       "        </tr>\n",
       "        <tr>\n",
       "            <td>2023-11-15b.674.3</td>\n",
       "            <td>g757.0</td>\n",
       "            <td>no</td>\n",
       "            <td>0</td>\n",
       "            <td>290</td>\n",
       "            <td>WITH </td>\n",
       "        </tr>\n",
       "        <tr>\n",
       "            <td>2023-11-15b.674.3</td>\n",
       "            <td>g761.0</td>\n",
       "            <td>no</td>\n",
       "            <td>0</td>\n",
       "            <td>299</td>\n",
       "            <td>WITH </td>\n",
       "        </tr>\n",
       "        <tr>\n",
       "            <td>2023-11-29b.1033.0</td>\n",
       "            <td>g1033.3</td>\n",
       "            <td>aye</td>\n",
       "            <td>289</td>\n",
       "            <td>2</td>\n",
       "            <td>AGAINST</td>\n",
       "        </tr>\n",
       "        <tr>\n",
       "            <td>2023-11-29b.848.0</td>\n",
       "            <td>g850.0</td>\n",
       "            <td>no</td>\n",
       "            <td>2</td>\n",
       "            <td>268</td>\n",
       "            <td>WITH </td>\n",
       "        </tr>\n",
       "    </tbody>\n",
       "</table>"
      ],
      "text/plain": [
       "+--------------------+-------------------+-----------------+------------------------------------+-----------------------------------+---------------------------+\n",
       "|     debate_id      | house_division_id | How Lisa voted: | How many other Tory MPs voted aye: | How many other Tory MPs voted no: | Was Lisa in the majority? |\n",
       "+--------------------+-------------------+-----------------+------------------------------------+-----------------------------------+---------------------------+\n",
       "| 2023-01-11e.566.1  |       g613.0      |       aye       |                 0                  |                302                |          AGAINST          |\n",
       "| 2023-01-16f.139.0  |       g140.0      |        no       |                303                 |                 0                 |          AGAINST          |\n",
       "| 2023-01-16f.144.0  |       g144.2      |        no       |                301                 |                 0                 |          AGAINST          |\n",
       "|  2023-01-16f.54.0  |       g135.0      |        no       |                307                 |                 1                 |           WITH            |\n",
       "|  2023-01-16f.54.0  |       g131.5      |       aye       |                 1                  |                298                |          AGAINST          |\n",
       "| 2023-01-17c.228.0  |       g262.0      |        no       |                310                 |                 0                 |          AGAINST          |\n",
       "| 2023-01-31b.278.0  |       g308.0      |       aye       |                 0                  |                297                |          AGAINST          |\n",
       "| 2023-02-21c.193.0  |       g194.6      |        no       |                252                 |                 0                 |          AGAINST          |\n",
       "| 2023-02-28d.701.0  |       g710.0      |       aye       |                 0                  |                 0                 |          AGAINST          |\n",
       "| 2023-03-13b.573.0  |       g647.0      |        no       |                308                 |                 0                 |          AGAINST          |\n",
       "| 2023-03-13b.573.0  |       g643.0      |       aye       |                 0                  |                308                |          AGAINST          |\n",
       "| 2023-03-13b.651.0  |       g652.0      |        no       |                308                 |                 0                 |          AGAINST          |\n",
       "| 2023-03-13b.656.0  |       g656.2      |        no       |                306                 |                 0                 |          AGAINST          |\n",
       "| 2023-03-21c.273.0  |       g274.0      |        no       |                316                 |                 0                 |          AGAINST          |\n",
       "| 2023-03-21c.282.4  |       g282.6      |        no       |                314                 |                 0                 |          AGAINST          |\n",
       "| 2023-03-22b.338.0  |       g364.0      |       aye       |                283                 |                 20                |          AGAINST          |\n",
       "| 2023-03-29c.1044.0 |      g1105.0      |       aye       |                 0                  |                282                |          AGAINST          |\n",
       "| 2023-04-25c.659.0  |       g698.1      |       aye       |                 0                  |                281                |          AGAINST          |\n",
       "| 2023-05-16c.715.1  |       g769.0      |        no       |                281                 |                 0                 |          AGAINST          |\n",
       "| 2023-05-16c.715.1  |       g766.0      |       aye       |                 0                  |                285                |          AGAINST          |\n",
       "| 2023-05-16c.772.0  |       g811.1      |       aye       |                 0                  |                276                |          AGAINST          |\n",
       "| 2023-05-24c.372.0  |       g385.0      |        no       |                291                 |                 0                 |          AGAINST          |\n",
       "|  2023-06-12b.53.0  |       g76.0       |        no       |                273                 |                 0                 |          AGAINST          |\n",
       "| 2023-06-14b.312.3  |       g362.0      |       aye       |                 0                  |                255                |          AGAINST          |\n",
       "| 2023-06-21c.849.1  |       g900.3      |       aye       |                 0                  |                250                |          AGAINST          |\n",
       "| 2023-07-03b.586.0  |       g661.0      |        no       |                262                 |                 2                 |           WITH            |\n",
       "| 2023-07-03b.586.0  |       g657.0      |       aye       |                 2                  |                268                |          AGAINST          |\n",
       "| 2023-07-11e.213.0  |       g249.0      |        no       |                302                 |                 0                 |          AGAINST          |\n",
       "| 2023-09-12c.847.0  |       g869.0      |        no       |                269                 |                 2                 |           WITH            |\n",
       "| 2023-11-14b.534.3  |       g614.1      |        no       |                 0                  |                302                |           WITH            |\n",
       "| 2023-11-15b.674.3  |       g754.0      |        no       |                 0                  |                286                |           WITH            |\n",
       "| 2023-11-15b.674.3  |       g757.0      |        no       |                 0                  |                290                |           WITH            |\n",
       "| 2023-11-15b.674.3  |       g761.0      |        no       |                 0                  |                299                |           WITH            |\n",
       "| 2023-11-29b.1033.0 |      g1033.3      |       aye       |                289                 |                 2                 |          AGAINST          |\n",
       "| 2023-11-29b.848.0  |       g850.0      |        no       |                 2                  |                268                |           WITH            |\n",
       "+--------------------+-------------------+-----------------+------------------------------------+-----------------------------------+---------------------------+"
      ]
     },
     "execution_count": 124,
     "metadata": {},
     "output_type": "execute_result"
    }
   ],
   "source": [
    "%%sql discordia\n",
    "\n",
    "SELECT \n",
    "    house_divisions.debate_id,\n",
    "    lisa.house_division_id,\n",
    "    CASE WHEN lisa.is_vote_aye = 1 THEN 'aye' ELSE 'no' END AS 'How Lisa voted:',\n",
    "    SUM(CASE WHEN other_mps.is_vote_aye = 1 THEN 1 ELSE 0 END) AS 'How many other Tory MPs voted aye:',\n",
    "    SUM(CASE WHEN other_mps.is_vote_aye = 0 THEN 1 ELSE 0 END) AS 'How many other Tory MPs voted no:',\n",
    "    CASE WHEN lisa.is_vote_aye != CASE WHEN other_mps.is_vote_aye = 1 THEN 1 ELSE 0 END THEN 'AGAINST' ELSE 'WITH ' END AS 'Was Lisa in the majority?'\n",
    "FROM\n",
    "    (SELECT \n",
    "        mp.party,\n",
    "        votes.house_division_id,\n",
    "        votes.is_vote_aye\n",
    "     FROM\n",
    "        votes\n",
    "     LEFT JOIN\n",
    "         mp\n",
    "     USING(mp_id)\n",
    "     WHERE votes.mp_id = \"25276\" AND mp.term_start == 2017) lisa\n",
    "LEFT OUTER JOIN\n",
    "    (SELECT\n",
    "        votes.house_division_id,\n",
    "        votes.is_vote_aye,\n",
    "        mp.party\n",
    "     FROM\n",
    "        votes\n",
    "     LEFT JOIN\n",
    "        mp\n",
    "     ON\n",
    "        votes.mp_id = mp.mp_id\n",
    "     WHERE votes.mp_id != \"25276\" AND mp.term_start == 2017) other_mps\n",
    "     ON\n",
    "        lisa.house_division_id = other_mps.house_division_id AND\n",
    "        lisa.party = other_mps.party\n",
    "LEFT JOIN\n",
    "      house_divisions\n",
    "USING (house_division_id)\n",
    "GROUP BY\n",
    "   lisa.is_vote_aye,\n",
    "   house_divisions.debate_id,\n",
    "   lisa.house_division_id\n",
    "ORDER BY\n",
    "   house_divisions.debate_id ASC"
   ]
  },
  {
   "cell_type": "markdown",
   "metadata": {},
   "source": [
    "## 2.2 Why is she so against her own party?\n",
    "\n",
    "Maybe looking at her speeches can give us some clues.\n",
    "\n",
    "Fist, I will expand on the table above to indicate whether she spoke during the debate or not."
   ]
  },
  {
   "cell_type": "code",
   "execution_count": 125,
   "metadata": {
    "vscode": {
     "languageId": "sql"
    }
   },
   "outputs": [
    {
     "data": {
      "text/html": [
       "<table>\n",
       "    <thead>\n",
       "        <tr>\n",
       "            <th>debate_id</th>\n",
       "            <th>house_division_id</th>\n",
       "            <th># speeches in debate</th>\n",
       "            <th># speeches in day</th>\n",
       "            <th>How Lisa voted:</th>\n",
       "            <th># Tory MPs voted aye:</th>\n",
       "            <th># Tory MPs voted no:</th>\n",
       "            <th>How Lisa voted</th>\n",
       "        </tr>\n",
       "    </thead>\n",
       "    <tbody>\n",
       "        <tr>\n",
       "            <td>2023-01-11e.566.1</td>\n",
       "            <td>g613.0</td>\n",
       "            <td>0</td>\n",
       "            <td>0</td>\n",
       "            <td>aye</td>\n",
       "            <td>0</td>\n",
       "            <td>302</td>\n",
       "            <td>AGAINST HER PARTY</td>\n",
       "        </tr>\n",
       "        <tr>\n",
       "            <td>2023-01-16f.139.0</td>\n",
       "            <td>g140.0</td>\n",
       "            <td>0</td>\n",
       "            <td>0</td>\n",
       "            <td>no</td>\n",
       "            <td>303</td>\n",
       "            <td>0</td>\n",
       "            <td>AGAINST HER PARTY</td>\n",
       "        </tr>\n",
       "        <tr>\n",
       "            <td>2023-01-16f.144.0</td>\n",
       "            <td>g144.2</td>\n",
       "            <td>0</td>\n",
       "            <td>0</td>\n",
       "            <td>no</td>\n",
       "            <td>301</td>\n",
       "            <td>0</td>\n",
       "            <td>AGAINST HER PARTY</td>\n",
       "        </tr>\n",
       "        <tr>\n",
       "            <td>2023-01-16f.54.0</td>\n",
       "            <td>g135.0</td>\n",
       "            <td>0</td>\n",
       "            <td>0</td>\n",
       "            <td>no</td>\n",
       "            <td>307</td>\n",
       "            <td>1</td>\n",
       "            <td>AGAINST HER PARTY</td>\n",
       "        </tr>\n",
       "        <tr>\n",
       "            <td>2023-01-16f.54.0</td>\n",
       "            <td>g131.5</td>\n",
       "            <td>0</td>\n",
       "            <td>0</td>\n",
       "            <td>aye</td>\n",
       "            <td>1</td>\n",
       "            <td>298</td>\n",
       "            <td>AGAINST HER PARTY</td>\n",
       "        </tr>\n",
       "        <tr>\n",
       "            <td>2023-01-17c.228.0</td>\n",
       "            <td>g262.0</td>\n",
       "            <td>0</td>\n",
       "            <td>0</td>\n",
       "            <td>no</td>\n",
       "            <td>310</td>\n",
       "            <td>0</td>\n",
       "            <td>AGAINST HER PARTY</td>\n",
       "        </tr>\n",
       "        <tr>\n",
       "            <td>2023-01-31b.278.0</td>\n",
       "            <td>g308.0</td>\n",
       "            <td>0</td>\n",
       "            <td>1</td>\n",
       "            <td>aye</td>\n",
       "            <td>0</td>\n",
       "            <td>297</td>\n",
       "            <td>AGAINST HER PARTY</td>\n",
       "        </tr>\n",
       "        <tr>\n",
       "            <td>2023-02-21c.193.0</td>\n",
       "            <td>g194.6</td>\n",
       "            <td>0</td>\n",
       "            <td>0</td>\n",
       "            <td>no</td>\n",
       "            <td>252</td>\n",
       "            <td>0</td>\n",
       "            <td>AGAINST HER PARTY</td>\n",
       "        </tr>\n",
       "        <tr>\n",
       "            <td>2023-02-28d.701.0</td>\n",
       "            <td>g710.0</td>\n",
       "            <td>0</td>\n",
       "            <td>0</td>\n",
       "            <td>aye</td>\n",
       "            <td>0</td>\n",
       "            <td>0</td>\n",
       "            <td>WITH HER PARTY</td>\n",
       "        </tr>\n",
       "        <tr>\n",
       "            <td>2023-03-13b.573.0</td>\n",
       "            <td>g647.0</td>\n",
       "            <td>0</td>\n",
       "            <td>0</td>\n",
       "            <td>no</td>\n",
       "            <td>308</td>\n",
       "            <td>0</td>\n",
       "            <td>AGAINST HER PARTY</td>\n",
       "        </tr>\n",
       "        <tr>\n",
       "            <td>2023-03-13b.573.0</td>\n",
       "            <td>g643.0</td>\n",
       "            <td>0</td>\n",
       "            <td>0</td>\n",
       "            <td>aye</td>\n",
       "            <td>0</td>\n",
       "            <td>308</td>\n",
       "            <td>AGAINST HER PARTY</td>\n",
       "        </tr>\n",
       "        <tr>\n",
       "            <td>2023-03-13b.651.0</td>\n",
       "            <td>g652.0</td>\n",
       "            <td>0</td>\n",
       "            <td>0</td>\n",
       "            <td>no</td>\n",
       "            <td>308</td>\n",
       "            <td>0</td>\n",
       "            <td>AGAINST HER PARTY</td>\n",
       "        </tr>\n",
       "        <tr>\n",
       "            <td>2023-03-13b.656.0</td>\n",
       "            <td>g656.2</td>\n",
       "            <td>0</td>\n",
       "            <td>0</td>\n",
       "            <td>no</td>\n",
       "            <td>306</td>\n",
       "            <td>0</td>\n",
       "            <td>AGAINST HER PARTY</td>\n",
       "        </tr>\n",
       "        <tr>\n",
       "            <td>2023-03-21c.273.0</td>\n",
       "            <td>g274.0</td>\n",
       "            <td>0</td>\n",
       "            <td>0</td>\n",
       "            <td>no</td>\n",
       "            <td>316</td>\n",
       "            <td>0</td>\n",
       "            <td>AGAINST HER PARTY</td>\n",
       "        </tr>\n",
       "        <tr>\n",
       "            <td>2023-03-21c.282.4</td>\n",
       "            <td>g282.6</td>\n",
       "            <td>0</td>\n",
       "            <td>0</td>\n",
       "            <td>no</td>\n",
       "            <td>314</td>\n",
       "            <td>0</td>\n",
       "            <td>AGAINST HER PARTY</td>\n",
       "        </tr>\n",
       "        <tr>\n",
       "            <td>2023-03-22b.338.0</td>\n",
       "            <td>g364.0</td>\n",
       "            <td>0</td>\n",
       "            <td>0</td>\n",
       "            <td>aye</td>\n",
       "            <td>283</td>\n",
       "            <td>20</td>\n",
       "            <td>WITH HER PARTY</td>\n",
       "        </tr>\n",
       "        <tr>\n",
       "            <td>2023-03-29c.1044.0</td>\n",
       "            <td>g1105.0</td>\n",
       "            <td>0</td>\n",
       "            <td>0</td>\n",
       "            <td>aye</td>\n",
       "            <td>0</td>\n",
       "            <td>282</td>\n",
       "            <td>AGAINST HER PARTY</td>\n",
       "        </tr>\n",
       "        <tr>\n",
       "            <td>2023-04-25c.659.0</td>\n",
       "            <td>g698.1</td>\n",
       "            <td>0</td>\n",
       "            <td>1</td>\n",
       "            <td>aye</td>\n",
       "            <td>0</td>\n",
       "            <td>281</td>\n",
       "            <td>AGAINST HER PARTY</td>\n",
       "        </tr>\n",
       "        <tr>\n",
       "            <td>2023-05-16c.715.1</td>\n",
       "            <td>g769.0</td>\n",
       "            <td>0</td>\n",
       "            <td>0</td>\n",
       "            <td>no</td>\n",
       "            <td>281</td>\n",
       "            <td>0</td>\n",
       "            <td>AGAINST HER PARTY</td>\n",
       "        </tr>\n",
       "        <tr>\n",
       "            <td>2023-05-16c.715.1</td>\n",
       "            <td>g766.0</td>\n",
       "            <td>0</td>\n",
       "            <td>0</td>\n",
       "            <td>aye</td>\n",
       "            <td>0</td>\n",
       "            <td>285</td>\n",
       "            <td>AGAINST HER PARTY</td>\n",
       "        </tr>\n",
       "        <tr>\n",
       "            <td>2023-05-16c.772.0</td>\n",
       "            <td>g811.1</td>\n",
       "            <td>0</td>\n",
       "            <td>0</td>\n",
       "            <td>aye</td>\n",
       "            <td>0</td>\n",
       "            <td>276</td>\n",
       "            <td>AGAINST HER PARTY</td>\n",
       "        </tr>\n",
       "        <tr>\n",
       "            <td>2023-05-24c.372.0</td>\n",
       "            <td>g385.0</td>\n",
       "            <td>0</td>\n",
       "            <td>0</td>\n",
       "            <td>no</td>\n",
       "            <td>291</td>\n",
       "            <td>0</td>\n",
       "            <td>AGAINST HER PARTY</td>\n",
       "        </tr>\n",
       "        <tr>\n",
       "            <td>2023-06-12b.53.0</td>\n",
       "            <td>g76.0</td>\n",
       "            <td>0</td>\n",
       "            <td>0</td>\n",
       "            <td>no</td>\n",
       "            <td>273</td>\n",
       "            <td>0</td>\n",
       "            <td>AGAINST HER PARTY</td>\n",
       "        </tr>\n",
       "        <tr>\n",
       "            <td>2023-06-14b.312.3</td>\n",
       "            <td>g362.0</td>\n",
       "            <td>0</td>\n",
       "            <td>0</td>\n",
       "            <td>aye</td>\n",
       "            <td>0</td>\n",
       "            <td>255</td>\n",
       "            <td>AGAINST HER PARTY</td>\n",
       "        </tr>\n",
       "        <tr>\n",
       "            <td>2023-06-21c.849.1</td>\n",
       "            <td>g900.3</td>\n",
       "            <td>0</td>\n",
       "            <td>0</td>\n",
       "            <td>aye</td>\n",
       "            <td>0</td>\n",
       "            <td>250</td>\n",
       "            <td>AGAINST HER PARTY</td>\n",
       "        </tr>\n",
       "        <tr>\n",
       "            <td>2023-07-03b.586.0</td>\n",
       "            <td>g661.0</td>\n",
       "            <td>0</td>\n",
       "            <td>0</td>\n",
       "            <td>no</td>\n",
       "            <td>262</td>\n",
       "            <td>2</td>\n",
       "            <td>AGAINST HER PARTY</td>\n",
       "        </tr>\n",
       "        <tr>\n",
       "            <td>2023-07-03b.586.0</td>\n",
       "            <td>g657.0</td>\n",
       "            <td>0</td>\n",
       "            <td>0</td>\n",
       "            <td>aye</td>\n",
       "            <td>2</td>\n",
       "            <td>268</td>\n",
       "            <td>AGAINST HER PARTY</td>\n",
       "        </tr>\n",
       "        <tr>\n",
       "            <td>2023-07-11e.213.0</td>\n",
       "            <td>g249.0</td>\n",
       "            <td>0</td>\n",
       "            <td>0</td>\n",
       "            <td>no</td>\n",
       "            <td>302</td>\n",
       "            <td>0</td>\n",
       "            <td>AGAINST HER PARTY</td>\n",
       "        </tr>\n",
       "        <tr>\n",
       "            <td>2023-09-12c.847.0</td>\n",
       "            <td>g869.0</td>\n",
       "            <td>0</td>\n",
       "            <td>0</td>\n",
       "            <td>no</td>\n",
       "            <td>269</td>\n",
       "            <td>2</td>\n",
       "            <td>AGAINST HER PARTY</td>\n",
       "        </tr>\n",
       "        <tr>\n",
       "            <td>2023-11-14b.534.3</td>\n",
       "            <td>g614.1</td>\n",
       "            <td>0</td>\n",
       "            <td>0</td>\n",
       "            <td>no</td>\n",
       "            <td>0</td>\n",
       "            <td>302</td>\n",
       "            <td>WITH HER PARTY</td>\n",
       "        </tr>\n",
       "        <tr>\n",
       "            <td>2023-11-15b.674.3</td>\n",
       "            <td>g754.0</td>\n",
       "            <td>0</td>\n",
       "            <td>0</td>\n",
       "            <td>no</td>\n",
       "            <td>0</td>\n",
       "            <td>286</td>\n",
       "            <td>WITH HER PARTY</td>\n",
       "        </tr>\n",
       "        <tr>\n",
       "            <td>2023-11-15b.674.3</td>\n",
       "            <td>g757.0</td>\n",
       "            <td>0</td>\n",
       "            <td>0</td>\n",
       "            <td>no</td>\n",
       "            <td>0</td>\n",
       "            <td>290</td>\n",
       "            <td>WITH HER PARTY</td>\n",
       "        </tr>\n",
       "        <tr>\n",
       "            <td>2023-11-15b.674.3</td>\n",
       "            <td>g761.0</td>\n",
       "            <td>0</td>\n",
       "            <td>0</td>\n",
       "            <td>no</td>\n",
       "            <td>0</td>\n",
       "            <td>299</td>\n",
       "            <td>WITH HER PARTY</td>\n",
       "        </tr>\n",
       "        <tr>\n",
       "            <td>2023-11-29b.1033.0</td>\n",
       "            <td>g1033.3</td>\n",
       "            <td>0</td>\n",
       "            <td>0</td>\n",
       "            <td>aye</td>\n",
       "            <td>289</td>\n",
       "            <td>2</td>\n",
       "            <td>WITH HER PARTY</td>\n",
       "        </tr>\n",
       "        <tr>\n",
       "            <td>2023-11-29b.848.0</td>\n",
       "            <td>g850.0</td>\n",
       "            <td>0</td>\n",
       "            <td>0</td>\n",
       "            <td>no</td>\n",
       "            <td>2</td>\n",
       "            <td>268</td>\n",
       "            <td>WITH HER PARTY</td>\n",
       "        </tr>\n",
       "    </tbody>\n",
       "</table>"
      ],
      "text/plain": [
       "+--------------------+-------------------+----------------------+-------------------+-----------------+-----------------------+----------------------+-------------------+\n",
       "|     debate_id      | house_division_id | # speeches in debate | # speeches in day | How Lisa voted: | # Tory MPs voted aye: | # Tory MPs voted no: |   How Lisa voted  |\n",
       "+--------------------+-------------------+----------------------+-------------------+-----------------+-----------------------+----------------------+-------------------+\n",
       "| 2023-01-11e.566.1  |       g613.0      |          0           |         0         |       aye       |           0           |         302          | AGAINST HER PARTY |\n",
       "| 2023-01-16f.139.0  |       g140.0      |          0           |         0         |        no       |          303          |          0           | AGAINST HER PARTY |\n",
       "| 2023-01-16f.144.0  |       g144.2      |          0           |         0         |        no       |          301          |          0           | AGAINST HER PARTY |\n",
       "|  2023-01-16f.54.0  |       g135.0      |          0           |         0         |        no       |          307          |          1           | AGAINST HER PARTY |\n",
       "|  2023-01-16f.54.0  |       g131.5      |          0           |         0         |       aye       |           1           |         298          | AGAINST HER PARTY |\n",
       "| 2023-01-17c.228.0  |       g262.0      |          0           |         0         |        no       |          310          |          0           | AGAINST HER PARTY |\n",
       "| 2023-01-31b.278.0  |       g308.0      |          0           |         1         |       aye       |           0           |         297          | AGAINST HER PARTY |\n",
       "| 2023-02-21c.193.0  |       g194.6      |          0           |         0         |        no       |          252          |          0           | AGAINST HER PARTY |\n",
       "| 2023-02-28d.701.0  |       g710.0      |          0           |         0         |       aye       |           0           |          0           |   WITH HER PARTY  |\n",
       "| 2023-03-13b.573.0  |       g647.0      |          0           |         0         |        no       |          308          |          0           | AGAINST HER PARTY |\n",
       "| 2023-03-13b.573.0  |       g643.0      |          0           |         0         |       aye       |           0           |         308          | AGAINST HER PARTY |\n",
       "| 2023-03-13b.651.0  |       g652.0      |          0           |         0         |        no       |          308          |          0           | AGAINST HER PARTY |\n",
       "| 2023-03-13b.656.0  |       g656.2      |          0           |         0         |        no       |          306          |          0           | AGAINST HER PARTY |\n",
       "| 2023-03-21c.273.0  |       g274.0      |          0           |         0         |        no       |          316          |          0           | AGAINST HER PARTY |\n",
       "| 2023-03-21c.282.4  |       g282.6      |          0           |         0         |        no       |          314          |          0           | AGAINST HER PARTY |\n",
       "| 2023-03-22b.338.0  |       g364.0      |          0           |         0         |       aye       |          283          |          20          |   WITH HER PARTY  |\n",
       "| 2023-03-29c.1044.0 |      g1105.0      |          0           |         0         |       aye       |           0           |         282          | AGAINST HER PARTY |\n",
       "| 2023-04-25c.659.0  |       g698.1      |          0           |         1         |       aye       |           0           |         281          | AGAINST HER PARTY |\n",
       "| 2023-05-16c.715.1  |       g769.0      |          0           |         0         |        no       |          281          |          0           | AGAINST HER PARTY |\n",
       "| 2023-05-16c.715.1  |       g766.0      |          0           |         0         |       aye       |           0           |         285          | AGAINST HER PARTY |\n",
       "| 2023-05-16c.772.0  |       g811.1      |          0           |         0         |       aye       |           0           |         276          | AGAINST HER PARTY |\n",
       "| 2023-05-24c.372.0  |       g385.0      |          0           |         0         |        no       |          291          |          0           | AGAINST HER PARTY |\n",
       "|  2023-06-12b.53.0  |       g76.0       |          0           |         0         |        no       |          273          |          0           | AGAINST HER PARTY |\n",
       "| 2023-06-14b.312.3  |       g362.0      |          0           |         0         |       aye       |           0           |         255          | AGAINST HER PARTY |\n",
       "| 2023-06-21c.849.1  |       g900.3      |          0           |         0         |       aye       |           0           |         250          | AGAINST HER PARTY |\n",
       "| 2023-07-03b.586.0  |       g661.0      |          0           |         0         |        no       |          262          |          2           | AGAINST HER PARTY |\n",
       "| 2023-07-03b.586.0  |       g657.0      |          0           |         0         |       aye       |           2           |         268          | AGAINST HER PARTY |\n",
       "| 2023-07-11e.213.0  |       g249.0      |          0           |         0         |        no       |          302          |          0           | AGAINST HER PARTY |\n",
       "| 2023-09-12c.847.0  |       g869.0      |          0           |         0         |        no       |          269          |          2           | AGAINST HER PARTY |\n",
       "| 2023-11-14b.534.3  |       g614.1      |          0           |         0         |        no       |           0           |         302          |   WITH HER PARTY  |\n",
       "| 2023-11-15b.674.3  |       g754.0      |          0           |         0         |        no       |           0           |         286          |   WITH HER PARTY  |\n",
       "| 2023-11-15b.674.3  |       g757.0      |          0           |         0         |        no       |           0           |         290          |   WITH HER PARTY  |\n",
       "| 2023-11-15b.674.3  |       g761.0      |          0           |         0         |        no       |           0           |         299          |   WITH HER PARTY  |\n",
       "| 2023-11-29b.1033.0 |      g1033.3      |          0           |         0         |       aye       |          289          |          2           |   WITH HER PARTY  |\n",
       "| 2023-11-29b.848.0  |       g850.0      |          0           |         0         |        no       |           2           |         268          |   WITH HER PARTY  |\n",
       "+--------------------+-------------------+----------------------+-------------------+-----------------+-----------------------+----------------------+-------------------+"
      ]
     },
     "execution_count": 125,
     "metadata": {},
     "output_type": "execute_result"
    }
   ],
   "source": [
    "%%sql discordia\n",
    "\n",
    "SELECT \n",
    "    house_divisions.debate_id,\n",
    "    lisa.house_division_id,\n",
    "    COALESCE(lisa_speeches_debate.num_speeches_debate, 0) AS '# speeches in debate',\n",
    "    COALESCE(lisa_speeches_day.num_speeches_day, 0) AS '# speeches in day',\n",
    "    CASE WHEN lisa.is_vote_aye = 1 THEN 'aye' ELSE 'no' END AS 'How Lisa voted:',\n",
    "    SUM(CASE WHEN other_mps.is_vote_aye = 1 THEN 1 ELSE 0 END) AS '# Tory MPs voted aye:',\n",
    "    SUM(CASE WHEN other_mps.is_vote_aye = 0 THEN 1 ELSE 0 END) AS '# Tory MPs voted no:',\n",
    "    CASE WHEN SUM(lisa.is_vote_aye != other_mps.is_vote_aye) > SUM(lisa.is_vote_aye = other_mps.is_vote_aye) THEN 'AGAINST HER PARTY' ELSE 'WITH HER PARTY' END AS 'How Lisa voted'\n",
    "FROM\n",
    "    (SELECT \n",
    "        mp.party,\n",
    "        votes.house_division_id,\n",
    "        votes.is_vote_aye\n",
    "     FROM\n",
    "        votes\n",
    "     LEFT JOIN\n",
    "         mp\n",
    "     USING(mp_id)\n",
    "     WHERE votes.mp_id = \"25276\" AND mp.term_start == 2017) lisa\n",
    "LEFT OUTER JOIN\n",
    "    (SELECT\n",
    "        votes.house_division_id,\n",
    "        votes.is_vote_aye,\n",
    "        mp.party\n",
    "     FROM\n",
    "        votes\n",
    "     LEFT JOIN\n",
    "        mp\n",
    "     ON\n",
    "        votes.mp_id = mp.mp_id\n",
    "     WHERE votes.mp_id != \"25276\" AND mp.term_start == 2017) other_mps\n",
    "     ON\n",
    "        lisa.house_division_id = other_mps.house_division_id AND\n",
    "        lisa.party = other_mps.party\n",
    "LEFT JOIN\n",
    "      house_divisions\n",
    "USING (house_division_id)\n",
    "LEFT JOIN\n",
    "      (\n",
    "         SELECT\n",
    "            speeches.debate_id,\n",
    "            speeches.speaker_id AS mp_id,\n",
    "            COUNT(speeches.speech_id) AS num_speeches_debate\n",
    "         FROM\n",
    "            speeches\n",
    "         WHERE\n",
    "            speeches.speaker_id = \"25276\"\n",
    "         GROUP BY\n",
    "            speeches.debate_id,\n",
    "            speeches.speaker_id\n",
    "      ) lisa_speeches_debate\n",
    "ON\n",
    "      house_divisions.debate_id = lisa_speeches_debate.debate_id\n",
    "LEFT JOIN\n",
    "      (\n",
    "         SELECT\n",
    "            SUBSTR(speeches.debate_id, 1, 10) AS debate_day,\n",
    "            speeches.speaker_id AS mp_id,\n",
    "            COUNT(speeches.speech_id) AS num_speeches_day\n",
    "         FROM\n",
    "            speeches\n",
    "         WHERE\n",
    "            speeches.speaker_id = \"25276\"\n",
    "         GROUP BY\n",
    "            debate_day,\n",
    "            speeches.speaker_id\n",
    "      ) lisa_speeches_day\n",
    "ON\n",
    "      SUBSTR(house_divisions.debate_id, 1, 10) = lisa_speeches_day.debate_day\n",
    "GROUP BY\n",
    "   lisa.is_vote_aye,\n",
    "   house_divisions.debate_id,\n",
    "   lisa.house_division_id\n",
    "ORDER BY\n",
    "   house_divisions.debate_id ASC"
   ]
  },
  {
   "cell_type": "markdown",
   "metadata": {},
   "source": [
    "## 2.3 Lisa Cameron's utterances\n",
    "\n",
    "💡 **Lisa never speaks during the debates.**\n",
    "\n",
    "On the days where there were house divisions, she only spoke twice. Once on 2023-01-31 and once on 2023-04-25. Let's see what she said on those days."
   ]
  },
  {
   "cell_type": "code",
   "execution_count": 269,
   "metadata": {
    "vscode": {
     "languageId": "sql"
    }
   },
   "outputs": [
    {
     "data": {
      "text/html": [
       "<span style=\"None\">Running query in &#x27;discordia&#x27;</span>"
      ],
      "text/plain": [
       "Running query in 'discordia'"
      ]
     },
     "metadata": {},
     "output_type": "display_data"
    }
   ],
   "source": [
    "%%sql lisa_speeches <<\n",
    "\n",
    "SELECT *\n",
    "FROM\n",
    "    speeches\n",
    "WHERE\n",
    "    speaker_id = \"25276\"\n",
    "ORDER BY \n",
    "    debate_id ASC"
   ]
  },
  {
   "cell_type": "code",
   "execution_count": 271,
   "metadata": {
    "vscode": {
     "languageId": "sql"
    }
   },
   "outputs": [],
   "source": [
    "lisa_speeches = lisa_speeches.DataFrame()"
   ]
  },
  {
   "cell_type": "code",
   "execution_count": 276,
   "metadata": {
    "vscode": {
     "languageId": "sql"
    }
   },
   "outputs": [],
   "source": [
    "lisa_speeches['debate_day'] = lisa_speeches['debate_id'].str[:10]\n",
    "lisa_speeches.set_index('debate_day', inplace=True)"
   ]
  },
  {
   "cell_type": "markdown",
   "metadata": {},
   "source": [
    "### 31/01/2023: On Blockchain"
   ]
  },
  {
   "cell_type": "code",
   "execution_count": 284,
   "metadata": {
    "vscode": {
     "languageId": "sql"
    }
   },
   "outputs": [
    {
     "data": {
      "text/html": [
       "<div>\n",
       "<style scoped>\n",
       "    .dataframe tbody tr th:only-of-type {\n",
       "        vertical-align: middle;\n",
       "    }\n",
       "\n",
       "    .dataframe tbody tr th {\n",
       "        vertical-align: top;\n",
       "    }\n",
       "\n",
       "    .dataframe thead th {\n",
       "        text-align: right;\n",
       "    }\n",
       "</style>\n",
       "<table border=\"1\" class=\"dataframe\">\n",
       "  <thead>\n",
       "    <tr style=\"text-align: right;\">\n",
       "      <th></th>\n",
       "      <th>debate_id</th>\n",
       "      <th>speech_id</th>\n",
       "      <th>speaker_id</th>\n",
       "      <th>speaker_position</th>\n",
       "      <th>speech_html</th>\n",
       "      <th>speech_raw_text</th>\n",
       "    </tr>\n",
       "    <tr>\n",
       "      <th>debate_day</th>\n",
       "      <th></th>\n",
       "      <th></th>\n",
       "      <th></th>\n",
       "      <th></th>\n",
       "      <th></th>\n",
       "      <th></th>\n",
       "    </tr>\n",
       "  </thead>\n",
       "  <tbody>\n",
       "    <tr>\n",
       "      <th>2023-01-31</th>\n",
       "      <td>2023-01-31b.197.0</td>\n",
       "      <td>g201.2</td>\n",
       "      <td>25276</td>\n",
       "      <td>Scottish National Party, East Kilbride, Strath...</td>\n",
       "      <td>&lt;p pid=\"b201.2/1\" qnum=\"903394\"&gt;\\n [R] As chai...</td>\n",
       "      <td>[R] As chair of the all-party parliamentary gr...</td>\n",
       "    </tr>\n",
       "  </tbody>\n",
       "</table>\n",
       "</div>"
      ],
      "text/plain": [
       "                    debate_id speech_id speaker_id  \\\n",
       "debate_day                                           \n",
       "2023-01-31  2023-01-31b.197.0    g201.2      25276   \n",
       "\n",
       "                                             speaker_position  \\\n",
       "debate_day                                                      \n",
       "2023-01-31  Scottish National Party, East Kilbride, Strath...   \n",
       "\n",
       "                                                  speech_html  \\\n",
       "debate_day                                                      \n",
       "2023-01-31  <p pid=\"b201.2/1\" qnum=\"903394\">\\n [R] As chai...   \n",
       "\n",
       "                                              speech_raw_text  \n",
       "debate_day                                                     \n",
       "2023-01-31  [R] As chair of the all-party parliamentary gr...  "
      ]
     },
     "execution_count": 284,
     "metadata": {},
     "output_type": "execute_result"
    }
   ],
   "source": [
    "lisa_speeches.loc[['2023-01-31']]"
   ]
  },
  {
   "cell_type": "code",
   "execution_count": 281,
   "metadata": {
    "vscode": {
     "languageId": "sql"
    }
   },
   "outputs": [
    {
     "data": {
      "text/html": [
       "<p pid=\"b201.2/1\" qnum=\"903394\">\n",
       " [R] As chair of the all-party parliamentary group for crypto and digital assets, I have been reading about the success of Oxfam’s UnBlocked Cash project. It uses blockchain technology to ensure the digital identity of recipients, and it has won the European Horizon prize and the\n",
       " <a href=\"https://en.wikipedia.org/wiki/World_Summit\" rel=\"nofollow\">\n",
       "  World Summit\n",
       " </a>\n",
       " award. What progress has the Department made on maximising UK aid reaching the most vulnerable via blockchain and distributed ledger technology?\n",
       "</p>\n"
      ],
      "text/plain": [
       "<IPython.core.display.HTML object>"
      ]
     },
     "metadata": {},
     "output_type": "display_data"
    }
   ],
   "source": [
    "show_HTML(lisa_speeches.loc['2023-01-31']['speech_html'])"
   ]
  },
  {
   "cell_type": "markdown",
   "metadata": {},
   "source": [
    "This was part of questions made to the Foreign Secretary of Foreign, Commonwealth and Development Affairs. "
   ]
  },
  {
   "cell_type": "code",
   "execution_count": 289,
   "metadata": {
    "vscode": {
     "languageId": "sql"
    }
   },
   "outputs": [
    {
     "data": {
      "text/html": [
       "<table>\n",
       "    <thead>\n",
       "        <tr>\n",
       "            <th>debate_id</th>\n",
       "            <th>debate_excerpt</th>\n",
       "            <th>url</th>\n",
       "            <th>title</th>\n",
       "            <th>section</th>\n",
       "            <th>section_excerpt</th>\n",
       "        </tr>\n",
       "    </thead>\n",
       "    <tbody>\n",
       "        <tr>\n",
       "            <td>2023-01-31b.197.0</td>\n",
       "            <td>If he will make a statement on his departmental responsibilities.</td>\n",
       "            <td><a href=https://www.theyworkforyou.com/debates/?id=2023-01-31b.197.0>https://www.theyworkforyou.com/debates/?id=2023-01-31b.197.0</a></td>\n",
       "            <td>Topical Questions</td>\n",
       "            <td>Foreign, Commonwealth and Development Office</td>\n",
       "            <td>The Secretary of State was asked—</td>\n",
       "        </tr>\n",
       "    </tbody>\n",
       "</table>"
      ],
      "text/plain": [
       "+-------------------+-------------------------------------------------------------------+---------------------------------------------------------------------------------------------------------------------------------------+-------------------+----------------------------------------------+-----------------------------------+\n",
       "|     debate_id     |                           debate_excerpt                          |                                                                  url                                                                  |       title       |                   section                    |          section_excerpt          |\n",
       "+-------------------+-------------------------------------------------------------------+---------------------------------------------------------------------------------------------------------------------------------------+-------------------+----------------------------------------------+-----------------------------------+\n",
       "| 2023-01-31b.197.0 | If he will make a statement on his departmental responsibilities. | <a href=https://www.theyworkforyou.com/debates/?id=2023-01-31b.197.0>https://www.theyworkforyou.com/debates/?id=2023-01-31b.197.0</a> | Topical Questions | Foreign, Commonwealth and Development Office | The Secretary of State was asked— |\n",
       "+-------------------+-------------------------------------------------------------------+---------------------------------------------------------------------------------------------------------------------------------------+-------------------+----------------------------------------------+-----------------------------------+"
      ]
     },
     "execution_count": 289,
     "metadata": {},
     "output_type": "execute_result"
    }
   ],
   "source": [
    "%%sql discordia\n",
    "\n",
    "SELECT \n",
    "    *\n",
    "FROM \n",
    "    debates\n",
    "WHERE  \n",
    "    debate_id == '2023-01-31b.197.0'"
   ]
  },
  {
   "attachments": {
    "image.png": {
     "image/png": "[encoded data removed]"
    }
   },
   "cell_type": "markdown",
   "metadata": {},
   "source": [
    "The exchange that ensued and the question she got was just as empty as the question...\n",
    "\n",
    "![image.png](attachment:image.png)"
   ]
  },
  {
   "cell_type": "markdown",
   "metadata": {},
   "source": [
    "### 25/04/2023: On GP appointments"
   ]
  },
  {
   "cell_type": "code",
   "execution_count": 285,
   "metadata": {
    "vscode": {
     "languageId": "sql"
    }
   },
   "outputs": [
    {
     "data": {
      "text/html": [
       "<div>\n",
       "<style scoped>\n",
       "    .dataframe tbody tr th:only-of-type {\n",
       "        vertical-align: middle;\n",
       "    }\n",
       "\n",
       "    .dataframe tbody tr th {\n",
       "        vertical-align: top;\n",
       "    }\n",
       "\n",
       "    .dataframe thead th {\n",
       "        text-align: right;\n",
       "    }\n",
       "</style>\n",
       "<table border=\"1\" class=\"dataframe\">\n",
       "  <thead>\n",
       "    <tr style=\"text-align: right;\">\n",
       "      <th></th>\n",
       "      <th>debate_id</th>\n",
       "      <th>speech_id</th>\n",
       "      <th>speaker_id</th>\n",
       "      <th>speaker_position</th>\n",
       "      <th>speech_html</th>\n",
       "      <th>speech_raw_text</th>\n",
       "    </tr>\n",
       "    <tr>\n",
       "      <th>debate_day</th>\n",
       "      <th></th>\n",
       "      <th></th>\n",
       "      <th></th>\n",
       "      <th></th>\n",
       "      <th></th>\n",
       "      <th></th>\n",
       "    </tr>\n",
       "  </thead>\n",
       "  <tbody>\n",
       "    <tr>\n",
       "      <th>2023-04-25</th>\n",
       "      <td>2023-04-25c.581.1</td>\n",
       "      <td>g585.4</td>\n",
       "      <td>25276</td>\n",
       "      <td>Scottish National Party, East Kilbride, Strath...</td>\n",
       "      <td>&lt;p pid=\"c585.4/1\" qnum=\"904629\"&gt;\\n As chair of...</td>\n",
       "      <td>As chair of the all-party parliamentary health...</td>\n",
       "    </tr>\n",
       "  </tbody>\n",
       "</table>\n",
       "</div>"
      ],
      "text/plain": [
       "                    debate_id speech_id speaker_id  \\\n",
       "debate_day                                           \n",
       "2023-04-25  2023-04-25c.581.1    g585.4      25276   \n",
       "\n",
       "                                             speaker_position  \\\n",
       "debate_day                                                      \n",
       "2023-04-25  Scottish National Party, East Kilbride, Strath...   \n",
       "\n",
       "                                                  speech_html  \\\n",
       "debate_day                                                      \n",
       "2023-04-25  <p pid=\"c585.4/1\" qnum=\"904629\">\\n As chair of...   \n",
       "\n",
       "                                              speech_raw_text  \n",
       "debate_day                                                     \n",
       "2023-04-25  As chair of the all-party parliamentary health...  "
      ]
     },
     "execution_count": 285,
     "metadata": {},
     "output_type": "execute_result"
    }
   ],
   "source": [
    "lisa_speeches.loc[['2023-04-25']]"
   ]
  },
  {
   "cell_type": "code",
   "execution_count": 286,
   "metadata": {
    "vscode": {
     "languageId": "sql"
    }
   },
   "outputs": [
    {
     "data": {
      "text/html": [
       "<p pid=\"c585.4/1\" qnum=\"904629\">\n",
       " As chair of the all-party parliamentary health group, I have heard from\n",
       " <a href=\"https://en.wikipedia.org/wiki/UK\" rel=\"nofollow\">\n",
       "  UK\n",
       " </a>\n",
       " patients who struggle to access GP appointments from chain GP practices. Many of those practices have very low ratios of GPs to patients, including, in one case, only two GPs registered for 30,000 patients. Will the Department meet the\n",
       " <a href=\"https://en.wikipedia.org/wiki/APPG\" rel=\"nofollow\">\n",
       "  APPG\n",
       " </a>\n",
       " to address these grave concerns?\n",
       "</p>\n"
      ],
      "text/plain": [
       "<IPython.core.display.HTML object>"
      ]
     },
     "metadata": {},
     "output_type": "display_data"
    }
   ],
   "source": [
    "show_HTML(lisa_speeches.loc['2023-04-25']['speech_html'])"
   ]
  },
  {
   "cell_type": "markdown",
   "metadata": {},
   "source": [
    "This one led to a more interesting exchange, but not relevant to our research question"
   ]
  },
  {
   "cell_type": "code",
   "execution_count": 290,
   "metadata": {
    "vscode": {
     "languageId": "sql"
    }
   },
   "outputs": [
    {
     "data": {
      "text/html": [
       "<table>\n",
       "    <thead>\n",
       "        <tr>\n",
       "            <th>debate_id</th>\n",
       "            <th>debate_excerpt</th>\n",
       "            <th>url</th>\n",
       "            <th>title</th>\n",
       "            <th>section</th>\n",
       "            <th>section_excerpt</th>\n",
       "        </tr>\n",
       "    </thead>\n",
       "    <tbody>\n",
       "        <tr>\n",
       "            <td>2023-04-25c.581.1</td>\n",
       "            <td>If he will make a statement on his departmental responsibilities.</td>\n",
       "            <td><a href=https://www.theyworkforyou.com/debates/?id=2023-04-25c.581.1>https://www.theyworkforyou.com/debates/?id=2023-04-25c.581.1</a></td>\n",
       "            <td>Topical Questions</td>\n",
       "            <td>Health and Social Care</td>\n",
       "            <td>The Secretary of State was asked—</td>\n",
       "        </tr>\n",
       "    </tbody>\n",
       "</table>"
      ],
      "text/plain": [
       "+-------------------+-------------------------------------------------------------------+---------------------------------------------------------------------------------------------------------------------------------------+-------------------+------------------------+-----------------------------------+\n",
       "|     debate_id     |                           debate_excerpt                          |                                                                  url                                                                  |       title       |        section         |          section_excerpt          |\n",
       "+-------------------+-------------------------------------------------------------------+---------------------------------------------------------------------------------------------------------------------------------------+-------------------+------------------------+-----------------------------------+\n",
       "| 2023-04-25c.581.1 | If he will make a statement on his departmental responsibilities. | <a href=https://www.theyworkforyou.com/debates/?id=2023-04-25c.581.1>https://www.theyworkforyou.com/debates/?id=2023-04-25c.581.1</a> | Topical Questions | Health and Social Care | The Secretary of State was asked— |\n",
       "+-------------------+-------------------------------------------------------------------+---------------------------------------------------------------------------------------------------------------------------------------+-------------------+------------------------+-----------------------------------+"
      ]
     },
     "execution_count": 290,
     "metadata": {},
     "output_type": "execute_result"
    }
   ],
   "source": [
    "%%sql discordia\n",
    "\n",
    "SELECT \n",
    "    *\n",
    "FROM \n",
    "    debates\n",
    "WHERE  \n",
    "    debate_id == '2023-04-25c.581.1'"
   ]
  },
  {
   "cell_type": "markdown",
   "metadata": {},
   "source": [
    "# Part 3: Rebel statistics\n",
    "\n",
    "How do I write a query to find a rebel MP that speaks during the debates? This was a complex task so I tried to elicit help from the AI overlords, but they were not very helpful. I ended up building the query myself, step by step and only used ChatGPT to optimise the query (with a CTE).\n",
    "\n",
    "## 3.1 What are the cases of dissent in which the 'rebel MP' spoke during the debate?"
   ]
  },
  {
   "cell_type": "code",
   "execution_count": 28,
   "metadata": {
    "vscode": {
     "languageId": "sql"
    }
   },
   "outputs": [
    {
     "data": {
      "text/html": [
       "<span style=\"None\">Skipping execution...</span>"
      ],
      "text/plain": [
       "Skipping execution..."
      ]
     },
     "metadata": {},
     "output_type": "display_data"
    }
   ],
   "source": [
    "%%sql discordia --save mp_votes --no-execute\n",
    "\n",
    "SELECT \n",
    "    votes.*, \n",
    "    mp.*,\n",
    "    house_divisions.debate_id\n",
    "FROM\n",
    "    votes\n",
    "INNER JOIN \n",
    "    mp USING(mp_id)\n",
    "LEFT JOIN\n",
    "    house_divisions\n",
    "USING (house_division_id)\n",
    "WHERE \n",
    "    mp.term_start = 2017"
   ]
  },
  {
   "cell_type": "code",
   "execution_count": 127,
   "metadata": {
    "vscode": {
     "languageId": "sql"
    }
   },
   "outputs": [
    {
     "data": {
      "text/html": [
       "<span style=\"None\">Generating CTE with stored snippets: &#x27;mp_votes&#x27;, and &#x27;mp_votes&#x27;</span>"
      ],
      "text/plain": [
       "Generating CTE with stored snippets: 'mp_votes', and 'mp_votes'"
      ]
     },
     "metadata": {},
     "output_type": "display_data"
    },
    {
     "data": {
      "text/html": [
       "<span style=\"None\">Running query in &#x27;discordia&#x27;</span>"
      ],
      "text/plain": [
       "Running query in 'discordia'"
      ]
     },
     "metadata": {},
     "output_type": "display_data"
    },
    {
     "data": {
      "text/html": [
       "<span style=\"None\">Skipping execution...</span>"
      ],
      "text/plain": [
       "Skipping execution..."
      ]
     },
     "metadata": {},
     "output_type": "display_data"
    }
   ],
   "source": [
    "%%sql --save votes_and_speeches --no-execute\n",
    "\n",
    "SELECT \n",
    "    main_mp_summary.party,\n",
    "    main_mp_summary.mp_id,\n",
    "    main_mp_summary.debate_id,\n",
    "    main_mp_summary.house_division_id,\n",
    "    voted_against_party,\n",
    "    COALESCE(num_speeches_debate, 0) AS num_speeches_debate\n",
    "FROM\n",
    "(\n",
    "    SELECT \n",
    "        main_mps.party,\n",
    "        main_mps.debate_id,\n",
    "        main_mps.house_division_id,\n",
    "        main_mps.mp_id AS mp_id,\n",
    "        CASE \n",
    "            WHEN SUM(main_mps.is_vote_aye == other_mps.is_vote_aye) < SUM(main_mps.is_vote_aye != other_mps.is_vote_aye) \n",
    "            THEN TRUE \n",
    "            ELSE FALSE \n",
    "        END AS voted_against_party\n",
    "    FROM\n",
    "        mp_votes main_mps\n",
    "    LEFT JOIN \n",
    "        mp_votes other_mps\n",
    "    ON \n",
    "        main_mps.house_division_id = other_mps.house_division_id AND \n",
    "        main_mps.mp_id != other_mps.mp_id AND \n",
    "        main_mps.party = other_mps.party\n",
    "    GROUP BY\n",
    "        main_mps.house_division_id,\n",
    "        main_mps.mp_id\n",
    ") main_mp_summary\n",
    "LEFT JOIN\n",
    "(\n",
    "    SELECT\n",
    "        speeches.speaker_id AS mp_id,\n",
    "        house_divisions.debate_id,\n",
    "        house_divisions.house_division_id,\n",
    "        COUNT(DISTINCT speeches.speech_id) AS num_speeches_debate\n",
    "    FROM\n",
    "        speeches\n",
    "    INNER JOIN\n",
    "        house_divisions\n",
    "    ON \n",
    "        speeches.debate_id = house_divisions.debate_id\n",
    "    GROUP BY\n",
    "        speeches.speaker_id,\n",
    "        speeches.debate_id\n",
    "    ORDER BY \n",
    "        speeches.debate_id ASC,\n",
    "        house_divisions.house_division_id ASC\n",
    ") speeches_debate\n",
    "ON\n",
    "    main_mp_summary.mp_id = speeches_debate.mp_id AND\n",
    "    main_mp_summary.house_division_id = speeches_debate.house_division_id\n",
    "ORDER BY \n",
    "    main_mp_summary.party ASC,\n",
    "    main_mp_summary.mp_id ASC,\n",
    "    main_mp_summary.debate_id ASC,\n",
    "    main_mp_summary.house_division_id ASC\n"
   ]
  },
  {
   "cell_type": "code",
   "execution_count": 129,
   "metadata": {
    "vscode": {
     "languageId": "sql"
    }
   },
   "outputs": [
    {
     "data": {
      "text/html": [
       "<span style=\"None\">Generating CTE with stored snippets: &#x27;votes_and_speeches&#x27;</span>"
      ],
      "text/plain": [
       "Generating CTE with stored snippets: 'votes_and_speeches'"
      ]
     },
     "metadata": {},
     "output_type": "display_data"
    },
    {
     "data": {
      "text/html": [
       "<table>\n",
       "    <thead>\n",
       "        <tr>\n",
       "            <th>party</th>\n",
       "            <th>mp_id</th>\n",
       "            <th>debate_id</th>\n",
       "            <th>house_division_id</th>\n",
       "            <th>voted_against_party</th>\n",
       "            <th>num_speeches_debate</th>\n",
       "        </tr>\n",
       "    </thead>\n",
       "    <tbody>\n",
       "        <tr>\n",
       "            <td>Conservative</td>\n",
       "            <td>10051</td>\n",
       "            <td>2023-07-03b.586.0</td>\n",
       "            <td>g657.0</td>\n",
       "            <td>1</td>\n",
       "            <td>3</td>\n",
       "        </tr>\n",
       "        <tr>\n",
       "            <td>Conservative</td>\n",
       "            <td>10095</td>\n",
       "            <td>2023-03-22b.338.0</td>\n",
       "            <td>g364.0</td>\n",
       "            <td>1</td>\n",
       "            <td>5</td>\n",
       "        </tr>\n",
       "        <tr>\n",
       "            <td>Conservative</td>\n",
       "            <td>10095</td>\n",
       "            <td>2023-06-19b.583.0</td>\n",
       "            <td>g661.2</td>\n",
       "            <td>1</td>\n",
       "            <td>10</td>\n",
       "        </tr>\n",
       "        <tr>\n",
       "            <td>Conservative</td>\n",
       "            <td>10499</td>\n",
       "            <td>2023-03-22b.338.0</td>\n",
       "            <td>g364.0</td>\n",
       "            <td>1</td>\n",
       "            <td>4</td>\n",
       "        </tr>\n",
       "        <tr>\n",
       "            <td>Conservative</td>\n",
       "            <td>10901</td>\n",
       "            <td>2023-03-22b.338.0</td>\n",
       "            <td>g364.0</td>\n",
       "            <td>1</td>\n",
       "            <td>1</td>\n",
       "        </tr>\n",
       "        <tr>\n",
       "            <td>Conservative</td>\n",
       "            <td>11506</td>\n",
       "            <td>2023-03-22b.338.0</td>\n",
       "            <td>g364.0</td>\n",
       "            <td>1</td>\n",
       "            <td>1</td>\n",
       "        </tr>\n",
       "        <tr>\n",
       "            <td>Conservative</td>\n",
       "            <td>11599</td>\n",
       "            <td>2023-06-19b.583.0</td>\n",
       "            <td>g661.2</td>\n",
       "            <td>1</td>\n",
       "            <td>3</td>\n",
       "        </tr>\n",
       "        <tr>\n",
       "            <td>Conservative</td>\n",
       "            <td>24756</td>\n",
       "            <td>2023-09-12c.847.0</td>\n",
       "            <td>g869.0</td>\n",
       "            <td>1</td>\n",
       "            <td>6</td>\n",
       "        </tr>\n",
       "        <tr>\n",
       "            <td>Conservative</td>\n",
       "            <td>25360</td>\n",
       "            <td>2023-07-03b.586.0</td>\n",
       "            <td>g657.0</td>\n",
       "            <td>1</td>\n",
       "            <td>2</td>\n",
       "        </tr>\n",
       "        <tr>\n",
       "            <td>Conservative</td>\n",
       "            <td>25859</td>\n",
       "            <td>2023-06-19b.583.0</td>\n",
       "            <td>g661.2</td>\n",
       "            <td>1</td>\n",
       "            <td>3</td>\n",
       "        </tr>\n",
       "        <tr>\n",
       "            <td>Independent</td>\n",
       "            <td>11915</td>\n",
       "            <td>2023-01-31b.221.1</td>\n",
       "            <td>g270.1</td>\n",
       "            <td>1</td>\n",
       "            <td>1</td>\n",
       "        </tr>\n",
       "        <tr>\n",
       "            <td>Independent</td>\n",
       "            <td>12004</td>\n",
       "            <td>2023-06-14b.312.3</td>\n",
       "            <td>g362.0</td>\n",
       "            <td>1</td>\n",
       "            <td>6</td>\n",
       "        </tr>\n",
       "        <tr>\n",
       "            <td>Independent</td>\n",
       "            <td>25800</td>\n",
       "            <td>2023-03-13b.573.0</td>\n",
       "            <td>g643.0</td>\n",
       "            <td>1</td>\n",
       "            <td>3</td>\n",
       "        </tr>\n",
       "        <tr>\n",
       "            <td>Independent</td>\n",
       "            <td>25852</td>\n",
       "            <td>2023-11-14b.534.3</td>\n",
       "            <td>g614.1</td>\n",
       "            <td>1</td>\n",
       "            <td>1</td>\n",
       "        </tr>\n",
       "    </tbody>\n",
       "</table>"
      ],
      "text/plain": [
       "+--------------+-------+-------------------+-------------------+---------------------+---------------------+\n",
       "|    party     | mp_id |     debate_id     | house_division_id | voted_against_party | num_speeches_debate |\n",
       "+--------------+-------+-------------------+-------------------+---------------------+---------------------+\n",
       "| Conservative | 10051 | 2023-07-03b.586.0 |       g657.0      |          1          |          3          |\n",
       "| Conservative | 10095 | 2023-03-22b.338.0 |       g364.0      |          1          |          5          |\n",
       "| Conservative | 10095 | 2023-06-19b.583.0 |       g661.2      |          1          |          10         |\n",
       "| Conservative | 10499 | 2023-03-22b.338.0 |       g364.0      |          1          |          4          |\n",
       "| Conservative | 10901 | 2023-03-22b.338.0 |       g364.0      |          1          |          1          |\n",
       "| Conservative | 11506 | 2023-03-22b.338.0 |       g364.0      |          1          |          1          |\n",
       "| Conservative | 11599 | 2023-06-19b.583.0 |       g661.2      |          1          |          3          |\n",
       "| Conservative | 24756 | 2023-09-12c.847.0 |       g869.0      |          1          |          6          |\n",
       "| Conservative | 25360 | 2023-07-03b.586.0 |       g657.0      |          1          |          2          |\n",
       "| Conservative | 25859 | 2023-06-19b.583.0 |       g661.2      |          1          |          3          |\n",
       "| Independent  | 11915 | 2023-01-31b.221.1 |       g270.1      |          1          |          1          |\n",
       "| Independent  | 12004 | 2023-06-14b.312.3 |       g362.0      |          1          |          6          |\n",
       "| Independent  | 25800 | 2023-03-13b.573.0 |       g643.0      |          1          |          3          |\n",
       "| Independent  | 25852 | 2023-11-14b.534.3 |       g614.1      |          1          |          1          |\n",
       "+--------------+-------+-------------------+-------------------+---------------------+---------------------+"
      ]
     },
     "execution_count": 129,
     "metadata": {},
     "output_type": "execute_result"
    }
   ],
   "source": [
    "%%sql discordia\n",
    "\n",
    "SELECT\n",
    "    *\n",
    "FROM\n",
    "    votes_and_speeches\n",
    "WHERE \n",
    "    voted_against_party = TRUE AND\n",
    "    num_speeches_debate > 0"
   ]
  },
  {
   "cell_type": "markdown",
   "metadata": {},
   "source": [
    "## 3.2 Putting things into perspective \n",
    "\n",
    "The above reveal that this is very very rare. The summary tables and plots below aim to give a sense of how rare this is."
   ]
  },
  {
   "cell_type": "markdown",
   "metadata": {},
   "source": [
    "**Q:** How many house divisions were there in total?"
   ]
  },
  {
   "cell_type": "code",
   "execution_count": 178,
   "metadata": {
    "vscode": {
     "languageId": "sql"
    }
   },
   "outputs": [
    {
     "data": {
      "text/html": [
       "<table>\n",
       "    <thead>\n",
       "        <tr>\n",
       "            <th>num_divisions</th>\n",
       "        </tr>\n",
       "    </thead>\n",
       "    <tbody>\n",
       "        <tr>\n",
       "            <td>59</td>\n",
       "        </tr>\n",
       "    </tbody>\n",
       "</table>"
      ],
      "text/plain": [
       "+---------------+\n",
       "| num_divisions |\n",
       "+---------------+\n",
       "|       59      |\n",
       "+---------------+"
      ]
     },
     "execution_count": 178,
     "metadata": {},
     "output_type": "execute_result"
    }
   ],
   "source": [
    "%%sql discordia\n",
    "\n",
    "SELECT \n",
    "    COUNT(DISTINCT house_division_id) AS num_divisions\n",
    "FROM\n",
    "    house_divisions\n"
   ]
  },
  {
   "cell_type": "markdown",
   "metadata": {
    "vscode": {
     "languageId": "sql"
    }
   },
   "source": [
    "**Q:** Typically, how many MPs speak during a debate in which there is a house division?"
   ]
  },
  {
   "cell_type": "code",
   "execution_count": 41,
   "metadata": {
    "vscode": {
     "languageId": "sql"
    }
   },
   "outputs": [
    {
     "data": {
      "text/html": [
       "<span style=\"None\">Running query in &#x27;discordia&#x27;</span>"
      ],
      "text/plain": [
       "Running query in 'discordia'"
      ]
     },
     "metadata": {},
     "output_type": "display_data"
    }
   ],
   "source": [
    "%%sql speakers_per_debate <<\n",
    "\n",
    "SELECT \n",
    "    debate_id,\n",
    "    COUNT(DISTINCT speaker_id) AS num_speakers\n",
    "FROM\n",
    "    house_divisions\n",
    "LEFT JOIN\n",
    "    speeches\n",
    "USING (debate_id)\n",
    "GROUP BY\n",
    "    debate_id"
   ]
  },
  {
   "cell_type": "code",
   "execution_count": 42,
   "metadata": {
    "vscode": {
     "languageId": "sql"
    }
   },
   "outputs": [],
   "source": [
    "speakers_per_debate = speakers_per_debate.DataFrame()"
   ]
  },
  {
   "cell_type": "code",
   "execution_count": 51,
   "metadata": {
    "vscode": {
     "languageId": "sql"
    }
   },
   "outputs": [
    {
     "data": {
      "text/html": [
       "<div>\n",
       "<style scoped>\n",
       "    .dataframe tbody tr th:only-of-type {\n",
       "        vertical-align: middle;\n",
       "    }\n",
       "\n",
       "    .dataframe tbody tr th {\n",
       "        vertical-align: top;\n",
       "    }\n",
       "\n",
       "    .dataframe thead th {\n",
       "        text-align: right;\n",
       "    }\n",
       "</style>\n",
       "<table border=\"1\" class=\"dataframe\">\n",
       "  <thead>\n",
       "    <tr style=\"text-align: right;\">\n",
       "      <th></th>\n",
       "      <th>num_speakers</th>\n",
       "    </tr>\n",
       "  </thead>\n",
       "  <tbody>\n",
       "    <tr>\n",
       "      <th>count</th>\n",
       "      <td>47.000000</td>\n",
       "    </tr>\n",
       "    <tr>\n",
       "      <th>mean</th>\n",
       "      <td>24.914894</td>\n",
       "    </tr>\n",
       "    <tr>\n",
       "      <th>std</th>\n",
       "      <td>24.060458</td>\n",
       "    </tr>\n",
       "    <tr>\n",
       "      <th>min</th>\n",
       "      <td>0.000000</td>\n",
       "    </tr>\n",
       "    <tr>\n",
       "      <th>25%</th>\n",
       "      <td>0.000000</td>\n",
       "    </tr>\n",
       "    <tr>\n",
       "      <th>50%</th>\n",
       "      <td>24.000000</td>\n",
       "    </tr>\n",
       "    <tr>\n",
       "      <th>75%</th>\n",
       "      <td>41.000000</td>\n",
       "    </tr>\n",
       "    <tr>\n",
       "      <th>max</th>\n",
       "      <td>84.000000</td>\n",
       "    </tr>\n",
       "  </tbody>\n",
       "</table>\n",
       "</div>"
      ],
      "text/plain": [
       "       num_speakers\n",
       "count     47.000000\n",
       "mean      24.914894\n",
       "std       24.060458\n",
       "min        0.000000\n",
       "25%        0.000000\n",
       "50%       24.000000\n",
       "75%       41.000000\n",
       "max       84.000000"
      ]
     },
     "execution_count": 51,
     "metadata": {},
     "output_type": "execute_result"
    }
   ],
   "source": [
    "speakers_per_debate.describe()"
   ]
  },
  {
   "cell_type": "code",
   "execution_count": 61,
   "metadata": {
    "vscode": {
     "languageId": "sql"
    }
   },
   "outputs": [
    {
     "data": {
      "image/png": "[encoded data removed]",
      "text/plain": [
       "<Figure size 1200x400 with 1 Axes>"
      ]
     },
     "metadata": {
      "image/png": {
       "height": 400,
       "width": 1200
      }
     },
     "output_type": "display_data"
    },
    {
     "data": {
      "text/plain": [
       "<Figure Size: (1200 x 400)>"
      ]
     },
     "execution_count": 61,
     "metadata": {},
     "output_type": "execute_result"
    }
   ],
   "source": [
    "g = (\n",
    "    ggplot(speakers_per_debate, aes(x='num_speakers')) +\n",
    "    geom_histogram(binwidth=2, fill='#20794D') +\n",
    "    scale_x_continuous(breaks=range(0, 100, 10)) +\n",
    "    labs(x='Number of speakers per debate', y='Number of debates',\n",
    "         title='The number of MPs who speak at any given debate varies a lot!',\n",
    "         subtitle='There does not seem to exist a \"typical\" number of speakers per debate.') +\n",
    "    theme_bw() +\n",
    "    theme(figure_size=(12, 4),\n",
    "          text=element_text(size=13),\n",
    "          axis_title=element_text(size=15),\n",
    "          plot_title=element_text(size=20))\n",
    ")\n",
    "\n",
    "g"
   ]
  },
  {
   "cell_type": "markdown",
   "metadata": {},
   "source": [
    "**Q:** Regardless of whether they spoke or not, how typical it is for an MP to dissent and vote against their party?"
   ]
  },
  {
   "cell_type": "code",
   "execution_count": 64,
   "metadata": {
    "vscode": {
     "languageId": "sql"
    }
   },
   "outputs": [
    {
     "data": {
      "text/html": [
       "<span style=\"None\">Generating CTE with stored snippets: &#x27;mp_votes&#x27;, and &#x27;mp_votes&#x27;</span>"
      ],
      "text/plain": [
       "Generating CTE with stored snippets: 'mp_votes', and 'mp_votes'"
      ]
     },
     "metadata": {},
     "output_type": "display_data"
    },
    {
     "data": {
      "text/html": [
       "<span style=\"None\">Running query in &#x27;discordia&#x27;</span>"
      ],
      "text/plain": [
       "Running query in 'discordia'"
      ]
     },
     "metadata": {},
     "output_type": "display_data"
    }
   ],
   "source": [
    "%%sql rebels_per_house_division <<\n",
    "\n",
    "SELECT \n",
    "    main_mp_summary.party,\n",
    "    main_mp_summary.house_division_id,\n",
    "    SUM(main_mp_summary.voted_against_party) AS num_MP_votes_against_majority\n",
    "FROM\n",
    "(\n",
    "    SELECT \n",
    "        main_mps.party,\n",
    "        main_mps.debate_id,\n",
    "        main_mps.house_division_id,\n",
    "        main_mps.mp_id AS mp_id,\n",
    "        CASE \n",
    "            WHEN SUM(main_mps.is_vote_aye == other_mps.is_vote_aye) < SUM(main_mps.is_vote_aye != other_mps.is_vote_aye) \n",
    "            THEN TRUE \n",
    "            ELSE FALSE \n",
    "        END AS voted_against_party\n",
    "    FROM\n",
    "        mp_votes main_mps\n",
    "    LEFT JOIN \n",
    "        mp_votes other_mps\n",
    "    ON \n",
    "        main_mps.house_division_id = other_mps.house_division_id AND \n",
    "        main_mps.mp_id != other_mps.mp_id AND \n",
    "        main_mps.party = other_mps.party\n",
    "    GROUP BY\n",
    "        main_mps.house_division_id,\n",
    "        main_mps.mp_id\n",
    ") main_mp_summary\n",
    "GROUP BY\n",
    "    main_mp_summary.party,\n",
    "    main_mp_summary.house_division_id\n"
   ]
  },
  {
   "cell_type": "code",
   "execution_count": 66,
   "metadata": {
    "vscode": {
     "languageId": "sql"
    }
   },
   "outputs": [],
   "source": [
    "rebels_per_house_division = rebels_per_house_division.DataFrame()"
   ]
  },
  {
   "cell_type": "code",
   "execution_count": 67,
   "metadata": {
    "vscode": {
     "languageId": "sql"
    }
   },
   "outputs": [
    {
     "data": {
      "text/html": [
       "<div>\n",
       "<style scoped>\n",
       "    .dataframe tbody tr th:only-of-type {\n",
       "        vertical-align: middle;\n",
       "    }\n",
       "\n",
       "    .dataframe tbody tr th {\n",
       "        vertical-align: top;\n",
       "    }\n",
       "\n",
       "    .dataframe thead th {\n",
       "        text-align: right;\n",
       "    }\n",
       "</style>\n",
       "<table border=\"1\" class=\"dataframe\">\n",
       "  <thead>\n",
       "    <tr style=\"text-align: right;\">\n",
       "      <th></th>\n",
       "      <th>party</th>\n",
       "      <th>house_division_id</th>\n",
       "      <th>num_MP_votes_against_majority</th>\n",
       "    </tr>\n",
       "  </thead>\n",
       "  <tbody>\n",
       "    <tr>\n",
       "      <th>0</th>\n",
       "      <td>Alba</td>\n",
       "      <td>g1033.3</td>\n",
       "      <td>0</td>\n",
       "    </tr>\n",
       "    <tr>\n",
       "      <th>1</th>\n",
       "      <td>Alba</td>\n",
       "      <td>g1105.0</td>\n",
       "      <td>0</td>\n",
       "    </tr>\n",
       "    <tr>\n",
       "      <th>2</th>\n",
       "      <td>Alba</td>\n",
       "      <td>g131.5</td>\n",
       "      <td>0</td>\n",
       "    </tr>\n",
       "    <tr>\n",
       "      <th>3</th>\n",
       "      <td>Alba</td>\n",
       "      <td>g135.0</td>\n",
       "      <td>0</td>\n",
       "    </tr>\n",
       "    <tr>\n",
       "      <th>4</th>\n",
       "      <td>Alba</td>\n",
       "      <td>g140.0</td>\n",
       "      <td>0</td>\n",
       "    </tr>\n",
       "    <tr>\n",
       "      <th>...</th>\n",
       "      <td>...</td>\n",
       "      <td>...</td>\n",
       "      <td>...</td>\n",
       "    </tr>\n",
       "    <tr>\n",
       "      <th>519</th>\n",
       "      <td>Social Democratic and Labour Party</td>\n",
       "      <td>g840.0</td>\n",
       "      <td>0</td>\n",
       "    </tr>\n",
       "    <tr>\n",
       "      <th>520</th>\n",
       "      <td>Social Democratic and Labour Party</td>\n",
       "      <td>g850.0</td>\n",
       "      <td>0</td>\n",
       "    </tr>\n",
       "    <tr>\n",
       "      <th>521</th>\n",
       "      <td>Social Democratic and Labour Party</td>\n",
       "      <td>g869.0</td>\n",
       "      <td>0</td>\n",
       "    </tr>\n",
       "    <tr>\n",
       "      <th>522</th>\n",
       "      <td>Social Democratic and Labour Party</td>\n",
       "      <td>g900.3</td>\n",
       "      <td>0</td>\n",
       "    </tr>\n",
       "    <tr>\n",
       "      <th>523</th>\n",
       "      <td>Social Democratic and Labour Party</td>\n",
       "      <td>g977.3</td>\n",
       "      <td>0</td>\n",
       "    </tr>\n",
       "  </tbody>\n",
       "</table>\n",
       "<p>524 rows × 3 columns</p>\n",
       "</div>"
      ],
      "text/plain": [
       "                                  party house_division_id  \\\n",
       "0                                  Alba           g1033.3   \n",
       "1                                  Alba           g1105.0   \n",
       "2                                  Alba            g131.5   \n",
       "3                                  Alba            g135.0   \n",
       "4                                  Alba            g140.0   \n",
       "..                                  ...               ...   \n",
       "519  Social Democratic and Labour Party            g840.0   \n",
       "520  Social Democratic and Labour Party            g850.0   \n",
       "521  Social Democratic and Labour Party            g869.0   \n",
       "522  Social Democratic and Labour Party            g900.3   \n",
       "523  Social Democratic and Labour Party            g977.3   \n",
       "\n",
       "     num_MP_votes_against_majority  \n",
       "0                                0  \n",
       "1                                0  \n",
       "2                                0  \n",
       "3                                0  \n",
       "4                                0  \n",
       "..                             ...  \n",
       "519                              0  \n",
       "520                              0  \n",
       "521                              0  \n",
       "522                              0  \n",
       "523                              0  \n",
       "\n",
       "[524 rows x 3 columns]"
      ]
     },
     "execution_count": 67,
     "metadata": {},
     "output_type": "execute_result"
    }
   ],
   "source": [
    "rebels_per_house_division"
   ]
  },
  {
   "cell_type": "markdown",
   "metadata": {},
   "source": [
    "**A small detour to collect a natural ordering of parties per size**"
   ]
  },
  {
   "cell_type": "code",
   "execution_count": 107,
   "metadata": {
    "vscode": {
     "languageId": "sql"
    }
   },
   "outputs": [
    {
     "data": {
      "text/html": [
       "<span style=\"None\">Running query in &#x27;discordia&#x27;</span>"
      ],
      "text/plain": [
       "Running query in 'discordia'"
      ]
     },
     "metadata": {},
     "output_type": "display_data"
    }
   ],
   "source": [
    "%%sql MPs_per_party <<\n",
    "\n",
    "SELECT \n",
    "    party,\n",
    "    COUNT(DISTINCT mp_id) AS num_MPs\n",
    "FROM\n",
    "    mp\n",
    "WHERE\n",
    "    term_start = 2017\n",
    "GROUP BY\n",
    "    party\n",
    "ORDER BY\n",
    "    num_MPs DESC"
   ]
  },
  {
   "cell_type": "code",
   "execution_count": 108,
   "metadata": {},
   "outputs": [],
   "source": [
    "MPs_per_party = MPs_per_party.DataFrame()"
   ]
  },
  {
   "cell_type": "code",
   "execution_count": 110,
   "metadata": {},
   "outputs": [
    {
     "data": {
      "text/html": [
       "<div>\n",
       "<style scoped>\n",
       "    .dataframe tbody tr th:only-of-type {\n",
       "        vertical-align: middle;\n",
       "    }\n",
       "\n",
       "    .dataframe tbody tr th {\n",
       "        vertical-align: top;\n",
       "    }\n",
       "\n",
       "    .dataframe thead th {\n",
       "        text-align: right;\n",
       "    }\n",
       "</style>\n",
       "<table border=\"1\" class=\"dataframe\">\n",
       "  <thead>\n",
       "    <tr style=\"text-align: right;\">\n",
       "      <th></th>\n",
       "      <th>party</th>\n",
       "      <th>num_MPs</th>\n",
       "    </tr>\n",
       "  </thead>\n",
       "  <tbody>\n",
       "    <tr>\n",
       "      <th>0</th>\n",
       "      <td>Conservative</td>\n",
       "      <td>352</td>\n",
       "    </tr>\n",
       "    <tr>\n",
       "      <th>1</th>\n",
       "      <td>Labour</td>\n",
       "      <td>177</td>\n",
       "    </tr>\n",
       "    <tr>\n",
       "      <th>2</th>\n",
       "      <td>Scottish National Party</td>\n",
       "      <td>43</td>\n",
       "    </tr>\n",
       "    <tr>\n",
       "      <th>3</th>\n",
       "      <td>Labour/Co-operative</td>\n",
       "      <td>22</td>\n",
       "    </tr>\n",
       "    <tr>\n",
       "      <th>4</th>\n",
       "      <td>Liberal Democrat</td>\n",
       "      <td>15</td>\n",
       "    </tr>\n",
       "    <tr>\n",
       "      <th>5</th>\n",
       "      <td>Independent</td>\n",
       "      <td>15</td>\n",
       "    </tr>\n",
       "    <tr>\n",
       "      <th>6</th>\n",
       "      <td>DUP</td>\n",
       "      <td>8</td>\n",
       "    </tr>\n",
       "    <tr>\n",
       "      <th>7</th>\n",
       "      <td>Sinn Féin</td>\n",
       "      <td>7</td>\n",
       "    </tr>\n",
       "    <tr>\n",
       "      <th>8</th>\n",
       "      <td>Plaid Cymru</td>\n",
       "      <td>3</td>\n",
       "    </tr>\n",
       "    <tr>\n",
       "      <th>9</th>\n",
       "      <td>Social Democratic and Labour Party</td>\n",
       "      <td>2</td>\n",
       "    </tr>\n",
       "    <tr>\n",
       "      <th>10</th>\n",
       "      <td>Alba</td>\n",
       "      <td>2</td>\n",
       "    </tr>\n",
       "    <tr>\n",
       "      <th>11</th>\n",
       "      <td>Speaker</td>\n",
       "      <td>1</td>\n",
       "    </tr>\n",
       "    <tr>\n",
       "      <th>12</th>\n",
       "      <td>Reclaim</td>\n",
       "      <td>1</td>\n",
       "    </tr>\n",
       "    <tr>\n",
       "      <th>13</th>\n",
       "      <td>Green</td>\n",
       "      <td>1</td>\n",
       "    </tr>\n",
       "    <tr>\n",
       "      <th>14</th>\n",
       "      <td>Alliance</td>\n",
       "      <td>1</td>\n",
       "    </tr>\n",
       "  </tbody>\n",
       "</table>\n",
       "</div>"
      ],
      "text/plain": [
       "                                 party  num_MPs\n",
       "0                         Conservative      352\n",
       "1                               Labour      177\n",
       "2              Scottish National Party       43\n",
       "3                  Labour/Co-operative       22\n",
       "4                     Liberal Democrat       15\n",
       "5                          Independent       15\n",
       "6                                  DUP        8\n",
       "7                            Sinn Féin        7\n",
       "8                          Plaid Cymru        3\n",
       "9   Social Democratic and Labour Party        2\n",
       "10                                Alba        2\n",
       "11                             Speaker        1\n",
       "12                             Reclaim        1\n",
       "13                               Green        1\n",
       "14                            Alliance        1"
      ]
     },
     "execution_count": 110,
     "metadata": {},
     "output_type": "execute_result"
    }
   ],
   "source": [
    "# I'm using this order in the plots\n",
    "MPs_per_party"
   ]
  },
  {
   "cell_type": "code",
   "execution_count": 123,
   "metadata": {
    "vscode": {
     "languageId": "sql"
    }
   },
   "outputs": [
    {
     "data": {
      "image/png": "[encoded data removed]",
      "text/plain": [
       "<Figure size 1200x500 with 1 Axes>"
      ]
     },
     "metadata": {
      "image/png": {
       "height": 500,
       "width": 1200
      }
     },
     "output_type": "display_data"
    },
    {
     "data": {
      "text/plain": [
       "<Figure Size: (1200 x 500)>"
      ]
     },
     "execution_count": 123,
     "metadata": {},
     "output_type": "execute_result"
    }
   ],
   "source": [
    "plot_df = (\n",
    "    rebels_per_house_division\n",
    "        .groupby('party')\n",
    "        .apply(lambda x: pd.Series({'num_votes': len(x), 'divisions_with_rebels': (x['num_MP_votes_against_majority'] > 0).sum()/len(x)}))\n",
    "        .reset_index()\n",
    "        .assign(party=lambda x: pd.Categorical(x['party'], categories=reversed(MPs_per_party['party'])))\n",
    ")\n",
    "\n",
    "g = (\n",
    "    ggplot(plot_df.query('party != \"Independent\"'), \n",
    "           aes(x='party', y='divisions_with_rebels', fill='party')) +\n",
    "    geom_col() +\n",
    "    geom_point() +\n",
    "    labs(x='', y='% of House Divisions with at least one rebel',\n",
    "         title='How many House Divisions had rebels in 2023? (per party)',\n",
    "         subtitle='Nearly every house division (~ 80%) has a rebel Tory MP!',\n",
    "         caption='Parties are sorted by size') +\n",
    "    scale_fill_discrete(name='Party', guide=None) +\n",
    "    scale_y_continuous(labels=percent_format(), limits=[0, 1], breaks=np.arange(0, 1+0.1, 0.2)) +\n",
    "    coord_flip() +\n",
    "    theme_bw() +\n",
    "    theme(figure_size=(12, 5),\n",
    "          text=element_text(size=13),\n",
    "          axis_title=element_text(size=15),\n",
    "          plot_title=element_text(size=20))\n",
    ")\n",
    "\n",
    "g"
   ]
  },
  {
   "cell_type": "markdown",
   "metadata": {},
   "source": [
    "**Q:** But how representative is the number of dissenters per session?"
   ]
  },
  {
   "cell_type": "code",
   "execution_count": 177,
   "metadata": {},
   "outputs": [
    {
     "name": "stderr",
     "output_type": "stream",
     "text": [
      "C:\\Users\\Jon\\AppData\\Local\\Temp\\ipykernel_19100\\3087637141.py:5: FutureWarning: The default of observed=False is deprecated and will be changed to True in a future version of pandas. Pass observed=False to retain current behavior or observed=True to adopt the future default and silence this warning.\n"
     ]
    },
    {
     "data": {
      "text/html": [
       "<div>\n",
       "<style scoped>\n",
       "    .dataframe tbody tr th:only-of-type {\n",
       "        vertical-align: middle;\n",
       "    }\n",
       "\n",
       "    .dataframe tbody tr th {\n",
       "        vertical-align: top;\n",
       "    }\n",
       "\n",
       "    .dataframe thead th {\n",
       "        text-align: right;\n",
       "    }\n",
       "</style>\n",
       "<table border=\"1\" class=\"dataframe\">\n",
       "  <thead>\n",
       "    <tr style=\"text-align: right;\">\n",
       "      <th>party</th>\n",
       "      <th>Conservative</th>\n",
       "      <th>Labour</th>\n",
       "      <th>Scottish National Party</th>\n",
       "      <th>Independent</th>\n",
       "      <th>DUP</th>\n",
       "      <th>Plaid Cymru</th>\n",
       "    </tr>\n",
       "  </thead>\n",
       "  <tbody>\n",
       "    <tr>\n",
       "      <th>count</th>\n",
       "      <td>45.000000</td>\n",
       "      <td>5.000000</td>\n",
       "      <td>1.0</td>\n",
       "      <td>45.000000</td>\n",
       "      <td>2.0</td>\n",
       "      <td>1.0</td>\n",
       "    </tr>\n",
       "    <tr>\n",
       "      <th>mean</th>\n",
       "      <td>3.666667</td>\n",
       "      <td>2.000000</td>\n",
       "      <td>1.0</td>\n",
       "      <td>2.088889</td>\n",
       "      <td>2.0</td>\n",
       "      <td>1.0</td>\n",
       "    </tr>\n",
       "    <tr>\n",
       "      <th>std</th>\n",
       "      <td>5.942910</td>\n",
       "      <td>0.707107</td>\n",
       "      <td>NaN</td>\n",
       "      <td>1.104170</td>\n",
       "      <td>0.0</td>\n",
       "      <td>NaN</td>\n",
       "    </tr>\n",
       "    <tr>\n",
       "      <th>min</th>\n",
       "      <td>1.000000</td>\n",
       "      <td>1.000000</td>\n",
       "      <td>1.0</td>\n",
       "      <td>1.000000</td>\n",
       "      <td>2.0</td>\n",
       "      <td>1.0</td>\n",
       "    </tr>\n",
       "    <tr>\n",
       "      <th>25%</th>\n",
       "      <td>1.000000</td>\n",
       "      <td>2.000000</td>\n",
       "      <td>1.0</td>\n",
       "      <td>1.000000</td>\n",
       "      <td>2.0</td>\n",
       "      <td>1.0</td>\n",
       "    </tr>\n",
       "    <tr>\n",
       "      <th>50%</th>\n",
       "      <td>1.000000</td>\n",
       "      <td>2.000000</td>\n",
       "      <td>1.0</td>\n",
       "      <td>2.000000</td>\n",
       "      <td>2.0</td>\n",
       "      <td>1.0</td>\n",
       "    </tr>\n",
       "    <tr>\n",
       "      <th>75%</th>\n",
       "      <td>2.000000</td>\n",
       "      <td>2.000000</td>\n",
       "      <td>1.0</td>\n",
       "      <td>3.000000</td>\n",
       "      <td>2.0</td>\n",
       "      <td>1.0</td>\n",
       "    </tr>\n",
       "    <tr>\n",
       "      <th>max</th>\n",
       "      <td>29.000000</td>\n",
       "      <td>3.000000</td>\n",
       "      <td>1.0</td>\n",
       "      <td>6.000000</td>\n",
       "      <td>2.0</td>\n",
       "      <td>1.0</td>\n",
       "    </tr>\n",
       "  </tbody>\n",
       "</table>\n",
       "</div>"
      ],
      "text/plain": [
       "party  Conservative    Labour  Scottish National Party  Independent  DUP  \\\n",
       "count     45.000000  5.000000                      1.0    45.000000  2.0   \n",
       "mean       3.666667  2.000000                      1.0     2.088889  2.0   \n",
       "std        5.942910  0.707107                      NaN     1.104170  0.0   \n",
       "min        1.000000  1.000000                      1.0     1.000000  2.0   \n",
       "25%        1.000000  2.000000                      1.0     1.000000  2.0   \n",
       "50%        1.000000  2.000000                      1.0     2.000000  2.0   \n",
       "75%        2.000000  2.000000                      1.0     3.000000  2.0   \n",
       "max       29.000000  3.000000                      1.0     6.000000  2.0   \n",
       "\n",
       "party  Plaid Cymru  \n",
       "count          1.0  \n",
       "mean           1.0  \n",
       "std            NaN  \n",
       "min            1.0  \n",
       "25%            1.0  \n",
       "50%            1.0  \n",
       "75%            1.0  \n",
       "max            1.0  "
      ]
     },
     "execution_count": 177,
     "metadata": {},
     "output_type": "execute_result"
    }
   ],
   "source": [
    "(\n",
    "    rebels_per_house_division[rebels_per_house_division['num_MP_votes_against_majority'] > 0]\n",
    "    # Order according to the order of the parties in the MPs_per_party DataFrame\n",
    "    .assign(party=lambda x: pd.Categorical(x['party'], categories=[party for party in MPs_per_party['party'] if party in x['party'].unique()]))\n",
    "    .groupby(['party'])['num_MP_votes_against_majority']\n",
    "    .describe()\n",
    "    .transpose()\n",
    ")"
   ]
  },
  {
   "cell_type": "markdown",
   "metadata": {},
   "source": [
    "It's all very rare!"
   ]
  },
  {
   "cell_type": "markdown",
   "metadata": {},
   "source": [
    "## 3.3 Who are the 'silent' rebels? "
   ]
  },
  {
   "cell_type": "code",
   "execution_count": 153,
   "metadata": {
    "vscode": {
     "languageId": "sql"
    }
   },
   "outputs": [
    {
     "data": {
      "text/html": [
       "<span style=\"None\">Generating CTE with stored snippets: &#x27;votes_and_speeches&#x27;</span>"
      ],
      "text/plain": [
       "Generating CTE with stored snippets: 'votes_and_speeches'"
      ]
     },
     "metadata": {},
     "output_type": "display_data"
    },
    {
     "data": {
      "text/html": [
       "<table>\n",
       "    <thead>\n",
       "        <tr>\n",
       "            <th>party</th>\n",
       "            <th>mp_id</th>\n",
       "            <th>num_divisions_voted</th>\n",
       "            <th>num_votes_against_party</th>\n",
       "            <th>num_debates_spoken</th>\n",
       "        </tr>\n",
       "    </thead>\n",
       "    <tbody>\n",
       "        <tr>\n",
       "            <td>Conservative</td>\n",
       "            <td>25276</td>\n",
       "            <td>35</td>\n",
       "            <td>27</td>\n",
       "            <td>0</td>\n",
       "        </tr>\n",
       "        <tr>\n",
       "            <td>Conservative</td>\n",
       "            <td>10580</td>\n",
       "            <td>54</td>\n",
       "            <td>4</td>\n",
       "            <td>0</td>\n",
       "        </tr>\n",
       "        <tr>\n",
       "            <td>Conservative</td>\n",
       "            <td>10103</td>\n",
       "            <td>42</td>\n",
       "            <td>4</td>\n",
       "            <td>0</td>\n",
       "        </tr>\n",
       "        <tr>\n",
       "            <td>Conservative</td>\n",
       "            <td>25350</td>\n",
       "            <td>44</td>\n",
       "            <td>3</td>\n",
       "            <td>0</td>\n",
       "        </tr>\n",
       "        <tr>\n",
       "            <td>Conservative</td>\n",
       "            <td>24888</td>\n",
       "            <td>23</td>\n",
       "            <td>3</td>\n",
       "            <td>0</td>\n",
       "        </tr>\n",
       "        <tr>\n",
       "            <td>Conservative</td>\n",
       "            <td>11661</td>\n",
       "            <td>55</td>\n",
       "            <td>3</td>\n",
       "            <td>0</td>\n",
       "        </tr>\n",
       "        <tr>\n",
       "            <td>Conservative</td>\n",
       "            <td>25431</td>\n",
       "            <td>22</td>\n",
       "            <td>2</td>\n",
       "            <td>0</td>\n",
       "        </tr>\n",
       "        <tr>\n",
       "            <td>Conservative</td>\n",
       "            <td>24870</td>\n",
       "            <td>51</td>\n",
       "            <td>2</td>\n",
       "            <td>0</td>\n",
       "        </tr>\n",
       "        <tr>\n",
       "            <td>Conservative</td>\n",
       "            <td>24860</td>\n",
       "            <td>26</td>\n",
       "            <td>2</td>\n",
       "            <td>0</td>\n",
       "        </tr>\n",
       "        <tr>\n",
       "            <td>Conservative</td>\n",
       "            <td>11785</td>\n",
       "            <td>46</td>\n",
       "            <td>2</td>\n",
       "            <td>0</td>\n",
       "        </tr>\n",
       "        <tr>\n",
       "            <td>Conservative</td>\n",
       "            <td>25903</td>\n",
       "            <td>54</td>\n",
       "            <td>1</td>\n",
       "            <td>0</td>\n",
       "        </tr>\n",
       "        <tr>\n",
       "            <td>Conservative</td>\n",
       "            <td>25900</td>\n",
       "            <td>55</td>\n",
       "            <td>1</td>\n",
       "            <td>0</td>\n",
       "        </tr>\n",
       "        <tr>\n",
       "            <td>Conservative</td>\n",
       "            <td>25879</td>\n",
       "            <td>49</td>\n",
       "            <td>1</td>\n",
       "            <td>0</td>\n",
       "        </tr>\n",
       "        <tr>\n",
       "            <td>Conservative</td>\n",
       "            <td>25878</td>\n",
       "            <td>48</td>\n",
       "            <td>1</td>\n",
       "            <td>0</td>\n",
       "        </tr>\n",
       "        <tr>\n",
       "            <td>Conservative</td>\n",
       "            <td>25865</td>\n",
       "            <td>43</td>\n",
       "            <td>1</td>\n",
       "            <td>0</td>\n",
       "        </tr>\n",
       "        <tr>\n",
       "            <td>Conservative</td>\n",
       "            <td>25834</td>\n",
       "            <td>44</td>\n",
       "            <td>1</td>\n",
       "            <td>0</td>\n",
       "        </tr>\n",
       "        <tr>\n",
       "            <td>Conservative</td>\n",
       "            <td>25812</td>\n",
       "            <td>50</td>\n",
       "            <td>1</td>\n",
       "            <td>0</td>\n",
       "        </tr>\n",
       "        <tr>\n",
       "            <td>Conservative</td>\n",
       "            <td>25806</td>\n",
       "            <td>51</td>\n",
       "            <td>1</td>\n",
       "            <td>0</td>\n",
       "        </tr>\n",
       "        <tr>\n",
       "            <td>Conservative</td>\n",
       "            <td>25791</td>\n",
       "            <td>38</td>\n",
       "            <td>1</td>\n",
       "            <td>0</td>\n",
       "        </tr>\n",
       "        <tr>\n",
       "            <td>Conservative</td>\n",
       "            <td>25699</td>\n",
       "            <td>52</td>\n",
       "            <td>1</td>\n",
       "            <td>0</td>\n",
       "        </tr>\n",
       "        <tr>\n",
       "            <td>Conservative</td>\n",
       "            <td>25384</td>\n",
       "            <td>44</td>\n",
       "            <td>1</td>\n",
       "            <td>0</td>\n",
       "        </tr>\n",
       "        <tr>\n",
       "            <td>Conservative</td>\n",
       "            <td>25373</td>\n",
       "            <td>47</td>\n",
       "            <td>1</td>\n",
       "            <td>0</td>\n",
       "        </tr>\n",
       "        <tr>\n",
       "            <td>Conservative</td>\n",
       "            <td>25359</td>\n",
       "            <td>54</td>\n",
       "            <td>1</td>\n",
       "            <td>0</td>\n",
       "        </tr>\n",
       "        <tr>\n",
       "            <td>Conservative</td>\n",
       "            <td>24941</td>\n",
       "            <td>13</td>\n",
       "            <td>1</td>\n",
       "            <td>0</td>\n",
       "        </tr>\n",
       "        <tr>\n",
       "            <td>Conservative</td>\n",
       "            <td>24884</td>\n",
       "            <td>42</td>\n",
       "            <td>1</td>\n",
       "            <td>0</td>\n",
       "        </tr>\n",
       "        <tr>\n",
       "            <td>Conservative</td>\n",
       "            <td>24882</td>\n",
       "            <td>30</td>\n",
       "            <td>1</td>\n",
       "            <td>0</td>\n",
       "        </tr>\n",
       "        <tr>\n",
       "            <td>Conservative</td>\n",
       "            <td>24857</td>\n",
       "            <td>48</td>\n",
       "            <td>1</td>\n",
       "            <td>0</td>\n",
       "        </tr>\n",
       "        <tr>\n",
       "            <td>Conservative</td>\n",
       "            <td>24855</td>\n",
       "            <td>53</td>\n",
       "            <td>1</td>\n",
       "            <td>0</td>\n",
       "        </tr>\n",
       "        <tr>\n",
       "            <td>Conservative</td>\n",
       "            <td>24821</td>\n",
       "            <td>33</td>\n",
       "            <td>1</td>\n",
       "            <td>0</td>\n",
       "        </tr>\n",
       "        <tr>\n",
       "            <td>Conservative</td>\n",
       "            <td>24809</td>\n",
       "            <td>39</td>\n",
       "            <td>1</td>\n",
       "            <td>0</td>\n",
       "        </tr>\n",
       "        <tr>\n",
       "            <td>Conservative</td>\n",
       "            <td>24803</td>\n",
       "            <td>49</td>\n",
       "            <td>1</td>\n",
       "            <td>0</td>\n",
       "        </tr>\n",
       "        <tr>\n",
       "            <td>Conservative</td>\n",
       "            <td>24769</td>\n",
       "            <td>47</td>\n",
       "            <td>1</td>\n",
       "            <td>0</td>\n",
       "        </tr>\n",
       "        <tr>\n",
       "            <td>Conservative</td>\n",
       "            <td>24713</td>\n",
       "            <td>36</td>\n",
       "            <td>1</td>\n",
       "            <td>0</td>\n",
       "        </tr>\n",
       "        <tr>\n",
       "            <td>Conservative</td>\n",
       "            <td>11929</td>\n",
       "            <td>48</td>\n",
       "            <td>1</td>\n",
       "            <td>0</td>\n",
       "        </tr>\n",
       "        <tr>\n",
       "            <td>Conservative</td>\n",
       "            <td>11924</td>\n",
       "            <td>56</td>\n",
       "            <td>1</td>\n",
       "            <td>0</td>\n",
       "        </tr>\n",
       "        <tr>\n",
       "            <td>Conservative</td>\n",
       "            <td>11816</td>\n",
       "            <td>21</td>\n",
       "            <td>1</td>\n",
       "            <td>0</td>\n",
       "        </tr>\n",
       "        <tr>\n",
       "            <td>Conservative</td>\n",
       "            <td>10240</td>\n",
       "            <td>47</td>\n",
       "            <td>1</td>\n",
       "            <td>0</td>\n",
       "        </tr>\n",
       "        <tr>\n",
       "            <td>Independent</td>\n",
       "            <td>25388</td>\n",
       "            <td>11</td>\n",
       "            <td>8</td>\n",
       "            <td>0</td>\n",
       "        </tr>\n",
       "        <tr>\n",
       "            <td>Independent</td>\n",
       "            <td>24773</td>\n",
       "            <td>15</td>\n",
       "            <td>7</td>\n",
       "            <td>0</td>\n",
       "        </tr>\n",
       "        <tr>\n",
       "            <td>Independent</td>\n",
       "            <td>25332</td>\n",
       "            <td>29</td>\n",
       "            <td>1</td>\n",
       "            <td>0</td>\n",
       "        </tr>\n",
       "        <tr>\n",
       "            <td>Independent</td>\n",
       "            <td>10069</td>\n",
       "            <td>32</td>\n",
       "            <td>1</td>\n",
       "            <td>0</td>\n",
       "        </tr>\n",
       "        <tr>\n",
       "            <td>Labour</td>\n",
       "            <td>24774</td>\n",
       "            <td>37</td>\n",
       "            <td>3</td>\n",
       "            <td>0</td>\n",
       "        </tr>\n",
       "    </tbody>\n",
       "</table>"
      ],
      "text/plain": [
       "+--------------+-------+---------------------+-------------------------+--------------------+\n",
       "|    party     | mp_id | num_divisions_voted | num_votes_against_party | num_debates_spoken |\n",
       "+--------------+-------+---------------------+-------------------------+--------------------+\n",
       "| Conservative | 25276 |          35         |            27           |         0          |\n",
       "| Conservative | 10580 |          54         |            4            |         0          |\n",
       "| Conservative | 10103 |          42         |            4            |         0          |\n",
       "| Conservative | 25350 |          44         |            3            |         0          |\n",
       "| Conservative | 24888 |          23         |            3            |         0          |\n",
       "| Conservative | 11661 |          55         |            3            |         0          |\n",
       "| Conservative | 25431 |          22         |            2            |         0          |\n",
       "| Conservative | 24870 |          51         |            2            |         0          |\n",
       "| Conservative | 24860 |          26         |            2            |         0          |\n",
       "| Conservative | 11785 |          46         |            2            |         0          |\n",
       "| Conservative | 25903 |          54         |            1            |         0          |\n",
       "| Conservative | 25900 |          55         |            1            |         0          |\n",
       "| Conservative | 25879 |          49         |            1            |         0          |\n",
       "| Conservative | 25878 |          48         |            1            |         0          |\n",
       "| Conservative | 25865 |          43         |            1            |         0          |\n",
       "| Conservative | 25834 |          44         |            1            |         0          |\n",
       "| Conservative | 25812 |          50         |            1            |         0          |\n",
       "| Conservative | 25806 |          51         |            1            |         0          |\n",
       "| Conservative | 25791 |          38         |            1            |         0          |\n",
       "| Conservative | 25699 |          52         |            1            |         0          |\n",
       "| Conservative | 25384 |          44         |            1            |         0          |\n",
       "| Conservative | 25373 |          47         |            1            |         0          |\n",
       "| Conservative | 25359 |          54         |            1            |         0          |\n",
       "| Conservative | 24941 |          13         |            1            |         0          |\n",
       "| Conservative | 24884 |          42         |            1            |         0          |\n",
       "| Conservative | 24882 |          30         |            1            |         0          |\n",
       "| Conservative | 24857 |          48         |            1            |         0          |\n",
       "| Conservative | 24855 |          53         |            1            |         0          |\n",
       "| Conservative | 24821 |          33         |            1            |         0          |\n",
       "| Conservative | 24809 |          39         |            1            |         0          |\n",
       "| Conservative | 24803 |          49         |            1            |         0          |\n",
       "| Conservative | 24769 |          47         |            1            |         0          |\n",
       "| Conservative | 24713 |          36         |            1            |         0          |\n",
       "| Conservative | 11929 |          48         |            1            |         0          |\n",
       "| Conservative | 11924 |          56         |            1            |         0          |\n",
       "| Conservative | 11816 |          21         |            1            |         0          |\n",
       "| Conservative | 10240 |          47         |            1            |         0          |\n",
       "| Independent  | 25388 |          11         |            8            |         0          |\n",
       "| Independent  | 24773 |          15         |            7            |         0          |\n",
       "| Independent  | 25332 |          29         |            1            |         0          |\n",
       "| Independent  | 10069 |          32         |            1            |         0          |\n",
       "|    Labour    | 24774 |          37         |            3            |         0          |\n",
       "+--------------+-------+---------------------+-------------------------+--------------------+"
      ]
     },
     "execution_count": 153,
     "metadata": {},
     "output_type": "execute_result"
    }
   ],
   "source": [
    "%%sql discordia\n",
    "\n",
    "SELECT \n",
    "    *\n",
    "FROM\n",
    "(\n",
    "    SELECT\n",
    "        party,\n",
    "        mp_id,\n",
    "        COUNT(DISTINCT house_division_id) AS num_divisions_voted,\n",
    "        SUM(voted_against_party) AS num_votes_against_party,\n",
    "        SUM(CASE WHEN num_speeches_debate > 0 THEN 1 ELSE 0 END) AS num_debates_spoken\n",
    "    FROM\n",
    "        votes_and_speeches\n",
    "    GROUP BY\n",
    "        party,\n",
    "        mp_id\n",
    "    ORDER BY\n",
    "        party ASC,\n",
    "        num_votes_against_party DESC\n",
    ")\n",
    "WHERE\n",
    "    num_votes_against_party > 0 AND num_debates_spoken == 0"
   ]
  },
  {
   "cell_type": "markdown",
   "metadata": {},
   "source": [
    "**Automate the process of getting the voting record of a given MP**\n",
    "\n",
    "I copied the SQL query I used to extract Lisa Cameron's voting record and placed it in the file `src/sql/vote_record.sql`. SQLite doesn't have prepared statements, so I will just read the file into a string and replace the name of the MP with the name of the MP I want to investigate."
   ]
  },
  {
   "cell_type": "code",
   "execution_count": 154,
   "metadata": {},
   "outputs": [
    {
     "data": {
      "text/plain": [
       "'SELECT \\n    house_divisions.debate_id,\\n    main_mp.house_division_id,\\n    COALESCE(num_utterances.num_utterances, 0) AS \\'num_utterances\\',\\n    CASE WHEN main_mp.is_vote_aye = 1 THEN \\'aye\\' ELSE \\'no\\' END AS \\'The MP voted:\\',\\n    SUM(CASE WHEN other_mps.is_vote_aye = 1 THEN 1 ELSE 0 END) AS \\'# fellow MPs voting aye:\\',\\n    SUM(CASE WHEN other_mps.is_vote_aye = 0 THEN 1 ELSE 0 END) AS \\'# fellow MPs voting no:\\',\\n    CASE WHEN SUM(main_mp.is_vote_aye != other_mps.is_vote_aye) > SUM(main_mp.is_vote_aye = other_mps.is_vote_aye) THEN \\'AGAINST\\' ELSE \\'WITH \\' END AS \\'Were they in the majority:\\'\\nFROM\\n    (SELECT \\n        mp.mp_id,\\n        mp.party,\\n        votes.house_division_id,\\n        votes.is_vote_aye\\n     FROM\\n        votes\\n     LEFT JOIN\\n         mp\\n     USING(mp_id)\\n     WHERE votes.mp_id = \"?\" AND mp.term_start == 2017) main_mp\\nLEFT OUTER JOIN\\n    (SELECT\\n        votes.house_division_id,\\n        votes.is_vote_aye,\\n        mp.party\\n     FROM\\n        votes\\n     LEFT JOIN\\n        mp\\n     ON\\n        votes.mp_id = mp.mp_id\\n     WHERE votes.mp_id != \"?\" AND mp.term_start == 2017) other_mps\\n     ON\\n        main_mp.house_division_id = other_mps.house_division_id AND\\n        main_mp.party = other_mps.party\\nLEFT JOIN\\n      house_divisions\\nUSING (house_division_id)\\nLEFT JOIN\\n   (SELECT\\n      speeches.speaker_id AS mp_id,\\n      debate_id,\\n      COUNT(*) AS \\'num_utterances\\'\\n    FROM\\n      speeches\\n    GROUP BY\\n      speeches.speaker_id,\\n      speeches.debate_id  \\n      ) num_utterances\\nON house_divisions.debate_id = num_utterances.debate_id AND main_mp.mp_id = num_utterances.mp_id\\nGROUP BY\\n   main_mp.is_vote_aye,\\n   house_divisions.debate_id,\\n   main_mp.house_division_id\\nORDER BY\\n   house_divisions.debate_id ASC'"
      ]
     },
     "execution_count": 154,
     "metadata": {},
     "output_type": "execute_result"
    }
   ],
   "source": [
    "# Read text file ./src/vote_record.sql\n",
    "with open('./../src/sql/vote_record.sql', 'r') as f:\n",
    "    vote_record_sql = f.read()\n",
    "\n",
    "vote_record_sql"
   ]
  },
  {
   "cell_type": "markdown",
   "metadata": {},
   "source": [
    "Test that it works:"
   ]
  },
  {
   "cell_type": "code",
   "execution_count": 159,
   "metadata": {},
   "outputs": [
    {
     "data": {
      "text/html": [
       "<div>\n",
       "<style scoped>\n",
       "    .dataframe tbody tr th:only-of-type {\n",
       "        vertical-align: middle;\n",
       "    }\n",
       "\n",
       "    .dataframe tbody tr th {\n",
       "        vertical-align: top;\n",
       "    }\n",
       "\n",
       "    .dataframe thead th {\n",
       "        text-align: right;\n",
       "    }\n",
       "</style>\n",
       "<table border=\"1\" class=\"dataframe\">\n",
       "  <thead>\n",
       "    <tr style=\"text-align: right;\">\n",
       "      <th></th>\n",
       "      <th>debate_id</th>\n",
       "      <th>house_division_id</th>\n",
       "      <th>num_utterances</th>\n",
       "      <th>The MP voted:</th>\n",
       "      <th># fellow MPs voting aye:</th>\n",
       "      <th># fellow MPs voting no:</th>\n",
       "      <th>Were they in the majority:</th>\n",
       "    </tr>\n",
       "  </thead>\n",
       "  <tbody>\n",
       "    <tr>\n",
       "      <th>0</th>\n",
       "      <td>2023-01-11e.566.1</td>\n",
       "      <td>g613.0</td>\n",
       "      <td>0</td>\n",
       "      <td>aye</td>\n",
       "      <td>0</td>\n",
       "      <td>302</td>\n",
       "      <td>AGAINST</td>\n",
       "    </tr>\n",
       "    <tr>\n",
       "      <th>1</th>\n",
       "      <td>2023-01-16f.139.0</td>\n",
       "      <td>g140.0</td>\n",
       "      <td>0</td>\n",
       "      <td>no</td>\n",
       "      <td>303</td>\n",
       "      <td>0</td>\n",
       "      <td>AGAINST</td>\n",
       "    </tr>\n",
       "    <tr>\n",
       "      <th>2</th>\n",
       "      <td>2023-01-16f.144.0</td>\n",
       "      <td>g144.2</td>\n",
       "      <td>0</td>\n",
       "      <td>no</td>\n",
       "      <td>301</td>\n",
       "      <td>0</td>\n",
       "      <td>AGAINST</td>\n",
       "    </tr>\n",
       "    <tr>\n",
       "      <th>3</th>\n",
       "      <td>2023-01-16f.54.0</td>\n",
       "      <td>g135.0</td>\n",
       "      <td>0</td>\n",
       "      <td>no</td>\n",
       "      <td>307</td>\n",
       "      <td>1</td>\n",
       "      <td>AGAINST</td>\n",
       "    </tr>\n",
       "    <tr>\n",
       "      <th>4</th>\n",
       "      <td>2023-01-16f.54.0</td>\n",
       "      <td>g131.5</td>\n",
       "      <td>0</td>\n",
       "      <td>aye</td>\n",
       "      <td>1</td>\n",
       "      <td>298</td>\n",
       "      <td>AGAINST</td>\n",
       "    </tr>\n",
       "    <tr>\n",
       "      <th>5</th>\n",
       "      <td>2023-01-17c.228.0</td>\n",
       "      <td>g262.0</td>\n",
       "      <td>0</td>\n",
       "      <td>no</td>\n",
       "      <td>310</td>\n",
       "      <td>0</td>\n",
       "      <td>AGAINST</td>\n",
       "    </tr>\n",
       "    <tr>\n",
       "      <th>6</th>\n",
       "      <td>2023-01-31b.278.0</td>\n",
       "      <td>g308.0</td>\n",
       "      <td>0</td>\n",
       "      <td>aye</td>\n",
       "      <td>0</td>\n",
       "      <td>297</td>\n",
       "      <td>AGAINST</td>\n",
       "    </tr>\n",
       "    <tr>\n",
       "      <th>7</th>\n",
       "      <td>2023-02-21c.193.0</td>\n",
       "      <td>g194.6</td>\n",
       "      <td>0</td>\n",
       "      <td>no</td>\n",
       "      <td>252</td>\n",
       "      <td>0</td>\n",
       "      <td>AGAINST</td>\n",
       "    </tr>\n",
       "    <tr>\n",
       "      <th>8</th>\n",
       "      <td>2023-02-28d.701.0</td>\n",
       "      <td>g710.0</td>\n",
       "      <td>0</td>\n",
       "      <td>aye</td>\n",
       "      <td>0</td>\n",
       "      <td>0</td>\n",
       "      <td>WITH</td>\n",
       "    </tr>\n",
       "    <tr>\n",
       "      <th>9</th>\n",
       "      <td>2023-03-13b.573.0</td>\n",
       "      <td>g647.0</td>\n",
       "      <td>0</td>\n",
       "      <td>no</td>\n",
       "      <td>308</td>\n",
       "      <td>0</td>\n",
       "      <td>AGAINST</td>\n",
       "    </tr>\n",
       "    <tr>\n",
       "      <th>10</th>\n",
       "      <td>2023-03-13b.573.0</td>\n",
       "      <td>g643.0</td>\n",
       "      <td>0</td>\n",
       "      <td>aye</td>\n",
       "      <td>0</td>\n",
       "      <td>308</td>\n",
       "      <td>AGAINST</td>\n",
       "    </tr>\n",
       "    <tr>\n",
       "      <th>11</th>\n",
       "      <td>2023-03-13b.651.0</td>\n",
       "      <td>g652.0</td>\n",
       "      <td>0</td>\n",
       "      <td>no</td>\n",
       "      <td>308</td>\n",
       "      <td>0</td>\n",
       "      <td>AGAINST</td>\n",
       "    </tr>\n",
       "    <tr>\n",
       "      <th>12</th>\n",
       "      <td>2023-03-13b.656.0</td>\n",
       "      <td>g656.2</td>\n",
       "      <td>0</td>\n",
       "      <td>no</td>\n",
       "      <td>306</td>\n",
       "      <td>0</td>\n",
       "      <td>AGAINST</td>\n",
       "    </tr>\n",
       "    <tr>\n",
       "      <th>13</th>\n",
       "      <td>2023-03-21c.273.0</td>\n",
       "      <td>g274.0</td>\n",
       "      <td>0</td>\n",
       "      <td>no</td>\n",
       "      <td>316</td>\n",
       "      <td>0</td>\n",
       "      <td>AGAINST</td>\n",
       "    </tr>\n",
       "    <tr>\n",
       "      <th>14</th>\n",
       "      <td>2023-03-21c.282.4</td>\n",
       "      <td>g282.6</td>\n",
       "      <td>0</td>\n",
       "      <td>no</td>\n",
       "      <td>314</td>\n",
       "      <td>0</td>\n",
       "      <td>AGAINST</td>\n",
       "    </tr>\n",
       "    <tr>\n",
       "      <th>15</th>\n",
       "      <td>2023-03-22b.338.0</td>\n",
       "      <td>g364.0</td>\n",
       "      <td>0</td>\n",
       "      <td>aye</td>\n",
       "      <td>283</td>\n",
       "      <td>20</td>\n",
       "      <td>WITH</td>\n",
       "    </tr>\n",
       "    <tr>\n",
       "      <th>16</th>\n",
       "      <td>2023-03-29c.1044.0</td>\n",
       "      <td>g1105.0</td>\n",
       "      <td>0</td>\n",
       "      <td>aye</td>\n",
       "      <td>0</td>\n",
       "      <td>282</td>\n",
       "      <td>AGAINST</td>\n",
       "    </tr>\n",
       "    <tr>\n",
       "      <th>17</th>\n",
       "      <td>2023-04-25c.659.0</td>\n",
       "      <td>g698.1</td>\n",
       "      <td>0</td>\n",
       "      <td>aye</td>\n",
       "      <td>0</td>\n",
       "      <td>281</td>\n",
       "      <td>AGAINST</td>\n",
       "    </tr>\n",
       "    <tr>\n",
       "      <th>18</th>\n",
       "      <td>2023-05-16c.715.1</td>\n",
       "      <td>g769.0</td>\n",
       "      <td>0</td>\n",
       "      <td>no</td>\n",
       "      <td>281</td>\n",
       "      <td>0</td>\n",
       "      <td>AGAINST</td>\n",
       "    </tr>\n",
       "    <tr>\n",
       "      <th>19</th>\n",
       "      <td>2023-05-16c.715.1</td>\n",
       "      <td>g766.0</td>\n",
       "      <td>0</td>\n",
       "      <td>aye</td>\n",
       "      <td>0</td>\n",
       "      <td>285</td>\n",
       "      <td>AGAINST</td>\n",
       "    </tr>\n",
       "    <tr>\n",
       "      <th>20</th>\n",
       "      <td>2023-05-16c.772.0</td>\n",
       "      <td>g811.1</td>\n",
       "      <td>0</td>\n",
       "      <td>aye</td>\n",
       "      <td>0</td>\n",
       "      <td>276</td>\n",
       "      <td>AGAINST</td>\n",
       "    </tr>\n",
       "    <tr>\n",
       "      <th>21</th>\n",
       "      <td>2023-05-24c.372.0</td>\n",
       "      <td>g385.0</td>\n",
       "      <td>0</td>\n",
       "      <td>no</td>\n",
       "      <td>291</td>\n",
       "      <td>0</td>\n",
       "      <td>AGAINST</td>\n",
       "    </tr>\n",
       "    <tr>\n",
       "      <th>22</th>\n",
       "      <td>2023-06-12b.53.0</td>\n",
       "      <td>g76.0</td>\n",
       "      <td>0</td>\n",
       "      <td>no</td>\n",
       "      <td>273</td>\n",
       "      <td>0</td>\n",
       "      <td>AGAINST</td>\n",
       "    </tr>\n",
       "    <tr>\n",
       "      <th>23</th>\n",
       "      <td>2023-06-14b.312.3</td>\n",
       "      <td>g362.0</td>\n",
       "      <td>0</td>\n",
       "      <td>aye</td>\n",
       "      <td>0</td>\n",
       "      <td>255</td>\n",
       "      <td>AGAINST</td>\n",
       "    </tr>\n",
       "    <tr>\n",
       "      <th>24</th>\n",
       "      <td>2023-06-21c.849.1</td>\n",
       "      <td>g900.3</td>\n",
       "      <td>0</td>\n",
       "      <td>aye</td>\n",
       "      <td>0</td>\n",
       "      <td>250</td>\n",
       "      <td>AGAINST</td>\n",
       "    </tr>\n",
       "    <tr>\n",
       "      <th>25</th>\n",
       "      <td>2023-07-03b.586.0</td>\n",
       "      <td>g661.0</td>\n",
       "      <td>0</td>\n",
       "      <td>no</td>\n",
       "      <td>262</td>\n",
       "      <td>2</td>\n",
       "      <td>AGAINST</td>\n",
       "    </tr>\n",
       "    <tr>\n",
       "      <th>26</th>\n",
       "      <td>2023-07-03b.586.0</td>\n",
       "      <td>g657.0</td>\n",
       "      <td>0</td>\n",
       "      <td>aye</td>\n",
       "      <td>2</td>\n",
       "      <td>268</td>\n",
       "      <td>AGAINST</td>\n",
       "    </tr>\n",
       "    <tr>\n",
       "      <th>27</th>\n",
       "      <td>2023-07-11e.213.0</td>\n",
       "      <td>g249.0</td>\n",
       "      <td>0</td>\n",
       "      <td>no</td>\n",
       "      <td>302</td>\n",
       "      <td>0</td>\n",
       "      <td>AGAINST</td>\n",
       "    </tr>\n",
       "    <tr>\n",
       "      <th>28</th>\n",
       "      <td>2023-09-12c.847.0</td>\n",
       "      <td>g869.0</td>\n",
       "      <td>0</td>\n",
       "      <td>no</td>\n",
       "      <td>269</td>\n",
       "      <td>2</td>\n",
       "      <td>AGAINST</td>\n",
       "    </tr>\n",
       "    <tr>\n",
       "      <th>29</th>\n",
       "      <td>2023-11-14b.534.3</td>\n",
       "      <td>g614.1</td>\n",
       "      <td>0</td>\n",
       "      <td>no</td>\n",
       "      <td>0</td>\n",
       "      <td>302</td>\n",
       "      <td>WITH</td>\n",
       "    </tr>\n",
       "    <tr>\n",
       "      <th>30</th>\n",
       "      <td>2023-11-15b.674.3</td>\n",
       "      <td>g754.0</td>\n",
       "      <td>0</td>\n",
       "      <td>no</td>\n",
       "      <td>0</td>\n",
       "      <td>286</td>\n",
       "      <td>WITH</td>\n",
       "    </tr>\n",
       "    <tr>\n",
       "      <th>31</th>\n",
       "      <td>2023-11-15b.674.3</td>\n",
       "      <td>g757.0</td>\n",
       "      <td>0</td>\n",
       "      <td>no</td>\n",
       "      <td>0</td>\n",
       "      <td>290</td>\n",
       "      <td>WITH</td>\n",
       "    </tr>\n",
       "    <tr>\n",
       "      <th>32</th>\n",
       "      <td>2023-11-15b.674.3</td>\n",
       "      <td>g761.0</td>\n",
       "      <td>0</td>\n",
       "      <td>no</td>\n",
       "      <td>0</td>\n",
       "      <td>299</td>\n",
       "      <td>WITH</td>\n",
       "    </tr>\n",
       "    <tr>\n",
       "      <th>33</th>\n",
       "      <td>2023-11-29b.1033.0</td>\n",
       "      <td>g1033.3</td>\n",
       "      <td>0</td>\n",
       "      <td>aye</td>\n",
       "      <td>289</td>\n",
       "      <td>2</td>\n",
       "      <td>WITH</td>\n",
       "    </tr>\n",
       "    <tr>\n",
       "      <th>34</th>\n",
       "      <td>2023-11-29b.848.0</td>\n",
       "      <td>g850.0</td>\n",
       "      <td>0</td>\n",
       "      <td>no</td>\n",
       "      <td>2</td>\n",
       "      <td>268</td>\n",
       "      <td>WITH</td>\n",
       "    </tr>\n",
       "  </tbody>\n",
       "</table>\n",
       "</div>"
      ],
      "text/plain": [
       "             debate_id house_division_id  num_utterances The MP voted:  \\\n",
       "0    2023-01-11e.566.1            g613.0               0           aye   \n",
       "1    2023-01-16f.139.0            g140.0               0            no   \n",
       "2    2023-01-16f.144.0            g144.2               0            no   \n",
       "3     2023-01-16f.54.0            g135.0               0            no   \n",
       "4     2023-01-16f.54.0            g131.5               0           aye   \n",
       "5    2023-01-17c.228.0            g262.0               0            no   \n",
       "6    2023-01-31b.278.0            g308.0               0           aye   \n",
       "7    2023-02-21c.193.0            g194.6               0            no   \n",
       "8    2023-02-28d.701.0            g710.0               0           aye   \n",
       "9    2023-03-13b.573.0            g647.0               0            no   \n",
       "10   2023-03-13b.573.0            g643.0               0           aye   \n",
       "11   2023-03-13b.651.0            g652.0               0            no   \n",
       "12   2023-03-13b.656.0            g656.2               0            no   \n",
       "13   2023-03-21c.273.0            g274.0               0            no   \n",
       "14   2023-03-21c.282.4            g282.6               0            no   \n",
       "15   2023-03-22b.338.0            g364.0               0           aye   \n",
       "16  2023-03-29c.1044.0           g1105.0               0           aye   \n",
       "17   2023-04-25c.659.0            g698.1               0           aye   \n",
       "18   2023-05-16c.715.1            g769.0               0            no   \n",
       "19   2023-05-16c.715.1            g766.0               0           aye   \n",
       "20   2023-05-16c.772.0            g811.1               0           aye   \n",
       "21   2023-05-24c.372.0            g385.0               0            no   \n",
       "22    2023-06-12b.53.0             g76.0               0            no   \n",
       "23   2023-06-14b.312.3            g362.0               0           aye   \n",
       "24   2023-06-21c.849.1            g900.3               0           aye   \n",
       "25   2023-07-03b.586.0            g661.0               0            no   \n",
       "26   2023-07-03b.586.0            g657.0               0           aye   \n",
       "27   2023-07-11e.213.0            g249.0               0            no   \n",
       "28   2023-09-12c.847.0            g869.0               0            no   \n",
       "29   2023-11-14b.534.3            g614.1               0            no   \n",
       "30   2023-11-15b.674.3            g754.0               0            no   \n",
       "31   2023-11-15b.674.3            g757.0               0            no   \n",
       "32   2023-11-15b.674.3            g761.0               0            no   \n",
       "33  2023-11-29b.1033.0           g1033.3               0           aye   \n",
       "34   2023-11-29b.848.0            g850.0               0            no   \n",
       "\n",
       "    # fellow MPs voting aye:  # fellow MPs voting no:  \\\n",
       "0                          0                      302   \n",
       "1                        303                        0   \n",
       "2                        301                        0   \n",
       "3                        307                        1   \n",
       "4                          1                      298   \n",
       "5                        310                        0   \n",
       "6                          0                      297   \n",
       "7                        252                        0   \n",
       "8                          0                        0   \n",
       "9                        308                        0   \n",
       "10                         0                      308   \n",
       "11                       308                        0   \n",
       "12                       306                        0   \n",
       "13                       316                        0   \n",
       "14                       314                        0   \n",
       "15                       283                       20   \n",
       "16                         0                      282   \n",
       "17                         0                      281   \n",
       "18                       281                        0   \n",
       "19                         0                      285   \n",
       "20                         0                      276   \n",
       "21                       291                        0   \n",
       "22                       273                        0   \n",
       "23                         0                      255   \n",
       "24                         0                      250   \n",
       "25                       262                        2   \n",
       "26                         2                      268   \n",
       "27                       302                        0   \n",
       "28                       269                        2   \n",
       "29                         0                      302   \n",
       "30                         0                      286   \n",
       "31                         0                      290   \n",
       "32                         0                      299   \n",
       "33                       289                        2   \n",
       "34                         2                      268   \n",
       "\n",
       "   Were they in the majority:  \n",
       "0                     AGAINST  \n",
       "1                     AGAINST  \n",
       "2                     AGAINST  \n",
       "3                     AGAINST  \n",
       "4                     AGAINST  \n",
       "5                     AGAINST  \n",
       "6                     AGAINST  \n",
       "7                     AGAINST  \n",
       "8                       WITH   \n",
       "9                     AGAINST  \n",
       "10                    AGAINST  \n",
       "11                    AGAINST  \n",
       "12                    AGAINST  \n",
       "13                    AGAINST  \n",
       "14                    AGAINST  \n",
       "15                      WITH   \n",
       "16                    AGAINST  \n",
       "17                    AGAINST  \n",
       "18                    AGAINST  \n",
       "19                    AGAINST  \n",
       "20                    AGAINST  \n",
       "21                    AGAINST  \n",
       "22                    AGAINST  \n",
       "23                    AGAINST  \n",
       "24                    AGAINST  \n",
       "25                    AGAINST  \n",
       "26                    AGAINST  \n",
       "27                    AGAINST  \n",
       "28                    AGAINST  \n",
       "29                      WITH   \n",
       "30                      WITH   \n",
       "31                      WITH   \n",
       "32                      WITH   \n",
       "33                      WITH   \n",
       "34                      WITH   "
      ]
     },
     "execution_count": 159,
     "metadata": {},
     "output_type": "execute_result"
    }
   ],
   "source": [
    "# Lisa Cameron's vote record\n",
    "pd.read_sql(vote_record_sql.replace(\"?\", \"25276\"), engine)"
   ]
  },
  {
   "cell_type": "markdown",
   "metadata": {},
   "source": [
    "# Part 4: Investigate individual cases\n",
    "\n",
    "## 4.1 Desmond Swayne (Conservative, `mp_id=\"10580\"`)"
   ]
  },
  {
   "cell_type": "code",
   "execution_count": 160,
   "metadata": {
    "vscode": {
     "languageId": "sql"
    }
   },
   "outputs": [
    {
     "data": {
      "text/html": [
       "<table>\n",
       "    <thead>\n",
       "        <tr>\n",
       "            <th>mp_id</th>\n",
       "            <th>first_name</th>\n",
       "            <th>last_name</th>\n",
       "            <th>party</th>\n",
       "            <th>constituency</th>\n",
       "            <th>url</th>\n",
       "            <th>term_start</th>\n",
       "            <th>term_end</th>\n",
       "        </tr>\n",
       "    </thead>\n",
       "    <tbody>\n",
       "        <tr>\n",
       "            <td>10580</td>\n",
       "            <td>Desmond</td>\n",
       "            <td>Swayne</td>\n",
       "            <td>Conservative</td>\n",
       "            <td>New Forest West</td>\n",
       "            <td><a href=https://www.theyworkforyou.com/mp/10580/desmond_swayne/new_forest_west>https://www.theyworkforyou.com/mp/10580/desmond_swayne/new_forest_west</a></td>\n",
       "            <td>2001</td>\n",
       "            <td>2005</td>\n",
       "        </tr>\n",
       "        <tr>\n",
       "            <td>10580</td>\n",
       "            <td>Desmond</td>\n",
       "            <td>Swayne</td>\n",
       "            <td>Conservative</td>\n",
       "            <td>New Forest West</td>\n",
       "            <td><a href=https://www.theyworkforyou.com/mp/10580/desmond_swayne/new_forest_west>https://www.theyworkforyou.com/mp/10580/desmond_swayne/new_forest_west</a></td>\n",
       "            <td>2005</td>\n",
       "            <td>2010</td>\n",
       "        </tr>\n",
       "        <tr>\n",
       "            <td>10580</td>\n",
       "            <td>Desmond</td>\n",
       "            <td>Swayne</td>\n",
       "            <td>Conservative</td>\n",
       "            <td>New Forest West</td>\n",
       "            <td><a href=https://www.theyworkforyou.com/mp/10580/desmond_swayne/new_forest_west>https://www.theyworkforyou.com/mp/10580/desmond_swayne/new_forest_west</a></td>\n",
       "            <td>2010</td>\n",
       "            <td>1015</td>\n",
       "        </tr>\n",
       "        <tr>\n",
       "            <td>10580</td>\n",
       "            <td>Desmond</td>\n",
       "            <td>Swayne</td>\n",
       "            <td>Conservative</td>\n",
       "            <td>New Forest West</td>\n",
       "            <td><a href=https://www.theyworkforyou.com/mp/10580/desmond_swayne/new_forest_west>https://www.theyworkforyou.com/mp/10580/desmond_swayne/new_forest_west</a></td>\n",
       "            <td>2015</td>\n",
       "            <td>2017</td>\n",
       "        </tr>\n",
       "        <tr>\n",
       "            <td>10580</td>\n",
       "            <td>Desmond</td>\n",
       "            <td>Swayne</td>\n",
       "            <td>Conservative</td>\n",
       "            <td>New Forest West</td>\n",
       "            <td><a href=https://www.theyworkforyou.com/mp/10580/desmond_swayne/new_forest_west>https://www.theyworkforyou.com/mp/10580/desmond_swayne/new_forest_west</a></td>\n",
       "            <td>2017</td>\n",
       "            <td>2023</td>\n",
       "        </tr>\n",
       "    </tbody>\n",
       "</table>"
      ],
      "text/plain": [
       "+-------+------------+-----------+--------------+-----------------+-----------------------------------------------------------------------------------------------------------------------------------------------------------+------------+----------+\n",
       "| mp_id | first_name | last_name |    party     |   constituency  |                                                                            url                                                                            | term_start | term_end |\n",
       "+-------+------------+-----------+--------------+-----------------+-----------------------------------------------------------------------------------------------------------------------------------------------------------+------------+----------+\n",
       "| 10580 |  Desmond   |   Swayne  | Conservative | New Forest West | <a href=https://www.theyworkforyou.com/mp/10580/desmond_swayne/new_forest_west>https://www.theyworkforyou.com/mp/10580/desmond_swayne/new_forest_west</a> |    2001    |   2005   |\n",
       "| 10580 |  Desmond   |   Swayne  | Conservative | New Forest West | <a href=https://www.theyworkforyou.com/mp/10580/desmond_swayne/new_forest_west>https://www.theyworkforyou.com/mp/10580/desmond_swayne/new_forest_west</a> |    2005    |   2010   |\n",
       "| 10580 |  Desmond   |   Swayne  | Conservative | New Forest West | <a href=https://www.theyworkforyou.com/mp/10580/desmond_swayne/new_forest_west>https://www.theyworkforyou.com/mp/10580/desmond_swayne/new_forest_west</a> |    2010    |   1015   |\n",
       "| 10580 |  Desmond   |   Swayne  | Conservative | New Forest West | <a href=https://www.theyworkforyou.com/mp/10580/desmond_swayne/new_forest_west>https://www.theyworkforyou.com/mp/10580/desmond_swayne/new_forest_west</a> |    2015    |   2017   |\n",
       "| 10580 |  Desmond   |   Swayne  | Conservative | New Forest West | <a href=https://www.theyworkforyou.com/mp/10580/desmond_swayne/new_forest_west>https://www.theyworkforyou.com/mp/10580/desmond_swayne/new_forest_west</a> |    2017    |   2023   |\n",
       "+-------+------------+-----------+--------------+-----------------+-----------------------------------------------------------------------------------------------------------------------------------------------------------+------------+----------+"
      ]
     },
     "execution_count": 160,
     "metadata": {},
     "output_type": "execute_result"
    }
   ],
   "source": [
    "%%sql discordia\n",
    "\n",
    "SELECT \n",
    "    *\n",
    "FROM\n",
    "    mp\n",
    "WHERE\n",
    "    mp.mp_id == \"10580\""
   ]
  },
  {
   "cell_type": "code",
   "execution_count": 161,
   "metadata": {},
   "outputs": [
    {
     "data": {
      "text/html": [
       "<div>\n",
       "<style scoped>\n",
       "    .dataframe tbody tr th:only-of-type {\n",
       "        vertical-align: middle;\n",
       "    }\n",
       "\n",
       "    .dataframe tbody tr th {\n",
       "        vertical-align: top;\n",
       "    }\n",
       "\n",
       "    .dataframe thead th {\n",
       "        text-align: right;\n",
       "    }\n",
       "</style>\n",
       "<table border=\"1\" class=\"dataframe\">\n",
       "  <thead>\n",
       "    <tr style=\"text-align: right;\">\n",
       "      <th></th>\n",
       "      <th>debate_id</th>\n",
       "      <th>house_division_id</th>\n",
       "      <th>num_utterances</th>\n",
       "      <th>The MP voted:</th>\n",
       "      <th># fellow MPs voting aye:</th>\n",
       "      <th># fellow MPs voting no:</th>\n",
       "      <th>Were they in the majority:</th>\n",
       "    </tr>\n",
       "  </thead>\n",
       "  <tbody>\n",
       "    <tr>\n",
       "      <th>0</th>\n",
       "      <td>2023-01-11e.566.1</td>\n",
       "      <td>g613.0</td>\n",
       "      <td>0</td>\n",
       "      <td>no</td>\n",
       "      <td>1</td>\n",
       "      <td>301</td>\n",
       "      <td>WITH</td>\n",
       "    </tr>\n",
       "    <tr>\n",
       "      <th>1</th>\n",
       "      <td>2023-01-11e.618.0</td>\n",
       "      <td>g673.0</td>\n",
       "      <td>0</td>\n",
       "      <td>no</td>\n",
       "      <td>0</td>\n",
       "      <td>295</td>\n",
       "      <td>WITH</td>\n",
       "    </tr>\n",
       "    <tr>\n",
       "      <th>2</th>\n",
       "      <td>2023-01-11e.618.0</td>\n",
       "      <td>g676.0</td>\n",
       "      <td>0</td>\n",
       "      <td>aye</td>\n",
       "      <td>287</td>\n",
       "      <td>2</td>\n",
       "      <td>WITH</td>\n",
       "    </tr>\n",
       "    <tr>\n",
       "      <th>3</th>\n",
       "      <td>2023-01-16f.139.0</td>\n",
       "      <td>g140.0</td>\n",
       "      <td>0</td>\n",
       "      <td>aye</td>\n",
       "      <td>302</td>\n",
       "      <td>1</td>\n",
       "      <td>WITH</td>\n",
       "    </tr>\n",
       "    <tr>\n",
       "      <th>4</th>\n",
       "      <td>2023-01-16f.144.0</td>\n",
       "      <td>g144.2</td>\n",
       "      <td>0</td>\n",
       "      <td>aye</td>\n",
       "      <td>300</td>\n",
       "      <td>1</td>\n",
       "      <td>WITH</td>\n",
       "    </tr>\n",
       "    <tr>\n",
       "      <th>5</th>\n",
       "      <td>2023-01-16f.54.0</td>\n",
       "      <td>g135.0</td>\n",
       "      <td>0</td>\n",
       "      <td>aye</td>\n",
       "      <td>306</td>\n",
       "      <td>2</td>\n",
       "      <td>WITH</td>\n",
       "    </tr>\n",
       "    <tr>\n",
       "      <th>6</th>\n",
       "      <td>2023-01-17c.228.0</td>\n",
       "      <td>g262.0</td>\n",
       "      <td>0</td>\n",
       "      <td>aye</td>\n",
       "      <td>309</td>\n",
       "      <td>1</td>\n",
       "      <td>WITH</td>\n",
       "    </tr>\n",
       "    <tr>\n",
       "      <th>7</th>\n",
       "      <td>2023-01-31b.221.1</td>\n",
       "      <td>g270.1</td>\n",
       "      <td>0</td>\n",
       "      <td>no</td>\n",
       "      <td>0</td>\n",
       "      <td>304</td>\n",
       "      <td>WITH</td>\n",
       "    </tr>\n",
       "    <tr>\n",
       "      <th>8</th>\n",
       "      <td>2023-01-31b.221.1</td>\n",
       "      <td>g274.2</td>\n",
       "      <td>0</td>\n",
       "      <td>aye</td>\n",
       "      <td>301</td>\n",
       "      <td>1</td>\n",
       "      <td>WITH</td>\n",
       "    </tr>\n",
       "    <tr>\n",
       "      <th>9</th>\n",
       "      <td>2023-01-31b.278.0</td>\n",
       "      <td>g308.0</td>\n",
       "      <td>0</td>\n",
       "      <td>no</td>\n",
       "      <td>1</td>\n",
       "      <td>296</td>\n",
       "      <td>WITH</td>\n",
       "    </tr>\n",
       "    <tr>\n",
       "      <th>10</th>\n",
       "      <td>2023-02-21c.193.0</td>\n",
       "      <td>g194.6</td>\n",
       "      <td>0</td>\n",
       "      <td>aye</td>\n",
       "      <td>251</td>\n",
       "      <td>1</td>\n",
       "      <td>WITH</td>\n",
       "    </tr>\n",
       "    <tr>\n",
       "      <th>11</th>\n",
       "      <td>2023-03-13b.573.0</td>\n",
       "      <td>g643.0</td>\n",
       "      <td>0</td>\n",
       "      <td>no</td>\n",
       "      <td>1</td>\n",
       "      <td>307</td>\n",
       "      <td>WITH</td>\n",
       "    </tr>\n",
       "    <tr>\n",
       "      <th>12</th>\n",
       "      <td>2023-03-13b.573.0</td>\n",
       "      <td>g647.0</td>\n",
       "      <td>0</td>\n",
       "      <td>aye</td>\n",
       "      <td>307</td>\n",
       "      <td>1</td>\n",
       "      <td>WITH</td>\n",
       "    </tr>\n",
       "    <tr>\n",
       "      <th>13</th>\n",
       "      <td>2023-03-13b.651.0</td>\n",
       "      <td>g652.0</td>\n",
       "      <td>0</td>\n",
       "      <td>aye</td>\n",
       "      <td>307</td>\n",
       "      <td>1</td>\n",
       "      <td>WITH</td>\n",
       "    </tr>\n",
       "    <tr>\n",
       "      <th>14</th>\n",
       "      <td>2023-03-13b.656.0</td>\n",
       "      <td>g656.2</td>\n",
       "      <td>0</td>\n",
       "      <td>aye</td>\n",
       "      <td>305</td>\n",
       "      <td>1</td>\n",
       "      <td>WITH</td>\n",
       "    </tr>\n",
       "    <tr>\n",
       "      <th>15</th>\n",
       "      <td>2023-03-21c.273.0</td>\n",
       "      <td>g274.0</td>\n",
       "      <td>0</td>\n",
       "      <td>aye</td>\n",
       "      <td>315</td>\n",
       "      <td>1</td>\n",
       "      <td>WITH</td>\n",
       "    </tr>\n",
       "    <tr>\n",
       "      <th>16</th>\n",
       "      <td>2023-03-21c.282.4</td>\n",
       "      <td>g282.6</td>\n",
       "      <td>0</td>\n",
       "      <td>aye</td>\n",
       "      <td>313</td>\n",
       "      <td>1</td>\n",
       "      <td>WITH</td>\n",
       "    </tr>\n",
       "    <tr>\n",
       "      <th>17</th>\n",
       "      <td>2023-03-22b.338.0</td>\n",
       "      <td>g364.0</td>\n",
       "      <td>0</td>\n",
       "      <td>aye</td>\n",
       "      <td>283</td>\n",
       "      <td>20</td>\n",
       "      <td>WITH</td>\n",
       "    </tr>\n",
       "    <tr>\n",
       "      <th>18</th>\n",
       "      <td>2023-03-22b.401.0</td>\n",
       "      <td>g401.3</td>\n",
       "      <td>0</td>\n",
       "      <td>no</td>\n",
       "      <td>281</td>\n",
       "      <td>12</td>\n",
       "      <td>AGAINST</td>\n",
       "    </tr>\n",
       "    <tr>\n",
       "      <th>19</th>\n",
       "      <td>2023-03-29c.1044.0</td>\n",
       "      <td>g1105.0</td>\n",
       "      <td>0</td>\n",
       "      <td>no</td>\n",
       "      <td>1</td>\n",
       "      <td>281</td>\n",
       "      <td>WITH</td>\n",
       "    </tr>\n",
       "    <tr>\n",
       "      <th>20</th>\n",
       "      <td>2023-04-25c.593.1</td>\n",
       "      <td>g652.1</td>\n",
       "      <td>0</td>\n",
       "      <td>aye</td>\n",
       "      <td>284</td>\n",
       "      <td>0</td>\n",
       "      <td>WITH</td>\n",
       "    </tr>\n",
       "    <tr>\n",
       "      <th>21</th>\n",
       "      <td>2023-04-25c.593.1</td>\n",
       "      <td>g655.1</td>\n",
       "      <td>0</td>\n",
       "      <td>aye</td>\n",
       "      <td>278</td>\n",
       "      <td>2</td>\n",
       "      <td>WITH</td>\n",
       "    </tr>\n",
       "    <tr>\n",
       "      <th>22</th>\n",
       "      <td>2023-04-25c.659.0</td>\n",
       "      <td>g698.1</td>\n",
       "      <td>0</td>\n",
       "      <td>no</td>\n",
       "      <td>1</td>\n",
       "      <td>280</td>\n",
       "      <td>WITH</td>\n",
       "    </tr>\n",
       "    <tr>\n",
       "      <th>23</th>\n",
       "      <td>2023-04-25c.659.0</td>\n",
       "      <td>g702.0</td>\n",
       "      <td>0</td>\n",
       "      <td>aye</td>\n",
       "      <td>279</td>\n",
       "      <td>2</td>\n",
       "      <td>WITH</td>\n",
       "    </tr>\n",
       "    <tr>\n",
       "      <th>24</th>\n",
       "      <td>2023-05-16c.715.1</td>\n",
       "      <td>g766.0</td>\n",
       "      <td>0</td>\n",
       "      <td>no</td>\n",
       "      <td>1</td>\n",
       "      <td>284</td>\n",
       "      <td>WITH</td>\n",
       "    </tr>\n",
       "    <tr>\n",
       "      <th>25</th>\n",
       "      <td>2023-05-16c.715.1</td>\n",
       "      <td>g769.0</td>\n",
       "      <td>0</td>\n",
       "      <td>aye</td>\n",
       "      <td>280</td>\n",
       "      <td>1</td>\n",
       "      <td>WITH</td>\n",
       "    </tr>\n",
       "    <tr>\n",
       "      <th>26</th>\n",
       "      <td>2023-05-16c.772.0</td>\n",
       "      <td>g811.1</td>\n",
       "      <td>0</td>\n",
       "      <td>no</td>\n",
       "      <td>1</td>\n",
       "      <td>275</td>\n",
       "      <td>WITH</td>\n",
       "    </tr>\n",
       "    <tr>\n",
       "      <th>27</th>\n",
       "      <td>2023-05-23d.221.0</td>\n",
       "      <td>g259.0</td>\n",
       "      <td>0</td>\n",
       "      <td>no</td>\n",
       "      <td>0</td>\n",
       "      <td>287</td>\n",
       "      <td>WITH</td>\n",
       "    </tr>\n",
       "    <tr>\n",
       "      <th>28</th>\n",
       "      <td>2023-05-24c.372.0</td>\n",
       "      <td>g385.0</td>\n",
       "      <td>0</td>\n",
       "      <td>aye</td>\n",
       "      <td>290</td>\n",
       "      <td>1</td>\n",
       "      <td>WITH</td>\n",
       "    </tr>\n",
       "    <tr>\n",
       "      <th>29</th>\n",
       "      <td>2023-06-06c.689.0</td>\n",
       "      <td>g689.2</td>\n",
       "      <td>0</td>\n",
       "      <td>no</td>\n",
       "      <td>29</td>\n",
       "      <td>32</td>\n",
       "      <td>WITH</td>\n",
       "    </tr>\n",
       "    <tr>\n",
       "      <th>30</th>\n",
       "      <td>2023-06-07d.739.1</td>\n",
       "      <td>g791.6</td>\n",
       "      <td>0</td>\n",
       "      <td>no</td>\n",
       "      <td>0</td>\n",
       "      <td>274</td>\n",
       "      <td>WITH</td>\n",
       "    </tr>\n",
       "    <tr>\n",
       "      <th>31</th>\n",
       "      <td>2023-06-07d.739.1</td>\n",
       "      <td>g795.0</td>\n",
       "      <td>0</td>\n",
       "      <td>aye</td>\n",
       "      <td>272</td>\n",
       "      <td>2</td>\n",
       "      <td>WITH</td>\n",
       "    </tr>\n",
       "    <tr>\n",
       "      <th>32</th>\n",
       "      <td>2023-06-07d.799.0</td>\n",
       "      <td>g840.0</td>\n",
       "      <td>0</td>\n",
       "      <td>no</td>\n",
       "      <td>0</td>\n",
       "      <td>267</td>\n",
       "      <td>WITH</td>\n",
       "    </tr>\n",
       "    <tr>\n",
       "      <th>33</th>\n",
       "      <td>2023-06-12b.53.0</td>\n",
       "      <td>g76.0</td>\n",
       "      <td>0</td>\n",
       "      <td>aye</td>\n",
       "      <td>272</td>\n",
       "      <td>1</td>\n",
       "      <td>WITH</td>\n",
       "    </tr>\n",
       "    <tr>\n",
       "      <th>34</th>\n",
       "      <td>2023-06-14b.312.3</td>\n",
       "      <td>g362.0</td>\n",
       "      <td>0</td>\n",
       "      <td>no</td>\n",
       "      <td>1</td>\n",
       "      <td>254</td>\n",
       "      <td>WITH</td>\n",
       "    </tr>\n",
       "    <tr>\n",
       "      <th>35</th>\n",
       "      <td>2023-06-14b.411.0</td>\n",
       "      <td>g411.3</td>\n",
       "      <td>0</td>\n",
       "      <td>aye</td>\n",
       "      <td>274</td>\n",
       "      <td>1</td>\n",
       "      <td>WITH</td>\n",
       "    </tr>\n",
       "    <tr>\n",
       "      <th>36</th>\n",
       "      <td>2023-06-19b.583.0</td>\n",
       "      <td>g661.2</td>\n",
       "      <td>0</td>\n",
       "      <td>no</td>\n",
       "      <td>118</td>\n",
       "      <td>6</td>\n",
       "      <td>AGAINST</td>\n",
       "    </tr>\n",
       "    <tr>\n",
       "      <th>37</th>\n",
       "      <td>2023-06-21c.849.1</td>\n",
       "      <td>g900.3</td>\n",
       "      <td>0</td>\n",
       "      <td>no</td>\n",
       "      <td>1</td>\n",
       "      <td>249</td>\n",
       "      <td>WITH</td>\n",
       "    </tr>\n",
       "    <tr>\n",
       "      <th>38</th>\n",
       "      <td>2023-06-21c.849.1</td>\n",
       "      <td>g904.0</td>\n",
       "      <td>0</td>\n",
       "      <td>aye</td>\n",
       "      <td>254</td>\n",
       "      <td>2</td>\n",
       "      <td>WITH</td>\n",
       "    </tr>\n",
       "    <tr>\n",
       "      <th>39</th>\n",
       "      <td>2023-06-27c.165.0</td>\n",
       "      <td>g168.1</td>\n",
       "      <td>0</td>\n",
       "      <td>aye</td>\n",
       "      <td>25</td>\n",
       "      <td>10</td>\n",
       "      <td>WITH</td>\n",
       "    </tr>\n",
       "    <tr>\n",
       "      <th>40</th>\n",
       "      <td>2023-06-28d.373.1</td>\n",
       "      <td>g374.0</td>\n",
       "      <td>0</td>\n",
       "      <td>aye</td>\n",
       "      <td>9</td>\n",
       "      <td>239</td>\n",
       "      <td>AGAINST</td>\n",
       "    </tr>\n",
       "    <tr>\n",
       "      <th>41</th>\n",
       "      <td>2023-06-28d.397.0</td>\n",
       "      <td>g397.3</td>\n",
       "      <td>0</td>\n",
       "      <td>no</td>\n",
       "      <td>236</td>\n",
       "      <td>19</td>\n",
       "      <td>AGAINST</td>\n",
       "    </tr>\n",
       "    <tr>\n",
       "      <th>42</th>\n",
       "      <td>2023-07-11e.213.0</td>\n",
       "      <td>g249.0</td>\n",
       "      <td>0</td>\n",
       "      <td>aye</td>\n",
       "      <td>301</td>\n",
       "      <td>1</td>\n",
       "      <td>WITH</td>\n",
       "    </tr>\n",
       "    <tr>\n",
       "      <th>43</th>\n",
       "      <td>2023-07-12c.467.0</td>\n",
       "      <td>g467.3</td>\n",
       "      <td>0</td>\n",
       "      <td>aye</td>\n",
       "      <td>268</td>\n",
       "      <td>2</td>\n",
       "      <td>WITH</td>\n",
       "    </tr>\n",
       "    <tr>\n",
       "      <th>44</th>\n",
       "      <td>2023-09-06c.454.1</td>\n",
       "      <td>g505.0</td>\n",
       "      <td>0</td>\n",
       "      <td>no</td>\n",
       "      <td>0</td>\n",
       "      <td>305</td>\n",
       "      <td>WITH</td>\n",
       "    </tr>\n",
       "    <tr>\n",
       "      <th>45</th>\n",
       "      <td>2023-09-12c.847.0</td>\n",
       "      <td>g869.0</td>\n",
       "      <td>0</td>\n",
       "      <td>aye</td>\n",
       "      <td>268</td>\n",
       "      <td>3</td>\n",
       "      <td>WITH</td>\n",
       "    </tr>\n",
       "    <tr>\n",
       "      <th>46</th>\n",
       "      <td>2023-09-13b.977.0</td>\n",
       "      <td>g977.3</td>\n",
       "      <td>0</td>\n",
       "      <td>aye</td>\n",
       "      <td>269</td>\n",
       "      <td>3</td>\n",
       "      <td>WITH</td>\n",
       "    </tr>\n",
       "    <tr>\n",
       "      <th>47</th>\n",
       "      <td>2023-10-17e.175.0</td>\n",
       "      <td>g177.0</td>\n",
       "      <td>0</td>\n",
       "      <td>no</td>\n",
       "      <td>0</td>\n",
       "      <td>29</td>\n",
       "      <td>WITH</td>\n",
       "    </tr>\n",
       "    <tr>\n",
       "      <th>48</th>\n",
       "      <td>2023-11-14b.534.3</td>\n",
       "      <td>g614.1</td>\n",
       "      <td>0</td>\n",
       "      <td>no</td>\n",
       "      <td>0</td>\n",
       "      <td>302</td>\n",
       "      <td>WITH</td>\n",
       "    </tr>\n",
       "    <tr>\n",
       "      <th>49</th>\n",
       "      <td>2023-11-15b.674.3</td>\n",
       "      <td>g754.0</td>\n",
       "      <td>0</td>\n",
       "      <td>no</td>\n",
       "      <td>0</td>\n",
       "      <td>286</td>\n",
       "      <td>WITH</td>\n",
       "    </tr>\n",
       "    <tr>\n",
       "      <th>50</th>\n",
       "      <td>2023-11-15b.674.3</td>\n",
       "      <td>g757.0</td>\n",
       "      <td>0</td>\n",
       "      <td>no</td>\n",
       "      <td>0</td>\n",
       "      <td>290</td>\n",
       "      <td>WITH</td>\n",
       "    </tr>\n",
       "    <tr>\n",
       "      <th>51</th>\n",
       "      <td>2023-11-15b.674.3</td>\n",
       "      <td>g761.0</td>\n",
       "      <td>0</td>\n",
       "      <td>no</td>\n",
       "      <td>0</td>\n",
       "      <td>299</td>\n",
       "      <td>WITH</td>\n",
       "    </tr>\n",
       "    <tr>\n",
       "      <th>52</th>\n",
       "      <td>2023-11-29b.1033.0</td>\n",
       "      <td>g1033.3</td>\n",
       "      <td>0</td>\n",
       "      <td>aye</td>\n",
       "      <td>289</td>\n",
       "      <td>2</td>\n",
       "      <td>WITH</td>\n",
       "    </tr>\n",
       "    <tr>\n",
       "      <th>53</th>\n",
       "      <td>2023-11-29b.848.0</td>\n",
       "      <td>g850.0</td>\n",
       "      <td>0</td>\n",
       "      <td>no</td>\n",
       "      <td>2</td>\n",
       "      <td>268</td>\n",
       "      <td>WITH</td>\n",
       "    </tr>\n",
       "  </tbody>\n",
       "</table>\n",
       "</div>"
      ],
      "text/plain": [
       "             debate_id house_division_id  num_utterances The MP voted:  \\\n",
       "0    2023-01-11e.566.1            g613.0               0            no   \n",
       "1    2023-01-11e.618.0            g673.0               0            no   \n",
       "2    2023-01-11e.618.0            g676.0               0           aye   \n",
       "3    2023-01-16f.139.0            g140.0               0           aye   \n",
       "4    2023-01-16f.144.0            g144.2               0           aye   \n",
       "5     2023-01-16f.54.0            g135.0               0           aye   \n",
       "6    2023-01-17c.228.0            g262.0               0           aye   \n",
       "7    2023-01-31b.221.1            g270.1               0            no   \n",
       "8    2023-01-31b.221.1            g274.2               0           aye   \n",
       "9    2023-01-31b.278.0            g308.0               0            no   \n",
       "10   2023-02-21c.193.0            g194.6               0           aye   \n",
       "11   2023-03-13b.573.0            g643.0               0            no   \n",
       "12   2023-03-13b.573.0            g647.0               0           aye   \n",
       "13   2023-03-13b.651.0            g652.0               0           aye   \n",
       "14   2023-03-13b.656.0            g656.2               0           aye   \n",
       "15   2023-03-21c.273.0            g274.0               0           aye   \n",
       "16   2023-03-21c.282.4            g282.6               0           aye   \n",
       "17   2023-03-22b.338.0            g364.0               0           aye   \n",
       "18   2023-03-22b.401.0            g401.3               0            no   \n",
       "19  2023-03-29c.1044.0           g1105.0               0            no   \n",
       "20   2023-04-25c.593.1            g652.1               0           aye   \n",
       "21   2023-04-25c.593.1            g655.1               0           aye   \n",
       "22   2023-04-25c.659.0            g698.1               0            no   \n",
       "23   2023-04-25c.659.0            g702.0               0           aye   \n",
       "24   2023-05-16c.715.1            g766.0               0            no   \n",
       "25   2023-05-16c.715.1            g769.0               0           aye   \n",
       "26   2023-05-16c.772.0            g811.1               0            no   \n",
       "27   2023-05-23d.221.0            g259.0               0            no   \n",
       "28   2023-05-24c.372.0            g385.0               0           aye   \n",
       "29   2023-06-06c.689.0            g689.2               0            no   \n",
       "30   2023-06-07d.739.1            g791.6               0            no   \n",
       "31   2023-06-07d.739.1            g795.0               0           aye   \n",
       "32   2023-06-07d.799.0            g840.0               0            no   \n",
       "33    2023-06-12b.53.0             g76.0               0           aye   \n",
       "34   2023-06-14b.312.3            g362.0               0            no   \n",
       "35   2023-06-14b.411.0            g411.3               0           aye   \n",
       "36   2023-06-19b.583.0            g661.2               0            no   \n",
       "37   2023-06-21c.849.1            g900.3               0            no   \n",
       "38   2023-06-21c.849.1            g904.0               0           aye   \n",
       "39   2023-06-27c.165.0            g168.1               0           aye   \n",
       "40   2023-06-28d.373.1            g374.0               0           aye   \n",
       "41   2023-06-28d.397.0            g397.3               0            no   \n",
       "42   2023-07-11e.213.0            g249.0               0           aye   \n",
       "43   2023-07-12c.467.0            g467.3               0           aye   \n",
       "44   2023-09-06c.454.1            g505.0               0            no   \n",
       "45   2023-09-12c.847.0            g869.0               0           aye   \n",
       "46   2023-09-13b.977.0            g977.3               0           aye   \n",
       "47   2023-10-17e.175.0            g177.0               0            no   \n",
       "48   2023-11-14b.534.3            g614.1               0            no   \n",
       "49   2023-11-15b.674.3            g754.0               0            no   \n",
       "50   2023-11-15b.674.3            g757.0               0            no   \n",
       "51   2023-11-15b.674.3            g761.0               0            no   \n",
       "52  2023-11-29b.1033.0           g1033.3               0           aye   \n",
       "53   2023-11-29b.848.0            g850.0               0            no   \n",
       "\n",
       "    # fellow MPs voting aye:  # fellow MPs voting no:  \\\n",
       "0                          1                      301   \n",
       "1                          0                      295   \n",
       "2                        287                        2   \n",
       "3                        302                        1   \n",
       "4                        300                        1   \n",
       "5                        306                        2   \n",
       "6                        309                        1   \n",
       "7                          0                      304   \n",
       "8                        301                        1   \n",
       "9                          1                      296   \n",
       "10                       251                        1   \n",
       "11                         1                      307   \n",
       "12                       307                        1   \n",
       "13                       307                        1   \n",
       "14                       305                        1   \n",
       "15                       315                        1   \n",
       "16                       313                        1   \n",
       "17                       283                       20   \n",
       "18                       281                       12   \n",
       "19                         1                      281   \n",
       "20                       284                        0   \n",
       "21                       278                        2   \n",
       "22                         1                      280   \n",
       "23                       279                        2   \n",
       "24                         1                      284   \n",
       "25                       280                        1   \n",
       "26                         1                      275   \n",
       "27                         0                      287   \n",
       "28                       290                        1   \n",
       "29                        29                       32   \n",
       "30                         0                      274   \n",
       "31                       272                        2   \n",
       "32                         0                      267   \n",
       "33                       272                        1   \n",
       "34                         1                      254   \n",
       "35                       274                        1   \n",
       "36                       118                        6   \n",
       "37                         1                      249   \n",
       "38                       254                        2   \n",
       "39                        25                       10   \n",
       "40                         9                      239   \n",
       "41                       236                       19   \n",
       "42                       301                        1   \n",
       "43                       268                        2   \n",
       "44                         0                      305   \n",
       "45                       268                        3   \n",
       "46                       269                        3   \n",
       "47                         0                       29   \n",
       "48                         0                      302   \n",
       "49                         0                      286   \n",
       "50                         0                      290   \n",
       "51                         0                      299   \n",
       "52                       289                        2   \n",
       "53                         2                      268   \n",
       "\n",
       "   Were they in the majority:  \n",
       "0                       WITH   \n",
       "1                       WITH   \n",
       "2                       WITH   \n",
       "3                       WITH   \n",
       "4                       WITH   \n",
       "5                       WITH   \n",
       "6                       WITH   \n",
       "7                       WITH   \n",
       "8                       WITH   \n",
       "9                       WITH   \n",
       "10                      WITH   \n",
       "11                      WITH   \n",
       "12                      WITH   \n",
       "13                      WITH   \n",
       "14                      WITH   \n",
       "15                      WITH   \n",
       "16                      WITH   \n",
       "17                      WITH   \n",
       "18                    AGAINST  \n",
       "19                      WITH   \n",
       "20                      WITH   \n",
       "21                      WITH   \n",
       "22                      WITH   \n",
       "23                      WITH   \n",
       "24                      WITH   \n",
       "25                      WITH   \n",
       "26                      WITH   \n",
       "27                      WITH   \n",
       "28                      WITH   \n",
       "29                      WITH   \n",
       "30                      WITH   \n",
       "31                      WITH   \n",
       "32                      WITH   \n",
       "33                      WITH   \n",
       "34                      WITH   \n",
       "35                      WITH   \n",
       "36                    AGAINST  \n",
       "37                      WITH   \n",
       "38                      WITH   \n",
       "39                      WITH   \n",
       "40                    AGAINST  \n",
       "41                    AGAINST  \n",
       "42                      WITH   \n",
       "43                      WITH   \n",
       "44                      WITH   \n",
       "45                      WITH   \n",
       "46                      WITH   \n",
       "47                      WITH   \n",
       "48                      WITH   \n",
       "49                      WITH   \n",
       "50                      WITH   \n",
       "51                      WITH   \n",
       "52                      WITH   \n",
       "53                      WITH   "
      ]
     },
     "execution_count": 161,
     "metadata": {},
     "output_type": "execute_result"
    }
   ],
   "source": [
    "pd.read_sql(vote_record_sql.replace(\"?\", \"10580\"), engine)"
   ]
  },
  {
   "cell_type": "markdown",
   "metadata": {},
   "source": [
    "**What are some instances of debates in which he spoke?**"
   ]
  },
  {
   "cell_type": "code",
   "execution_count": 11,
   "metadata": {
    "vscode": {
     "languageId": "sql"
    }
   },
   "outputs": [
    {
     "data": {
      "text/html": [
       "<span style=\"None\">Running query in &#x27;discordia&#x27;</span>"
      ],
      "text/plain": [
       "Running query in 'discordia'"
      ]
     },
     "metadata": {},
     "output_type": "display_data"
    }
   ],
   "source": [
    "%%sql selected_speeches <<\n",
    "\n",
    "SELECT \n",
    "    debates.url,\n",
    "    speeches.debate_id,\n",
    "    speeches.speech_id\n",
    "FROM\n",
    "    speeches\n",
    "LEFT JOIN\n",
    "    debates\n",
    "USING(debate_id)\n",
    "WHERE\n",
    "    speaker_id = \"10580\"\n",
    "ORDER BY \n",
    "    debate_id ASC"
   ]
  },
  {
   "cell_type": "code",
   "execution_count": 12,
   "metadata": {
    "vscode": {
     "languageId": "sql"
    }
   },
   "outputs": [],
   "source": [
    "df_selected_speeches = selected_speeches.DataFrame()"
   ]
  },
  {
   "cell_type": "code",
   "execution_count": 14,
   "metadata": {
    "vscode": {
     "languageId": "sql"
    }
   },
   "outputs": [
    {
     "data": {
      "text/html": [
       "<div>\n",
       "<style scoped>\n",
       "    .dataframe tbody tr th:only-of-type {\n",
       "        vertical-align: middle;\n",
       "    }\n",
       "\n",
       "    .dataframe tbody tr th {\n",
       "        vertical-align: top;\n",
       "    }\n",
       "\n",
       "    .dataframe thead th {\n",
       "        text-align: right;\n",
       "    }\n",
       "</style>\n",
       "<table border=\"1\" class=\"dataframe\">\n",
       "  <thead>\n",
       "    <tr style=\"text-align: right;\">\n",
       "      <th></th>\n",
       "      <th>debate_id</th>\n",
       "      <th>speech_id</th>\n",
       "    </tr>\n",
       "    <tr>\n",
       "      <th>url</th>\n",
       "      <th></th>\n",
       "      <th></th>\n",
       "    </tr>\n",
       "  </thead>\n",
       "  <tbody>\n",
       "    <tr>\n",
       "      <th>https://www.theyworkforyou.com/debates/?id=2023-01-09b.316.0</th>\n",
       "      <td>2023-01-09b.316.0</td>\n",
       "      <td>g327.2</td>\n",
       "    </tr>\n",
       "    <tr>\n",
       "      <th>https://www.theyworkforyou.com/debates/?id=2023-01-19b.512.3</th>\n",
       "      <td>2023-01-19b.512.3</td>\n",
       "      <td>g514.0</td>\n",
       "    </tr>\n",
       "    <tr>\n",
       "      <th>https://www.theyworkforyou.com/debates/?id=2023-01-24c.878.0</th>\n",
       "      <td>2023-01-24c.878.0</td>\n",
       "      <td>g882.2</td>\n",
       "    </tr>\n",
       "    <tr>\n",
       "      <th>https://www.theyworkforyou.com/debates/?id=2023-01-26b.1167.5</th>\n",
       "      <td>2023-01-26b.1167.5</td>\n",
       "      <td>g1167.6</td>\n",
       "    </tr>\n",
       "    <tr>\n",
       "      <th>https://www.theyworkforyou.com/debates/?id=2023-01-26b.1167.5</th>\n",
       "      <td>2023-01-26b.1167.5</td>\n",
       "      <td>g1167.8</td>\n",
       "    </tr>\n",
       "    <tr>\n",
       "      <th>...</th>\n",
       "      <td>...</td>\n",
       "      <td>...</td>\n",
       "    </tr>\n",
       "    <tr>\n",
       "      <th>https://www.theyworkforyou.com/debates/?id=2023-11-15b.643.1</th>\n",
       "      <td>2023-11-15b.643.1</td>\n",
       "      <td>g645.1</td>\n",
       "    </tr>\n",
       "    <tr>\n",
       "      <th>https://www.theyworkforyou.com/debates/?id=2023-11-21a.182.3</th>\n",
       "      <td>2023-11-21a.182.3</td>\n",
       "      <td>g182.4</td>\n",
       "    </tr>\n",
       "    <tr>\n",
       "      <th>https://www.theyworkforyou.com/debates/?id=2023-11-21a.182.3</th>\n",
       "      <td>2023-11-21a.182.3</td>\n",
       "      <td>g182.6</td>\n",
       "    </tr>\n",
       "    <tr>\n",
       "      <th>https://www.theyworkforyou.com/debates/?id=2023-11-27a.546.4</th>\n",
       "      <td>2023-11-27a.546.4</td>\n",
       "      <td>g548.0</td>\n",
       "    </tr>\n",
       "    <tr>\n",
       "      <th>https://www.theyworkforyou.com/debates/?id=2023-11-30a.1041.1</th>\n",
       "      <td>2023-11-30a.1041.1</td>\n",
       "      <td>g1042.3</td>\n",
       "    </tr>\n",
       "  </tbody>\n",
       "</table>\n",
       "<p>87 rows × 2 columns</p>\n",
       "</div>"
      ],
      "text/plain": [
       "                                                             debate_id  \\\n",
       "url                                                                      \n",
       "https://www.theyworkforyou.com/debates/?id=2023...   2023-01-09b.316.0   \n",
       "https://www.theyworkforyou.com/debates/?id=2023...   2023-01-19b.512.3   \n",
       "https://www.theyworkforyou.com/debates/?id=2023...   2023-01-24c.878.0   \n",
       "https://www.theyworkforyou.com/debates/?id=2023...  2023-01-26b.1167.5   \n",
       "https://www.theyworkforyou.com/debates/?id=2023...  2023-01-26b.1167.5   \n",
       "...                                                                ...   \n",
       "https://www.theyworkforyou.com/debates/?id=2023...   2023-11-15b.643.1   \n",
       "https://www.theyworkforyou.com/debates/?id=2023...   2023-11-21a.182.3   \n",
       "https://www.theyworkforyou.com/debates/?id=2023...   2023-11-21a.182.3   \n",
       "https://www.theyworkforyou.com/debates/?id=2023...   2023-11-27a.546.4   \n",
       "https://www.theyworkforyou.com/debates/?id=2023...  2023-11-30a.1041.1   \n",
       "\n",
       "                                                   speech_id  \n",
       "url                                                           \n",
       "https://www.theyworkforyou.com/debates/?id=2023...    g327.2  \n",
       "https://www.theyworkforyou.com/debates/?id=2023...    g514.0  \n",
       "https://www.theyworkforyou.com/debates/?id=2023...    g882.2  \n",
       "https://www.theyworkforyou.com/debates/?id=2023...   g1167.6  \n",
       "https://www.theyworkforyou.com/debates/?id=2023...   g1167.8  \n",
       "...                                                      ...  \n",
       "https://www.theyworkforyou.com/debates/?id=2023...    g645.1  \n",
       "https://www.theyworkforyou.com/debates/?id=2023...    g182.4  \n",
       "https://www.theyworkforyou.com/debates/?id=2023...    g182.6  \n",
       "https://www.theyworkforyou.com/debates/?id=2023...    g548.0  \n",
       "https://www.theyworkforyou.com/debates/?id=2023...   g1042.3  \n",
       "\n",
       "[87 rows x 2 columns]"
      ]
     },
     "execution_count": 14,
     "metadata": {},
     "output_type": "execute_result"
    }
   ],
   "source": [
    "df_selected_speeches.set_index('url')"
   ]
  },
  {
   "cell_type": "markdown",
   "metadata": {},
   "source": [
    "# Part 5: Extract motions (the object of the debate)"
   ]
  },
  {
   "cell_type": "code",
   "execution_count": 189,
   "metadata": {
    "vscode": {
     "languageId": "sql"
    }
   },
   "outputs": [
    {
     "data": {
      "text/html": [
       "<span style=\"None\">Running query in &#x27;discordia&#x27;</span>"
      ],
      "text/plain": [
       "Running query in 'discordia'"
      ]
     },
     "metadata": {},
     "output_type": "display_data"
    }
   ],
   "source": [
    "%%sql testing <<\n",
    "\n",
    "SELECT \n",
    "    speeches.*,\n",
    "    debates.url\n",
    "FROM\n",
    "    speeches\n",
    "RIGHT JOIN\n",
    "    house_divisions\n",
    "USING(debate_id)\n",
    "LEFT JOIN\n",
    "    debates\n",
    "USING(debate_id)\n"
   ]
  },
  {
   "cell_type": "code",
   "execution_count": 190,
   "metadata": {},
   "outputs": [],
   "source": [
    "testing = testing.DataFrame()"
   ]
  },
  {
   "cell_type": "code",
   "execution_count": 197,
   "metadata": {},
   "outputs": [
    {
     "data": {
      "text/html": [
       "<div>\n",
       "<style scoped>\n",
       "    .dataframe tbody tr th:only-of-type {\n",
       "        vertical-align: middle;\n",
       "    }\n",
       "\n",
       "    .dataframe tbody tr th {\n",
       "        vertical-align: top;\n",
       "    }\n",
       "\n",
       "    .dataframe thead th {\n",
       "        text-align: right;\n",
       "    }\n",
       "</style>\n",
       "<table border=\"1\" class=\"dataframe\">\n",
       "  <thead>\n",
       "    <tr style=\"text-align: right;\">\n",
       "      <th></th>\n",
       "      <th>debate_id</th>\n",
       "      <th>speech_raw_text</th>\n",
       "    </tr>\n",
       "    <tr>\n",
       "      <th>url</th>\n",
       "      <th></th>\n",
       "      <th></th>\n",
       "    </tr>\n",
       "  </thead>\n",
       "  <tbody>\n",
       "    <tr>\n",
       "      <th>https://www.theyworkforyou.com/debates/?id=2023-01-11e.566.1</th>\n",
       "      <td>2023-01-11e.566.1</td>\n",
       "      <td>I beg to move,\\n\\nThat the following Standing ...</td>\n",
       "    </tr>\n",
       "    <tr>\n",
       "      <th>https://www.theyworkforyou.com/debates/?id=2023-01-11e.618.0</th>\n",
       "      <td>2023-01-11e.618.0</td>\n",
       "      <td>I inform the House that amendment (a), tabled ...</td>\n",
       "    </tr>\n",
       "    <tr>\n",
       "      <th>https://www.theyworkforyou.com/debates/?id=2023-01-16f.139.0</th>\n",
       "      <td>2023-01-16f.139.0</td>\n",
       "      <td>None</td>\n",
       "    </tr>\n",
       "    <tr>\n",
       "      <th>https://www.theyworkforyou.com/debates/?id=2023-01-16f.144.0</th>\n",
       "      <td>2023-01-16f.144.0</td>\n",
       "      <td>None</td>\n",
       "    </tr>\n",
       "    <tr>\n",
       "      <th>https://www.theyworkforyou.com/debates/?id=2023-01-16f.54.0</th>\n",
       "      <td>2023-01-16f.54.0</td>\n",
       "      <td>I must inform the House that the reasoned amen...</td>\n",
       "    </tr>\n",
       "    <tr>\n",
       "      <th>https://www.theyworkforyou.com/debates/?id=2023-01-17c.228.0</th>\n",
       "      <td>2023-01-17c.228.0</td>\n",
       "      <td>I beg to move,\\n\\nThat this House has consider...</td>\n",
       "    </tr>\n",
       "    <tr>\n",
       "      <th>https://www.theyworkforyou.com/debates/?id=2023-01-31b.221.1</th>\n",
       "      <td>2023-01-31b.221.1</td>\n",
       "      <td>I advise the House that Mr. Speaker has select...</td>\n",
       "    </tr>\n",
       "    <tr>\n",
       "      <th>https://www.theyworkforyou.com/debates/?id=2023-01-31b.278.0</th>\n",
       "      <td>2023-01-31b.278.0</td>\n",
       "      <td>I remind everybody here that, if you participa...</td>\n",
       "    </tr>\n",
       "    <tr>\n",
       "      <th>https://www.theyworkforyou.com/debates/?id=2023-02-21c.193.0</th>\n",
       "      <td>2023-02-21c.193.0</td>\n",
       "      <td>I congratulate the Chair of the Selection Comm...</td>\n",
       "    </tr>\n",
       "    <tr>\n",
       "      <th>https://www.theyworkforyou.com/debates/?id=2023-02-28d.701.0</th>\n",
       "      <td>2023-02-28d.701.0</td>\n",
       "      <td>I am honoured to speak in the debate and to fo...</td>\n",
       "    </tr>\n",
       "    <tr>\n",
       "      <th>https://www.theyworkforyou.com/debates/?id=2023-03-13b.573.0</th>\n",
       "      <td>2023-03-13b.573.0</td>\n",
       "      <td>The reasoned amendment in the name of the Lead...</td>\n",
       "    </tr>\n",
       "    <tr>\n",
       "      <th>https://www.theyworkforyou.com/debates/?id=2023-03-13b.651.0</th>\n",
       "      <td>2023-03-13b.651.0</td>\n",
       "      <td>None</td>\n",
       "    </tr>\n",
       "    <tr>\n",
       "      <th>https://www.theyworkforyou.com/debates/?id=2023-03-13b.656.0</th>\n",
       "      <td>2023-03-13b.656.0</td>\n",
       "      <td>None</td>\n",
       "    </tr>\n",
       "    <tr>\n",
       "      <th>https://www.theyworkforyou.com/debates/?id=2023-03-21c.273.0</th>\n",
       "      <td>2023-03-21c.273.0</td>\n",
       "      <td>None</td>\n",
       "    </tr>\n",
       "    <tr>\n",
       "      <th>https://www.theyworkforyou.com/debates/?id=2023-03-21c.282.4</th>\n",
       "      <td>2023-03-21c.282.4</td>\n",
       "      <td>None</td>\n",
       "    </tr>\n",
       "    <tr>\n",
       "      <th>https://www.theyworkforyou.com/debates/?id=2023-03-22b.338.0</th>\n",
       "      <td>2023-03-22b.338.0</td>\n",
       "      <td>I beg to move,\\n\\nThat the draft Windsor Frame...</td>\n",
       "    </tr>\n",
       "    <tr>\n",
       "      <th>https://www.theyworkforyou.com/debates/?id=2023-03-22b.401.0</th>\n",
       "      <td>2023-03-22b.401.0</td>\n",
       "      <td>None</td>\n",
       "    </tr>\n",
       "    <tr>\n",
       "      <th>https://www.theyworkforyou.com/debates/?id=2023-03-29c.1044.0</th>\n",
       "      <td>2023-03-29c.1044.0</td>\n",
       "      <td>I beg to move, That the Bill be now read a Sec...</td>\n",
       "    </tr>\n",
       "    <tr>\n",
       "      <th>https://www.theyworkforyou.com/debates/?id=2023-04-25c.593.1</th>\n",
       "      <td>2023-04-25c.593.1</td>\n",
       "      <td>I inform the House that I have selected the am...</td>\n",
       "    </tr>\n",
       "    <tr>\n",
       "      <th>https://www.theyworkforyou.com/debates/?id=2023-04-25c.659.0</th>\n",
       "      <td>2023-04-25c.659.0</td>\n",
       "      <td>I inform the House that I have selected the am...</td>\n",
       "    </tr>\n",
       "    <tr>\n",
       "      <th>https://www.theyworkforyou.com/debates/?id=2023-05-16c.715.1</th>\n",
       "      <td>2023-05-16c.715.1</td>\n",
       "      <td>We now come to the Opposition day motion in th...</td>\n",
       "    </tr>\n",
       "    <tr>\n",
       "      <th>https://www.theyworkforyou.com/debates/?id=2023-05-16c.772.0</th>\n",
       "      <td>2023-05-16c.772.0</td>\n",
       "      <td>Order. The Front Bench there is reserved for H...</td>\n",
       "    </tr>\n",
       "    <tr>\n",
       "      <th>https://www.theyworkforyou.com/debates/?id=2023-05-23d.165.1</th>\n",
       "      <td>2023-05-23d.165.1</td>\n",
       "      <td>I call the shadow Secretary of State for Level...</td>\n",
       "    </tr>\n",
       "    <tr>\n",
       "      <th>https://www.theyworkforyou.com/debates/?id=2023-05-23d.221.0</th>\n",
       "      <td>2023-05-23d.221.0</td>\n",
       "      <td>I call the shadow Secretary of State to move t...</td>\n",
       "    </tr>\n",
       "    <tr>\n",
       "      <th>https://www.theyworkforyou.com/debates/?id=2023-05-24c.372.0</th>\n",
       "      <td>2023-05-24c.372.0</td>\n",
       "      <td>It is always a pleasure to follow my hon. Frie...</td>\n",
       "    </tr>\n",
       "    <tr>\n",
       "      <th>https://www.theyworkforyou.com/debates/?id=2023-06-06c.689.0</th>\n",
       "      <td>2023-06-06c.689.0</td>\n",
       "      <td>None</td>\n",
       "    </tr>\n",
       "    <tr>\n",
       "      <th>https://www.theyworkforyou.com/debates/?id=2023-06-07d.739.1</th>\n",
       "      <td>2023-06-07d.739.1</td>\n",
       "      <td>I inform the House that I have selected the am...</td>\n",
       "    </tr>\n",
       "    <tr>\n",
       "      <th>https://www.theyworkforyou.com/debates/?id=2023-06-07d.799.0</th>\n",
       "      <td>2023-06-07d.799.0</td>\n",
       "      <td>I call the shadow Secretary of State for Level...</td>\n",
       "    </tr>\n",
       "    <tr>\n",
       "      <th>https://www.theyworkforyou.com/debates/?id=2023-06-12b.53.0</th>\n",
       "      <td>2023-06-12b.53.0</td>\n",
       "      <td>I beg to move,\\n\\nThat the draft Public Order ...</td>\n",
       "    </tr>\n",
       "    <tr>\n",
       "      <th>https://www.theyworkforyou.com/debates/?id=2023-06-14b.312.3</th>\n",
       "      <td>2023-06-14b.312.3</td>\n",
       "      <td>The Labour party is keen to regain seats in Sc...</td>\n",
       "    </tr>\n",
       "    <tr>\n",
       "      <th>https://www.theyworkforyou.com/debates/?id=2023-06-14b.411.0</th>\n",
       "      <td>2023-06-14b.411.0</td>\n",
       "      <td>None</td>\n",
       "    </tr>\n",
       "    <tr>\n",
       "      <th>https://www.theyworkforyou.com/debates/?id=2023-06-19b.583.0</th>\n",
       "      <td>2023-06-19b.583.0</td>\n",
       "      <td>I beg to move,\\n\\nThat this House approves the...</td>\n",
       "    </tr>\n",
       "    <tr>\n",
       "      <th>https://www.theyworkforyou.com/debates/?id=2023-06-21c.849.1</th>\n",
       "      <td>2023-06-21c.849.1</td>\n",
       "      <td>I inform the House that I have selected amendm...</td>\n",
       "    </tr>\n",
       "    <tr>\n",
       "      <th>https://www.theyworkforyou.com/debates/?id=2023-06-27c.165.0</th>\n",
       "      <td>2023-06-27c.165.0</td>\n",
       "      <td>I beg to move,\\n\\nThat leave be given to bring...</td>\n",
       "    </tr>\n",
       "    <tr>\n",
       "      <th>https://www.theyworkforyou.com/debates/?id=2023-06-28d.373.1</th>\n",
       "      <td>2023-06-28d.373.1</td>\n",
       "      <td>None</td>\n",
       "    </tr>\n",
       "    <tr>\n",
       "      <th>https://www.theyworkforyou.com/debates/?id=2023-06-28d.397.0</th>\n",
       "      <td>2023-06-28d.397.0</td>\n",
       "      <td>None</td>\n",
       "    </tr>\n",
       "    <tr>\n",
       "      <th>https://www.theyworkforyou.com/debates/?id=2023-07-03b.586.0</th>\n",
       "      <td>2023-07-03b.586.0</td>\n",
       "      <td>The reasoned amendment in the name of the Lead...</td>\n",
       "    </tr>\n",
       "    <tr>\n",
       "      <th>https://www.theyworkforyou.com/debates/?id=2023-07-11e.213.0</th>\n",
       "      <td>2023-07-11e.213.0</td>\n",
       "      <td>Here we go again: another day, another Bill de...</td>\n",
       "    </tr>\n",
       "    <tr>\n",
       "      <th>https://www.theyworkforyou.com/debates/?id=2023-07-12c.467.0</th>\n",
       "      <td>2023-07-12c.467.0</td>\n",
       "      <td>None</td>\n",
       "    </tr>\n",
       "    <tr>\n",
       "      <th>https://www.theyworkforyou.com/debates/?id=2023-09-06c.454.1</th>\n",
       "      <td>2023-09-06c.454.1</td>\n",
       "      <td>I beg to move,\\n\\nThat an humble Address be pr...</td>\n",
       "    </tr>\n",
       "    <tr>\n",
       "      <th>https://www.theyworkforyou.com/debates/?id=2023-09-12c.847.0</th>\n",
       "      <td>2023-09-12c.847.0</td>\n",
       "      <td>I beg to move,\\n\\nThat the draft Misuse of Dru...</td>\n",
       "    </tr>\n",
       "    <tr>\n",
       "      <th>https://www.theyworkforyou.com/debates/?id=2023-09-13b.977.0</th>\n",
       "      <td>2023-09-13b.977.0</td>\n",
       "      <td>None</td>\n",
       "    </tr>\n",
       "    <tr>\n",
       "      <th>https://www.theyworkforyou.com/debates/?id=2023-10-17e.175.0</th>\n",
       "      <td>2023-10-17e.175.0</td>\n",
       "      <td>I beg to move,\\n\\nThat leave be given to bring...</td>\n",
       "    </tr>\n",
       "    <tr>\n",
       "      <th>https://www.theyworkforyou.com/debates/?id=2023-11-14b.534.3</th>\n",
       "      <td>2023-11-14b.534.3</td>\n",
       "      <td>I inform the House that Mr Speaker has selecte...</td>\n",
       "    </tr>\n",
       "    <tr>\n",
       "      <th>https://www.theyworkforyou.com/debates/?id=2023-11-15b.674.3</th>\n",
       "      <td>2023-11-15b.674.3</td>\n",
       "      <td>I inform the House that Mr Speaker has selecte...</td>\n",
       "    </tr>\n",
       "    <tr>\n",
       "      <th>https://www.theyworkforyou.com/debates/?id=2023-11-29b.1033.0</th>\n",
       "      <td>2023-11-29b.1033.0</td>\n",
       "      <td>None</td>\n",
       "    </tr>\n",
       "    <tr>\n",
       "      <th>https://www.theyworkforyou.com/debates/?id=2023-11-29b.848.0</th>\n",
       "      <td>2023-11-29b.848.0</td>\n",
       "      <td>Mr Speaker has selected the recommittal motion...</td>\n",
       "    </tr>\n",
       "  </tbody>\n",
       "</table>\n",
       "</div>"
      ],
      "text/plain": [
       "                                                             debate_id  \\\n",
       "url                                                                      \n",
       "https://www.theyworkforyou.com/debates/?id=2023...   2023-01-11e.566.1   \n",
       "https://www.theyworkforyou.com/debates/?id=2023...   2023-01-11e.618.0   \n",
       "https://www.theyworkforyou.com/debates/?id=2023...   2023-01-16f.139.0   \n",
       "https://www.theyworkforyou.com/debates/?id=2023...   2023-01-16f.144.0   \n",
       "https://www.theyworkforyou.com/debates/?id=2023...    2023-01-16f.54.0   \n",
       "https://www.theyworkforyou.com/debates/?id=2023...   2023-01-17c.228.0   \n",
       "https://www.theyworkforyou.com/debates/?id=2023...   2023-01-31b.221.1   \n",
       "https://www.theyworkforyou.com/debates/?id=2023...   2023-01-31b.278.0   \n",
       "https://www.theyworkforyou.com/debates/?id=2023...   2023-02-21c.193.0   \n",
       "https://www.theyworkforyou.com/debates/?id=2023...   2023-02-28d.701.0   \n",
       "https://www.theyworkforyou.com/debates/?id=2023...   2023-03-13b.573.0   \n",
       "https://www.theyworkforyou.com/debates/?id=2023...   2023-03-13b.651.0   \n",
       "https://www.theyworkforyou.com/debates/?id=2023...   2023-03-13b.656.0   \n",
       "https://www.theyworkforyou.com/debates/?id=2023...   2023-03-21c.273.0   \n",
       "https://www.theyworkforyou.com/debates/?id=2023...   2023-03-21c.282.4   \n",
       "https://www.theyworkforyou.com/debates/?id=2023...   2023-03-22b.338.0   \n",
       "https://www.theyworkforyou.com/debates/?id=2023...   2023-03-22b.401.0   \n",
       "https://www.theyworkforyou.com/debates/?id=2023...  2023-03-29c.1044.0   \n",
       "https://www.theyworkforyou.com/debates/?id=2023...   2023-04-25c.593.1   \n",
       "https://www.theyworkforyou.com/debates/?id=2023...   2023-04-25c.659.0   \n",
       "https://www.theyworkforyou.com/debates/?id=2023...   2023-05-16c.715.1   \n",
       "https://www.theyworkforyou.com/debates/?id=2023...   2023-05-16c.772.0   \n",
       "https://www.theyworkforyou.com/debates/?id=2023...   2023-05-23d.165.1   \n",
       "https://www.theyworkforyou.com/debates/?id=2023...   2023-05-23d.221.0   \n",
       "https://www.theyworkforyou.com/debates/?id=2023...   2023-05-24c.372.0   \n",
       "https://www.theyworkforyou.com/debates/?id=2023...   2023-06-06c.689.0   \n",
       "https://www.theyworkforyou.com/debates/?id=2023...   2023-06-07d.739.1   \n",
       "https://www.theyworkforyou.com/debates/?id=2023...   2023-06-07d.799.0   \n",
       "https://www.theyworkforyou.com/debates/?id=2023...    2023-06-12b.53.0   \n",
       "https://www.theyworkforyou.com/debates/?id=2023...   2023-06-14b.312.3   \n",
       "https://www.theyworkforyou.com/debates/?id=2023...   2023-06-14b.411.0   \n",
       "https://www.theyworkforyou.com/debates/?id=2023...   2023-06-19b.583.0   \n",
       "https://www.theyworkforyou.com/debates/?id=2023...   2023-06-21c.849.1   \n",
       "https://www.theyworkforyou.com/debates/?id=2023...   2023-06-27c.165.0   \n",
       "https://www.theyworkforyou.com/debates/?id=2023...   2023-06-28d.373.1   \n",
       "https://www.theyworkforyou.com/debates/?id=2023...   2023-06-28d.397.0   \n",
       "https://www.theyworkforyou.com/debates/?id=2023...   2023-07-03b.586.0   \n",
       "https://www.theyworkforyou.com/debates/?id=2023...   2023-07-11e.213.0   \n",
       "https://www.theyworkforyou.com/debates/?id=2023...   2023-07-12c.467.0   \n",
       "https://www.theyworkforyou.com/debates/?id=2023...   2023-09-06c.454.1   \n",
       "https://www.theyworkforyou.com/debates/?id=2023...   2023-09-12c.847.0   \n",
       "https://www.theyworkforyou.com/debates/?id=2023...   2023-09-13b.977.0   \n",
       "https://www.theyworkforyou.com/debates/?id=2023...   2023-10-17e.175.0   \n",
       "https://www.theyworkforyou.com/debates/?id=2023...   2023-11-14b.534.3   \n",
       "https://www.theyworkforyou.com/debates/?id=2023...   2023-11-15b.674.3   \n",
       "https://www.theyworkforyou.com/debates/?id=2023...  2023-11-29b.1033.0   \n",
       "https://www.theyworkforyou.com/debates/?id=2023...   2023-11-29b.848.0   \n",
       "\n",
       "                                                                                      speech_raw_text  \n",
       "url                                                                                                    \n",
       "https://www.theyworkforyou.com/debates/?id=2023...  I beg to move,\\n\\nThat the following Standing ...  \n",
       "https://www.theyworkforyou.com/debates/?id=2023...  I inform the House that amendment (a), tabled ...  \n",
       "https://www.theyworkforyou.com/debates/?id=2023...                                               None  \n",
       "https://www.theyworkforyou.com/debates/?id=2023...                                               None  \n",
       "https://www.theyworkforyou.com/debates/?id=2023...  I must inform the House that the reasoned amen...  \n",
       "https://www.theyworkforyou.com/debates/?id=2023...  I beg to move,\\n\\nThat this House has consider...  \n",
       "https://www.theyworkforyou.com/debates/?id=2023...  I advise the House that Mr. Speaker has select...  \n",
       "https://www.theyworkforyou.com/debates/?id=2023...  I remind everybody here that, if you participa...  \n",
       "https://www.theyworkforyou.com/debates/?id=2023...  I congratulate the Chair of the Selection Comm...  \n",
       "https://www.theyworkforyou.com/debates/?id=2023...  I am honoured to speak in the debate and to fo...  \n",
       "https://www.theyworkforyou.com/debates/?id=2023...  The reasoned amendment in the name of the Lead...  \n",
       "https://www.theyworkforyou.com/debates/?id=2023...                                               None  \n",
       "https://www.theyworkforyou.com/debates/?id=2023...                                               None  \n",
       "https://www.theyworkforyou.com/debates/?id=2023...                                               None  \n",
       "https://www.theyworkforyou.com/debates/?id=2023...                                               None  \n",
       "https://www.theyworkforyou.com/debates/?id=2023...  I beg to move,\\n\\nThat the draft Windsor Frame...  \n",
       "https://www.theyworkforyou.com/debates/?id=2023...                                               None  \n",
       "https://www.theyworkforyou.com/debates/?id=2023...  I beg to move, That the Bill be now read a Sec...  \n",
       "https://www.theyworkforyou.com/debates/?id=2023...  I inform the House that I have selected the am...  \n",
       "https://www.theyworkforyou.com/debates/?id=2023...  I inform the House that I have selected the am...  \n",
       "https://www.theyworkforyou.com/debates/?id=2023...  We now come to the Opposition day motion in th...  \n",
       "https://www.theyworkforyou.com/debates/?id=2023...  Order. The Front Bench there is reserved for H...  \n",
       "https://www.theyworkforyou.com/debates/?id=2023...  I call the shadow Secretary of State for Level...  \n",
       "https://www.theyworkforyou.com/debates/?id=2023...  I call the shadow Secretary of State to move t...  \n",
       "https://www.theyworkforyou.com/debates/?id=2023...  It is always a pleasure to follow my hon. Frie...  \n",
       "https://www.theyworkforyou.com/debates/?id=2023...                                               None  \n",
       "https://www.theyworkforyou.com/debates/?id=2023...  I inform the House that I have selected the am...  \n",
       "https://www.theyworkforyou.com/debates/?id=2023...  I call the shadow Secretary of State for Level...  \n",
       "https://www.theyworkforyou.com/debates/?id=2023...  I beg to move,\\n\\nThat the draft Public Order ...  \n",
       "https://www.theyworkforyou.com/debates/?id=2023...  The Labour party is keen to regain seats in Sc...  \n",
       "https://www.theyworkforyou.com/debates/?id=2023...                                               None  \n",
       "https://www.theyworkforyou.com/debates/?id=2023...  I beg to move,\\n\\nThat this House approves the...  \n",
       "https://www.theyworkforyou.com/debates/?id=2023...  I inform the House that I have selected amendm...  \n",
       "https://www.theyworkforyou.com/debates/?id=2023...  I beg to move,\\n\\nThat leave be given to bring...  \n",
       "https://www.theyworkforyou.com/debates/?id=2023...                                               None  \n",
       "https://www.theyworkforyou.com/debates/?id=2023...                                               None  \n",
       "https://www.theyworkforyou.com/debates/?id=2023...  The reasoned amendment in the name of the Lead...  \n",
       "https://www.theyworkforyou.com/debates/?id=2023...  Here we go again: another day, another Bill de...  \n",
       "https://www.theyworkforyou.com/debates/?id=2023...                                               None  \n",
       "https://www.theyworkforyou.com/debates/?id=2023...  I beg to move,\\n\\nThat an humble Address be pr...  \n",
       "https://www.theyworkforyou.com/debates/?id=2023...  I beg to move,\\n\\nThat the draft Misuse of Dru...  \n",
       "https://www.theyworkforyou.com/debates/?id=2023...                                               None  \n",
       "https://www.theyworkforyou.com/debates/?id=2023...  I beg to move,\\n\\nThat leave be given to bring...  \n",
       "https://www.theyworkforyou.com/debates/?id=2023...  I inform the House that Mr Speaker has selecte...  \n",
       "https://www.theyworkforyou.com/debates/?id=2023...  I inform the House that Mr Speaker has selecte...  \n",
       "https://www.theyworkforyou.com/debates/?id=2023...                                               None  \n",
       "https://www.theyworkforyou.com/debates/?id=2023...  Mr Speaker has selected the recommittal motion...  "
      ]
     },
     "execution_count": 197,
     "metadata": {},
     "output_type": "execute_result"
    }
   ],
   "source": [
    "testing.groupby(['debate_id']).first()[['url', 'speech_raw_text']].reset_index().set_index(['url'])"
   ]
  },
  {
   "cell_type": "markdown",
   "metadata": {},
   "source": [
    "#TODO: It's not clear yet how to proceed with the extraction of motion"
   ]
  },
  {
   "cell_type": "markdown",
   "metadata": {},
   "source": [
    "---\n",
    "\n",
    "# Part 6: Quantitative text analysis of the debates\n",
    "\n",
    "I will select the debates in which the politician above spoke and analyse the text of the debates. "
   ]
  },
  {
   "cell_type": "code",
   "execution_count": 19,
   "metadata": {
    "vscode": {
     "languageId": "sql"
    }
   },
   "outputs": [
    {
     "data": {
      "text/html": [
       "<span style=\"None\">Running query in &#x27;discordia&#x27;</span>"
      ],
      "text/plain": [
       "Running query in 'discordia'"
      ]
     },
     "metadata": {},
     "output_type": "display_data"
    }
   ],
   "source": [
    "%%sql selected_speeches <<\n",
    "\n",
    "SELECT \n",
    "    debates.url,\n",
    "    speeches.debate_id,\n",
    "    speeches.speech_id,\n",
    "    speech_raw_text,\n",
    "    speech_html\n",
    "FROM\n",
    "    speeches\n",
    "LEFT JOIN\n",
    "    debates\n",
    "USING(debate_id)\n",
    "WHERE\n",
    "    speaker_id = \"10580\"\n",
    "ORDER BY \n",
    "    debate_id ASC"
   ]
  },
  {
   "cell_type": "code",
   "execution_count": 20,
   "metadata": {},
   "outputs": [],
   "source": [
    "df_selected_speeches = selected_speeches.DataFrame()"
   ]
  },
  {
   "cell_type": "code",
   "execution_count": 23,
   "metadata": {},
   "outputs": [
    {
     "data": {
      "text/html": [
       "<div>\n",
       "<style scoped>\n",
       "    .dataframe tbody tr th:only-of-type {\n",
       "        vertical-align: middle;\n",
       "    }\n",
       "\n",
       "    .dataframe tbody tr th {\n",
       "        vertical-align: top;\n",
       "    }\n",
       "\n",
       "    .dataframe thead th {\n",
       "        text-align: right;\n",
       "    }\n",
       "</style>\n",
       "<table border=\"1\" class=\"dataframe\">\n",
       "  <thead>\n",
       "    <tr style=\"text-align: right;\">\n",
       "      <th></th>\n",
       "      <th>url</th>\n",
       "      <th>debate_id</th>\n",
       "      <th>speech_id</th>\n",
       "      <th>speech_raw_text</th>\n",
       "      <th>speech_html</th>\n",
       "    </tr>\n",
       "  </thead>\n",
       "  <tbody>\n",
       "    <tr>\n",
       "      <th>0</th>\n",
       "      <td>https://www.theyworkforyou.com/debates/?id=202...</td>\n",
       "      <td>2023-01-09b.316.0</td>\n",
       "      <td>g327.2</td>\n",
       "      <td>Has any analysis been made available to Minist...</td>\n",
       "      <td>&lt;p pid=\"b327.2/1\"&gt;\\n Has any analysis been mad...</td>\n",
       "    </tr>\n",
       "    <tr>\n",
       "      <th>1</th>\n",
       "      <td>https://www.theyworkforyou.com/debates/?id=202...</td>\n",
       "      <td>2023-01-19b.512.3</td>\n",
       "      <td>g514.0</td>\n",
       "      <td>When will services be restored on the mainline...</td>\n",
       "      <td>&lt;p pid=\"b514.0/1\"&gt;\\n When will services be res...</td>\n",
       "    </tr>\n",
       "    <tr>\n",
       "      <th>2</th>\n",
       "      <td>https://www.theyworkforyou.com/debates/?id=202...</td>\n",
       "      <td>2023-01-24c.878.0</td>\n",
       "      <td>g882.2</td>\n",
       "      <td>Having been the Government Whip on the Equal M...</td>\n",
       "      <td>&lt;p pid=\"c882.2/1\"&gt;\\n Having been the Governmen...</td>\n",
       "    </tr>\n",
       "    <tr>\n",
       "      <th>3</th>\n",
       "      <td>https://www.theyworkforyou.com/debates/?id=202...</td>\n",
       "      <td>2023-01-26b.1167.5</td>\n",
       "      <td>g1167.6</td>\n",
       "      <td>Whether the commissioners have made an estimat...</td>\n",
       "      <td>&lt;p pid=\"b1167.6/1\" qnum=\"903294\"&gt;\\n Whether th...</td>\n",
       "    </tr>\n",
       "    <tr>\n",
       "      <th>4</th>\n",
       "      <td>https://www.theyworkforyou.com/debates/?id=202...</td>\n",
       "      <td>2023-01-26b.1167.5</td>\n",
       "      <td>g1167.8</td>\n",
       "      <td>Can my hon. Friend assure me that the not disp...</td>\n",
       "      <td>&lt;p pid=\"b1167.8/1\"&gt;\\n Can my hon. Friend assur...</td>\n",
       "    </tr>\n",
       "    <tr>\n",
       "      <th>...</th>\n",
       "      <td>...</td>\n",
       "      <td>...</td>\n",
       "      <td>...</td>\n",
       "      <td>...</td>\n",
       "      <td>...</td>\n",
       "    </tr>\n",
       "    <tr>\n",
       "      <th>82</th>\n",
       "      <td>https://www.theyworkforyou.com/debates/?id=202...</td>\n",
       "      <td>2023-11-15b.643.1</td>\n",
       "      <td>g645.1</td>\n",
       "      <td>If a two-state solution is to have a chance, H...</td>\n",
       "      <td>&lt;p pid=\"b645.1/1\" qnum=\"900083\"&gt;\\n If a two-st...</td>\n",
       "    </tr>\n",
       "    <tr>\n",
       "      <th>83</th>\n",
       "      <td>https://www.theyworkforyou.com/debates/?id=202...</td>\n",
       "      <td>2023-11-21a.182.3</td>\n",
       "      <td>g182.4</td>\n",
       "      <td>Whether he is taking steps to increase levels ...</td>\n",
       "      <td>&lt;p pid=\"a182.4/1\" qnum=\"900207\"&gt;\\n Whether he ...</td>\n",
       "    </tr>\n",
       "    <tr>\n",
       "      <th>84</th>\n",
       "      <td>https://www.theyworkforyou.com/debates/?id=202...</td>\n",
       "      <td>2023-11-21a.182.3</td>\n",
       "      <td>g182.6</td>\n",
       "      <td>It is essential that every advantage be had fr...</td>\n",
       "      <td>&lt;p pid=\"a182.6/1\"&gt;\\n It is essential that ever...</td>\n",
       "    </tr>\n",
       "    <tr>\n",
       "      <th>85</th>\n",
       "      <td>https://www.theyworkforyou.com/debates/?id=202...</td>\n",
       "      <td>2023-11-27a.546.4</td>\n",
       "      <td>g548.0</td>\n",
       "      <td>Is the Home Secretary doing enough to reassure...</td>\n",
       "      <td>&lt;p pid=\"a548.0/1\" qnum=\"900310\"&gt;\\n Is the Home...</td>\n",
       "    </tr>\n",
       "    <tr>\n",
       "      <th>86</th>\n",
       "      <td>https://www.theyworkforyou.com/debates/?id=202...</td>\n",
       "      <td>2023-11-30a.1041.1</td>\n",
       "      <td>g1042.3</td>\n",
       "      <td>There are streets in the west end of this city...</td>\n",
       "      <td>&lt;p pid=\"a1042.3/1\"&gt;\\n There are streets in the...</td>\n",
       "    </tr>\n",
       "  </tbody>\n",
       "</table>\n",
       "<p>87 rows × 5 columns</p>\n",
       "</div>"
      ],
      "text/plain": [
       "                                                  url           debate_id  \\\n",
       "0   https://www.theyworkforyou.com/debates/?id=202...   2023-01-09b.316.0   \n",
       "1   https://www.theyworkforyou.com/debates/?id=202...   2023-01-19b.512.3   \n",
       "2   https://www.theyworkforyou.com/debates/?id=202...   2023-01-24c.878.0   \n",
       "3   https://www.theyworkforyou.com/debates/?id=202...  2023-01-26b.1167.5   \n",
       "4   https://www.theyworkforyou.com/debates/?id=202...  2023-01-26b.1167.5   \n",
       "..                                                ...                 ...   \n",
       "82  https://www.theyworkforyou.com/debates/?id=202...   2023-11-15b.643.1   \n",
       "83  https://www.theyworkforyou.com/debates/?id=202...   2023-11-21a.182.3   \n",
       "84  https://www.theyworkforyou.com/debates/?id=202...   2023-11-21a.182.3   \n",
       "85  https://www.theyworkforyou.com/debates/?id=202...   2023-11-27a.546.4   \n",
       "86  https://www.theyworkforyou.com/debates/?id=202...  2023-11-30a.1041.1   \n",
       "\n",
       "   speech_id                                    speech_raw_text  \\\n",
       "0     g327.2  Has any analysis been made available to Minist...   \n",
       "1     g514.0  When will services be restored on the mainline...   \n",
       "2     g882.2  Having been the Government Whip on the Equal M...   \n",
       "3    g1167.6  Whether the commissioners have made an estimat...   \n",
       "4    g1167.8  Can my hon. Friend assure me that the not disp...   \n",
       "..       ...                                                ...   \n",
       "82    g645.1  If a two-state solution is to have a chance, H...   \n",
       "83    g182.4  Whether he is taking steps to increase levels ...   \n",
       "84    g182.6  It is essential that every advantage be had fr...   \n",
       "85    g548.0  Is the Home Secretary doing enough to reassure...   \n",
       "86   g1042.3  There are streets in the west end of this city...   \n",
       "\n",
       "                                          speech_html  \n",
       "0   <p pid=\"b327.2/1\">\\n Has any analysis been mad...  \n",
       "1   <p pid=\"b514.0/1\">\\n When will services be res...  \n",
       "2   <p pid=\"c882.2/1\">\\n Having been the Governmen...  \n",
       "3   <p pid=\"b1167.6/1\" qnum=\"903294\">\\n Whether th...  \n",
       "4   <p pid=\"b1167.8/1\">\\n Can my hon. Friend assur...  \n",
       "..                                                ...  \n",
       "82  <p pid=\"b645.1/1\" qnum=\"900083\">\\n If a two-st...  \n",
       "83  <p pid=\"a182.4/1\" qnum=\"900207\">\\n Whether he ...  \n",
       "84  <p pid=\"a182.6/1\">\\n It is essential that ever...  \n",
       "85  <p pid=\"a548.0/1\" qnum=\"900310\">\\n Is the Home...  \n",
       "86  <p pid=\"a1042.3/1\">\\n There are streets in the...  \n",
       "\n",
       "[87 rows x 5 columns]"
      ]
     },
     "execution_count": 23,
     "metadata": {},
     "output_type": "execute_result"
    }
   ],
   "source": [
    "df_selected_speeches"
   ]
  },
  {
   "cell_type": "markdown",
   "metadata": {},
   "source": [
    "## 6.1 Installation\n",
    "\n",
    "You have to install spacy and then download the English model. I am downloading the large model because I want to use the word vectors.\n",
    "\n",
    "```bash\n",
    "python -m spacy download en_core_web_lg\n",
    "```"
   ]
  },
  {
   "cell_type": "code",
   "execution_count": 78,
   "metadata": {},
   "outputs": [],
   "source": [
    "import spacy\n",
    "\n",
    "from spacy import displacy\n",
    "\n",
    "nlp = spacy.load('en_core_web_lg')"
   ]
  },
  {
   "cell_type": "markdown",
   "metadata": {},
   "source": [
    "## 6.2. Tokenisation"
   ]
  },
  {
   "cell_type": "code",
   "execution_count": 47,
   "metadata": {},
   "outputs": [
    {
     "data": {
      "text/plain": [
       "'Has any analysis been made available to Ministers regarding the movements in wholesale prices and the tariffs actually being offered to customers going forward?'"
      ]
     },
     "execution_count": 47,
     "metadata": {},
     "output_type": "execute_result"
    }
   ],
   "source": [
    "df_selected_speeches['speech_raw_text'].iloc[0]"
   ]
  },
  {
   "cell_type": "code",
   "execution_count": 75,
   "metadata": {},
   "outputs": [
    {
     "data": {
      "text/plain": [
       "spacy.tokens.doc.Doc"
      ]
     },
     "execution_count": 75,
     "metadata": {},
     "output_type": "execute_result"
    }
   ],
   "source": [
    "doc = nlp(df_selected_speeches['speech_raw_text'].iloc[0])\n",
    "type(doc)"
   ]
  },
  {
   "cell_type": "markdown",
   "metadata": {},
   "source": [
    "**Dependencies**"
   ]
  },
  {
   "cell_type": "code",
   "execution_count": 79,
   "metadata": {},
   "outputs": [
    {
     "data": {
      "text/html": [
       "<span class=\"tex2jax_ignore\"><svg xmlns=\"http://www.w3.org/2000/svg\" xmlns:xlink=\"http://www.w3.org/1999/xlink\" xml:lang=\"en\" id=\"cee12f1542334eef883e3a6c385dcd60-0\" class=\"displacy\" width=\"4250\" height=\"487.0\" direction=\"ltr\" style=\"max-width: none; height: 487.0px; color: #000000; background: #ffffff; font-family: Arial; direction: ltr\">\n",
       "<text class=\"displacy-token\" fill=\"currentColor\" text-anchor=\"middle\" y=\"397.0\">\n",
       "    <tspan class=\"displacy-word\" fill=\"currentColor\" x=\"50\">Has</tspan>\n",
       "    <tspan class=\"displacy-tag\" dy=\"2em\" fill=\"currentColor\" x=\"50\">AUX</tspan>\n",
       "</text>\n",
       "\n",
       "<text class=\"displacy-token\" fill=\"currentColor\" text-anchor=\"middle\" y=\"397.0\">\n",
       "    <tspan class=\"displacy-word\" fill=\"currentColor\" x=\"225\">any</tspan>\n",
       "    <tspan class=\"displacy-tag\" dy=\"2em\" fill=\"currentColor\" x=\"225\">DET</tspan>\n",
       "</text>\n",
       "\n",
       "<text class=\"displacy-token\" fill=\"currentColor\" text-anchor=\"middle\" y=\"397.0\">\n",
       "    <tspan class=\"displacy-word\" fill=\"currentColor\" x=\"400\">analysis</tspan>\n",
       "    <tspan class=\"displacy-tag\" dy=\"2em\" fill=\"currentColor\" x=\"400\">NOUN</tspan>\n",
       "</text>\n",
       "\n",
       "<text class=\"displacy-token\" fill=\"currentColor\" text-anchor=\"middle\" y=\"397.0\">\n",
       "    <tspan class=\"displacy-word\" fill=\"currentColor\" x=\"575\">been</tspan>\n",
       "    <tspan class=\"displacy-tag\" dy=\"2em\" fill=\"currentColor\" x=\"575\">AUX</tspan>\n",
       "</text>\n",
       "\n",
       "<text class=\"displacy-token\" fill=\"currentColor\" text-anchor=\"middle\" y=\"397.0\">\n",
       "    <tspan class=\"displacy-word\" fill=\"currentColor\" x=\"750\">made</tspan>\n",
       "    <tspan class=\"displacy-tag\" dy=\"2em\" fill=\"currentColor\" x=\"750\">VERB</tspan>\n",
       "</text>\n",
       "\n",
       "<text class=\"displacy-token\" fill=\"currentColor\" text-anchor=\"middle\" y=\"397.0\">\n",
       "    <tspan class=\"displacy-word\" fill=\"currentColor\" x=\"925\">available</tspan>\n",
       "    <tspan class=\"displacy-tag\" dy=\"2em\" fill=\"currentColor\" x=\"925\">ADJ</tspan>\n",
       "</text>\n",
       "\n",
       "<text class=\"displacy-token\" fill=\"currentColor\" text-anchor=\"middle\" y=\"397.0\">\n",
       "    <tspan class=\"displacy-word\" fill=\"currentColor\" x=\"1100\">to</tspan>\n",
       "    <tspan class=\"displacy-tag\" dy=\"2em\" fill=\"currentColor\" x=\"1100\">ADP</tspan>\n",
       "</text>\n",
       "\n",
       "<text class=\"displacy-token\" fill=\"currentColor\" text-anchor=\"middle\" y=\"397.0\">\n",
       "    <tspan class=\"displacy-word\" fill=\"currentColor\" x=\"1275\">Ministers</tspan>\n",
       "    <tspan class=\"displacy-tag\" dy=\"2em\" fill=\"currentColor\" x=\"1275\">PROPN</tspan>\n",
       "</text>\n",
       "\n",
       "<text class=\"displacy-token\" fill=\"currentColor\" text-anchor=\"middle\" y=\"397.0\">\n",
       "    <tspan class=\"displacy-word\" fill=\"currentColor\" x=\"1450\">regarding</tspan>\n",
       "    <tspan class=\"displacy-tag\" dy=\"2em\" fill=\"currentColor\" x=\"1450\">VERB</tspan>\n",
       "</text>\n",
       "\n",
       "<text class=\"displacy-token\" fill=\"currentColor\" text-anchor=\"middle\" y=\"397.0\">\n",
       "    <tspan class=\"displacy-word\" fill=\"currentColor\" x=\"1625\">the</tspan>\n",
       "    <tspan class=\"displacy-tag\" dy=\"2em\" fill=\"currentColor\" x=\"1625\">DET</tspan>\n",
       "</text>\n",
       "\n",
       "<text class=\"displacy-token\" fill=\"currentColor\" text-anchor=\"middle\" y=\"397.0\">\n",
       "    <tspan class=\"displacy-word\" fill=\"currentColor\" x=\"1800\">movements</tspan>\n",
       "    <tspan class=\"displacy-tag\" dy=\"2em\" fill=\"currentColor\" x=\"1800\">NOUN</tspan>\n",
       "</text>\n",
       "\n",
       "<text class=\"displacy-token\" fill=\"currentColor\" text-anchor=\"middle\" y=\"397.0\">\n",
       "    <tspan class=\"displacy-word\" fill=\"currentColor\" x=\"1975\">in</tspan>\n",
       "    <tspan class=\"displacy-tag\" dy=\"2em\" fill=\"currentColor\" x=\"1975\">ADP</tspan>\n",
       "</text>\n",
       "\n",
       "<text class=\"displacy-token\" fill=\"currentColor\" text-anchor=\"middle\" y=\"397.0\">\n",
       "    <tspan class=\"displacy-word\" fill=\"currentColor\" x=\"2150\">wholesale</tspan>\n",
       "    <tspan class=\"displacy-tag\" dy=\"2em\" fill=\"currentColor\" x=\"2150\">ADJ</tspan>\n",
       "</text>\n",
       "\n",
       "<text class=\"displacy-token\" fill=\"currentColor\" text-anchor=\"middle\" y=\"397.0\">\n",
       "    <tspan class=\"displacy-word\" fill=\"currentColor\" x=\"2325\">prices</tspan>\n",
       "    <tspan class=\"displacy-tag\" dy=\"2em\" fill=\"currentColor\" x=\"2325\">NOUN</tspan>\n",
       "</text>\n",
       "\n",
       "<text class=\"displacy-token\" fill=\"currentColor\" text-anchor=\"middle\" y=\"397.0\">\n",
       "    <tspan class=\"displacy-word\" fill=\"currentColor\" x=\"2500\">and</tspan>\n",
       "    <tspan class=\"displacy-tag\" dy=\"2em\" fill=\"currentColor\" x=\"2500\">CCONJ</tspan>\n",
       "</text>\n",
       "\n",
       "<text class=\"displacy-token\" fill=\"currentColor\" text-anchor=\"middle\" y=\"397.0\">\n",
       "    <tspan class=\"displacy-word\" fill=\"currentColor\" x=\"2675\">the</tspan>\n",
       "    <tspan class=\"displacy-tag\" dy=\"2em\" fill=\"currentColor\" x=\"2675\">DET</tspan>\n",
       "</text>\n",
       "\n",
       "<text class=\"displacy-token\" fill=\"currentColor\" text-anchor=\"middle\" y=\"397.0\">\n",
       "    <tspan class=\"displacy-word\" fill=\"currentColor\" x=\"2850\">tariffs</tspan>\n",
       "    <tspan class=\"displacy-tag\" dy=\"2em\" fill=\"currentColor\" x=\"2850\">NOUN</tspan>\n",
       "</text>\n",
       "\n",
       "<text class=\"displacy-token\" fill=\"currentColor\" text-anchor=\"middle\" y=\"397.0\">\n",
       "    <tspan class=\"displacy-word\" fill=\"currentColor\" x=\"3025\">actually</tspan>\n",
       "    <tspan class=\"displacy-tag\" dy=\"2em\" fill=\"currentColor\" x=\"3025\">ADV</tspan>\n",
       "</text>\n",
       "\n",
       "<text class=\"displacy-token\" fill=\"currentColor\" text-anchor=\"middle\" y=\"397.0\">\n",
       "    <tspan class=\"displacy-word\" fill=\"currentColor\" x=\"3200\">being</tspan>\n",
       "    <tspan class=\"displacy-tag\" dy=\"2em\" fill=\"currentColor\" x=\"3200\">AUX</tspan>\n",
       "</text>\n",
       "\n",
       "<text class=\"displacy-token\" fill=\"currentColor\" text-anchor=\"middle\" y=\"397.0\">\n",
       "    <tspan class=\"displacy-word\" fill=\"currentColor\" x=\"3375\">offered</tspan>\n",
       "    <tspan class=\"displacy-tag\" dy=\"2em\" fill=\"currentColor\" x=\"3375\">VERB</tspan>\n",
       "</text>\n",
       "\n",
       "<text class=\"displacy-token\" fill=\"currentColor\" text-anchor=\"middle\" y=\"397.0\">\n",
       "    <tspan class=\"displacy-word\" fill=\"currentColor\" x=\"3550\">to</tspan>\n",
       "    <tspan class=\"displacy-tag\" dy=\"2em\" fill=\"currentColor\" x=\"3550\">ADP</tspan>\n",
       "</text>\n",
       "\n",
       "<text class=\"displacy-token\" fill=\"currentColor\" text-anchor=\"middle\" y=\"397.0\">\n",
       "    <tspan class=\"displacy-word\" fill=\"currentColor\" x=\"3725\">customers</tspan>\n",
       "    <tspan class=\"displacy-tag\" dy=\"2em\" fill=\"currentColor\" x=\"3725\">NOUN</tspan>\n",
       "</text>\n",
       "\n",
       "<text class=\"displacy-token\" fill=\"currentColor\" text-anchor=\"middle\" y=\"397.0\">\n",
       "    <tspan class=\"displacy-word\" fill=\"currentColor\" x=\"3900\">going</tspan>\n",
       "    <tspan class=\"displacy-tag\" dy=\"2em\" fill=\"currentColor\" x=\"3900\">VERB</tspan>\n",
       "</text>\n",
       "\n",
       "<text class=\"displacy-token\" fill=\"currentColor\" text-anchor=\"middle\" y=\"397.0\">\n",
       "    <tspan class=\"displacy-word\" fill=\"currentColor\" x=\"4075\">forward?</tspan>\n",
       "    <tspan class=\"displacy-tag\" dy=\"2em\" fill=\"currentColor\" x=\"4075\">ADV</tspan>\n",
       "</text>\n",
       "\n",
       "<g class=\"displacy-arrow\">\n",
       "    <path class=\"displacy-arc\" id=\"arrow-cee12f1542334eef883e3a6c385dcd60-0-0\" stroke-width=\"2px\" d=\"M70,352.0 C70,89.5 745.0,89.5 745.0,352.0\" fill=\"none\" stroke=\"currentColor\"/>\n",
       "    <text dy=\"1.25em\" style=\"font-size: 0.8em; letter-spacing: 1px\">\n",
       "        <textPath xlink:href=\"#arrow-cee12f1542334eef883e3a6c385dcd60-0-0\" class=\"displacy-label\" startOffset=\"50%\" side=\"left\" fill=\"currentColor\" text-anchor=\"middle\">aux</textPath>\n",
       "    </text>\n",
       "    <path class=\"displacy-arrowhead\" d=\"M70,354.0 L62,342.0 78,342.0\" fill=\"currentColor\"/>\n",
       "</g>\n",
       "\n",
       "<g class=\"displacy-arrow\">\n",
       "    <path class=\"displacy-arc\" id=\"arrow-cee12f1542334eef883e3a6c385dcd60-0-1\" stroke-width=\"2px\" d=\"M245,352.0 C245,264.5 385.0,264.5 385.0,352.0\" fill=\"none\" stroke=\"currentColor\"/>\n",
       "    <text dy=\"1.25em\" style=\"font-size: 0.8em; letter-spacing: 1px\">\n",
       "        <textPath xlink:href=\"#arrow-cee12f1542334eef883e3a6c385dcd60-0-1\" class=\"displacy-label\" startOffset=\"50%\" side=\"left\" fill=\"currentColor\" text-anchor=\"middle\">det</textPath>\n",
       "    </text>\n",
       "    <path class=\"displacy-arrowhead\" d=\"M245,354.0 L237,342.0 253,342.0\" fill=\"currentColor\"/>\n",
       "</g>\n",
       "\n",
       "<g class=\"displacy-arrow\">\n",
       "    <path class=\"displacy-arc\" id=\"arrow-cee12f1542334eef883e3a6c385dcd60-0-2\" stroke-width=\"2px\" d=\"M420,352.0 C420,177.0 740.0,177.0 740.0,352.0\" fill=\"none\" stroke=\"currentColor\"/>\n",
       "    <text dy=\"1.25em\" style=\"font-size: 0.8em; letter-spacing: 1px\">\n",
       "        <textPath xlink:href=\"#arrow-cee12f1542334eef883e3a6c385dcd60-0-2\" class=\"displacy-label\" startOffset=\"50%\" side=\"left\" fill=\"currentColor\" text-anchor=\"middle\">nsubjpass</textPath>\n",
       "    </text>\n",
       "    <path class=\"displacy-arrowhead\" d=\"M420,354.0 L412,342.0 428,342.0\" fill=\"currentColor\"/>\n",
       "</g>\n",
       "\n",
       "<g class=\"displacy-arrow\">\n",
       "    <path class=\"displacy-arc\" id=\"arrow-cee12f1542334eef883e3a6c385dcd60-0-3\" stroke-width=\"2px\" d=\"M595,352.0 C595,264.5 735.0,264.5 735.0,352.0\" fill=\"none\" stroke=\"currentColor\"/>\n",
       "    <text dy=\"1.25em\" style=\"font-size: 0.8em; letter-spacing: 1px\">\n",
       "        <textPath xlink:href=\"#arrow-cee12f1542334eef883e3a6c385dcd60-0-3\" class=\"displacy-label\" startOffset=\"50%\" side=\"left\" fill=\"currentColor\" text-anchor=\"middle\">auxpass</textPath>\n",
       "    </text>\n",
       "    <path class=\"displacy-arrowhead\" d=\"M595,354.0 L587,342.0 603,342.0\" fill=\"currentColor\"/>\n",
       "</g>\n",
       "\n",
       "<g class=\"displacy-arrow\">\n",
       "    <path class=\"displacy-arc\" id=\"arrow-cee12f1542334eef883e3a6c385dcd60-0-4\" stroke-width=\"2px\" d=\"M770,352.0 C770,264.5 910.0,264.5 910.0,352.0\" fill=\"none\" stroke=\"currentColor\"/>\n",
       "    <text dy=\"1.25em\" style=\"font-size: 0.8em; letter-spacing: 1px\">\n",
       "        <textPath xlink:href=\"#arrow-cee12f1542334eef883e3a6c385dcd60-0-4\" class=\"displacy-label\" startOffset=\"50%\" side=\"left\" fill=\"currentColor\" text-anchor=\"middle\">oprd</textPath>\n",
       "    </text>\n",
       "    <path class=\"displacy-arrowhead\" d=\"M910.0,354.0 L918.0,342.0 902.0,342.0\" fill=\"currentColor\"/>\n",
       "</g>\n",
       "\n",
       "<g class=\"displacy-arrow\">\n",
       "    <path class=\"displacy-arc\" id=\"arrow-cee12f1542334eef883e3a6c385dcd60-0-5\" stroke-width=\"2px\" d=\"M945,352.0 C945,264.5 1085.0,264.5 1085.0,352.0\" fill=\"none\" stroke=\"currentColor\"/>\n",
       "    <text dy=\"1.25em\" style=\"font-size: 0.8em; letter-spacing: 1px\">\n",
       "        <textPath xlink:href=\"#arrow-cee12f1542334eef883e3a6c385dcd60-0-5\" class=\"displacy-label\" startOffset=\"50%\" side=\"left\" fill=\"currentColor\" text-anchor=\"middle\">prep</textPath>\n",
       "    </text>\n",
       "    <path class=\"displacy-arrowhead\" d=\"M1085.0,354.0 L1093.0,342.0 1077.0,342.0\" fill=\"currentColor\"/>\n",
       "</g>\n",
       "\n",
       "<g class=\"displacy-arrow\">\n",
       "    <path class=\"displacy-arc\" id=\"arrow-cee12f1542334eef883e3a6c385dcd60-0-6\" stroke-width=\"2px\" d=\"M1120,352.0 C1120,264.5 1260.0,264.5 1260.0,352.0\" fill=\"none\" stroke=\"currentColor\"/>\n",
       "    <text dy=\"1.25em\" style=\"font-size: 0.8em; letter-spacing: 1px\">\n",
       "        <textPath xlink:href=\"#arrow-cee12f1542334eef883e3a6c385dcd60-0-6\" class=\"displacy-label\" startOffset=\"50%\" side=\"left\" fill=\"currentColor\" text-anchor=\"middle\">pobj</textPath>\n",
       "    </text>\n",
       "    <path class=\"displacy-arrowhead\" d=\"M1260.0,354.0 L1268.0,342.0 1252.0,342.0\" fill=\"currentColor\"/>\n",
       "</g>\n",
       "\n",
       "<g class=\"displacy-arrow\">\n",
       "    <path class=\"displacy-arc\" id=\"arrow-cee12f1542334eef883e3a6c385dcd60-0-7\" stroke-width=\"2px\" d=\"M770,352.0 C770,177.0 1440.0,177.0 1440.0,352.0\" fill=\"none\" stroke=\"currentColor\"/>\n",
       "    <text dy=\"1.25em\" style=\"font-size: 0.8em; letter-spacing: 1px\">\n",
       "        <textPath xlink:href=\"#arrow-cee12f1542334eef883e3a6c385dcd60-0-7\" class=\"displacy-label\" startOffset=\"50%\" side=\"left\" fill=\"currentColor\" text-anchor=\"middle\">prep</textPath>\n",
       "    </text>\n",
       "    <path class=\"displacy-arrowhead\" d=\"M1440.0,354.0 L1448.0,342.0 1432.0,342.0\" fill=\"currentColor\"/>\n",
       "</g>\n",
       "\n",
       "<g class=\"displacy-arrow\">\n",
       "    <path class=\"displacy-arc\" id=\"arrow-cee12f1542334eef883e3a6c385dcd60-0-8\" stroke-width=\"2px\" d=\"M1645,352.0 C1645,264.5 1785.0,264.5 1785.0,352.0\" fill=\"none\" stroke=\"currentColor\"/>\n",
       "    <text dy=\"1.25em\" style=\"font-size: 0.8em; letter-spacing: 1px\">\n",
       "        <textPath xlink:href=\"#arrow-cee12f1542334eef883e3a6c385dcd60-0-8\" class=\"displacy-label\" startOffset=\"50%\" side=\"left\" fill=\"currentColor\" text-anchor=\"middle\">det</textPath>\n",
       "    </text>\n",
       "    <path class=\"displacy-arrowhead\" d=\"M1645,354.0 L1637,342.0 1653,342.0\" fill=\"currentColor\"/>\n",
       "</g>\n",
       "\n",
       "<g class=\"displacy-arrow\">\n",
       "    <path class=\"displacy-arc\" id=\"arrow-cee12f1542334eef883e3a6c385dcd60-0-9\" stroke-width=\"2px\" d=\"M1470,352.0 C1470,177.0 1790.0,177.0 1790.0,352.0\" fill=\"none\" stroke=\"currentColor\"/>\n",
       "    <text dy=\"1.25em\" style=\"font-size: 0.8em; letter-spacing: 1px\">\n",
       "        <textPath xlink:href=\"#arrow-cee12f1542334eef883e3a6c385dcd60-0-9\" class=\"displacy-label\" startOffset=\"50%\" side=\"left\" fill=\"currentColor\" text-anchor=\"middle\">pobj</textPath>\n",
       "    </text>\n",
       "    <path class=\"displacy-arrowhead\" d=\"M1790.0,354.0 L1798.0,342.0 1782.0,342.0\" fill=\"currentColor\"/>\n",
       "</g>\n",
       "\n",
       "<g class=\"displacy-arrow\">\n",
       "    <path class=\"displacy-arc\" id=\"arrow-cee12f1542334eef883e3a6c385dcd60-0-10\" stroke-width=\"2px\" d=\"M1820,352.0 C1820,264.5 1960.0,264.5 1960.0,352.0\" fill=\"none\" stroke=\"currentColor\"/>\n",
       "    <text dy=\"1.25em\" style=\"font-size: 0.8em; letter-spacing: 1px\">\n",
       "        <textPath xlink:href=\"#arrow-cee12f1542334eef883e3a6c385dcd60-0-10\" class=\"displacy-label\" startOffset=\"50%\" side=\"left\" fill=\"currentColor\" text-anchor=\"middle\">prep</textPath>\n",
       "    </text>\n",
       "    <path class=\"displacy-arrowhead\" d=\"M1960.0,354.0 L1968.0,342.0 1952.0,342.0\" fill=\"currentColor\"/>\n",
       "</g>\n",
       "\n",
       "<g class=\"displacy-arrow\">\n",
       "    <path class=\"displacy-arc\" id=\"arrow-cee12f1542334eef883e3a6c385dcd60-0-11\" stroke-width=\"2px\" d=\"M2170,352.0 C2170,264.5 2310.0,264.5 2310.0,352.0\" fill=\"none\" stroke=\"currentColor\"/>\n",
       "    <text dy=\"1.25em\" style=\"font-size: 0.8em; letter-spacing: 1px\">\n",
       "        <textPath xlink:href=\"#arrow-cee12f1542334eef883e3a6c385dcd60-0-11\" class=\"displacy-label\" startOffset=\"50%\" side=\"left\" fill=\"currentColor\" text-anchor=\"middle\">amod</textPath>\n",
       "    </text>\n",
       "    <path class=\"displacy-arrowhead\" d=\"M2170,354.0 L2162,342.0 2178,342.0\" fill=\"currentColor\"/>\n",
       "</g>\n",
       "\n",
       "<g class=\"displacy-arrow\">\n",
       "    <path class=\"displacy-arc\" id=\"arrow-cee12f1542334eef883e3a6c385dcd60-0-12\" stroke-width=\"2px\" d=\"M1995,352.0 C1995,177.0 2315.0,177.0 2315.0,352.0\" fill=\"none\" stroke=\"currentColor\"/>\n",
       "    <text dy=\"1.25em\" style=\"font-size: 0.8em; letter-spacing: 1px\">\n",
       "        <textPath xlink:href=\"#arrow-cee12f1542334eef883e3a6c385dcd60-0-12\" class=\"displacy-label\" startOffset=\"50%\" side=\"left\" fill=\"currentColor\" text-anchor=\"middle\">pobj</textPath>\n",
       "    </text>\n",
       "    <path class=\"displacy-arrowhead\" d=\"M2315.0,354.0 L2323.0,342.0 2307.0,342.0\" fill=\"currentColor\"/>\n",
       "</g>\n",
       "\n",
       "<g class=\"displacy-arrow\">\n",
       "    <path class=\"displacy-arc\" id=\"arrow-cee12f1542334eef883e3a6c385dcd60-0-13\" stroke-width=\"2px\" d=\"M1820,352.0 C1820,89.5 2495.0,89.5 2495.0,352.0\" fill=\"none\" stroke=\"currentColor\"/>\n",
       "    <text dy=\"1.25em\" style=\"font-size: 0.8em; letter-spacing: 1px\">\n",
       "        <textPath xlink:href=\"#arrow-cee12f1542334eef883e3a6c385dcd60-0-13\" class=\"displacy-label\" startOffset=\"50%\" side=\"left\" fill=\"currentColor\" text-anchor=\"middle\">cc</textPath>\n",
       "    </text>\n",
       "    <path class=\"displacy-arrowhead\" d=\"M2495.0,354.0 L2503.0,342.0 2487.0,342.0\" fill=\"currentColor\"/>\n",
       "</g>\n",
       "\n",
       "<g class=\"displacy-arrow\">\n",
       "    <path class=\"displacy-arc\" id=\"arrow-cee12f1542334eef883e3a6c385dcd60-0-14\" stroke-width=\"2px\" d=\"M2695,352.0 C2695,264.5 2835.0,264.5 2835.0,352.0\" fill=\"none\" stroke=\"currentColor\"/>\n",
       "    <text dy=\"1.25em\" style=\"font-size: 0.8em; letter-spacing: 1px\">\n",
       "        <textPath xlink:href=\"#arrow-cee12f1542334eef883e3a6c385dcd60-0-14\" class=\"displacy-label\" startOffset=\"50%\" side=\"left\" fill=\"currentColor\" text-anchor=\"middle\">det</textPath>\n",
       "    </text>\n",
       "    <path class=\"displacy-arrowhead\" d=\"M2695,354.0 L2687,342.0 2703,342.0\" fill=\"currentColor\"/>\n",
       "</g>\n",
       "\n",
       "<g class=\"displacy-arrow\">\n",
       "    <path class=\"displacy-arc\" id=\"arrow-cee12f1542334eef883e3a6c385dcd60-0-15\" stroke-width=\"2px\" d=\"M1820,352.0 C1820,2.0 2850.0,2.0 2850.0,352.0\" fill=\"none\" stroke=\"currentColor\"/>\n",
       "    <text dy=\"1.25em\" style=\"font-size: 0.8em; letter-spacing: 1px\">\n",
       "        <textPath xlink:href=\"#arrow-cee12f1542334eef883e3a6c385dcd60-0-15\" class=\"displacy-label\" startOffset=\"50%\" side=\"left\" fill=\"currentColor\" text-anchor=\"middle\">conj</textPath>\n",
       "    </text>\n",
       "    <path class=\"displacy-arrowhead\" d=\"M2850.0,354.0 L2858.0,342.0 2842.0,342.0\" fill=\"currentColor\"/>\n",
       "</g>\n",
       "\n",
       "<g class=\"displacy-arrow\">\n",
       "    <path class=\"displacy-arc\" id=\"arrow-cee12f1542334eef883e3a6c385dcd60-0-16\" stroke-width=\"2px\" d=\"M3045,352.0 C3045,177.0 3365.0,177.0 3365.0,352.0\" fill=\"none\" stroke=\"currentColor\"/>\n",
       "    <text dy=\"1.25em\" style=\"font-size: 0.8em; letter-spacing: 1px\">\n",
       "        <textPath xlink:href=\"#arrow-cee12f1542334eef883e3a6c385dcd60-0-16\" class=\"displacy-label\" startOffset=\"50%\" side=\"left\" fill=\"currentColor\" text-anchor=\"middle\">advmod</textPath>\n",
       "    </text>\n",
       "    <path class=\"displacy-arrowhead\" d=\"M3045,354.0 L3037,342.0 3053,342.0\" fill=\"currentColor\"/>\n",
       "</g>\n",
       "\n",
       "<g class=\"displacy-arrow\">\n",
       "    <path class=\"displacy-arc\" id=\"arrow-cee12f1542334eef883e3a6c385dcd60-0-17\" stroke-width=\"2px\" d=\"M3220,352.0 C3220,264.5 3360.0,264.5 3360.0,352.0\" fill=\"none\" stroke=\"currentColor\"/>\n",
       "    <text dy=\"1.25em\" style=\"font-size: 0.8em; letter-spacing: 1px\">\n",
       "        <textPath xlink:href=\"#arrow-cee12f1542334eef883e3a6c385dcd60-0-17\" class=\"displacy-label\" startOffset=\"50%\" side=\"left\" fill=\"currentColor\" text-anchor=\"middle\">auxpass</textPath>\n",
       "    </text>\n",
       "    <path class=\"displacy-arrowhead\" d=\"M3220,354.0 L3212,342.0 3228,342.0\" fill=\"currentColor\"/>\n",
       "</g>\n",
       "\n",
       "<g class=\"displacy-arrow\">\n",
       "    <path class=\"displacy-arc\" id=\"arrow-cee12f1542334eef883e3a6c385dcd60-0-18\" stroke-width=\"2px\" d=\"M2870,352.0 C2870,89.5 3370.0,89.5 3370.0,352.0\" fill=\"none\" stroke=\"currentColor\"/>\n",
       "    <text dy=\"1.25em\" style=\"font-size: 0.8em; letter-spacing: 1px\">\n",
       "        <textPath xlink:href=\"#arrow-cee12f1542334eef883e3a6c385dcd60-0-18\" class=\"displacy-label\" startOffset=\"50%\" side=\"left\" fill=\"currentColor\" text-anchor=\"middle\">acl</textPath>\n",
       "    </text>\n",
       "    <path class=\"displacy-arrowhead\" d=\"M3370.0,354.0 L3378.0,342.0 3362.0,342.0\" fill=\"currentColor\"/>\n",
       "</g>\n",
       "\n",
       "<g class=\"displacy-arrow\">\n",
       "    <path class=\"displacy-arc\" id=\"arrow-cee12f1542334eef883e3a6c385dcd60-0-19\" stroke-width=\"2px\" d=\"M3395,352.0 C3395,264.5 3535.0,264.5 3535.0,352.0\" fill=\"none\" stroke=\"currentColor\"/>\n",
       "    <text dy=\"1.25em\" style=\"font-size: 0.8em; letter-spacing: 1px\">\n",
       "        <textPath xlink:href=\"#arrow-cee12f1542334eef883e3a6c385dcd60-0-19\" class=\"displacy-label\" startOffset=\"50%\" side=\"left\" fill=\"currentColor\" text-anchor=\"middle\">dative</textPath>\n",
       "    </text>\n",
       "    <path class=\"displacy-arrowhead\" d=\"M3535.0,354.0 L3543.0,342.0 3527.0,342.0\" fill=\"currentColor\"/>\n",
       "</g>\n",
       "\n",
       "<g class=\"displacy-arrow\">\n",
       "    <path class=\"displacy-arc\" id=\"arrow-cee12f1542334eef883e3a6c385dcd60-0-20\" stroke-width=\"2px\" d=\"M3570,352.0 C3570,264.5 3710.0,264.5 3710.0,352.0\" fill=\"none\" stroke=\"currentColor\"/>\n",
       "    <text dy=\"1.25em\" style=\"font-size: 0.8em; letter-spacing: 1px\">\n",
       "        <textPath xlink:href=\"#arrow-cee12f1542334eef883e3a6c385dcd60-0-20\" class=\"displacy-label\" startOffset=\"50%\" side=\"left\" fill=\"currentColor\" text-anchor=\"middle\">pobj</textPath>\n",
       "    </text>\n",
       "    <path class=\"displacy-arrowhead\" d=\"M3710.0,354.0 L3718.0,342.0 3702.0,342.0\" fill=\"currentColor\"/>\n",
       "</g>\n",
       "\n",
       "<g class=\"displacy-arrow\">\n",
       "    <path class=\"displacy-arc\" id=\"arrow-cee12f1542334eef883e3a6c385dcd60-0-21\" stroke-width=\"2px\" d=\"M3745,352.0 C3745,264.5 3885.0,264.5 3885.0,352.0\" fill=\"none\" stroke=\"currentColor\"/>\n",
       "    <text dy=\"1.25em\" style=\"font-size: 0.8em; letter-spacing: 1px\">\n",
       "        <textPath xlink:href=\"#arrow-cee12f1542334eef883e3a6c385dcd60-0-21\" class=\"displacy-label\" startOffset=\"50%\" side=\"left\" fill=\"currentColor\" text-anchor=\"middle\">acl</textPath>\n",
       "    </text>\n",
       "    <path class=\"displacy-arrowhead\" d=\"M3885.0,354.0 L3893.0,342.0 3877.0,342.0\" fill=\"currentColor\"/>\n",
       "</g>\n",
       "\n",
       "<g class=\"displacy-arrow\">\n",
       "    <path class=\"displacy-arc\" id=\"arrow-cee12f1542334eef883e3a6c385dcd60-0-22\" stroke-width=\"2px\" d=\"M3920,352.0 C3920,264.5 4060.0,264.5 4060.0,352.0\" fill=\"none\" stroke=\"currentColor\"/>\n",
       "    <text dy=\"1.25em\" style=\"font-size: 0.8em; letter-spacing: 1px\">\n",
       "        <textPath xlink:href=\"#arrow-cee12f1542334eef883e3a6c385dcd60-0-22\" class=\"displacy-label\" startOffset=\"50%\" side=\"left\" fill=\"currentColor\" text-anchor=\"middle\">advmod</textPath>\n",
       "    </text>\n",
       "    <path class=\"displacy-arrowhead\" d=\"M4060.0,354.0 L4068.0,342.0 4052.0,342.0\" fill=\"currentColor\"/>\n",
       "</g>\n",
       "</svg></span>"
      ],
      "text/plain": [
       "<IPython.core.display.HTML object>"
      ]
     },
     "metadata": {},
     "output_type": "display_data"
    }
   ],
   "source": [
    "displacy.render(doc, style='dep', jupyter=True)"
   ]
  },
  {
   "cell_type": "markdown",
   "metadata": {},
   "source": [
    "**Linguistic annotation**"
   ]
  },
  {
   "cell_type": "code",
   "execution_count": 70,
   "metadata": {},
   "outputs": [
    {
     "data": {
      "text/plain": [
       "[('Has', 'AUX'),\n",
       " ('any', 'DET'),\n",
       " ('analysis', 'NOUN'),\n",
       " ('been', 'AUX'),\n",
       " ('made', 'VERB'),\n",
       " ('available', 'ADJ'),\n",
       " ('to', 'ADP'),\n",
       " ('Ministers', 'NOUN'),\n",
       " ('regarding', 'VERB'),\n",
       " ('the', 'DET'),\n",
       " ('movements', 'NOUN'),\n",
       " ('in', 'ADP'),\n",
       " ('wholesale', 'ADJ'),\n",
       " ('prices', 'NOUN'),\n",
       " ('and', 'CCONJ'),\n",
       " ('the', 'DET'),\n",
       " ('tariffs', 'NOUN'),\n",
       " ('actually', 'ADV'),\n",
       " ('being', 'AUX'),\n",
       " ('offered', 'VERB'),\n",
       " ('to', 'ADP'),\n",
       " ('customers', 'NOUN'),\n",
       " ('going', 'VERB'),\n",
       " ('forward', 'ADV'),\n",
       " ('?', 'PUNCT')]"
      ]
     },
     "execution_count": 70,
     "metadata": {},
     "output_type": "execute_result"
    }
   ],
   "source": [
    "# Once you run spacy on a text, you have access to several attributes per token\n",
    "[(token.text, token.pos_) for token in doc]"
   ]
  },
  {
   "cell_type": "markdown",
   "metadata": {},
   "source": [
    "**What are the Named Entities that this language model can recognise?**"
   ]
  },
  {
   "cell_type": "code",
   "execution_count": 84,
   "metadata": {},
   "outputs": [
    {
     "data": {
      "text/plain": [
       "0                                                    []\n",
       "1                           [(Waterloo), (Southampton)]\n",
       "2     [(the, Equal, Marriage, (, Same, Sex, Couples)...\n",
       "3                                            [(Church)]\n",
       "4                                   [(£, 100, million)]\n",
       "                            ...                        \n",
       "82              [(two), (Hamas), (first), (west, bank)]\n",
       "83                                                   []\n",
       "84                                                   []\n",
       "85             [(Home), (Jews), (the, United, Kingdom)]\n",
       "86                                                   []\n",
       "Name: speech_raw_text, Length: 87, dtype: object"
      ]
     },
     "execution_count": 84,
     "metadata": {},
     "output_type": "execute_result"
    }
   ],
   "source": [
    "df_selected_speeches['speech_raw_text'].apply(lambda x: list(nlp(x).ents))"
   ]
  },
  {
   "cell_type": "code",
   "execution_count": 97,
   "metadata": {},
   "outputs": [
    {
     "data": {
      "text/html": [
       "<span class=\"tex2jax_ignore\"><div class=\"entities\" style=\"line-height: 2.5; direction: ltr\">When will services be restored on the mainline between \n",
       "<mark class=\"entity\" style=\"background: #feca74; padding: 0.45em 0.6em; margin: 0 0.25em; line-height: 1; border-radius: 0.35em;\">\n",
       "    Waterloo\n",
       "    <span style=\"font-size: 0.8em; font-weight: bold; line-height: 1; border-radius: 0.35em; vertical-align: middle; margin-left: 0.5rem\">GPE</span>\n",
       "</mark>\n",
       " and \n",
       "<mark class=\"entity\" style=\"background: #feca74; padding: 0.45em 0.6em; margin: 0 0.25em; line-height: 1; border-radius: 0.35em;\">\n",
       "    Southampton\n",
       "    <span style=\"font-size: 0.8em; font-weight: bold; line-height: 1; border-radius: 0.35em; vertical-align: middle; margin-left: 0.5rem\">GPE</span>\n",
       "</mark>\n",
       "?</div></span>"
      ],
      "text/plain": [
       "<IPython.core.display.HTML object>"
      ]
     },
     "metadata": {},
     "output_type": "display_data"
    }
   ],
   "source": [
    "displacy.render(nlp(df_selected_speeches['speech_raw_text'].iloc[1]), style='ent', jupyter=True)"
   ]
  },
  {
   "cell_type": "code",
   "execution_count": 96,
   "metadata": {},
   "outputs": [
    {
     "data": {
      "text/plain": [
       "'Nationalities or religious or political groups'"
      ]
     },
     "execution_count": 96,
     "metadata": {},
     "output_type": "execute_result"
    }
   ],
   "source": [
    "spacy.explain('GPE')"
   ]
  },
  {
   "cell_type": "markdown",
   "metadata": {},
   "source": [
    "## 6.3 Similarity between two documents\n"
   ]
  },
  {
   "cell_type": "code",
   "execution_count": 105,
   "metadata": {},
   "outputs": [
    {
     "data": {
      "text/plain": [
       "0.8821052046670113"
      ]
     },
     "execution_count": 105,
     "metadata": {},
     "output_type": "execute_result"
    }
   ],
   "source": [
    "doc1 = nlp(df_selected_speeches['speech_raw_text'].iloc[0])\n",
    "\n",
    "doc2 = nlp(df_selected_speeches['speech_raw_text'].iloc[4])\n",
    "\n",
    "doc1.similarity(doc2)"
   ]
  },
  {
   "attachments": {
    "image.png": {
     "image/png": "[encoded data removed]"
    }
   },
   "cell_type": "markdown",
   "metadata": {},
   "source": [
    "**Q:** How do all speeches of a given MP compare to each other?\n",
    "\n",
    "![image.png](attachment:image.png)"
   ]
  },
  {
   "cell_type": "markdown",
   "metadata": {},
   "source": [
    "⚠️ **WARNING:** Don't take similarity results at face value. See the following text from the [spaCy documentation](https://spacy.io/usage/spacy-101#similarity-expectations):\n",
    "\n",
    "<div style=\"margin-left:1em; width: 50%; border-left: 5px solid #ccc; padding-left: 1em;\">\n",
    "\n",
    "Computing similarity scores can be helpful in many situations, but it’s also important to maintain **realistic expectations** about what information it can provide. Words can be related to each other in many ways, so a single “similarity” score will always be a **mix of different signals**, and vectors trained on different data can produce very different results that may not be useful for your purpose. Here are some important considerations to keep in mind:\n",
    "\n",
    "- There’s no objective definition of similarity. Whether “I like burgers” and “I like pasta” is similar **depends on your application**. Both talk about food preferences, which makes them very similar – but if you’re analyzing mentions of food, those sentences are pretty dissimilar, because they talk about very different foods.\n",
    "\n",
    "- The similarity of [Doc](https://spacy.io/api/doc) and [Span](https://spacy.io/api/span) objects defaults to the **average** of the token vectors. This means that the vector for “fast food” is the average of the vectors for “fast” and “food”, which isn’t necessarily representative of the phrase “fast food”.\n",
    "\n",
    "- Vector averaging means that the vector of multiple tokens is insensitive to the order of the words. Two documents expressing the same meaning with dissimilar wording will return a lower similarity score than two documents that happen to contain the same words while expressing different meanings.\n",
    "\n",
    "</div>"
   ]
  },
  {
   "cell_type": "markdown",
   "metadata": {},
   "source": [
    "## 6.4 Topic modelling with BERTopic\n"
   ]
  },
  {
   "cell_type": "code",
   "execution_count": 234,
   "metadata": {},
   "outputs": [
    {
     "name": "stderr",
     "output_type": "stream",
     "text": [
      "/Users/jon/miniconda3/envs/venv-commons/lib/python3.11/site-packages/sklearn/feature_extraction/text.py:408: UserWarning:\n",
      "\n",
      "Your stop_words may be inconsistent with your preprocessing. Tokenizing the stop words generated tokens ['ll', 'mr', 've'] not in stop_words.\n",
      "\n",
      "/Users/jon/miniconda3/envs/venv-commons/lib/python3.11/site-packages/umap/umap_.py:1943: UserWarning:\n",
      "\n",
      "n_jobs value -1 overridden to 1 by setting random_state. Use no seed for parallelism.\n",
      "\n"
     ]
    },
    {
     "data": {
      "application/vnd.plotly.v1+json": {
       "config": {
        "plotlyServerURL": "https://plot.ly"
       },
       "data": [
        {
         "customdata": [
          [
           0,
           "plans | trade | sector | customers | realistic",
           19
          ],
          [
           1,
           "cat | fired boilers | administration | misunderstanding | ban",
           11
          ],
          [
           2,
           "england | recent | discussions | section | bank england",
           9
          ],
          [
           3,
           "provisions | law | friend | house | keeps matters",
           8
          ],
          [
           4,
           "disability | national | church | levelling | hospice lotteries",
           6
          ],
          [
           5,
           "members | financial interests | register | register members | entry register",
           5
          ]
         ],
         "hovertemplate": "<b>Topic %{customdata[0]}</b><br>%{customdata[1]}<br>Size: %{customdata[2]}",
         "legendgroup": "",
         "marker": {
          "color": "#B0BEC5",
          "line": {
           "color": "DarkSlateGrey",
           "width": 2
          },
          "size": [
           19,
           11,
           9,
           8,
           6,
           5
          ],
          "sizemode": "area",
          "sizeref": 0.011875,
          "symbol": "circle"
         },
         "mode": "markers",
         "name": "",
         "orientation": "v",
         "showlegend": false,
         "type": "scatter",
         "x": [
          18.13554573059082,
          18.536521911621094,
          18.128253936767578,
          18.217802047729492,
          17.94944190979004,
          18.88860511779785
         ],
         "xaxis": "x",
         "y": [
          9.406571388244629,
          8.64760971069336,
          10.966548919677734,
          8.207117080688477,
          10.399518013000488,
          9.631756782531738
         ],
         "yaxis": "y"
        }
       ],
       "layout": {
        "annotations": [
         {
          "showarrow": false,
          "text": "D1",
          "x": 15.257025623321534,
          "y": 9.7937903881073,
          "yshift": 10
         },
         {
          "showarrow": false,
          "text": "D2",
          "x": 18.489460754394532,
          "xshift": 10,
          "y": 12.611531257629395
         }
        ],
        "height": 650,
        "hoverlabel": {
         "bgcolor": "white",
         "font": {
          "family": "Rockwell",
          "size": 16
         }
        },
        "legend": {
         "itemsizing": "constant",
         "tracegroupgap": 0
        },
        "margin": {
         "t": 60
        },
        "shapes": [
         {
          "line": {
           "color": "#CFD8DC",
           "width": 2
          },
          "type": "line",
          "x0": 18.489460754394532,
          "x1": 18.489460754394532,
          "y0": 6.976049518585205,
          "y1": 12.611531257629395
         },
         {
          "line": {
           "color": "#9E9E9E",
           "width": 2
          },
          "type": "line",
          "x0": 15.257025623321534,
          "x1": 21.72189588546753,
          "y0": 9.7937903881073,
          "y1": 9.7937903881073
         }
        ],
        "sliders": [
         {
          "active": 0,
          "pad": {
           "t": 50
          },
          "steps": [
           {
            "args": [
             {
              "marker.color": [
               [
                "red",
                "#B0BEC5",
                "#B0BEC5",
                "#B0BEC5",
                "#B0BEC5",
                "#B0BEC5"
               ]
              ]
             }
            ],
            "label": "Topic 0",
            "method": "update"
           },
           {
            "args": [
             {
              "marker.color": [
               [
                "#B0BEC5",
                "red",
                "#B0BEC5",
                "#B0BEC5",
                "#B0BEC5",
                "#B0BEC5"
               ]
              ]
             }
            ],
            "label": "Topic 1",
            "method": "update"
           },
           {
            "args": [
             {
              "marker.color": [
               [
                "#B0BEC5",
                "#B0BEC5",
                "red",
                "#B0BEC5",
                "#B0BEC5",
                "#B0BEC5"
               ]
              ]
             }
            ],
            "label": "Topic 2",
            "method": "update"
           },
           {
            "args": [
             {
              "marker.color": [
               [
                "#B0BEC5",
                "#B0BEC5",
                "#B0BEC5",
                "red",
                "#B0BEC5",
                "#B0BEC5"
               ]
              ]
             }
            ],
            "label": "Topic 3",
            "method": "update"
           },
           {
            "args": [
             {
              "marker.color": [
               [
                "#B0BEC5",
                "#B0BEC5",
                "#B0BEC5",
                "#B0BEC5",
                "red",
                "#B0BEC5"
               ]
              ]
             }
            ],
            "label": "Topic 4",
            "method": "update"
           },
           {
            "args": [
             {
              "marker.color": [
               [
                "#B0BEC5",
                "#B0BEC5",
                "#B0BEC5",
                "#B0BEC5",
                "#B0BEC5",
                "red"
               ]
              ]
             }
            ],
            "label": "Topic 5",
            "method": "update"
           }
          ]
         }
        ],
        "template": {
         "data": {
          "bar": [
           {
            "error_x": {
             "color": "rgb(36,36,36)"
            },
            "error_y": {
             "color": "rgb(36,36,36)"
            },
            "marker": {
             "line": {
              "color": "white",
              "width": 0.5
             },
             "pattern": {
              "fillmode": "overlay",
              "size": 10,
              "solidity": 0.2
             }
            },
            "type": "bar"
           }
          ],
          "barpolar": [
           {
            "marker": {
             "line": {
              "color": "white",
              "width": 0.5
             },
             "pattern": {
              "fillmode": "overlay",
              "size": 10,
              "solidity": 0.2
             }
            },
            "type": "barpolar"
           }
          ],
          "carpet": [
           {
            "aaxis": {
             "endlinecolor": "rgb(36,36,36)",
             "gridcolor": "white",
             "linecolor": "white",
             "minorgridcolor": "white",
             "startlinecolor": "rgb(36,36,36)"
            },
            "baxis": {
             "endlinecolor": "rgb(36,36,36)",
             "gridcolor": "white",
             "linecolor": "white",
             "minorgridcolor": "white",
             "startlinecolor": "rgb(36,36,36)"
            },
            "type": "carpet"
           }
          ],
          "choropleth": [
           {
            "colorbar": {
             "outlinewidth": 1,
             "tickcolor": "rgb(36,36,36)",
             "ticks": "outside"
            },
            "type": "choropleth"
           }
          ],
          "contour": [
           {
            "colorbar": {
             "outlinewidth": 1,
             "tickcolor": "rgb(36,36,36)",
             "ticks": "outside"
            },
            "colorscale": [
             [
              0,
              "#440154"
             ],
             [
              0.1111111111111111,
              "#482878"
             ],
             [
              0.2222222222222222,
              "#3e4989"
             ],
             [
              0.3333333333333333,
              "#31688e"
             ],
             [
              0.4444444444444444,
              "#26828e"
             ],
             [
              0.5555555555555556,
              "#1f9e89"
             ],
             [
              0.6666666666666666,
              "#35b779"
             ],
             [
              0.7777777777777778,
              "#6ece58"
             ],
             [
              0.8888888888888888,
              "#b5de2b"
             ],
             [
              1,
              "#fde725"
             ]
            ],
            "type": "contour"
           }
          ],
          "contourcarpet": [
           {
            "colorbar": {
             "outlinewidth": 1,
             "tickcolor": "rgb(36,36,36)",
             "ticks": "outside"
            },
            "type": "contourcarpet"
           }
          ],
          "heatmap": [
           {
            "colorbar": {
             "outlinewidth": 1,
             "tickcolor": "rgb(36,36,36)",
             "ticks": "outside"
            },
            "colorscale": [
             [
              0,
              "#440154"
             ],
             [
              0.1111111111111111,
              "#482878"
             ],
             [
              0.2222222222222222,
              "#3e4989"
             ],
             [
              0.3333333333333333,
              "#31688e"
             ],
             [
              0.4444444444444444,
              "#26828e"
             ],
             [
              0.5555555555555556,
              "#1f9e89"
             ],
             [
              0.6666666666666666,
              "#35b779"
             ],
             [
              0.7777777777777778,
              "#6ece58"
             ],
             [
              0.8888888888888888,
              "#b5de2b"
             ],
             [
              1,
              "#fde725"
             ]
            ],
            "type": "heatmap"
           }
          ],
          "heatmapgl": [
           {
            "colorbar": {
             "outlinewidth": 1,
             "tickcolor": "rgb(36,36,36)",
             "ticks": "outside"
            },
            "colorscale": [
             [
              0,
              "#440154"
             ],
             [
              0.1111111111111111,
              "#482878"
             ],
             [
              0.2222222222222222,
              "#3e4989"
             ],
             [
              0.3333333333333333,
              "#31688e"
             ],
             [
              0.4444444444444444,
              "#26828e"
             ],
             [
              0.5555555555555556,
              "#1f9e89"
             ],
             [
              0.6666666666666666,
              "#35b779"
             ],
             [
              0.7777777777777778,
              "#6ece58"
             ],
             [
              0.8888888888888888,
              "#b5de2b"
             ],
             [
              1,
              "#fde725"
             ]
            ],
            "type": "heatmapgl"
           }
          ],
          "histogram": [
           {
            "marker": {
             "line": {
              "color": "white",
              "width": 0.6
             }
            },
            "type": "histogram"
           }
          ],
          "histogram2d": [
           {
            "colorbar": {
             "outlinewidth": 1,
             "tickcolor": "rgb(36,36,36)",
             "ticks": "outside"
            },
            "colorscale": [
             [
              0,
              "#440154"
             ],
             [
              0.1111111111111111,
              "#482878"
             ],
             [
              0.2222222222222222,
              "#3e4989"
             ],
             [
              0.3333333333333333,
              "#31688e"
             ],
             [
              0.4444444444444444,
              "#26828e"
             ],
             [
              0.5555555555555556,
              "#1f9e89"
             ],
             [
              0.6666666666666666,
              "#35b779"
             ],
             [
              0.7777777777777778,
              "#6ece58"
             ],
             [
              0.8888888888888888,
              "#b5de2b"
             ],
             [
              1,
              "#fde725"
             ]
            ],
            "type": "histogram2d"
           }
          ],
          "histogram2dcontour": [
           {
            "colorbar": {
             "outlinewidth": 1,
             "tickcolor": "rgb(36,36,36)",
             "ticks": "outside"
            },
            "colorscale": [
             [
              0,
              "#440154"
             ],
             [
              0.1111111111111111,
              "#482878"
             ],
             [
              0.2222222222222222,
              "#3e4989"
             ],
             [
              0.3333333333333333,
              "#31688e"
             ],
             [
              0.4444444444444444,
              "#26828e"
             ],
             [
              0.5555555555555556,
              "#1f9e89"
             ],
             [
              0.6666666666666666,
              "#35b779"
             ],
             [
              0.7777777777777778,
              "#6ece58"
             ],
             [
              0.8888888888888888,
              "#b5de2b"
             ],
             [
              1,
              "#fde725"
             ]
            ],
            "type": "histogram2dcontour"
           }
          ],
          "mesh3d": [
           {
            "colorbar": {
             "outlinewidth": 1,
             "tickcolor": "rgb(36,36,36)",
             "ticks": "outside"
            },
            "type": "mesh3d"
           }
          ],
          "parcoords": [
           {
            "line": {
             "colorbar": {
              "outlinewidth": 1,
              "tickcolor": "rgb(36,36,36)",
              "ticks": "outside"
             }
            },
            "type": "parcoords"
           }
          ],
          "pie": [
           {
            "automargin": true,
            "type": "pie"
           }
          ],
          "scatter": [
           {
            "fillpattern": {
             "fillmode": "overlay",
             "size": 10,
             "solidity": 0.2
            },
            "type": "scatter"
           }
          ],
          "scatter3d": [
           {
            "line": {
             "colorbar": {
              "outlinewidth": 1,
              "tickcolor": "rgb(36,36,36)",
              "ticks": "outside"
             }
            },
            "marker": {
             "colorbar": {
              "outlinewidth": 1,
              "tickcolor": "rgb(36,36,36)",
              "ticks": "outside"
             }
            },
            "type": "scatter3d"
           }
          ],
          "scattercarpet": [
           {
            "marker": {
             "colorbar": {
              "outlinewidth": 1,
              "tickcolor": "rgb(36,36,36)",
              "ticks": "outside"
             }
            },
            "type": "scattercarpet"
           }
          ],
          "scattergeo": [
           {
            "marker": {
             "colorbar": {
              "outlinewidth": 1,
              "tickcolor": "rgb(36,36,36)",
              "ticks": "outside"
             }
            },
            "type": "scattergeo"
           }
          ],
          "scattergl": [
           {
            "marker": {
             "colorbar": {
              "outlinewidth": 1,
              "tickcolor": "rgb(36,36,36)",
              "ticks": "outside"
             }
            },
            "type": "scattergl"
           }
          ],
          "scattermapbox": [
           {
            "marker": {
             "colorbar": {
              "outlinewidth": 1,
              "tickcolor": "rgb(36,36,36)",
              "ticks": "outside"
             }
            },
            "type": "scattermapbox"
           }
          ],
          "scatterpolar": [
           {
            "marker": {
             "colorbar": {
              "outlinewidth": 1,
              "tickcolor": "rgb(36,36,36)",
              "ticks": "outside"
             }
            },
            "type": "scatterpolar"
           }
          ],
          "scatterpolargl": [
           {
            "marker": {
             "colorbar": {
              "outlinewidth": 1,
              "tickcolor": "rgb(36,36,36)",
              "ticks": "outside"
             }
            },
            "type": "scatterpolargl"
           }
          ],
          "scatterternary": [
           {
            "marker": {
             "colorbar": {
              "outlinewidth": 1,
              "tickcolor": "rgb(36,36,36)",
              "ticks": "outside"
             }
            },
            "type": "scatterternary"
           }
          ],
          "surface": [
           {
            "colorbar": {
             "outlinewidth": 1,
             "tickcolor": "rgb(36,36,36)",
             "ticks": "outside"
            },
            "colorscale": [
             [
              0,
              "#440154"
             ],
             [
              0.1111111111111111,
              "#482878"
             ],
             [
              0.2222222222222222,
              "#3e4989"
             ],
             [
              0.3333333333333333,
              "#31688e"
             ],
             [
              0.4444444444444444,
              "#26828e"
             ],
             [
              0.5555555555555556,
              "#1f9e89"
             ],
             [
              0.6666666666666666,
              "#35b779"
             ],
             [
              0.7777777777777778,
              "#6ece58"
             ],
             [
              0.8888888888888888,
              "#b5de2b"
             ],
             [
              1,
              "#fde725"
             ]
            ],
            "type": "surface"
           }
          ],
          "table": [
           {
            "cells": {
             "fill": {
              "color": "rgb(237,237,237)"
             },
             "line": {
              "color": "white"
             }
            },
            "header": {
             "fill": {
              "color": "rgb(217,217,217)"
             },
             "line": {
              "color": "white"
             }
            },
            "type": "table"
           }
          ]
         },
         "layout": {
          "annotationdefaults": {
           "arrowhead": 0,
           "arrowwidth": 1
          },
          "autotypenumbers": "strict",
          "coloraxis": {
           "colorbar": {
            "outlinewidth": 1,
            "tickcolor": "rgb(36,36,36)",
            "ticks": "outside"
           }
          },
          "colorscale": {
           "diverging": [
            [
             0,
             "rgb(103,0,31)"
            ],
            [
             0.1,
             "rgb(178,24,43)"
            ],
            [
             0.2,
             "rgb(214,96,77)"
            ],
            [
             0.3,
             "rgb(244,165,130)"
            ],
            [
             0.4,
             "rgb(253,219,199)"
            ],
            [
             0.5,
             "rgb(247,247,247)"
            ],
            [
             0.6,
             "rgb(209,229,240)"
            ],
            [
             0.7,
             "rgb(146,197,222)"
            ],
            [
             0.8,
             "rgb(67,147,195)"
            ],
            [
             0.9,
             "rgb(33,102,172)"
            ],
            [
             1,
             "rgb(5,48,97)"
            ]
           ],
           "sequential": [
            [
             0,
             "#440154"
            ],
            [
             0.1111111111111111,
             "#482878"
            ],
            [
             0.2222222222222222,
             "#3e4989"
            ],
            [
             0.3333333333333333,
             "#31688e"
            ],
            [
             0.4444444444444444,
             "#26828e"
            ],
            [
             0.5555555555555556,
             "#1f9e89"
            ],
            [
             0.6666666666666666,
             "#35b779"
            ],
            [
             0.7777777777777778,
             "#6ece58"
            ],
            [
             0.8888888888888888,
             "#b5de2b"
            ],
            [
             1,
             "#fde725"
            ]
           ],
           "sequentialminus": [
            [
             0,
             "#440154"
            ],
            [
             0.1111111111111111,
             "#482878"
            ],
            [
             0.2222222222222222,
             "#3e4989"
            ],
            [
             0.3333333333333333,
             "#31688e"
            ],
            [
             0.4444444444444444,
             "#26828e"
            ],
            [
             0.5555555555555556,
             "#1f9e89"
            ],
            [
             0.6666666666666666,
             "#35b779"
            ],
            [
             0.7777777777777778,
             "#6ece58"
            ],
            [
             0.8888888888888888,
             "#b5de2b"
            ],
            [
             1,
             "#fde725"
            ]
           ]
          },
          "colorway": [
           "#1F77B4",
           "#FF7F0E",
           "#2CA02C",
           "#D62728",
           "#9467BD",
           "#8C564B",
           "#E377C2",
           "#7F7F7F",
           "#BCBD22",
           "#17BECF"
          ],
          "font": {
           "color": "rgb(36,36,36)"
          },
          "geo": {
           "bgcolor": "white",
           "lakecolor": "white",
           "landcolor": "white",
           "showlakes": true,
           "showland": true,
           "subunitcolor": "white"
          },
          "hoverlabel": {
           "align": "left"
          },
          "hovermode": "closest",
          "mapbox": {
           "style": "light"
          },
          "paper_bgcolor": "white",
          "plot_bgcolor": "white",
          "polar": {
           "angularaxis": {
            "gridcolor": "rgb(232,232,232)",
            "linecolor": "rgb(36,36,36)",
            "showgrid": false,
            "showline": true,
            "ticks": "outside"
           },
           "bgcolor": "white",
           "radialaxis": {
            "gridcolor": "rgb(232,232,232)",
            "linecolor": "rgb(36,36,36)",
            "showgrid": false,
            "showline": true,
            "ticks": "outside"
           }
          },
          "scene": {
           "xaxis": {
            "backgroundcolor": "white",
            "gridcolor": "rgb(232,232,232)",
            "gridwidth": 2,
            "linecolor": "rgb(36,36,36)",
            "showbackground": true,
            "showgrid": false,
            "showline": true,
            "ticks": "outside",
            "zeroline": false,
            "zerolinecolor": "rgb(36,36,36)"
           },
           "yaxis": {
            "backgroundcolor": "white",
            "gridcolor": "rgb(232,232,232)",
            "gridwidth": 2,
            "linecolor": "rgb(36,36,36)",
            "showbackground": true,
            "showgrid": false,
            "showline": true,
            "ticks": "outside",
            "zeroline": false,
            "zerolinecolor": "rgb(36,36,36)"
           },
           "zaxis": {
            "backgroundcolor": "white",
            "gridcolor": "rgb(232,232,232)",
            "gridwidth": 2,
            "linecolor": "rgb(36,36,36)",
            "showbackground": true,
            "showgrid": false,
            "showline": true,
            "ticks": "outside",
            "zeroline": false,
            "zerolinecolor": "rgb(36,36,36)"
           }
          },
          "shapedefaults": {
           "fillcolor": "black",
           "line": {
            "width": 0
           },
           "opacity": 0.3
          },
          "ternary": {
           "aaxis": {
            "gridcolor": "rgb(232,232,232)",
            "linecolor": "rgb(36,36,36)",
            "showgrid": false,
            "showline": true,
            "ticks": "outside"
           },
           "baxis": {
            "gridcolor": "rgb(232,232,232)",
            "linecolor": "rgb(36,36,36)",
            "showgrid": false,
            "showline": true,
            "ticks": "outside"
           },
           "bgcolor": "white",
           "caxis": {
            "gridcolor": "rgb(232,232,232)",
            "linecolor": "rgb(36,36,36)",
            "showgrid": false,
            "showline": true,
            "ticks": "outside"
           }
          },
          "title": {
           "x": 0.05
          },
          "xaxis": {
           "automargin": true,
           "gridcolor": "rgb(232,232,232)",
           "linecolor": "rgb(36,36,36)",
           "showgrid": false,
           "showline": true,
           "ticks": "outside",
           "title": {
            "standoff": 15
           },
           "zeroline": false,
           "zerolinecolor": "rgb(36,36,36)"
          },
          "yaxis": {
           "automargin": true,
           "gridcolor": "rgb(232,232,232)",
           "linecolor": "rgb(36,36,36)",
           "showgrid": false,
           "showline": true,
           "ticks": "outside",
           "title": {
            "standoff": 15
           },
           "zeroline": false,
           "zerolinecolor": "rgb(36,36,36)"
          }
         }
        },
        "title": {
         "font": {
          "color": "Black",
          "size": 22
         },
         "text": "<b>Intertopic Distance Map</b>",
         "x": 0.5,
         "xanchor": "center",
         "y": 0.95,
         "yanchor": "top"
        },
        "width": 650,
        "xaxis": {
         "anchor": "y",
         "domain": [
          0,
          1
         ],
         "range": [
          15.257025623321534,
          21.72189588546753
         ],
         "title": {
          "text": ""
         },
         "visible": false
        },
        "yaxis": {
         "anchor": "x",
         "domain": [
          0,
          1
         ],
         "range": [
          6.976049518585205,
          12.611531257629395
         ],
         "title": {
          "text": ""
         },
         "visible": false
        }
       }
      }
     },
     "metadata": {},
     "output_type": "display_data"
    }
   ],
   "source": [
    "from bertopic import BERTopic\n",
    "\n",
    "nlp = spacy.load('en_core_web_lg', exclude=['tagger', 'parser', 'ner', 'attribute_ruler', 'lemmatizer'])\n",
    "\n",
    "from sklearn.feature_extraction.text import TfidfVectorizer\n",
    "\n",
    "my_stopwords = list(nlp.Defaults.stop_words) + ['estimate', 'hon', 'implement', 'opportunity', 'plan', 'paragraph', 'sir', 'minister', 'told', 'right', 'good', 'speaker', 'mr speaker']\n",
    "\n",
    "vectorizer_model = TfidfVectorizer(stop_words=my_stopwords, ngram_range=(1,2))\n",
    "\n",
    "topic_model = BERTopic(embedding_model=nlp, vectorizer_model=vectorizer_model, top_n_words=10, min_topic_size=3, n_gram_range=(1,2))\n",
    "topics, probs = topic_model.fit_transform(df_selected_speeches['speech_raw_text'].tolist())\n",
    "\n",
    "fig = topic_model.visualize_topics()\n",
    "fig.show()"
   ]
  },
  {
   "cell_type": "code",
   "execution_count": 235,
   "metadata": {},
   "outputs": [
    {
     "data": {
      "text/plain": [
       "[('plans', 0.027470027198906687),\n",
       " ('trade', 0.024210770548060357),\n",
       " ('sector', 0.024210770548060357),\n",
       " ('customers', 0.024210770548060357),\n",
       " ('realistic', 0.024210770548060357),\n",
       " ('barriers', 0.024210770548060357),\n",
       " ('pension', 0.024210770548060357),\n",
       " ('energy', 0.024210770548060357),\n",
       " ('services', 0.024210770548060357),\n",
       " ('mask', 0.024210770548060357)]"
      ]
     },
     "execution_count": 235,
     "metadata": {},
     "output_type": "execute_result"
    }
   ],
   "source": [
    "topic_model.get_topic(0)"
   ]
  },
  {
   "cell_type": "code",
   "execution_count": 236,
   "metadata": {},
   "outputs": [
    {
     "data": {
      "text/html": [
       "<div>\n",
       "<style scoped>\n",
       "    .dataframe tbody tr th:only-of-type {\n",
       "        vertical-align: middle;\n",
       "    }\n",
       "\n",
       "    .dataframe tbody tr th {\n",
       "        vertical-align: top;\n",
       "    }\n",
       "\n",
       "    .dataframe thead th {\n",
       "        text-align: right;\n",
       "    }\n",
       "</style>\n",
       "<table border=\"1\" class=\"dataframe\">\n",
       "  <thead>\n",
       "    <tr style=\"text-align: right;\">\n",
       "      <th></th>\n",
       "      <th>Document</th>\n",
       "      <th>Topic</th>\n",
       "      <th>Name</th>\n",
       "      <th>Representation</th>\n",
       "      <th>Representative_Docs</th>\n",
       "      <th>Top_n_words</th>\n",
       "      <th>Probability</th>\n",
       "      <th>Representative_document</th>\n",
       "    </tr>\n",
       "  </thead>\n",
       "  <tbody>\n",
       "    <tr>\n",
       "      <th>0</th>\n",
       "      <td>Has any analysis been made available to Minist...</td>\n",
       "      <td>0</td>\n",
       "      <td>0_plans_trade_sector_customers</td>\n",
       "      <td>[plans, trade, sector, customers, realistic, b...</td>\n",
       "      <td>[How are we going to get vital private sector ...</td>\n",
       "      <td>plans - trade - sector - customers - realistic...</td>\n",
       "      <td>0.874298</td>\n",
       "      <td>False</td>\n",
       "    </tr>\n",
       "    <tr>\n",
       "      <th>1</th>\n",
       "      <td>When will services be restored on the mainline...</td>\n",
       "      <td>0</td>\n",
       "      <td>0_plans_trade_sector_customers</td>\n",
       "      <td>[plans, trade, sector, customers, realistic, b...</td>\n",
       "      <td>[How are we going to get vital private sector ...</td>\n",
       "      <td>plans - trade - sector - customers - realistic...</td>\n",
       "      <td>1.000000</td>\n",
       "      <td>False</td>\n",
       "    </tr>\n",
       "    <tr>\n",
       "      <th>2</th>\n",
       "      <td>Having been the Government Whip on the Equal M...</td>\n",
       "      <td>-1</td>\n",
       "      <td>-1_motion_level_government_bill</td>\n",
       "      <td>[motion, level, government, bill, announced, p...</td>\n",
       "      <td>[The substantive part of the motion, paragraph...</td>\n",
       "      <td>motion - level - government - bill - announced...</td>\n",
       "      <td>0.000000</td>\n",
       "      <td>False</td>\n",
       "    </tr>\n",
       "    <tr>\n",
       "      <th>3</th>\n",
       "      <td>Whether the commissioners have made an estimat...</td>\n",
       "      <td>2</td>\n",
       "      <td>2_england_recent_discussions_section</td>\n",
       "      <td>[england, recent, discussions, section, bank e...</td>\n",
       "      <td>[What discussions the Church of England has ha...</td>\n",
       "      <td>england - recent - discussions - section - ban...</td>\n",
       "      <td>0.917205</td>\n",
       "      <td>False</td>\n",
       "    </tr>\n",
       "    <tr>\n",
       "      <th>4</th>\n",
       "      <td>Can my hon. Friend assure me that the not disp...</td>\n",
       "      <td>0</td>\n",
       "      <td>0_plans_trade_sector_customers</td>\n",
       "      <td>[plans, trade, sector, customers, realistic, b...</td>\n",
       "      <td>[How are we going to get vital private sector ...</td>\n",
       "      <td>plans - trade - sector - customers - realistic...</td>\n",
       "      <td>1.000000</td>\n",
       "      <td>False</td>\n",
       "    </tr>\n",
       "  </tbody>\n",
       "</table>\n",
       "</div>"
      ],
      "text/plain": [
       "                                            Document  Topic  \\\n",
       "0  Has any analysis been made available to Minist...      0   \n",
       "1  When will services be restored on the mainline...      0   \n",
       "2  Having been the Government Whip on the Equal M...     -1   \n",
       "3  Whether the commissioners have made an estimat...      2   \n",
       "4  Can my hon. Friend assure me that the not disp...      0   \n",
       "\n",
       "                                   Name  \\\n",
       "0        0_plans_trade_sector_customers   \n",
       "1        0_plans_trade_sector_customers   \n",
       "2       -1_motion_level_government_bill   \n",
       "3  2_england_recent_discussions_section   \n",
       "4        0_plans_trade_sector_customers   \n",
       "\n",
       "                                      Representation  \\\n",
       "0  [plans, trade, sector, customers, realistic, b...   \n",
       "1  [plans, trade, sector, customers, realistic, b...   \n",
       "2  [motion, level, government, bill, announced, p...   \n",
       "3  [england, recent, discussions, section, bank e...   \n",
       "4  [plans, trade, sector, customers, realistic, b...   \n",
       "\n",
       "                                 Representative_Docs  \\\n",
       "0  [How are we going to get vital private sector ...   \n",
       "1  [How are we going to get vital private sector ...   \n",
       "2  [The substantive part of the motion, paragraph...   \n",
       "3  [What discussions the Church of England has ha...   \n",
       "4  [How are we going to get vital private sector ...   \n",
       "\n",
       "                                         Top_n_words  Probability  \\\n",
       "0  plans - trade - sector - customers - realistic...     0.874298   \n",
       "1  plans - trade - sector - customers - realistic...     1.000000   \n",
       "2  motion - level - government - bill - announced...     0.000000   \n",
       "3  england - recent - discussions - section - ban...     0.917205   \n",
       "4  plans - trade - sector - customers - realistic...     1.000000   \n",
       "\n",
       "   Representative_document  \n",
       "0                    False  \n",
       "1                    False  \n",
       "2                    False  \n",
       "3                    False  \n",
       "4                    False  "
      ]
     },
     "execution_count": 236,
     "metadata": {},
     "output_type": "execute_result"
    }
   ],
   "source": [
    "df_topics = topic_model.get_document_info(df_selected_speeches['speech_raw_text'].tolist())\n",
    "df_topics.head()"
   ]
  },
  {
   "cell_type": "code",
   "execution_count": 238,
   "metadata": {},
   "outputs": [
    {
     "data": {
      "text/html": [
       "<div>\n",
       "<style scoped>\n",
       "    .dataframe tbody tr th:only-of-type {\n",
       "        vertical-align: middle;\n",
       "    }\n",
       "\n",
       "    .dataframe tbody tr th {\n",
       "        vertical-align: top;\n",
       "    }\n",
       "\n",
       "    .dataframe thead th {\n",
       "        text-align: right;\n",
       "    }\n",
       "</style>\n",
       "<table border=\"1\" class=\"dataframe\">\n",
       "  <thead>\n",
       "    <tr style=\"text-align: right;\">\n",
       "      <th></th>\n",
       "      <th>Top_n_words</th>\n",
       "    </tr>\n",
       "    <tr>\n",
       "      <th>Document</th>\n",
       "      <th></th>\n",
       "    </tr>\n",
       "  </thead>\n",
       "  <tbody>\n",
       "    <tr>\n",
       "      <th>Thank you, Mr. Speaker, for making it absolutely clear that this man is not getting in here, even if the Minister is going to give him space in the office. But I ask you this, Sir: is not the very fact that an announcement of his intention to travel has been made—in the language habitual to the Government of China—“a provocation”?</th>\n",
       "      <td>cat - fired boilers - administration - misunde...</td>\n",
       "    </tr>\n",
       "    <tr>\n",
       "      <th>If habitats can be restored to a quality in which reptiles—in particular the smooth snake—can thrive, that will be good for all wildlife. That would be a good target, would it not?</th>\n",
       "      <td>cat - fired boilers - administration - misunde...</td>\n",
       "    </tr>\n",
       "    <tr>\n",
       "      <th>What does it do for a respected profession that, when one visits a hospital, one is confronted by a rabble chanting like a schump of rudies, particularly when they have not co-operated with hospital authorities to minimise the impact of their absence?</th>\n",
       "      <td>cat - fired boilers - administration - misunde...</td>\n",
       "    </tr>\n",
       "    <tr>\n",
       "      <th>There has clearly been a misunderstanding, despite the police doing a brilliant job, and that is why there has been an apology. But would the Minister not expect that misunderstanding to have been resolved well within the 16 hours for which the six were incarcerated? Surely there should be some questions asked about that.</th>\n",
       "      <td>cat - fired boilers - administration - misunde...</td>\n",
       "    </tr>\n",
       "    <tr>\n",
       "      <th>This tragedy would not have occurred had there been a requirement for a face-to-face consultation and clinical administration of the drugs, would it?</th>\n",
       "      <td>cat - fired boilers - administration - misunde...</td>\n",
       "    </tr>\n",
       "    <tr>\n",
       "      <th>Pupils have been denounced as “despicable” for failing to accept the reality of a fellow pupil who identified as a cat. May we have a debate on Confucius, for it was he who observed that the most difficult thing is to search a dark room for a black cat, particularly when there is no cat?</th>\n",
       "      <td>cat - fired boilers - administration - misunde...</td>\n",
       "    </tr>\n",
       "    <tr>\n",
       "      <th>This is an excellent package, but one way to ensure that investment flows to productive enterprise is to prevent it from being crowded out by growing Government debt, isn’t it?</th>\n",
       "      <td>cat - fired boilers - administration - misunde...</td>\n",
       "    </tr>\n",
       "    <tr>\n",
       "      <th>The Minister has lifted a blight from my constituency, but as a result of these measures we are all going to be swimming in cleaner water as well, aren’t we?</th>\n",
       "      <td>cat - fired boilers - administration - misunde...</td>\n",
       "    </tr>\n",
       "    <tr>\n",
       "      <th>Absolutely, Mr Speaker. There is a panic now in Germany as its premature ban on gas-fired boilers approaches. The Minister will want to avoid a similar panic as we approach our own premature ban on oil-fired boilers, won’t he?</th>\n",
       "      <td>cat - fired boilers - administration - misunde...</td>\n",
       "    </tr>\n",
       "    <tr>\n",
       "      <th>Aid poured into Gaza in 2005 when Israel withdrew. Enlightened governance could have made a success of it. It is Hamas that has turned it into hell, is it not?</th>\n",
       "      <td>cat - fired boilers - administration - misunde...</td>\n",
       "    </tr>\n",
       "    <tr>\n",
       "      <th>If a two-state solution is to have a chance, Hamas must be defeated, but there will also first have to be a more enlightened policy of administration in the occupied west bank, mustn’t there?</th>\n",
       "      <td>cat - fired boilers - administration - misunde...</td>\n",
       "    </tr>\n",
       "  </tbody>\n",
       "</table>\n",
       "</div>"
      ],
      "text/plain": [
       "                                                                                          Top_n_words\n",
       "Document                                                                                             \n",
       "Thank you, Mr. Speaker, for making it absolutel...  cat - fired boilers - administration - misunde...\n",
       "If habitats can be restored to a quality in whi...  cat - fired boilers - administration - misunde...\n",
       "What does it do for a respected profession that...  cat - fired boilers - administration - misunde...\n",
       "There has clearly been a misunderstanding, desp...  cat - fired boilers - administration - misunde...\n",
       "This tragedy would not have occurred had there ...  cat - fired boilers - administration - misunde...\n",
       "Pupils have been denounced as “despicable” for ...  cat - fired boilers - administration - misunde...\n",
       "This is an excellent package, but one way to en...  cat - fired boilers - administration - misunde...\n",
       "The Minister has lifted a blight from my consti...  cat - fired boilers - administration - misunde...\n",
       "Absolutely, Mr Speaker. There is a panic now in...  cat - fired boilers - administration - misunde...\n",
       "Aid poured into Gaza in 2005 when Israel withdr...  cat - fired boilers - administration - misunde...\n",
       "If a two-state solution is to have a chance, Ha...  cat - fired boilers - administration - misunde..."
      ]
     },
     "execution_count": 238,
     "metadata": {},
     "output_type": "execute_result"
    }
   ],
   "source": [
    "df_topics[df_topics['Topic'] == 1][['Document', 'Top_n_words']].set_index('Document')"
   ]
  },
  {
   "cell_type": "markdown",
   "metadata": {},
   "source": [
    "NOTE: This notebook is a WIP"
   ]
  }
 ],
 "metadata": {
  "kernelspec": {
   "display_name": "venv-commons",
   "language": "python",
   "name": "python3"
  },
  "language_info": {
   "codemirror_mode": {
    "name": "ipython",
    "version": 3
   },
   "file_extension": ".py",
   "mimetype": "text/x-python",
   "name": "python",
   "nbconvert_exporter": "python",
   "pygments_lexer": "ipython3",
   "version": "3.11.5"
  }
 },
 "nbformat": 4,
 "nbformat_minor": 2
}
